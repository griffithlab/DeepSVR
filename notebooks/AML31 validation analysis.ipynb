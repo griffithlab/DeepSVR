{
 "cells": [
  {
   "cell_type": "code",
   "execution_count": 1,
   "metadata": {
    "ExecuteTime": {
     "end_time": "2017-10-09T22:35:06.188546Z",
     "start_time": "2017-10-09T22:35:05.734645Z"
    }
   },
   "outputs": [
    {
     "name": "stdout",
     "output_type": "stream",
     "text": [
      "Populating the interactive namespace from numpy and matplotlib\n"
     ]
    }
   ],
   "source": [
    "%pylab inline\n",
    "%load_ext autoreload\n",
    "%autoreload 2\n",
    "\n",
    "%aimport manual_review_classifier"
   ]
  },
  {
   "cell_type": "code",
   "execution_count": 2,
   "metadata": {
    "ExecuteTime": {
     "end_time": "2017-10-09T22:35:06.205203Z",
     "start_time": "2017-10-09T22:35:06.190574Z"
    },
    "collapsed": true
   },
   "outputs": [],
   "source": [
    "%matplotlib inline"
   ]
  },
  {
   "cell_type": "code",
   "execution_count": 3,
   "metadata": {
    "ExecuteTime": {
     "end_time": "2017-10-09T22:35:09.293727Z",
     "start_time": "2017-10-09T22:35:06.212479Z"
    }
   },
   "outputs": [
    {
     "name": "stderr",
     "output_type": "stream",
     "text": [
      "Using TensorFlow backend.\n"
     ]
    }
   ],
   "source": [
    "import numpy as np\n",
    "import pandas as pd\n",
    "import os\n",
    "from keras.models import Sequential\n",
    "from keras.layers import Dense, Dropout\n",
    "from keras.wrappers.scikit_learn import KerasClassifier\n",
    "from keras.regularizers import l2\n",
    "from sklearn.model_selection import KFold\n",
    "from sklearn.model_selection import cross_val_predict\n",
    "from sklearn import preprocessing\n",
    "from sklearn import metrics\n",
    "from sklearn.model_selection import train_test_split\n",
    "\n",
    "import matplotlib.pyplot as plt\n",
    "import seaborn as sns\n",
    "from itertools import cycle\n",
    "\n",
    "from manual_review_classifier.ClassifierPlots import create_reliability_diagram, create_roc_curve, create_feature_importance_plot, make_model_output_plot\n",
    "from manual_review_classifier.Analysis import determine_feature_importance, print_accuracy_and_classification_report, predict_classes, get_somatic_error_type, calculate_kappa\n",
    "\n",
    "sns.set_style(\"white\")\n",
    "sns.set_context('talk')"
   ]
  },
  {
   "cell_type": "code",
   "execution_count": 4,
   "metadata": {
    "ExecuteTime": {
     "end_time": "2017-10-09T22:35:09.371827Z",
     "start_time": "2017-10-09T22:35:09.297352Z"
    },
    "collapsed": true
   },
   "outputs": [],
   "source": [
    "training_data = pd.read_pickle('../data/training_data3.pkl')"
   ]
  },
  {
   "cell_type": "code",
   "execution_count": 5,
   "metadata": {
    "ExecuteTime": {
     "end_time": "2017-10-09T22:35:09.468271Z",
     "start_time": "2017-10-09T22:35:09.373590Z"
    },
    "collapsed": true
   },
   "outputs": [],
   "source": [
    "aml31_training = training_data[training_data.index.str.contains('H_KA-452198')]\n",
    "training_data = training_data[~training_data.index.str.contains('H_KA-452198')]"
   ]
  },
  {
   "cell_type": "code",
   "execution_count": 6,
   "metadata": {
    "ExecuteTime": {
     "end_time": "2017-10-09T22:35:09.505358Z",
     "start_time": "2017-10-09T22:35:09.469901Z"
    }
   },
   "outputs": [
    {
     "data": {
      "text/plain": [
       "call\n",
       "a    10643\n",
       "f     8854\n",
       "g     3122\n",
       "s    18381\n",
       "dtype: int64"
      ]
     },
     "execution_count": 6,
     "metadata": {},
     "output_type": "execute_result"
    }
   ],
   "source": [
    "training_data.groupby('call').size()"
   ]
  },
  {
   "cell_type": "code",
   "execution_count": 7,
   "metadata": {
    "ExecuteTime": {
     "end_time": "2017-10-09T22:35:10.229365Z",
     "start_time": "2017-10-09T22:35:09.507131Z"
    }
   },
   "outputs": [
    {
     "data": {
      "text/plain": [
       "call\n",
       "a    10643\n",
       "f    11976\n",
       "s    18381\n",
       "dtype: int64"
      ]
     },
     "execution_count": 7,
     "metadata": {},
     "output_type": "execute_result"
    }
   ],
   "source": [
    "three_class = training_data.replace('g','f')\n",
    "\n",
    "s_v_b = three_class\n",
    "#s_v_b['blood_tumor'] = s_v_b[['disease_AML','disease_lymphoma']].apply(any, axis=1).astype(int)\n",
    "s_v_b['solid_tumor'] = s_v_b[['disease_GST', 'disease_MPNST', 'disease_SCLC',\n",
    "                              'disease_breast', 'disease_colorectal', \n",
    "                              'disease_glioblastoma', 'disease_melanoma']].apply(any, axis=1).astype(int)\n",
    "s_v_b.drop(['disease_AML', 'disease_GST', 'disease_MPNST', 'disease_SCLC',\n",
    "       'disease_breast', 'disease_colorectal', 'disease_glioblastoma',\n",
    "       'disease_lymphoma', 'disease_melanoma'], axis=1, inplace=True)\n",
    "\n",
    "s_v_b.groupby('call').size()"
   ]
  },
  {
   "cell_type": "code",
   "execution_count": 8,
   "metadata": {
    "ExecuteTime": {
     "end_time": "2017-10-09T22:35:10.308824Z",
     "start_time": "2017-10-09T22:35:10.231019Z"
    },
    "collapsed": true
   },
   "outputs": [],
   "source": [
    "# Get Labels\n",
    "Y = pd.get_dummies(three_class.call).astype(float).values\n",
    "# Get training data as numpy array\n",
    "X = s_v_b.sort_index(axis=1).drop(['call', 'reviewer_Lee',\n",
    "                'reviewer_Avi', 'reviewer_Heather', \n",
    "                'reviewer_Nick'], axis=1).astype(float).values"
   ]
  },
  {
   "cell_type": "code",
   "execution_count": 9,
   "metadata": {
    "ExecuteTime": {
     "end_time": "2017-10-09T22:35:10.359308Z",
     "start_time": "2017-10-09T22:35:10.310777Z"
    },
    "collapsed": true
   },
   "outputs": [],
   "source": [
    "# define baseline model\n",
    "def test_model():\n",
    "    # create model\n",
    "    model = Sequential()\n",
    "    model.add(Dense(59, input_dim=59, kernel_initializer='normal', activation='tanh'))\n",
    "    model.add(Dropout(0.2))\n",
    "    model.add(Dense(20, activation='tanh'))\n",
    "    model.add(Dropout(0.4))\n",
    "    model.add(Dense(20, activation='tanh'))\n",
    "    model.add(Dropout(0.4))\n",
    "    model.add(Dense(20, activation='tanh'))\n",
    "    model.add(Dropout(0.4))\n",
    "    model.add(Dense(20, activation='tanh'))\n",
    "    model.add(Dropout(0.4))\n",
    "    model.add(Dense(3, kernel_initializer='normal', activation='softmax'))\n",
    "    # Compile model\n",
    "    model.compile(loss='categorical_crossentropy', optimizer='adam', metrics=['accuracy'])\n",
    "    return model"
   ]
  },
  {
   "cell_type": "code",
   "execution_count": 10,
   "metadata": {
    "ExecuteTime": {
     "end_time": "2017-10-09T22:35:10.452870Z",
     "start_time": "2017-10-09T22:35:10.419169Z"
    },
    "collapsed": true
   },
   "outputs": [],
   "source": [
    "test_estimator = KerasClassifier(build_fn=test_model, epochs=700, batch_size=2000, verbose=0)"
   ]
  },
  {
   "cell_type": "code",
   "execution_count": 18,
   "metadata": {
    "ExecuteTime": {
     "end_time": "2017-10-09T22:45:56.591256Z",
     "start_time": "2017-10-09T22:42:44.170014Z"
    },
    "scrolled": true
   },
   "outputs": [
    {
     "data": {
      "text/plain": [
       "<keras.callbacks.History at 0x160c01940>"
      ]
     },
     "execution_count": 18,
     "metadata": {},
     "output_type": "execute_result"
    }
   ],
   "source": [
    "test_estimator.fit(X, Y)"
   ]
  },
  {
   "cell_type": "code",
   "execution_count": 12,
   "metadata": {
    "ExecuteTime": {
     "end_time": "2017-10-09T22:38:25.181800Z",
     "start_time": "2017-10-09T22:38:24.980486Z"
    },
    "collapsed": true
   },
   "outputs": [],
   "source": [
    "aml31 = pd.read_pickle('../data/aml31/AML31/train.pkl')"
   ]
  },
  {
   "cell_type": "code",
   "execution_count": 13,
   "metadata": {
    "ExecuteTime": {
     "end_time": "2017-10-09T22:38:25.216493Z",
     "start_time": "2017-10-09T22:38:25.183656Z"
    },
    "collapsed": true
   },
   "outputs": [],
   "source": [
    "aml31['solid_tomor']=1"
   ]
  },
  {
   "cell_type": "code",
   "execution_count": 14,
   "metadata": {
    "ExecuteTime": {
     "end_time": "2017-10-09T22:38:25.483091Z",
     "start_time": "2017-10-09T22:38:25.219200Z"
    },
    "collapsed": true
   },
   "outputs": [],
   "source": [
    "aml31_X = aml31.sort_index(axis=1).drop(['disease_AML', 'reviewer_None'], axis=1).astype(float).values"
   ]
  },
  {
   "cell_type": "code",
   "execution_count": 20,
   "metadata": {
    "ExecuteTime": {
     "end_time": "2017-10-09T22:45:57.414132Z",
     "start_time": "2017-10-09T22:45:56.980768Z"
    }
   },
   "outputs": [
    {
     "data": {
      "text/plain": [
       "array([[ 0.83176953,  0.06802499,  0.10020553],\n",
       "       [ 0.81903011,  0.08769801,  0.09327181],\n",
       "       [ 0.82265919,  0.00493509,  0.17240576],\n",
       "       ..., \n",
       "       [ 0.84179646,  0.00863952,  0.14956395],\n",
       "       [ 0.84154475,  0.00844866,  0.15000664],\n",
       "       [ 0.84806657,  0.01679234,  0.13514104]], dtype=float32)"
      ]
     },
     "execution_count": 20,
     "metadata": {},
     "output_type": "execute_result"
    }
   ],
   "source": [
    "predictions = test_estimator.predict_proba(aml31_X)"
   ]
  },
  {
   "cell_type": "code",
   "execution_count": 21,
   "metadata": {
    "ExecuteTime": {
     "end_time": "2017-10-09T22:45:57.618191Z",
     "start_time": "2017-10-09T22:45:57.589172Z"
    },
    "collapsed": true
   },
   "outputs": [],
   "source": [
    "predictions = pd.DataFrameFrame(predictions, columns=['amb', 'fail', 'somatic'])"
   ]
  },
  {
   "cell_type": "code",
   "execution_count": 23,
   "metadata": {
    "ExecuteTime": {
     "end_time": "2017-10-09T22:47:06.523907Z",
     "start_time": "2017-10-09T22:47:06.494733Z"
    },
    "collapsed": true
   },
   "outputs": [],
   "source": [
    "predictions.index = aml31.index"
   ]
  },
  {
   "cell_type": "code",
   "execution_count": 24,
   "metadata": {
    "ExecuteTime": {
     "end_time": "2017-10-09T22:47:08.498548Z",
     "start_time": "2017-10-09T22:47:07.030785Z"
    },
    "collapsed": true
   },
   "outputs": [],
   "source": [
    "predictions['individual_name'] = predictions.index.str.extract('(.*)~', expand=False)\n",
    "predictions['chr'] = predictions.index.str.extract('~(.*):', expand=False)\n",
    "predictions['start'] = predictions.index.str.extract(':(.*)-\\d+[A-z-]+>', expand=False)\n",
    "predictions['stop'] = predictions.index.str.extract('\\d+-(\\d*)[A-z-]+>', expand=False)\n",
    "predictions['ref'] = predictions.index.str.extract('-\\d+([A-z-]+)>', expand=False)\n",
    "predictions['var'] = predictions.index.str.extract('>([A-z-]+)', expand=False)"
   ]
  },
  {
   "cell_type": "code",
   "execution_count": 26,
   "metadata": {
    "ExecuteTime": {
     "end_time": "2017-10-09T22:48:09.747128Z",
     "start_time": "2017-10-09T22:48:09.180359Z"
    },
    "collapsed": true
   },
   "outputs": [],
   "source": [
    "predictions['prediction'] = test_estimator.predict(aml31_X)"
   ]
  },
  {
   "cell_type": "code",
   "execution_count": 40,
   "metadata": {
    "ExecuteTime": {
     "end_time": "2017-10-09T23:03:17.599741Z",
     "start_time": "2017-10-09T23:03:17.552827Z"
    },
    "collapsed": true
   },
   "outputs": [],
   "source": [
    "platinum = pd.read_csv('../data/aml31/Supplemental_Dataset_3-PlatinumSnvList.tsv', sep='\\t')\n",
    "platinum.rename(columns={'chromosome_name':'chr',  'reference':'ref', 'variant':'var'}, inplace=True)"
   ]
  },
  {
   "cell_type": "code",
   "execution_count": 52,
   "metadata": {
    "ExecuteTime": {
     "end_time": "2017-10-09T23:08:15.668034Z",
     "start_time": "2017-10-09T23:08:15.566955Z"
    },
    "collapsed": true
   },
   "outputs": [],
   "source": [
    "predictions['start'] = predictions.start.astype(int)\n",
    "predictions['stop'] = predictions.stop.astype(int)"
   ]
  },
  {
   "cell_type": "code",
   "execution_count": 54,
   "metadata": {
    "ExecuteTime": {
     "end_time": "2017-10-09T23:08:19.783275Z",
     "start_time": "2017-10-09T23:08:19.070211Z"
    },
    "collapsed": true
   },
   "outputs": [],
   "source": [
    "m = pd.merge(predictions, platinum, how='left', on=['chr', 'start', 'stop',\n",
    "                                                'ref', 'var'])"
   ]
  },
  {
   "cell_type": "code",
   "execution_count": 75,
   "metadata": {
    "ExecuteTime": {
     "end_time": "2017-10-09T23:18:27.596365Z",
     "start_time": "2017-10-09T23:18:27.555351Z"
    }
   },
   "outputs": [
    {
     "data": {
      "text/plain": [
       "0.9054355919583023"
      ]
     },
     "execution_count": 75,
     "metadata": {},
     "output_type": "execute_result"
    }
   ],
   "source": [
    "len(m[(m.prediction==2)& (m.gene_name.notnull())])/len(platinum)"
   ]
  },
  {
   "cell_type": "code",
   "execution_count": 97,
   "metadata": {
    "ExecuteTime": {
     "end_time": "2017-10-10T20:11:14.558529Z",
     "start_time": "2017-10-10T20:11:14.279949Z"
    }
   },
   "outputs": [
    {
     "name": "stdout",
     "output_type": "stream",
     "text": [
      "0.7 somatic threshold\n",
      "False Negatives:  324\n",
      "True Positives:  1012\n",
      "False Positives:  2351\n",
      "True Negatives:  188554\n",
      "\n",
      "Simple majority threshold\n",
      "False Negatives:  120\n",
      "True Positives:  1216\n",
      "False Positives:  44305\n",
      "True Negatives:  146600\n"
     ]
    }
   ],
   "source": [
    "print('0.7 somatic threshold')\n",
    "print('False Negatives: ', len(m[(m.somatic<=.7)& (m.gene_name.notnull())]))\n",
    "print('True Positives: ', len(m[(m.somatic>=.7)& (m.gene_name.notnull())]))\n",
    "print('False Positives: ', len(m[(m.somatic>=.7)& (m.gene_name.isnull())]))\n",
    "print('True Negatives: ', len(m[(m.somatic<=.7)& (m.gene_name.isnull())]))\n",
    "print('\\nSimple majority threshold')\n",
    "print('False Negatives: ', len(m[(m.prediction<2)& (m.gene_name.notnull())]))\n",
    "print('True Positives: ', len(m[(m.prediction==2)& (m.gene_name.notnull())]))\n",
    "print('False Positives: ', len(m[(m.prediction==2)& (m.gene_name.isnull())]))\n",
    "print('True Negatives: ', len(m[(m.prediction<2)& (m.gene_name.isnull())]))"
   ]
  },
  {
   "cell_type": "code",
   "execution_count": 80,
   "metadata": {
    "ExecuteTime": {
     "end_time": "2017-10-09T23:23:22.782824Z",
     "start_time": "2017-10-09T23:23:22.753397Z"
    }
   },
   "outputs": [
    {
     "data": {
      "text/plain": [
       "192241"
      ]
     },
     "execution_count": 80,
     "metadata": {},
     "output_type": "execute_result"
    }
   ],
   "source": [
    "len(predictions)"
   ]
  }
 ],
 "metadata": {
  "kernelspec": {
   "display_name": "Python 3",
   "language": "python",
   "name": "python3"
  },
  "language_info": {
   "codemirror_mode": {
    "name": "ipython",
    "version": 3
   },
   "file_extension": ".py",
   "mimetype": "text/x-python",
   "name": "python",
   "nbconvert_exporter": "python",
   "pygments_lexer": "ipython3",
   "version": "3.6.1"
  }
 },
 "nbformat": 4,
 "nbformat_minor": 2
}
