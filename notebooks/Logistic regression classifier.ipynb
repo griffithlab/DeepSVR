{
 "cells": [
  {
   "cell_type": "code",
   "execution_count": 1,
   "metadata": {
    "ExecuteTime": {
     "end_time": "2017-05-31T21:48:12.996260Z",
     "start_time": "2017-05-31T21:48:12.646267Z"
    },
    "collapsed": true
   },
   "outputs": [],
   "source": [
    "%matplotlib inline"
   ]
  },
  {
   "cell_type": "code",
   "execution_count": 2,
   "metadata": {
    "ExecuteTime": {
     "end_time": "2017-05-31T21:48:16.035464Z",
     "start_time": "2017-05-31T21:48:12.998287Z"
    }
   },
   "outputs": [
    {
     "name": "stderr",
     "output_type": "stream",
     "text": [
      "Using TensorFlow backend.\n"
     ]
    }
   ],
   "source": [
    "import numpy as np\n",
    "import pandas as pd\n",
    "import os\n",
    "from keras.models import Sequential\n",
    "from keras.layers import Dense\n",
    "from keras.wrappers.scikit_learn import KerasClassifier\n",
    "from sklearn.model_selection import KFold\n",
    "from sklearn.model_selection import cross_val_predict\n",
    "from sklearn import preprocessing\n",
    "from sklearn import metrics\n",
    "\n",
    "import matplotlib.pyplot as plt\n",
    "import seaborn as sns\n",
    "from itertools import cycle\n",
    "\n",
    "from manual_review_classifier.ClassifierPlots import create_reliability_diagram\n",
    "\n",
    "sns.set_style(\"white\")\n",
    "sns.set_context('notebook')"
   ]
  },
  {
   "cell_type": "code",
   "execution_count": 3,
   "metadata": {
    "ExecuteTime": {
     "end_time": "2017-05-31T21:48:16.082903Z",
     "start_time": "2017-05-31T21:48:16.037635Z"
    },
    "collapsed": true
   },
   "outputs": [],
   "source": [
    "training_data = pd.read_pickle('../data/training_data.pkl')"
   ]
  },
  {
   "cell_type": "code",
   "execution_count": 4,
   "metadata": {
    "ExecuteTime": {
     "end_time": "2017-05-31T21:48:16.094128Z",
     "start_time": "2017-05-31T21:48:16.084713Z"
    }
   },
   "outputs": [
    {
     "data": {
      "text/plain": [
       "call\n",
       "a    14589\n",
       "f     1600\n",
       "g     4309\n",
       "s    21156\n",
       "dtype: int64"
      ]
     },
     "execution_count": 4,
     "metadata": {},
     "output_type": "execute_result"
    }
   ],
   "source": [
    "training_data.groupby('call').size()"
   ]
  },
  {
   "cell_type": "code",
   "execution_count": 5,
   "metadata": {
    "ExecuteTime": {
     "end_time": "2017-05-31T21:48:16.149063Z",
     "start_time": "2017-05-31T21:48:16.095779Z"
    },
    "collapsed": true
   },
   "outputs": [],
   "source": [
    "# Get Labels\n",
    "Y = pd.get_dummies(training_data.call).astype(float).values\n",
    "# Get training data as numpy array\n",
    "X = training_data.drop('call', axis=1).astype(float).values"
   ]
  },
  {
   "cell_type": "code",
   "execution_count": 6,
   "metadata": {
    "ExecuteTime": {
     "end_time": "2017-05-31T21:48:16.155526Z",
     "start_time": "2017-05-31T21:48:16.150865Z"
    }
   },
   "outputs": [
    {
     "data": {
      "text/plain": [
       "(41654, 71)"
      ]
     },
     "execution_count": 6,
     "metadata": {},
     "output_type": "execute_result"
    }
   ],
   "source": [
    "X.shape"
   ]
  },
  {
   "cell_type": "code",
   "execution_count": 7,
   "metadata": {
    "ExecuteTime": {
     "end_time": "2017-05-31T21:48:16.161356Z",
     "start_time": "2017-05-31T21:48:16.157087Z"
    }
   },
   "outputs": [
    {
     "data": {
      "text/plain": [
       "(41654, 4)"
      ]
     },
     "execution_count": 7,
     "metadata": {},
     "output_type": "execute_result"
    }
   ],
   "source": [
    "Y.shape"
   ]
  },
  {
   "cell_type": "code",
   "execution_count": 8,
   "metadata": {
    "ExecuteTime": {
     "end_time": "2017-05-31T21:48:16.166181Z",
     "start_time": "2017-05-31T21:48:16.162884Z"
    },
    "collapsed": true
   },
   "outputs": [],
   "source": [
    "# fix random seed for reproducibility\n",
    "seed = 7\n",
    "np.random.seed(seed)"
   ]
  },
  {
   "cell_type": "code",
   "execution_count": 9,
   "metadata": {
    "ExecuteTime": {
     "end_time": "2017-05-31T21:48:16.173990Z",
     "start_time": "2017-05-31T21:48:16.168050Z"
    },
    "collapsed": true
   },
   "outputs": [],
   "source": [
    "# define baseline model\n",
    "def baseline_model():\n",
    "    # create model\n",
    "    model = Sequential()\n",
    "    model.add(Dense(4, input_dim=71, kernel_initializer='normal', activation='sigmoid'))\n",
    "    # Compile model\n",
    "    model.compile(loss='categorical_crossentropy', optimizer='adam', metrics=['accuracy'])\n",
    "    return model"
   ]
  },
  {
   "cell_type": "code",
   "execution_count": 10,
   "metadata": {
    "ExecuteTime": {
     "end_time": "2017-05-31T21:48:16.179691Z",
     "start_time": "2017-05-31T21:48:16.175964Z"
    },
    "collapsed": true
   },
   "outputs": [],
   "source": [
    "estimator = KerasClassifier(build_fn=baseline_model, epochs=10, batch_size=5, verbose=1)"
   ]
  },
  {
   "cell_type": "code",
   "execution_count": 11,
   "metadata": {
    "ExecuteTime": {
     "end_time": "2017-05-31T21:48:16.183982Z",
     "start_time": "2017-05-31T21:48:16.181472Z"
    },
    "collapsed": true
   },
   "outputs": [],
   "source": [
    "kfold = KFold(n_splits=10, shuffle=True, random_state=seed)"
   ]
  },
  {
   "cell_type": "code",
   "execution_count": 12,
   "metadata": {
    "ExecuteTime": {
     "end_time": "2017-05-31T22:26:06.073065Z",
     "start_time": "2017-05-31T21:48:16.185585Z"
    }
   },
   "outputs": [
    {
     "name": "stdout",
     "output_type": "stream",
     "text": [
      "Epoch 1/10\n",
      "37488/37488 [==============================] - 22s - loss: 0.8308 - acc: 0.6462    \n",
      "Epoch 2/10\n",
      "37488/37488 [==============================] - 20s - loss: 0.7195 - acc: 0.7265    \n",
      "Epoch 3/10\n",
      "37488/37488 [==============================] - 20s - loss: 0.6932 - acc: 0.7338    \n",
      "Epoch 4/10\n",
      "37488/37488 [==============================] - 23s - loss: 0.6806 - acc: 0.7371    \n",
      "Epoch 5/10\n",
      "37488/37488 [==============================] - 23s - loss: 0.6727 - acc: 0.7393    \n",
      "Epoch 6/10\n",
      "37488/37488 [==============================] - 22s - loss: 0.6673 - acc: 0.7411    \n",
      "Epoch 7/10\n",
      "37488/37488 [==============================] - 24s - loss: 0.6624 - acc: 0.7441    \n",
      "Epoch 8/10\n",
      "37488/37488 [==============================] - 24s - loss: 0.6581 - acc: 0.7450    \n",
      "Epoch 9/10\n",
      "37488/37488 [==============================] - 24s - loss: 0.6541 - acc: 0.7473    \n",
      "Epoch 10/10\n",
      "37488/37488 [==============================] - 24s - loss: 0.6505 - acc: 0.7469    \n",
      "4125/4166 [============================>.] - ETA: 0sEpoch 1/10\n",
      "37488/37488 [==============================] - 25s - loss: 0.8288 - acc: 0.6461    \n",
      "Epoch 2/10\n",
      "37488/37488 [==============================] - 25s - loss: 0.7206 - acc: 0.7232    \n",
      "Epoch 3/10\n",
      "37488/37488 [==============================] - 25s - loss: 0.6943 - acc: 0.7336    \n",
      "Epoch 4/10\n",
      "37488/37488 [==============================] - 25s - loss: 0.6817 - acc: 0.7386    \n",
      "Epoch 5/10\n",
      "37488/37488 [==============================] - 25s - loss: 0.6737 - acc: 0.7404    \n",
      "Epoch 6/10\n",
      "37488/37488 [==============================] - 25s - loss: 0.6680 - acc: 0.7426    \n",
      "Epoch 7/10\n",
      "37488/37488 [==============================] - 26s - loss: 0.6628 - acc: 0.7439    \n",
      "Epoch 8/10\n",
      "37488/37488 [==============================] - 27s - loss: 0.6588 - acc: 0.7459    \n",
      "Epoch 9/10\n",
      "37488/37488 [==============================] - 28s - loss: 0.6549 - acc: 0.7472    \n",
      "Epoch 10/10\n",
      "37488/37488 [==============================] - 27s - loss: 0.6515 - acc: 0.7478    \n",
      "4060/4166 [============================>.] - ETA: 0sEpoch 1/10\n",
      "37488/37488 [==============================] - 27s - loss: 0.8313 - acc: 0.6460    \n",
      "Epoch 2/10\n",
      "37488/37488 [==============================] - 27s - loss: 0.7184 - acc: 0.7254    \n",
      "Epoch 3/10\n",
      "37488/37488 [==============================] - 27s - loss: 0.6919 - acc: 0.7333    \n",
      "Epoch 4/10\n",
      "37488/37488 [==============================] - 28s - loss: 0.6787 - acc: 0.7395    \n",
      "Epoch 5/10\n",
      "37488/37488 [==============================] - 28s - loss: 0.6704 - acc: 0.7423    \n",
      "Epoch 6/10\n",
      "37488/37488 [==============================] - 27s - loss: 0.6649 - acc: 0.7443    \n",
      "Epoch 7/10\n",
      "37488/37488 [==============================] - 28s - loss: 0.6598 - acc: 0.7447    \n",
      "Epoch 8/10\n",
      "37488/37488 [==============================] - 27s - loss: 0.6561 - acc: 0.7452    \n",
      "Epoch 9/10\n",
      "37488/37488 [==============================] - 27s - loss: 0.6521 - acc: 0.7471    \n",
      "Epoch 10/10\n",
      "37488/37488 [==============================] - 27s - loss: 0.6486 - acc: 0.7489    \n",
      "4075/4166 [============================>.] - ETA: 0sEpoch 1/10\n",
      "37488/37488 [==============================] - 27s - loss: 0.8308 - acc: 0.6445    \n",
      "Epoch 2/10\n",
      "37488/37488 [==============================] - 28s - loss: 0.7197 - acc: 0.7291    \n",
      "Epoch 3/10\n",
      "37488/37488 [==============================] - 26s - loss: 0.6931 - acc: 0.7337    \n",
      "Epoch 4/10\n",
      "37488/37488 [==============================] - 24s - loss: 0.6803 - acc: 0.7389    \n",
      "Epoch 5/10\n",
      "37488/37488 [==============================] - 25s - loss: 0.6718 - acc: 0.7419    \n",
      "Epoch 6/10\n",
      "37488/37488 [==============================] - 25s - loss: 0.6661 - acc: 0.7433    \n",
      "Epoch 7/10\n",
      "37488/37488 [==============================] - 25s - loss: 0.6615 - acc: 0.7455    \n",
      "Epoch 8/10\n",
      "37488/37488 [==============================] - 24s - loss: 0.6568 - acc: 0.7467    \n",
      "Epoch 9/10\n",
      "37488/37488 [==============================] - 25s - loss: 0.6531 - acc: 0.7474    \n",
      "Epoch 10/10\n",
      "37488/37488 [==============================] - 23s - loss: 0.6495 - acc: 0.7475    \n",
      "4090/4166 [============================>.] - ETA: 0sEpoch 1/10\n",
      "37489/37489 [==============================] - 25s - loss: 0.8317 - acc: 0.6445    \n",
      "Epoch 2/10\n",
      "37489/37489 [==============================] - 24s - loss: 0.7186 - acc: 0.7283    \n",
      "Epoch 3/10\n",
      "37489/37489 [==============================] - 16s - loss: 0.6915 - acc: 0.7363    \n",
      "Epoch 4/10\n",
      "37489/37489 [==============================] - 16s - loss: 0.6789 - acc: 0.7396    \n",
      "Epoch 5/10\n",
      "37489/37489 [==============================] - 16s - loss: 0.6708 - acc: 0.7429    \n",
      "Epoch 6/10\n",
      "37489/37489 [==============================] - 16s - loss: 0.6647 - acc: 0.7454    \n",
      "Epoch 7/10\n",
      "37489/37489 [==============================] - 16s - loss: 0.6599 - acc: 0.7470    \n",
      "Epoch 8/10\n",
      "37489/37489 [==============================] - 16s - loss: 0.6554 - acc: 0.7473    \n",
      "Epoch 9/10\n",
      "37489/37489 [==============================] - 19s - loss: 0.6512 - acc: 0.7481    \n",
      "Epoch 10/10\n",
      "37489/37489 [==============================] - 20s - loss: 0.6477 - acc: 0.7506    \n",
      "4040/4165 [============================>.] - ETA: 0sEpoch 1/10\n",
      "37489/37489 [==============================] - 20s - loss: 0.8279 - acc: 0.6492    \n",
      "Epoch 2/10\n",
      "37489/37489 [==============================] - 22s - loss: 0.7194 - acc: 0.7235    \n",
      "Epoch 3/10\n",
      "37489/37489 [==============================] - 28s - loss: 0.6933 - acc: 0.7350    \n",
      "Epoch 4/10\n",
      "37489/37489 [==============================] - 29s - loss: 0.6806 - acc: 0.7381    \n",
      "Epoch 5/10\n",
      "37489/37489 [==============================] - 22s - loss: 0.6725 - acc: 0.7415    \n",
      "Epoch 6/10\n",
      "37489/37489 [==============================] - 20s - loss: 0.6665 - acc: 0.7417    \n",
      "Epoch 7/10\n",
      "37489/37489 [==============================] - 19s - loss: 0.6618 - acc: 0.7442    \n",
      "Epoch 8/10\n",
      "37489/37489 [==============================] - 21s - loss: 0.6573 - acc: 0.7462    \n",
      "Epoch 9/10\n",
      "37489/37489 [==============================] - 17s - loss: 0.6536 - acc: 0.7476    \n",
      "Epoch 10/10\n",
      "37489/37489 [==============================] - 20s - loss: 0.6498 - acc: 0.7493    \n",
      "3985/4165 [===========================>..] - ETA: 0sEpoch 1/10\n",
      "37489/37489 [==============================] - 16s - loss: 0.8291 - acc: 0.6435    \n",
      "Epoch 2/10\n",
      "37489/37489 [==============================] - 21s - loss: 0.7201 - acc: 0.7269    \n",
      "Epoch 3/10\n",
      "37489/37489 [==============================] - 27s - loss: 0.6939 - acc: 0.7331    \n",
      "Epoch 4/10\n",
      "37489/37489 [==============================] - 21s - loss: 0.6813 - acc: 0.7380    \n",
      "Epoch 5/10\n",
      "37489/37489 [==============================] - 23s - loss: 0.6730 - acc: 0.7411    \n",
      "Epoch 6/10\n",
      "37489/37489 [==============================] - 24s - loss: 0.6675 - acc: 0.7431    \n",
      "Epoch 7/10\n",
      "37489/37489 [==============================] - 19s - loss: 0.6627 - acc: 0.7451    \n",
      "Epoch 8/10\n",
      "37489/37489 [==============================] - 23s - loss: 0.6586 - acc: 0.7453    \n",
      "Epoch 9/10\n",
      "37489/37489 [==============================] - 22s - loss: 0.6543 - acc: 0.7472    \n",
      "Epoch 10/10\n",
      "37489/37489 [==============================] - 22s - loss: 0.6513 - acc: 0.7472    \n",
      "4135/4165 [============================>.] - ETA: 0sEpoch 1/10\n",
      "37489/37489 [==============================] - 23s - loss: 0.8313 - acc: 0.6426    \n",
      "Epoch 2/10\n",
      "37489/37489 [==============================] - 20s - loss: 0.7211 - acc: 0.7254    \n",
      "Epoch 3/10\n",
      "37489/37489 [==============================] - 22s - loss: 0.6951 - acc: 0.7343    \n",
      "Epoch 4/10\n",
      "37489/37489 [==============================] - 18s - loss: 0.6826 - acc: 0.7385    \n",
      "Epoch 5/10\n",
      "37489/37489 [==============================] - 20s - loss: 0.6747 - acc: 0.7413    \n",
      "Epoch 6/10\n",
      "37489/37489 [==============================] - 19s - loss: 0.6692 - acc: 0.7418    \n",
      "Epoch 7/10\n",
      "37489/37489 [==============================] - 18s - loss: 0.6643 - acc: 0.7433    \n",
      "Epoch 8/10\n",
      "37489/37489 [==============================] - 17s - loss: 0.6607 - acc: 0.7447    \n",
      "Epoch 9/10\n",
      "37489/37489 [==============================] - 19s - loss: 0.6568 - acc: 0.7463    \n",
      "Epoch 10/10\n",
      "37489/37489 [==============================] - 17s - loss: 0.6535 - acc: 0.7472    \n",
      "3990/4165 [===========================>..] - ETA: 0sEpoch 1/10\n",
      "37489/37489 [==============================] - 19s - loss: 0.8294 - acc: 0.6425    \n",
      "Epoch 2/10\n"
     ]
    },
    {
     "name": "stdout",
     "output_type": "stream",
     "text": [
      "37489/37489 [==============================] - ETA: 0s - loss: 0.7184 - acc: 0.726 - 22s - loss: 0.7185 - acc: 0.7258    \n",
      "Epoch 3/10\n",
      "37489/37489 [==============================] - 19s - loss: 0.6919 - acc: 0.7357    \n",
      "Epoch 4/10\n",
      "37489/37489 [==============================] - 18s - loss: 0.6785 - acc: 0.7396    \n",
      "Epoch 5/10\n",
      "37489/37489 [==============================] - 18s - loss: 0.6708 - acc: 0.7423    \n",
      "Epoch 6/10\n",
      "37489/37489 [==============================] - 18s - loss: 0.6647 - acc: 0.7444    \n",
      "Epoch 7/10\n",
      "37489/37489 [==============================] - 18s - loss: 0.6600 - acc: 0.7446    \n",
      "Epoch 8/10\n",
      "37489/37489 [==============================] - 17s - loss: 0.6558 - acc: 0.7464    \n",
      "Epoch 9/10\n",
      "37489/37489 [==============================] - 18s - loss: 0.6517 - acc: 0.7469    \n",
      "Epoch 10/10\n",
      "37489/37489 [==============================] - 16s - loss: 0.6477 - acc: 0.7486    \n",
      "3640/4165 [=========================>....] - ETA: 0sEpoch 1/10\n",
      "37489/37489 [==============================] - 18s - loss: 0.8308 - acc: 0.6408    \n",
      "Epoch 2/10\n",
      "37489/37489 [==============================] - 26s - loss: 0.7196 - acc: 0.7239    \n",
      "Epoch 3/10\n",
      "37489/37489 [==============================] - 23s - loss: 0.6935 - acc: 0.7343    \n",
      "Epoch 4/10\n",
      "37489/37489 [==============================] - 24s - loss: 0.6806 - acc: 0.7399    \n",
      "Epoch 5/10\n",
      "37489/37489 [==============================] - 21s - loss: 0.6727 - acc: 0.7418    \n",
      "Epoch 6/10\n",
      "37489/37489 [==============================] - 22s - loss: 0.6670 - acc: 0.7427    \n",
      "Epoch 7/10\n",
      "37489/37489 [==============================] - 23s - loss: 0.6622 - acc: 0.7449    \n",
      "Epoch 8/10\n",
      "37489/37489 [==============================] - 18s - loss: 0.6584 - acc: 0.7462    \n",
      "Epoch 9/10\n",
      "37489/37489 [==============================] - 17s - loss: 0.6548 - acc: 0.7464    \n",
      "Epoch 10/10\n",
      "37489/37489 [==============================] - 19s - loss: 0.6512 - acc: 0.7480    \n",
      "3595/4165 [========================>.....] - ETA: 0s"
     ]
    },
    {
     "ename": "NameError",
     "evalue": "name 'os' is not defined",
     "output_type": "error",
     "traceback": [
      "\u001b[0;31m---------------------------------------------------------------------------\u001b[0m",
      "\u001b[0;31mNameError\u001b[0m                                 Traceback (most recent call last)",
      "\u001b[0;32m<ipython-input-12-d7582271672f>\u001b[0m in \u001b[0;36m<module>\u001b[0;34m()\u001b[0m\n\u001b[1;32m      1\u001b[0m \u001b[0mprobabilities\u001b[0m \u001b[0;34m=\u001b[0m \u001b[0mcross_val_predict\u001b[0m\u001b[0;34m(\u001b[0m\u001b[0mestimator\u001b[0m\u001b[0;34m,\u001b[0m \u001b[0mX\u001b[0m\u001b[0;34m,\u001b[0m \u001b[0mY\u001b[0m\u001b[0;34m,\u001b[0m \u001b[0mcv\u001b[0m\u001b[0;34m=\u001b[0m\u001b[0mkfold\u001b[0m\u001b[0;34m,\u001b[0m \u001b[0mmethod\u001b[0m\u001b[0;34m=\u001b[0m\u001b[0;34m'predict_proba'\u001b[0m\u001b[0;34m)\u001b[0m\u001b[0;34m\u001b[0m\u001b[0m\n\u001b[0;32m----> 2\u001b[0;31m \u001b[0;32mif\u001b[0m \u001b[0;32mnot\u001b[0m \u001b[0mos\u001b[0m\u001b[0;34m.\u001b[0m\u001b[0mpath\u001b[0m\u001b[0;34m.\u001b[0m\u001b[0mexists\u001b[0m\u001b[0;34m(\u001b[0m\u001b[0;34m'../data/log_reg/multiclass_probs.npy'\u001b[0m\u001b[0;34m)\u001b[0m\u001b[0;34m:\u001b[0m\u001b[0;34m\u001b[0m\u001b[0m\n\u001b[0m\u001b[1;32m      3\u001b[0m     \u001b[0mprobabilities\u001b[0m \u001b[0;34m=\u001b[0m \u001b[0mcross_val_predict\u001b[0m\u001b[0;34m(\u001b[0m\u001b[0mestimator\u001b[0m\u001b[0;34m,\u001b[0m \u001b[0mX\u001b[0m\u001b[0;34m,\u001b[0m \u001b[0mY\u001b[0m\u001b[0;34m,\u001b[0m \u001b[0mcv\u001b[0m\u001b[0;34m=\u001b[0m\u001b[0mkfold\u001b[0m\u001b[0;34m,\u001b[0m \u001b[0mmethod\u001b[0m\u001b[0;34m=\u001b[0m\u001b[0;34m'predict_proba'\u001b[0m\u001b[0;34m)\u001b[0m\u001b[0;34m\u001b[0m\u001b[0m\n\u001b[1;32m      4\u001b[0m     \u001b[0mnp\u001b[0m\u001b[0;34m.\u001b[0m\u001b[0msave\u001b[0m\u001b[0;34m(\u001b[0m\u001b[0;34m'../data/log_reg/multiclass_probs.npy'\u001b[0m\u001b[0;34m,\u001b[0m \u001b[0mprobabilities\u001b[0m\u001b[0;34m)\u001b[0m\u001b[0;34m\u001b[0m\u001b[0m\n\u001b[1;32m      5\u001b[0m \u001b[0;32melse\u001b[0m\u001b[0;34m:\u001b[0m\u001b[0;34m\u001b[0m\u001b[0m\n",
      "\u001b[0;31mNameError\u001b[0m: name 'os' is not defined"
     ]
    }
   ],
   "source": [
    "probabilities = cross_val_predict(estimator, X, Y, cv=kfold, method='predict_proba')\n",
    "if not os.path.exists('../data/log_reg/multiclass_probs.npy'):\n",
    "    probabilities = cross_val_predict(estimator, X, Y, cv=kfold, method='predict_proba')\n",
    "    np.save('../data/log_reg/multiclass_probs.npy', probabilities)\n",
    "else:\n",
    "    probabilities = np.load('../data/log_reg/multiclass_probs.npy')"
   ]
  },
  {
   "cell_type": "code",
   "execution_count": 14,
   "metadata": {
    "ExecuteTime": {
     "end_time": "2017-05-31T22:28:24.460625Z",
     "start_time": "2017-05-31T22:28:24.340760Z"
    },
    "collapsed": true
   },
   "outputs": [],
   "source": [
    "predicted = np.array([list(a).index(max(list(a))) for a in list(probabilities)])"
   ]
  },
  {
   "cell_type": "code",
   "execution_count": 15,
   "metadata": {
    "ExecuteTime": {
     "end_time": "2017-05-31T22:28:25.478983Z",
     "start_time": "2017-05-31T22:28:25.468457Z"
    },
    "collapsed": true
   },
   "outputs": [],
   "source": [
    "label_binarizer = preprocessing.LabelBinarizer()\n",
    "\n",
    "label_binarizer.fit(range(max(predicted)+1))\n",
    "predicted_transformed = label_binarizer.transform(predicted)"
   ]
  },
  {
   "cell_type": "code",
   "execution_count": 16,
   "metadata": {
    "ExecuteTime": {
     "end_time": "2017-05-31T22:28:26.161447Z",
     "start_time": "2017-05-31T22:28:26.141664Z"
    }
   },
   "outputs": [
    {
     "data": {
      "text/plain": [
       "0.74797138330052337"
      ]
     },
     "execution_count": 16,
     "metadata": {},
     "output_type": "execute_result"
    }
   ],
   "source": [
    "metrics.accuracy_score(Y, predicted_transformed)"
   ]
  },
  {
   "cell_type": "markdown",
   "metadata": {},
   "source": [
    "#### Classification report\n",
    "* 0 = ambiguous\n",
    "* 1 = fail\n",
    "* 2 = germline\n",
    "* 3 = somatic"
   ]
  },
  {
   "cell_type": "code",
   "execution_count": 17,
   "metadata": {
    "ExecuteTime": {
     "end_time": "2017-05-31T22:28:27.571521Z",
     "start_time": "2017-05-31T22:28:27.548699Z"
    }
   },
   "outputs": [
    {
     "name": "stdout",
     "output_type": "stream",
     "text": [
      "             precision    recall  f1-score   support\n",
      "\n",
      "          0       0.71      0.70      0.71     14589\n",
      "          1       0.49      0.18      0.26      1600\n",
      "          2       0.63      0.63      0.63      4309\n",
      "          3       0.80      0.85      0.82     21156\n",
      "\n",
      "avg / total       0.74      0.75      0.74     41654\n",
      "\n"
     ]
    }
   ],
   "source": [
    "print(metrics.classification_report(Y, predicted_transformed))"
   ]
  },
  {
   "cell_type": "code",
   "execution_count": 18,
   "metadata": {
    "ExecuteTime": {
     "end_time": "2017-05-31T22:28:29.077986Z",
     "start_time": "2017-05-31T22:28:28.797039Z"
    }
   },
   "outputs": [
    {
     "data": {
      "image/png": "[encoded data removed]",
      "text/plain": [
       "<matplotlib.figure.Figure at 0x1397bf5f8>"
      ]
     },
     "metadata": {},
     "output_type": "display_data"
    }
   ],
   "source": [
    "n_classes = Y.shape[1]\n",
    "class_lookup = {0: 'Ambiguous', 1: 'Fail', 2: 'Germline', 3: 'Somatic'}\n",
    "fpr = dict()\n",
    "tpr = dict()\n",
    "roc_auc = dict()\n",
    "plt.title('Receiver Operating Characteristic')\n",
    "colors = cycle(['aqua', 'darkorange', 'cornflowerblue', 'deeppink'])\n",
    "for i, color in zip(range(n_classes), colors):\n",
    "    fpr[i], tpr[i], _ = metrics.roc_curve(Y[:, i], probabilities[:, i])\n",
    "    roc_auc[i] = metrics.auc(fpr[i], tpr[i])\n",
    "    plt.plot(fpr[i], tpr[i], color=color, label='ROC curve of class {0}'\n",
    "             ' (area = {1:0.2f})'.format(class_lookup[i], roc_auc[i]))\n",
    "plt.plot([0, 1], [0, 1], 'k--')\n",
    "plt.xlim([0.0, 1.0])\n",
    "plt.ylim([0.0, 1.05])\n",
    "plt.xlabel('False Positive Rate')\n",
    "plt.ylabel('True Positive Rate')\n",
    "plt.legend(loc=\"lower right\")\n",
    "plt.show()"
   ]
  },
  {
   "cell_type": "code",
   "execution_count": 19,
   "metadata": {
    "ExecuteTime": {
     "end_time": "2017-05-31T22:28:43.176030Z",
     "start_time": "2017-05-31T22:28:42.707887Z"
    }
   },
   "outputs": [
    {
     "name": "stdout",
     "output_type": "stream",
     "text": [
      "confidence intervals +-:  [ 0.00089957  0.0035822   0.00459466  0.00629871  0.00845529  0.00863959\n",
      "  0.01109931  0.01290466  0.01475754  0.01565947]\n"
     ]
    },
    {
     "data": {
      "image/png": "[encoded data removed]",
      "text/plain": [
       "<matplotlib.figure.Figure at 0x13988b908>"
      ]
     },
     "metadata": {},
     "output_type": "display_data"
    }
   ],
   "source": [
    "create_reliability_diagram(probabilities, Y, \n",
    "                           ['Ambiguous','Fail','Germline', 'Somatic'], 'deeppink')"
   ]
  },
  {
   "cell_type": "markdown",
   "metadata": {},
   "source": [
    "## Refactor to single class classifier \n",
    "Manual reviewer's calling variants germline is problematic as the callers that produced the calls are designed to call somatic variants. These germline calls are likely very poor quality and in most analysis streams get thrown out anyway. While 'ambigous' variant exist in a grey area where the reviewer is unsure whether to call the variant somatic or fail. All of these classes (germile, ambiguous, and fail) are treated the same in downstream analysis (thrown out)."
   ]
  },
  {
   "cell_type": "code",
   "execution_count": 20,
   "metadata": {
    "ExecuteTime": {
     "end_time": "2017-05-31T22:29:01.691966Z",
     "start_time": "2017-05-31T22:29:01.684098Z"
    }
   },
   "outputs": [
    {
     "data": {
      "text/plain": [
       "call\n",
       "a    14589\n",
       "f     1600\n",
       "g     4309\n",
       "s    21156\n",
       "dtype: int64"
      ]
     },
     "execution_count": 20,
     "metadata": {},
     "output_type": "execute_result"
    }
   ],
   "source": [
    "training_data.groupby('call').size()"
   ]
  },
  {
   "cell_type": "code",
   "execution_count": 21,
   "metadata": {
    "ExecuteTime": {
     "end_time": "2017-05-31T22:29:02.634640Z",
     "start_time": "2017-05-31T22:29:02.620097Z"
    },
    "collapsed": true
   },
   "outputs": [],
   "source": [
    "training_data['binary_call'] = training_data.call.replace(['a', 'f', 'g'], False)\n",
    "training_data['binary_call'] = training_data['binary_call'].replace('s', True)"
   ]
  },
  {
   "cell_type": "code",
   "execution_count": 22,
   "metadata": {
    "ExecuteTime": {
     "end_time": "2017-05-31T22:29:04.492109Z",
     "start_time": "2017-05-31T22:29:04.483748Z"
    }
   },
   "outputs": [
    {
     "data": {
      "text/plain": [
       "binary_call\n",
       "False    20498\n",
       "True     21156\n",
       "dtype: int64"
      ]
     },
     "execution_count": 22,
     "metadata": {},
     "output_type": "execute_result"
    }
   ],
   "source": [
    "training_data.groupby('binary_call').size()"
   ]
  },
  {
   "cell_type": "code",
   "execution_count": 23,
   "metadata": {
    "ExecuteTime": {
     "end_time": "2017-05-31T22:29:06.733053Z",
     "start_time": "2017-05-31T22:29:06.655494Z"
    },
    "collapsed": true
   },
   "outputs": [],
   "source": [
    "# Get Labels\n",
    "binary_Y = training_data.binary_call.astype(int).values\n",
    "# Get training data as numpy array\n",
    "X = training_data.drop(['call', 'binary_call'], axis=1).astype(float).values"
   ]
  },
  {
   "cell_type": "code",
   "execution_count": 24,
   "metadata": {
    "ExecuteTime": {
     "end_time": "2017-05-31T22:29:07.175873Z",
     "start_time": "2017-05-31T22:29:07.171393Z"
    }
   },
   "outputs": [
    {
     "data": {
      "text/plain": [
       "(41654, 71)"
      ]
     },
     "execution_count": 24,
     "metadata": {},
     "output_type": "execute_result"
    }
   ],
   "source": [
    "X.shape"
   ]
  },
  {
   "cell_type": "code",
   "execution_count": 25,
   "metadata": {
    "ExecuteTime": {
     "end_time": "2017-05-31T22:29:07.704643Z",
     "start_time": "2017-05-31T22:29:07.699548Z"
    }
   },
   "outputs": [
    {
     "data": {
      "text/plain": [
       "(41654,)"
      ]
     },
     "execution_count": 25,
     "metadata": {},
     "output_type": "execute_result"
    }
   ],
   "source": [
    "binary_Y.shape"
   ]
  },
  {
   "cell_type": "code",
   "execution_count": 26,
   "metadata": {
    "ExecuteTime": {
     "end_time": "2017-05-31T22:29:09.073739Z",
     "start_time": "2017-05-31T22:29:09.067619Z"
    },
    "collapsed": true
   },
   "outputs": [],
   "source": [
    "# define baseline model\n",
    "def baseline_binary_model():\n",
    "    # create model\n",
    "    model = Sequential()\n",
    "    model.add(Dense(2, input_dim=71, kernel_initializer='normal', activation='sigmoid'))\n",
    "    # Compile model\n",
    "    model.compile(loss='categorical_crossentropy', optimizer='adam', metrics=['accuracy'])\n",
    "    return model"
   ]
  },
  {
   "cell_type": "code",
   "execution_count": 27,
   "metadata": {
    "ExecuteTime": {
     "end_time": "2017-05-31T22:29:09.791205Z",
     "start_time": "2017-05-31T22:29:09.787538Z"
    },
    "collapsed": true
   },
   "outputs": [],
   "source": [
    "binary_estimator = KerasClassifier(build_fn=baseline_binary_model, epochs=10, batch_size=5, verbose=1)"
   ]
  },
  {
   "cell_type": "code",
   "execution_count": 28,
   "metadata": {
    "ExecuteTime": {
     "end_time": "2017-05-31T22:29:10.206527Z",
     "start_time": "2017-05-31T22:29:10.202870Z"
    },
    "collapsed": true
   },
   "outputs": [],
   "source": [
    "binary_kfold = KFold(n_splits=10, shuffle=True, random_state=seed)"
   ]
  },
  {
   "cell_type": "code",
   "execution_count": 29,
   "metadata": {
    "ExecuteTime": {
     "end_time": "2017-05-31T23:03:23.149138Z",
     "start_time": "2017-05-31T22:29:11.347451Z"
    }
   },
   "outputs": [
    {
     "name": "stdout",
     "output_type": "stream",
     "text": [
      "Epoch 1/10\n",
      "37488/37488 [==============================] - 23s - loss: 0.5413 - acc: 0.7304    \n",
      "Epoch 2/10\n",
      "37488/37488 [==============================] - 20s - loss: 0.4739 - acc: 0.8042    \n",
      "Epoch 3/10\n",
      "37488/37488 [==============================] - 22s - loss: 0.4585 - acc: 0.8163    \n",
      "Epoch 4/10\n",
      "37488/37488 [==============================] - 23s - loss: 0.4515 - acc: 0.8184    \n",
      "Epoch 5/10\n",
      "37488/37488 [==============================] - 17s - loss: 0.4468 - acc: 0.8208    \n",
      "Epoch 6/10\n",
      "37488/37488 [==============================] - 17s - loss: 0.4436 - acc: 0.8228    \n",
      "Epoch 7/10\n",
      "37488/37488 [==============================] - 18s - loss: 0.4402 - acc: 0.8224    \n",
      "Epoch 8/10\n",
      "37488/37488 [==============================] - 17s - loss: 0.4369 - acc: 0.8246    \n",
      "Epoch 9/10\n",
      "37488/37488 [==============================] - 18s - loss: 0.4340 - acc: 0.8252    \n",
      "Epoch 10/10\n",
      "37488/37488 [==============================] - 17s - loss: 0.4309 - acc: 0.8253    \n",
      "3645/4166 [=========================>....] - ETA: 0sEpoch 1/10\n",
      "37488/37488 [==============================] - 17s - loss: 0.5427 - acc: 0.7306    \n",
      "Epoch 2/10\n",
      "37488/37488 [==============================] - 17s - loss: 0.4741 - acc: 0.8062    \n",
      "Epoch 3/10\n",
      "37488/37488 [==============================] - 16s - loss: 0.4588 - acc: 0.8160    \n",
      "Epoch 4/10\n",
      "37488/37488 [==============================] - 16s - loss: 0.4514 - acc: 0.8200    \n",
      "Epoch 5/10\n",
      "37488/37488 [==============================] - 16s - loss: 0.4471 - acc: 0.8227    \n",
      "Epoch 6/10\n",
      "37488/37488 [==============================] - 17s - loss: 0.4436 - acc: 0.8237    \n",
      "Epoch 7/10\n",
      "37488/37488 [==============================] - 16s - loss: 0.4404 - acc: 0.8238    \n",
      "Epoch 8/10\n",
      "37488/37488 [==============================] - 16s - loss: 0.4374 - acc: 0.8251    \n",
      "Epoch 9/10\n",
      "37488/37488 [==============================] - 18s - loss: 0.4343 - acc: 0.8243    \n",
      "Epoch 10/10\n",
      "37488/37488 [==============================] - 16s - loss: 0.4313 - acc: 0.8259    \n",
      "3635/4166 [=========================>....] - ETA: 0sEpoch 1/10\n",
      "37488/37488 [==============================] - 16s - loss: 0.5417 - acc: 0.7306    \n",
      "Epoch 2/10\n",
      "37488/37488 [==============================] - 16s - loss: 0.4721 - acc: 0.8088    \n",
      "Epoch 3/10\n",
      "37488/37488 [==============================] - 18s - loss: 0.4568 - acc: 0.8186    \n",
      "Epoch 4/10\n",
      "37488/37488 [==============================] - 21s - loss: 0.4495 - acc: 0.8210    \n",
      "Epoch 5/10\n",
      "37488/37488 [==============================] - 19s - loss: 0.4451 - acc: 0.8242    \n",
      "Epoch 6/10\n",
      "37488/37488 [==============================] - 23s - loss: 0.4416 - acc: 0.8247    \n",
      "Epoch 7/10\n",
      "37488/37488 [==============================] - 21s - loss: 0.4385 - acc: 0.8257    \n",
      "Epoch 8/10\n",
      "37488/37488 [==============================] - 22s - loss: 0.4353 - acc: 0.8257    \n",
      "Epoch 9/10\n",
      "37488/37488 [==============================] - 23s - loss: 0.4326 - acc: 0.8266    \n",
      "Epoch 10/10\n",
      "37488/37488 [==============================] - 23s - loss: 0.4293 - acc: 0.8267    \n",
      "3800/4166 [==========================>...] - ETA: 0sEpoch 1/10\n",
      "37488/37488 [==============================] - 19s - loss: 0.5427 - acc: 0.7284    \n",
      "Epoch 2/10\n",
      "37488/37488 [==============================] - 19s - loss: 0.4731 - acc: 0.8051    \n",
      "Epoch 3/10\n",
      "37488/37488 [==============================] - 16s - loss: 0.4579 - acc: 0.8155    \n",
      "Epoch 4/10\n",
      "37488/37488 [==============================] - 19s - loss: 0.4508 - acc: 0.8195    \n",
      "Epoch 5/10\n",
      "37488/37488 [==============================] - 16s - loss: 0.4466 - acc: 0.8213    \n",
      "Epoch 6/10\n",
      "37488/37488 [==============================] - 16s - loss: 0.4427 - acc: 0.8227    \n",
      "Epoch 7/10\n",
      "37488/37488 [==============================] - 16s - loss: 0.4395 - acc: 0.8236    \n",
      "Epoch 8/10\n",
      "37488/37488 [==============================] - 19s - loss: 0.4365 - acc: 0.8251    \n",
      "Epoch 9/10\n",
      "37488/37488 [==============================] - 20s - loss: 0.4334 - acc: 0.8266    \n",
      "Epoch 10/10\n",
      "37488/37488 [==============================] - 16s - loss: 0.4301 - acc: 0.8260    \n",
      "3620/4166 [=========================>....] - ETA: 0sEpoch 1/10\n",
      "37489/37489 [==============================] - 18s - loss: 0.5429 - acc: 0.7350    \n",
      "Epoch 2/10\n",
      "37489/37489 [==============================] - 18s - loss: 0.4734 - acc: 0.8054    \n",
      "Epoch 3/10\n",
      "37489/37489 [==============================] - 19s - loss: 0.4582 - acc: 0.8162    \n",
      "Epoch 4/10\n",
      "37489/37489 [==============================] - 25s - loss: 0.4510 - acc: 0.8200    \n",
      "Epoch 5/10\n",
      "37489/37489 [==============================] - 23s - loss: 0.4462 - acc: 0.8223    \n",
      "Epoch 6/10\n",
      "37489/37489 [==============================] - 19s - loss: 0.4426 - acc: 0.8245    \n",
      "Epoch 7/10\n",
      "37489/37489 [==============================] - 20s - loss: 0.4393 - acc: 0.8258    \n",
      "Epoch 8/10\n",
      "37489/37489 [==============================] - 24s - loss: 0.4357 - acc: 0.8259    \n",
      "Epoch 9/10\n",
      "37489/37489 [==============================] - 28s - loss: 0.4322 - acc: 0.8271    \n",
      "Epoch 10/10\n",
      "37489/37489 [==============================] - 19s - loss: 0.4290 - acc: 0.8267    \n",
      "3960/4165 [===========================>..] - ETA: 0sEpoch 1/10\n",
      "37489/37489 [==============================] - 21s - loss: 0.5426 - acc: 0.7272    \n",
      "Epoch 2/10\n",
      "37489/37489 [==============================] - 19s - loss: 0.4734 - acc: 0.8059    \n",
      "Epoch 3/10\n",
      "37489/37489 [==============================] - 19s - loss: 0.4583 - acc: 0.8152    \n",
      "Epoch 4/10\n",
      "37489/37489 [==============================] - 23s - loss: 0.4511 - acc: 0.8201    \n",
      "Epoch 5/10\n",
      "37489/37489 [==============================] - 28s - loss: 0.4461 - acc: 0.8221    \n",
      "Epoch 6/10\n",
      "37489/37489 [==============================] - 21s - loss: 0.4431 - acc: 0.8219    \n",
      "Epoch 7/10\n",
      "37489/37489 [==============================] - 27s - loss: 0.4396 - acc: 0.8246    \n",
      "Epoch 8/10\n",
      "37489/37489 [==============================] - 23s - loss: 0.4365 - acc: 0.8245    \n",
      "Epoch 9/10\n",
      "37489/37489 [==============================] - 18s - loss: 0.4333 - acc: 0.8254    \n",
      "Epoch 10/10\n",
      "37489/37489 [==============================] - 29s - loss: 0.4303 - acc: 0.8261    \n",
      "4085/4165 [============================>.] - ETA: 0sEpoch 1/10\n",
      "37489/37489 [==============================] - 26s - loss: 0.5427 - acc: 0.7317    \n",
      "Epoch 2/10\n",
      "37489/37489 [==============================] - 23s - loss: 0.4732 - acc: 0.8061    \n",
      "Epoch 3/10\n",
      "37489/37489 [==============================] - 25s - loss: 0.4581 - acc: 0.8159    \n",
      "Epoch 4/10\n",
      "37489/37489 [==============================] - 24s - loss: 0.4513 - acc: 0.8204    \n",
      "Epoch 5/10\n",
      "37489/37489 [==============================] - 23s - loss: 0.4465 - acc: 0.8206    \n",
      "Epoch 6/10\n",
      "37489/37489 [==============================] - 21s - loss: 0.4431 - acc: 0.8236    \n",
      "Epoch 7/10\n",
      "37489/37489 [==============================] - 25s - loss: 0.4402 - acc: 0.8240    \n",
      "Epoch 8/10\n",
      "37489/37489 [==============================] - 27s - loss: 0.4370 - acc: 0.8247    \n",
      "Epoch 9/10\n",
      "37489/37489 [==============================] - 19s - loss: 0.4341 - acc: 0.8248    \n",
      "Epoch 10/10\n",
      "37489/37489 [==============================] - 22s - loss: 0.4309 - acc: 0.8268    \n",
      "3870/4165 [==========================>...] - ETA: 0sEpoch 1/10\n",
      "37489/37489 [==============================] - 19s - loss: 0.5452 - acc: 0.7274    \n",
      "Epoch 2/10\n",
      "37489/37489 [==============================] - 17s - loss: 0.4757 - acc: 0.8029    \n",
      "Epoch 3/10\n",
      "37489/37489 [==============================] - 17s - loss: 0.4602 - acc: 0.8135    \n",
      "Epoch 4/10\n",
      "37489/37489 [==============================] - 17s - loss: 0.4528 - acc: 0.8193    \n",
      "Epoch 5/10\n",
      "37489/37489 [==============================] - 17s - loss: 0.4482 - acc: 0.8208    \n",
      "Epoch 6/10\n",
      "37489/37489 [==============================] - 18s - loss: 0.4444 - acc: 0.8232    \n",
      "Epoch 7/10\n",
      "37489/37489 [==============================] - 17s - loss: 0.4415 - acc: 0.8235    \n",
      "Epoch 8/10\n",
      "37489/37489 [==============================] - 17s - loss: 0.4382 - acc: 0.8237    \n",
      "Epoch 9/10\n",
      "37489/37489 [==============================] - 20s - loss: 0.4347 - acc: 0.8247    \n",
      "Epoch 10/10\n",
      "37489/37489 [==============================] - 17s - loss: 0.4320 - acc: 0.8245    \n",
      "3980/4165 [===========================>..] - ETA: 0sEpoch 1/10\n",
      "37489/37489 [==============================] - 17s - loss: 0.5434 - acc: 0.7297    \n",
      "Epoch 2/10\n"
     ]
    },
    {
     "name": "stdout",
     "output_type": "stream",
     "text": [
      "37489/37489 [==============================] - 21s - loss: 0.4721 - acc: 0.8071    \n",
      "Epoch 3/10\n",
      "37489/37489 [==============================] - 23s - loss: 0.4567 - acc: 0.8173    \n",
      "Epoch 4/10\n",
      "37489/37489 [==============================] - 20s - loss: 0.4491 - acc: 0.8208    \n",
      "Epoch 5/10\n",
      "37489/37489 [==============================] - 21s - loss: 0.4445 - acc: 0.8229    \n",
      "Epoch 6/10\n",
      "37489/37489 [==============================] - 25s - loss: 0.4409 - acc: 0.8243    \n",
      "Epoch 7/10\n",
      "37489/37489 [==============================] - 22s - loss: 0.4372 - acc: 0.8251    \n",
      "Epoch 8/10\n",
      "37489/37489 [==============================] - 23s - loss: 0.4340 - acc: 0.8263    \n",
      "Epoch 9/10\n",
      "37489/37489 [==============================] - 17s - loss: 0.4304 - acc: 0.8272    \n",
      "Epoch 10/10\n",
      "37489/37489 [==============================] - 17s - loss: 0.4272 - acc: 0.8271    \n",
      "3820/4165 [==========================>...] - ETA: 0sEpoch 1/10\n",
      "37489/37489 [==============================] - 21s - loss: 0.5439 - acc: 0.7272    \n",
      "Epoch 2/10\n",
      "37489/37489 [==============================] - 19s - loss: 0.4740 - acc: 0.8052    \n",
      "Epoch 3/10\n",
      "37489/37489 [==============================] - 27s - loss: 0.4581 - acc: 0.8159    \n",
      "Epoch 4/10\n",
      "37489/37489 [==============================] - 21s - loss: 0.4514 - acc: 0.8207    \n",
      "Epoch 5/10\n",
      "37489/37489 [==============================] - 20s - loss: 0.4467 - acc: 0.8223    \n",
      "Epoch 6/10\n",
      "37489/37489 [==============================] - 18s - loss: 0.4432 - acc: 0.8236    \n",
      "Epoch 7/10\n",
      "37489/37489 [==============================] - 17s - loss: 0.4401 - acc: 0.8246    \n",
      "Epoch 8/10\n",
      "37489/37489 [==============================] - 18s - loss: 0.4368 - acc: 0.8263    \n",
      "Epoch 9/10\n",
      "37489/37489 [==============================] - 17s - loss: 0.4337 - acc: 0.8252    \n",
      "Epoch 10/10\n",
      "37489/37489 [==============================] - 20s - loss: 0.4305 - acc: 0.8270    \n",
      "3825/4165 [==========================>...] - ETA: 0s"
     ]
    }
   ],
   "source": [
    "if not os.path.exists('../data/log_reg/binary_probs.npy'):\n",
    "    binary_probabilities = cross_val_predict(binary_estimator, X, binary_Y, cv=binary_kfold, method='predict_proba')\n",
    "    np.save('../data/log_reg/binary_probs.npy', probabilities)\n",
    "else:\n",
    "    binary_probabilities = np.load('../data/log_reg/binary_probs.npy')"
   ]
  },
  {
   "cell_type": "code",
   "execution_count": 30,
   "metadata": {
    "ExecuteTime": {
     "end_time": "2017-05-31T23:03:23.156278Z",
     "start_time": "2017-05-31T23:03:23.150982Z"
    }
   },
   "outputs": [
    {
     "data": {
      "text/plain": [
       "array([[  5.22742987e-01,   2.11707413e-01],\n",
       "       [  3.63412872e-02,   8.91072035e-01],\n",
       "       [  3.32534015e-02,   7.09695339e-01],\n",
       "       ..., \n",
       "       [  1.07334303e-02,   6.62329018e-01],\n",
       "       [  8.24065600e-03,   8.46966922e-01],\n",
       "       [  9.83888090e-01,   8.61778855e-04]], dtype=float32)"
      ]
     },
     "execution_count": 30,
     "metadata": {},
     "output_type": "execute_result"
    }
   ],
   "source": [
    "binary_probabilities"
   ]
  },
  {
   "cell_type": "code",
   "execution_count": 31,
   "metadata": {
    "ExecuteTime": {
     "end_time": "2017-05-31T23:03:23.277011Z",
     "start_time": "2017-05-31T23:03:23.158346Z"
    },
    "collapsed": true
   },
   "outputs": [],
   "source": [
    "predicted = np.array([list(a).index(max(list(a))) for a in list(binary_probabilities)])"
   ]
  },
  {
   "cell_type": "code",
   "execution_count": 32,
   "metadata": {
    "ExecuteTime": {
     "end_time": "2017-05-31T23:03:23.285195Z",
     "start_time": "2017-05-31T23:03:23.279102Z"
    },
    "scrolled": true
   },
   "outputs": [
    {
     "data": {
      "text/plain": [
       "0.82738752580784558"
      ]
     },
     "execution_count": 32,
     "metadata": {},
     "output_type": "execute_result"
    }
   ],
   "source": [
    "metrics.accuracy_score(binary_Y, predicted)"
   ]
  },
  {
   "cell_type": "code",
   "execution_count": 33,
   "metadata": {
    "ExecuteTime": {
     "end_time": "2017-05-31T23:03:23.298881Z",
     "start_time": "2017-05-31T23:03:23.287144Z"
    }
   },
   "outputs": [
    {
     "name": "stdout",
     "output_type": "stream",
     "text": [
      "             precision    recall  f1-score   support\n",
      "\n",
      "          0       0.82      0.83      0.83     20498\n",
      "          1       0.83      0.82      0.83     21156\n",
      "\n",
      "avg / total       0.83      0.83      0.83     41654\n",
      "\n"
     ]
    }
   ],
   "source": [
    "print(metrics.classification_report(binary_Y, predicted))"
   ]
  },
  {
   "cell_type": "code",
   "execution_count": 34,
   "metadata": {
    "ExecuteTime": {
     "end_time": "2017-05-31T23:03:23.303660Z",
     "start_time": "2017-05-31T23:03:23.300719Z"
    },
    "collapsed": true
   },
   "outputs": [],
   "source": [
    "somatic_prob = binary_probabilities[:,1]"
   ]
  },
  {
   "cell_type": "code",
   "execution_count": 35,
   "metadata": {
    "ExecuteTime": {
     "end_time": "2017-05-31T23:03:23.525281Z",
     "start_time": "2017-05-31T23:03:23.305528Z"
    }
   },
   "outputs": [
    {
     "data": {
      "image/png": "[encoded data removed]",
      "text/plain": [
       "<matplotlib.figure.Figure at 0x13dd9cb70>"
      ]
     },
     "metadata": {},
     "output_type": "display_data"
    }
   ],
   "source": [
    "plt.title('Receiver Operating Characteristic')\n",
    "fpr, tpr, _ = metrics.roc_curve(binary_Y, somatic_prob)\n",
    "roc_auc = metrics.auc(fpr, tpr)\n",
    "plt.plot(fpr, tpr, color='cornflowerblue',label='ROC curve of somatic call'\n",
    "         ' (area = {0:0.2f})'.format(roc_auc))\n",
    "plt.plot([0, 1], [0, 1], 'k--')\n",
    "plt.xlim([0.0, 1.0])\n",
    "plt.ylim([0.0, 1.05])\n",
    "plt.xlabel('False Positive Rate')\n",
    "plt.ylabel('True Positive Rate')\n",
    "plt.legend(loc=\"lower right\")\n",
    "plt.show()"
   ]
  },
  {
   "cell_type": "code",
   "execution_count": 36,
   "metadata": {
    "ExecuteTime": {
     "end_time": "2017-05-31T23:03:23.896118Z",
     "start_time": "2017-05-31T23:03:23.527058Z"
    }
   },
   "outputs": [
    {
     "name": "stdout",
     "output_type": "stream",
     "text": [
      "confidence intervals +-:  [ 0.00206313  0.00359279  0.00426572  0.0048848   0.00707805  0.00833114\n",
      "  0.00880318  0.00637868  0.00822429  0.00739776]\n"
     ]
    },
    {
     "data": {
      "image/png": "[encoded data removed]",
      "text/plain": [
       "<matplotlib.figure.Figure at 0x13dd9c4a8>"
      ]
     },
     "metadata": {},
     "output_type": "display_data"
    }
   ],
   "source": [
    "create_reliability_diagram(binary_probabilities, np.array([np.logical_not(binary_Y),binary_Y]).T,['Fail', 'Somatic'], 'deeppink')"
   ]
  },
  {
   "cell_type": "code",
   "execution_count": null,
   "metadata": {
    "collapsed": true
   },
   "outputs": [],
   "source": []
  }
 ],
 "metadata": {
  "kernelspec": {
   "display_name": "Python 3",
   "language": "python",
   "name": "python3"
  },
  "language_info": {
   "codemirror_mode": {
    "name": "ipython",
    "version": 3
   },
   "file_extension": ".py",
   "mimetype": "text/x-python",
   "name": "python",
   "nbconvert_exporter": "python",
   "pygments_lexer": "ipython3",
   "version": "3.6.1"
  }
 },
 "nbformat": 4,
 "nbformat_minor": 2
}
