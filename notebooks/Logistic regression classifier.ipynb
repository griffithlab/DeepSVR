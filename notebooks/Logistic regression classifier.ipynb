{
 "cells": [
  {
   "cell_type": "code",
   "execution_count": 1,
   "metadata": {
    "ExecuteTime": {
     "end_time": "2017-05-11T21:18:54.869905Z",
     "start_time": "2017-05-11T16:18:50.709342-05:00"
    }
   },
   "outputs": [
    {
     "name": "stderr",
     "output_type": "stream",
     "text": [
      "Using TensorFlow backend.\n"
     ]
    }
   ],
   "source": [
    "import numpy as np\n",
    "import pandas as pd\n",
    "from keras.models import Sequential\n",
    "from keras.layers import Dense\n",
    "from keras.wrappers.scikit_learn import KerasClassifier\n",
    "from sklearn.model_selection import KFold\n",
    "from sklearn.model_selection import cross_val_predict\n",
    "from sklearn import preprocessing\n",
    "from sklearn import metrics\n",
    "\n",
    "import matplotlib.pyplot as plt\n",
    "import seaborn as sns\n",
    "from itertools import cycle\n",
    "\n",
    "sns.set_style(\"white\")\n",
    "sns.set_context('notebook')"
   ]
  },
  {
   "cell_type": "code",
   "execution_count": 2,
   "metadata": {
    "ExecuteTime": {
     "end_time": "2017-05-11T21:18:54.913839Z",
     "start_time": "2017-05-11T16:18:54.871742-05:00"
    },
    "collapsed": true
   },
   "outputs": [],
   "source": [
    "training_data = pd.read_pickle('../data/training_data.pkl')"
   ]
  },
  {
   "cell_type": "code",
   "execution_count": 3,
   "metadata": {
    "ExecuteTime": {
     "end_time": "2017-05-11T21:18:54.941345Z",
     "start_time": "2017-05-11T16:18:54.915831-05:00"
    }
   },
   "outputs": [
    {
     "data": {
      "text/plain": [
       "call\n",
       "a    13745\n",
       "f     1600\n",
       "g     3946\n",
       "s    17781\n",
       "dtype: int64"
      ]
     },
     "execution_count": 3,
     "metadata": {},
     "output_type": "execute_result"
    }
   ],
   "source": [
    "training_data.groupby('call').size()"
   ]
  },
  {
   "cell_type": "code",
   "execution_count": 4,
   "metadata": {
    "ExecuteTime": {
     "end_time": "2017-05-11T21:18:55.002737Z",
     "start_time": "2017-05-11T16:18:54.943958-05:00"
    },
    "collapsed": true
   },
   "outputs": [],
   "source": [
    "# Get Labels\n",
    "Y = pd.get_dummies(training_data.call).astype(float).values\n",
    "# Get training data as numpy array\n",
    "X = training_data.drop('call', axis=1).astype(float).values"
   ]
  },
  {
   "cell_type": "code",
   "execution_count": 5,
   "metadata": {
    "ExecuteTime": {
     "end_time": "2017-05-11T21:18:55.009544Z",
     "start_time": "2017-05-11T16:18:55.004546-05:00"
    }
   },
   "outputs": [
    {
     "data": {
      "text/plain": [
       "(37072, 67)"
      ]
     },
     "execution_count": 5,
     "metadata": {},
     "output_type": "execute_result"
    }
   ],
   "source": [
    "X.shape"
   ]
  },
  {
   "cell_type": "code",
   "execution_count": 6,
   "metadata": {
    "ExecuteTime": {
     "end_time": "2017-05-11T21:18:55.016183Z",
     "start_time": "2017-05-11T16:18:55.011729-05:00"
    }
   },
   "outputs": [
    {
     "data": {
      "text/plain": [
       "(37072, 4)"
      ]
     },
     "execution_count": 6,
     "metadata": {},
     "output_type": "execute_result"
    }
   ],
   "source": [
    "Y.shape"
   ]
  },
  {
   "cell_type": "code",
   "execution_count": 7,
   "metadata": {
    "ExecuteTime": {
     "end_time": "2017-05-11T21:18:55.021506Z",
     "start_time": "2017-05-11T16:18:55.018116-05:00"
    },
    "collapsed": true
   },
   "outputs": [],
   "source": [
    "# fix random seed for reproducibility\n",
    "seed = 7\n",
    "np.random.seed(seed)"
   ]
  },
  {
   "cell_type": "code",
   "execution_count": 8,
   "metadata": {
    "ExecuteTime": {
     "end_time": "2017-05-11T21:18:55.027941Z",
     "start_time": "2017-05-11T16:18:55.023376-05:00"
    },
    "collapsed": true
   },
   "outputs": [],
   "source": [
    "# define baseline model\n",
    "def baseline_model():\n",
    "    # create model\n",
    "    model = Sequential()\n",
    "    model.add(Dense(4, input_dim=67, kernel_initializer='normal', activation='sigmoid'))\n",
    "    # Compile model\n",
    "    model.compile(loss='categorical_crossentropy', optimizer='adam', metrics=['accuracy'])\n",
    "    return model"
   ]
  },
  {
   "cell_type": "code",
   "execution_count": 9,
   "metadata": {
    "ExecuteTime": {
     "end_time": "2017-05-11T21:18:55.033585Z",
     "start_time": "2017-05-11T16:18:55.029804-05:00"
    },
    "collapsed": true
   },
   "outputs": [],
   "source": [
    "estimator = KerasClassifier(build_fn=baseline_model, epochs=10, batch_size=5, verbose=1)"
   ]
  },
  {
   "cell_type": "code",
   "execution_count": 10,
   "metadata": {
    "ExecuteTime": {
     "end_time": "2017-05-11T21:18:55.037881Z",
     "start_time": "2017-05-11T16:18:55.035204-05:00"
    },
    "collapsed": true
   },
   "outputs": [],
   "source": [
    "kfold = KFold(n_splits=10, shuffle=True, random_state=seed)"
   ]
  },
  {
   "cell_type": "code",
   "execution_count": 11,
   "metadata": {
    "ExecuteTime": {
     "end_time": "2017-05-11T21:52:15.512144Z",
     "start_time": "2017-05-11T16:18:55.039499-05:00"
    }
   },
   "outputs": [
    {
     "name": "stdout",
     "output_type": "stream",
     "text": [
      "Epoch 1/10\n",
      "33364/33364 [==============================] - 18s - loss: 0.8710 - acc: 0.6177    \n",
      "Epoch 2/10\n",
      "33364/33364 [==============================] - 18s - loss: 0.7603 - acc: 0.7050    \n",
      "Epoch 3/10\n",
      "33364/33364 [==============================] - 19s - loss: 0.7329 - acc: 0.7132    \n",
      "Epoch 4/10\n",
      "33364/33364 [==============================] - 19s - loss: 0.7192 - acc: 0.7176    \n",
      "Epoch 5/10\n",
      "33364/33364 [==============================] - 19s - loss: 0.7112 - acc: 0.7197    \n",
      "Epoch 6/10\n",
      "33364/33364 [==============================] - 19s - loss: 0.7055 - acc: 0.7209    \n",
      "Epoch 7/10\n",
      "33364/33364 [==============================] - 19s - loss: 0.7015 - acc: 0.7220    \n",
      "Epoch 8/10\n",
      "33364/33364 [==============================] - 19s - loss: 0.6981 - acc: 0.7233    \n",
      "Epoch 9/10\n",
      "33364/33364 [==============================] - 19s - loss: 0.6951 - acc: 0.7242    \n",
      "Epoch 10/10\n",
      "33364/33364 [==============================] - 20s - loss: 0.6926 - acc: 0.7240    \n",
      "3670/3708 [============================>.] - ETA: 0sEpoch 1/10\n",
      "33364/33364 [==============================] - 21s - loss: 0.8741 - acc: 0.6205    \n",
      "Epoch 2/10\n",
      "33364/33364 [==============================] - 21s - loss: 0.7629 - acc: 0.7071    \n",
      "Epoch 3/10\n",
      "33364/33364 [==============================] - 21s - loss: 0.7352 - acc: 0.7135    \n",
      "Epoch 4/10\n",
      "33364/33364 [==============================] - 21s - loss: 0.7213 - acc: 0.7178    \n",
      "Epoch 5/10\n",
      "33364/33364 [==============================] - 22s - loss: 0.7133 - acc: 0.7195    \n",
      "Epoch 6/10\n",
      "33364/33364 [==============================] - 23s - loss: 0.7076 - acc: 0.7212    \n",
      "Epoch 7/10\n",
      "33364/33364 [==============================] - 24s - loss: 0.7029 - acc: 0.7222    \n",
      "Epoch 8/10\n",
      "33364/33364 [==============================] - 25s - loss: 0.6999 - acc: 0.7236    \n",
      "Epoch 9/10\n",
      "33364/33364 [==============================] - 23s - loss: 0.6971 - acc: 0.7232    \n",
      "Epoch 10/10\n",
      "33364/33364 [==============================] - 24s - loss: 0.6943 - acc: 0.7244    \n",
      "3465/3708 [===========================>..] - ETA: 0sEpoch 1/10\n",
      "33365/33365 [==============================] - 23s - loss: 0.8764 - acc: 0.6197    \n",
      "Epoch 2/10\n",
      "33365/33365 [==============================] - 23s - loss: 0.7633 - acc: 0.7057    \n",
      "Epoch 3/10\n",
      "33365/33365 [==============================] - 23s - loss: 0.7354 - acc: 0.7132    \n",
      "Epoch 4/10\n",
      "33365/33365 [==============================] - 23s - loss: 0.7218 - acc: 0.7172    \n",
      "Epoch 5/10\n",
      "33365/33365 [==============================] - 23s - loss: 0.7135 - acc: 0.7199    \n",
      "Epoch 6/10\n",
      "33365/33365 [==============================] - 23s - loss: 0.7077 - acc: 0.7207    \n",
      "Epoch 7/10\n",
      "33365/33365 [==============================] - 23s - loss: 0.7037 - acc: 0.7226    \n",
      "Epoch 8/10\n",
      "33365/33365 [==============================] - 22s - loss: 0.7003 - acc: 0.7234    \n",
      "Epoch 9/10\n",
      "33365/33365 [==============================] - 23s - loss: 0.6974 - acc: 0.7222    \n",
      "Epoch 10/10\n",
      "33365/33365 [==============================] - 24s - loss: 0.6947 - acc: 0.7244    \n",
      "3655/3707 [============================>.] - ETA: 0sEpoch 1/10\n",
      "33365/33365 [==============================] - 24s - loss: 0.8732 - acc: 0.6243    \n",
      "Epoch 2/10\n",
      "33365/33365 [==============================] - 25s - loss: 0.7627 - acc: 0.7042    \n",
      "Epoch 3/10\n",
      "33365/33365 [==============================] - 24s - loss: 0.7352 - acc: 0.7126    \n",
      "Epoch 4/10\n",
      "33365/33365 [==============================] - 21s - loss: 0.7217 - acc: 0.7156    \n",
      "Epoch 5/10\n",
      "33365/33365 [==============================] - 19s - loss: 0.7136 - acc: 0.7187    \n",
      "Epoch 6/10\n",
      "33365/33365 [==============================] - 19s - loss: 0.7077 - acc: 0.7188    \n",
      "Epoch 7/10\n",
      "33365/33365 [==============================] - 19s - loss: 0.7038 - acc: 0.7207    \n",
      "Epoch 8/10\n",
      "33365/33365 [==============================] - 19s - loss: 0.7002 - acc: 0.7220    \n",
      "Epoch 9/10\n",
      "33365/33365 [==============================] - 19s - loss: 0.6977 - acc: 0.7223    \n",
      "Epoch 10/10\n",
      "33365/33365 [==============================] - 19s - loss: 0.6951 - acc: 0.7237    \n",
      "3280/3707 [=========================>....] - ETA: 0sEpoch 1/10\n",
      "33365/33365 [==============================] - 18s - loss: 0.8745 - acc: 0.6179    \n",
      "Epoch 2/10\n",
      "33365/33365 [==============================] - 18s - loss: 0.7640 - acc: 0.7051    \n",
      "Epoch 3/10\n",
      "33365/33365 [==============================] - 18s - loss: 0.7372 - acc: 0.7134    \n",
      "Epoch 4/10\n",
      "33365/33365 [==============================] - 18s - loss: 0.7237 - acc: 0.7167    \n",
      "Epoch 5/10\n",
      "33365/33365 [==============================] - 18s - loss: 0.7163 - acc: 0.7192    \n",
      "Epoch 6/10\n",
      "33365/33365 [==============================] - 18s - loss: 0.7107 - acc: 0.7207    \n",
      "Epoch 7/10\n",
      "33365/33365 [==============================] - 18s - loss: 0.7063 - acc: 0.7203    \n",
      "Epoch 8/10\n",
      "33365/33365 [==============================] - 18s - loss: 0.7027 - acc: 0.7223    \n",
      "Epoch 9/10\n",
      "33365/33365 [==============================] - 18s - loss: 0.6996 - acc: 0.7217    \n",
      "Epoch 10/10\n",
      "33365/33365 [==============================] - 18s - loss: 0.6974 - acc: 0.7235    \n",
      "3625/3707 [============================>.] - ETA: 0sEpoch 1/10\n",
      "33365/33365 [==============================] - 19s - loss: 0.8771 - acc: 0.6176    \n",
      "Epoch 2/10\n",
      "33365/33365 [==============================] - 19s - loss: 0.7639 - acc: 0.7021    \n",
      "Epoch 3/10\n",
      "33365/33365 [==============================] - 19s - loss: 0.7363 - acc: 0.7124    \n",
      "Epoch 4/10\n",
      "33365/33365 [==============================] - 19s - loss: 0.7225 - acc: 0.7154    \n",
      "Epoch 5/10\n",
      "33365/33365 [==============================] - 18s - loss: 0.7144 - acc: 0.7169    \n",
      "Epoch 6/10\n",
      "33365/33365 [==============================] - 17s - loss: 0.7087 - acc: 0.7184    \n",
      "Epoch 7/10\n",
      "33365/33365 [==============================] - 17s - loss: 0.7046 - acc: 0.7189    \n",
      "Epoch 8/10\n",
      "33365/33365 [==============================] - 18s - loss: 0.7012 - acc: 0.7216    \n",
      "Epoch 9/10\n",
      "33365/33365 [==============================] - 19s - loss: 0.6982 - acc: 0.7219    \n",
      "Epoch 10/10\n",
      "33365/33365 [==============================] - 18s - loss: 0.6958 - acc: 0.7218    \n",
      "3400/3707 [==========================>...] - ETA: 0sEpoch 1/10\n",
      "33365/33365 [==============================] - 19s - loss: 0.8731 - acc: 0.6194    \n",
      "Epoch 2/10\n",
      "33365/33365 [==============================] - 19s - loss: 0.7615 - acc: 0.7035    \n",
      "Epoch 3/10\n",
      "33365/33365 [==============================] - 20s - loss: 0.7344 - acc: 0.7135    \n",
      "Epoch 4/10\n",
      "33365/33365 [==============================] - 21s - loss: 0.7206 - acc: 0.7178    \n",
      "Epoch 5/10\n",
      "33365/33365 [==============================] - 19s - loss: 0.7126 - acc: 0.7181    \n",
      "Epoch 6/10\n",
      "33365/33365 [==============================] - 15s - loss: 0.7068 - acc: 0.7205    \n",
      "Epoch 7/10\n",
      "33365/33365 [==============================] - 15s - loss: 0.7026 - acc: 0.7210    \n",
      "Epoch 8/10\n",
      "33365/33365 [==============================] - 21s - loss: 0.6990 - acc: 0.7231    \n",
      "Epoch 9/10\n",
      "33365/33365 [==============================] - 16s - loss: 0.6964 - acc: 0.7240    \n",
      "Epoch 10/10\n",
      "33365/33365 [==============================] - 15s - loss: 0.6940 - acc: 0.7226    \n",
      "3165/3707 [========================>.....] - ETA: 0sEpoch 1/10\n",
      "33365/33365 [==============================] - 16s - loss: 0.8773 - acc: 0.6170    \n",
      "Epoch 2/10\n",
      "33365/33365 [==============================] - 17s - loss: 0.7644 - acc: 0.7041    \n",
      "Epoch 3/10\n",
      "33365/33365 [==============================] - 15s - loss: 0.7362 - acc: 0.7125    \n",
      "Epoch 4/10\n",
      "33365/33365 [==============================] - 17s - loss: 0.7226 - acc: 0.7168    \n",
      "Epoch 5/10\n",
      "33365/33365 [==============================] - 17s - loss: 0.7139 - acc: 0.7180    \n",
      "Epoch 6/10\n",
      "33365/33365 [==============================] - 16s - loss: 0.7086 - acc: 0.7178    \n",
      "Epoch 7/10\n",
      "33365/33365 [==============================] - 15s - loss: 0.7043 - acc: 0.7199    \n",
      "Epoch 8/10\n",
      "33365/33365 [==============================] - 15s - loss: 0.7009 - acc: 0.7212    \n",
      "Epoch 9/10\n",
      "33365/33365 [==============================] - 14s - loss: 0.6978 - acc: 0.7220    \n",
      "Epoch 10/10\n",
      "33365/33365 [==============================] - 15s - loss: 0.6953 - acc: 0.7236    \n",
      "3145/3707 [========================>.....] - ETA: 0sEpoch 1/10\n",
      "33365/33365 [==============================] - 15s - loss: 0.8743 - acc: 0.6177    \n",
      "Epoch 2/10\n"
     ]
    },
    {
     "name": "stdout",
     "output_type": "stream",
     "text": [
      "33365/33365 [==============================] - 17s - loss: 0.7623 - acc: 0.7034    \n",
      "Epoch 3/10\n",
      "33365/33365 [==============================] - 18s - loss: 0.7348 - acc: 0.7135    \n",
      "Epoch 4/10\n",
      "33365/33365 [==============================] - 16s - loss: 0.7214 - acc: 0.7180    \n",
      "Epoch 5/10\n",
      "33365/33365 [==============================] - 17s - loss: 0.7131 - acc: 0.7196    \n",
      "Epoch 6/10\n",
      "33365/33365 [==============================] - 18s - loss: 0.7076 - acc: 0.7212    \n",
      "Epoch 7/10\n",
      "33365/33365 [==============================] - 17s - loss: 0.7032 - acc: 0.7217    \n",
      "Epoch 8/10\n",
      "33365/33365 [==============================] - 20s - loss: 0.7002 - acc: 0.7206    \n",
      "Epoch 9/10\n",
      "33365/33365 [==============================] - 21s - loss: 0.6968 - acc: 0.7237    \n",
      "Epoch 10/10\n",
      "33365/33365 [==============================] - 21s - loss: 0.6944 - acc: 0.7239    \n",
      "3620/3707 [============================>.] - ETA: 0sEpoch 1/10\n",
      "33365/33365 [==============================] - 22s - loss: 0.8741 - acc: 0.6218    \n",
      "Epoch 2/10\n",
      "33365/33365 [==============================] - 17s - loss: 0.7633 - acc: 0.7047    \n",
      "Epoch 3/10\n",
      "33365/33365 [==============================] - 17s - loss: 0.7359 - acc: 0.7139    \n",
      "Epoch 4/10\n",
      "33365/33365 [==============================] - 22s - loss: 0.7228 - acc: 0.7156    \n",
      "Epoch 5/10\n",
      "33365/33365 [==============================] - 22s - loss: 0.7146 - acc: 0.7201    \n",
      "Epoch 6/10\n",
      "33365/33365 [==============================] - 22s - loss: 0.7091 - acc: 0.7204    \n",
      "Epoch 7/10\n",
      "33365/33365 [==============================] - 22s - loss: 0.7048 - acc: 0.7207    \n",
      "Epoch 8/10\n",
      "33365/33365 [==============================] - 21s - loss: 0.7018 - acc: 0.7208    \n",
      "Epoch 9/10\n",
      "33365/33365 [==============================] - 21s - loss: 0.6989 - acc: 0.7223    \n",
      "Epoch 10/10\n",
      "33365/33365 [==============================] - 21s - loss: 0.6963 - acc: 0.7239    \n",
      "3505/3707 [===========================>..] - ETA: 0s"
     ]
    }
   ],
   "source": [
    "probabilities = cross_val_predict(estimator, X, Y, cv=kfold, method='predict_proba')"
   ]
  },
  {
   "cell_type": "code",
   "execution_count": 12,
   "metadata": {
    "ExecuteTime": {
     "end_time": "2017-05-11T21:52:15.613943Z",
     "start_time": "2017-05-11T16:52:15.514393-05:00"
    }
   },
   "outputs": [],
   "source": [
    "predicted = np.array([list(a).index(max(list(a))) for a in list(probabilities)])"
   ]
  },
  {
   "cell_type": "code",
   "execution_count": 13,
   "metadata": {
    "ExecuteTime": {
     "end_time": "2017-05-11T21:52:15.626103Z",
     "start_time": "2017-05-11T16:52:15.616201-05:00"
    }
   },
   "outputs": [],
   "source": [
    "label_binarizer = preprocessing.LabelBinarizer()\n",
    "\n",
    "label_binarizer.fit(range(max(predicted)+1))\n",
    "predicted_transformed = label_binarizer.transform(predicted)"
   ]
  },
  {
   "cell_type": "code",
   "execution_count": 14,
   "metadata": {
    "ExecuteTime": {
     "end_time": "2017-05-11T21:52:15.643128Z",
     "start_time": "2017-05-11T16:52:15.627931-05:00"
    }
   },
   "outputs": [
    {
     "data": {
      "text/plain": [
       "0.72156883901596891"
      ]
     },
     "execution_count": 14,
     "metadata": {},
     "output_type": "execute_result"
    }
   ],
   "source": [
    "metrics.accuracy_score(Y, predicted_transformed)"
   ]
  },
  {
   "cell_type": "markdown",
   "metadata": {},
   "source": [
    "#### Classification report\n",
    "* 0 = ambiguous\n",
    "* 1 = fail\n",
    "* 2 = germline\n",
    "* 3 = somatic"
   ]
  },
  {
   "cell_type": "code",
   "execution_count": 15,
   "metadata": {
    "ExecuteTime": {
     "end_time": "2017-05-11T21:52:15.665322Z",
     "start_time": "2017-05-11T16:52:15.645180-05:00"
    }
   },
   "outputs": [
    {
     "name": "stdout",
     "output_type": "stream",
     "text": [
      "             precision    recall  f1-score   support\n",
      "\n",
      "          0       0.68      0.73      0.70     13745\n",
      "          1       0.47      0.13      0.21      1600\n",
      "          2       0.60      0.51      0.55      3946\n",
      "          3       0.78      0.81      0.80     17781\n",
      "\n",
      "avg / total       0.71      0.72      0.71     37072\n",
      "\n"
     ]
    }
   ],
   "source": [
    "print(metrics.classification_report(Y, predicted_transformed))"
   ]
  },
  {
   "cell_type": "code",
   "execution_count": 17,
   "metadata": {
    "ExecuteTime": {
     "end_time": "2017-05-11T21:55:19.192786Z",
     "start_time": "2017-05-11T16:55:18.917625-05:00"
    }
   },
   "outputs": [
    {
     "data": {
      "image/png": "[encoded data removed]",
      "text/plain": [
       "<matplotlib.figure.Figure at 0x13f45b748>"
      ]
     },
     "metadata": {},
     "output_type": "display_data"
    }
   ],
   "source": [
    "n_classes = Y.shape[1]\n",
    "class_lookup = {0: 'Ambiguous', 1: 'Fail', 2: 'Germline', 3: 'Somatic'}\n",
    "fpr = dict()\n",
    "tpr = dict()\n",
    "roc_auc = dict()\n",
    "plt.title('Receiver Operating Characteristic')\n",
    "colors = cycle(['aqua', 'darkorange', 'cornflowerblue', 'deeppink'])\n",
    "for i, color in zip(range(n_classes), colors):\n",
    "    fpr[i], tpr[i], _ = metrics.roc_curve(Y[:, i], probabilities[:, i])\n",
    "    roc_auc[i] = metrics.auc(fpr[i], tpr[i])\n",
    "    plt.plot(fpr[i], tpr[i], color=color, label='ROC curve of class {0}'\n",
    "             ' (area = {1:0.2f})'.format(class_lookup[i], roc_auc[i]))\n",
    "plt.plot([0, 1], [0, 1], 'k--')\n",
    "plt.xlim([0.0, 1.0])\n",
    "plt.ylim([0.0, 1.05])\n",
    "plt.xlabel('False Positive Rate')\n",
    "plt.ylabel('True Positive Rate')\n",
    "plt.legend(loc=\"lower right\")\n",
    "plt.show()"
   ]
  },
  {
   "cell_type": "code",
   "execution_count": 143,
   "metadata": {
    "ExecuteTime": {
     "end_time": "2017-05-15T20:57:49.105708Z",
     "start_time": "2017-05-15T15:57:49.099762-05:00"
    },
    "collapsed": true
   },
   "outputs": [],
   "source": [
    "%matplotlib inline"
   ]
  },
  {
   "cell_type": "code",
   "execution_count": 144,
   "metadata": {
    "ExecuteTime": {
     "end_time": "2017-05-15T20:57:49.579448Z",
     "start_time": "2017-05-15T15:57:49.546417-05:00"
    }
   },
   "outputs": [],
   "source": [
    "prob_df = pd.DataFrame(probabilities, columns=['Ambiguous','Fail',\n",
    "                                               'Germline', 'Somatic'])\n",
    "\n",
    "# Normalize the values by dividing each value by the sum of its columns\n",
    "prob_df_norm = prob_df.div(prob_df.sum(axis=1), axis=0)\n",
    "\n",
    "positive_index = pd.DataFrame(predicted_transformed, columns=['Ambiguous',\n",
    "                                                              'Fail',\n",
    "                                                              'Germline', \n",
    "                                                              'Somatic'], \n",
    "                              dtype=bool)\n",
    "\n",
    "positive_probabilities = prob_df_norm[positive_index].unstack().dropna().values\n",
    "\n",
    "positive_counts, bins = np.histogram(positive_probabilities, bins=[.1,.2,.3,.4,.5,.6,.7,.8,.9,1])\n",
    "\n",
    "negative_probabilities = prob_df_norm[~positive_index].unstack().dropna()\n",
    "\n",
    "negative_counts, _ = np.histogram(negative_probabilities, bins=[.1,.2,.3,.4,.5,.6,.7,.8,.9,1])\n",
    "\n",
    "pct_positive = positive_counts / (positive_counts + negative_counts)"
   ]
  },
  {
   "cell_type": "code",
   "execution_count": 145,
   "metadata": {
    "ExecuteTime": {
     "end_time": "2017-05-15T20:57:50.411999Z",
     "start_time": "2017-05-15T15:57:50.140226-05:00"
    }
   },
   "outputs": [
    {
     "data": {
      "image/png": "[encoded data removed]",
      "text/plain": [
       "<matplotlib.figure.Figure at 0x1493a3fd0>"
      ]
     },
     "metadata": {},
     "output_type": "display_data"
    }
   ],
   "source": [
    "width = 0.03       # the width of the bars\n",
    "\n",
    "fig, ax1 = plt.subplots()\n",
    "rects1 = ax1.bar(bins[:-1], negative_counts, width, color='grey')\n",
    "\n",
    "rects2 = ax1.bar(bins[:-1] + width, positive_counts, width, color='green')\n",
    "\n",
    "# add some text for labels, title and axes ticks\n",
    "\n",
    "ax1.set_title('Reliability diagram')\n",
    "ax1.set_xticks(bins[:-1] + width / 2)\n",
    "ax1.set_xticklabels(bins[:-1])\n",
    "# ax.plot(ax.get_xlim(), ax.get_ylim(), ls=\"--\", c=\".3\")\n",
    "\n",
    "# ax1.legend((rects1[0], rects2[0]), ('Neg', 'Pos'), loc=5)\n",
    "\n",
    "ax2 = ax1.twinx()\n",
    "ax2.plot(bins, bins, ls=\"--\", c=\".3\")\n",
    "r2 = str(round(metrics.r2_score(bins[1:], pct_positive),2))\n",
    "ax2.plot(bins[:-1], pct_positive, \"-o\", color='blue')\n",
    "ax2.text(.85,.75,'$R^2$: {0}'.format(r2), color='blue', fontsize=15)\n",
    "\n",
    "\n",
    "plt.show()"
   ]
  },
  {
   "cell_type": "code",
   "execution_count": null,
   "metadata": {
    "collapsed": true
   },
   "outputs": [],
   "source": []
  }
 ],
 "metadata": {
  "kernelspec": {
   "display_name": "Python 3",
   "language": "python",
   "name": "python3"
  },
  "language_info": {
   "codemirror_mode": {
    "name": "ipython",
    "version": 3
   },
   "file_extension": ".py",
   "mimetype": "text/x-python",
   "name": "python",
   "nbconvert_exporter": "python",
   "pygments_lexer": "ipython3",
   "version": "3.6.1"
  }
 },
 "nbformat": 4,
 "nbformat_minor": 2
}
