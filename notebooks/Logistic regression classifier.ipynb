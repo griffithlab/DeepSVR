{
 "cells": [
  {
   "cell_type": "code",
   "execution_count": 1,
   "metadata": {
    "ExecuteTime": {
     "end_time": "2017-05-17T14:45:15.419810Z",
     "start_time": "2017-05-17T09:45:15.009809-05:00"
    },
    "collapsed": true
   },
   "outputs": [],
   "source": [
    "%matplotlib inline"
   ]
  },
  {
   "cell_type": "code",
   "execution_count": 2,
   "metadata": {
    "ExecuteTime": {
     "end_time": "2017-05-17T14:45:18.780334Z",
     "start_time": "2017-05-17T09:45:15.422166-05:00"
    }
   },
   "outputs": [
    {
     "name": "stderr",
     "output_type": "stream",
     "text": [
      "Using TensorFlow backend.\n"
     ]
    }
   ],
   "source": [
    "import numpy as np\n",
    "import pandas as pd\n",
    "from keras.models import Sequential\n",
    "from keras.layers import Dense\n",
    "from keras.wrappers.scikit_learn import KerasClassifier\n",
    "from sklearn.model_selection import KFold\n",
    "from sklearn.model_selection import cross_val_predict\n",
    "from sklearn import preprocessing\n",
    "from sklearn import metrics\n",
    "\n",
    "import matplotlib.pyplot as plt\n",
    "import seaborn as sns\n",
    "from itertools import cycle\n",
    "\n",
    "sns.set_style(\"white\")\n",
    "sns.set_context('notebook')"
   ]
  },
  {
   "cell_type": "code",
   "execution_count": 3,
   "metadata": {
    "ExecuteTime": {
     "end_time": "2017-05-17T14:45:18.824818Z",
     "start_time": "2017-05-17T09:45:18.782738-05:00"
    },
    "collapsed": true
   },
   "outputs": [],
   "source": [
    "training_data = pd.read_pickle('../data/training_data.pkl')"
   ]
  },
  {
   "cell_type": "code",
   "execution_count": 4,
   "metadata": {
    "ExecuteTime": {
     "end_time": "2017-05-17T14:45:18.846321Z",
     "start_time": "2017-05-17T09:45:18.826652-05:00"
    }
   },
   "outputs": [
    {
     "data": {
      "text/plain": [
       "call\n",
       "a    13745\n",
       "f     1600\n",
       "g     3946\n",
       "s    17781\n",
       "dtype: int64"
      ]
     },
     "execution_count": 4,
     "metadata": {},
     "output_type": "execute_result"
    }
   ],
   "source": [
    "training_data.groupby('call').size()"
   ]
  },
  {
   "cell_type": "code",
   "execution_count": 5,
   "metadata": {
    "ExecuteTime": {
     "end_time": "2017-05-17T14:45:18.919835Z",
     "start_time": "2017-05-17T09:45:18.848587-05:00"
    },
    "collapsed": true
   },
   "outputs": [],
   "source": [
    "# Get Labels\n",
    "Y = pd.get_dummies(training_data.call).astype(float).values\n",
    "# Get training data as numpy array\n",
    "X = training_data.drop('call', axis=1).astype(float).values"
   ]
  },
  {
   "cell_type": "code",
   "execution_count": 6,
   "metadata": {
    "ExecuteTime": {
     "end_time": "2017-05-17T14:45:18.930490Z",
     "start_time": "2017-05-17T09:45:18.923666-05:00"
    }
   },
   "outputs": [
    {
     "data": {
      "text/plain": [
       "(37072, 67)"
      ]
     },
     "execution_count": 6,
     "metadata": {},
     "output_type": "execute_result"
    }
   ],
   "source": [
    "X.shape"
   ]
  },
  {
   "cell_type": "code",
   "execution_count": 7,
   "metadata": {
    "ExecuteTime": {
     "end_time": "2017-05-17T14:45:18.942149Z",
     "start_time": "2017-05-17T09:45:18.933682-05:00"
    }
   },
   "outputs": [
    {
     "data": {
      "text/plain": [
       "(37072, 4)"
      ]
     },
     "execution_count": 7,
     "metadata": {},
     "output_type": "execute_result"
    }
   ],
   "source": [
    "Y.shape"
   ]
  },
  {
   "cell_type": "code",
   "execution_count": 8,
   "metadata": {
    "ExecuteTime": {
     "end_time": "2017-05-17T14:45:18.949840Z",
     "start_time": "2017-05-17T09:45:18.945153-05:00"
    },
    "collapsed": true
   },
   "outputs": [],
   "source": [
    "# fix random seed for reproducibility\n",
    "seed = 7\n",
    "np.random.seed(seed)"
   ]
  },
  {
   "cell_type": "code",
   "execution_count": 9,
   "metadata": {
    "ExecuteTime": {
     "end_time": "2017-05-17T14:45:18.958730Z",
     "start_time": "2017-05-17T09:45:18.951767-05:00"
    },
    "collapsed": true
   },
   "outputs": [],
   "source": [
    "# define baseline model\n",
    "def baseline_model():\n",
    "    # create model\n",
    "    model = Sequential()\n",
    "    model.add(Dense(4, input_dim=67, kernel_initializer='normal', activation='sigmoid'))\n",
    "    # Compile model\n",
    "    model.compile(loss='categorical_crossentropy', optimizer='adam', metrics=['accuracy'])\n",
    "    return model"
   ]
  },
  {
   "cell_type": "code",
   "execution_count": 10,
   "metadata": {
    "ExecuteTime": {
     "end_time": "2017-05-17T14:45:18.966137Z",
     "start_time": "2017-05-17T09:45:18.961339-05:00"
    },
    "collapsed": true
   },
   "outputs": [],
   "source": [
    "estimator = KerasClassifier(build_fn=baseline_model, epochs=10, batch_size=5, verbose=1)"
   ]
  },
  {
   "cell_type": "code",
   "execution_count": 11,
   "metadata": {
    "ExecuteTime": {
     "end_time": "2017-05-17T14:45:18.974355Z",
     "start_time": "2017-05-17T09:45:18.969476-05:00"
    },
    "collapsed": true
   },
   "outputs": [],
   "source": [
    "kfold = KFold(n_splits=10, shuffle=True, random_state=seed)"
   ]
  },
  {
   "cell_type": "code",
   "execution_count": 12,
   "metadata": {
    "ExecuteTime": {
     "end_time": "2017-05-17T15:15:51.176323Z",
     "start_time": "2017-05-17T09:45:18.977431-05:00"
    }
   },
   "outputs": [
    {
     "name": "stdout",
     "output_type": "stream",
     "text": [
      "Epoch 1/10\n",
      "33364/33364 [==============================] - 21s - loss: 0.8710 - acc: 0.6177    \n",
      "Epoch 2/10\n",
      "33364/33364 [==============================] - 19s - loss: 0.7603 - acc: 0.7050    \n",
      "Epoch 3/10\n",
      "33364/33364 [==============================] - 17s - loss: 0.7329 - acc: 0.7132    \n",
      "Epoch 4/10\n",
      "33364/33364 [==============================] - 14s - loss: 0.7192 - acc: 0.7176    \n",
      "Epoch 5/10\n",
      "33364/33364 [==============================] - 17s - loss: 0.7112 - acc: 0.7197    \n",
      "Epoch 6/10\n",
      "33364/33364 [==============================] - 15s - loss: 0.7055 - acc: 0.7209    \n",
      "Epoch 7/10\n",
      "33364/33364 [==============================] - 17s - loss: 0.7015 - acc: 0.7220    \n",
      "Epoch 8/10\n",
      "33364/33364 [==============================] - 15s - loss: 0.6981 - acc: 0.7233    \n",
      "Epoch 9/10\n",
      "33364/33364 [==============================] - 16s - loss: 0.6951 - acc: 0.7242    \n",
      "Epoch 10/10\n",
      "33364/33364 [==============================] - 17s - loss: 0.6926 - acc: 0.7240    \n",
      "3655/3708 [============================>.] - ETA: 0sEpoch 1/10\n",
      "33364/33364 [==============================] - 16s - loss: 0.8741 - acc: 0.6205    \n",
      "Epoch 2/10\n",
      "33364/33364 [==============================] - 18s - loss: 0.7629 - acc: 0.7071    \n",
      "Epoch 3/10\n",
      "33364/33364 [==============================] - 16s - loss: 0.7352 - acc: 0.7135    \n",
      "Epoch 4/10\n",
      "33364/33364 [==============================] - 16s - loss: 0.7213 - acc: 0.7178    \n",
      "Epoch 5/10\n",
      "33364/33364 [==============================] - 18s - loss: 0.7133 - acc: 0.7195    \n",
      "Epoch 6/10\n",
      "33364/33364 [==============================] - 19s - loss: 0.7076 - acc: 0.7212    \n",
      "Epoch 7/10\n",
      "33364/33364 [==============================] - 17s - loss: 0.7029 - acc: 0.7222    \n",
      "Epoch 8/10\n",
      "33364/33364 [==============================] - 17s - loss: 0.6999 - acc: 0.7236    \n",
      "Epoch 9/10\n",
      "33364/33364 [==============================] - 15s - loss: 0.6971 - acc: 0.7232    \n",
      "Epoch 10/10\n",
      "33364/33364 [==============================] - 16s - loss: 0.6943 - acc: 0.7244    \n",
      "3565/3708 [===========================>..] - ETA: 0sEpoch 1/10\n",
      "33365/33365 [==============================] - 14s - loss: 0.8764 - acc: 0.6197    \n",
      "Epoch 2/10\n",
      "33365/33365 [==============================] - 16s - loss: 0.7633 - acc: 0.7057    \n",
      "Epoch 3/10\n",
      "33365/33365 [==============================] - 17s - loss: 0.7354 - acc: 0.7132    \n",
      "Epoch 4/10\n",
      "33365/33365 [==============================] - 16s - loss: 0.7218 - acc: 0.7172    \n",
      "Epoch 5/10\n",
      "33365/33365 [==============================] - 18s - loss: 0.7135 - acc: 0.7199    \n",
      "Epoch 6/10\n",
      "33365/33365 [==============================] - 19s - loss: 0.7077 - acc: 0.7207    \n",
      "Epoch 7/10\n",
      "33365/33365 [==============================] - 17s - loss: 0.7037 - acc: 0.7226    \n",
      "Epoch 8/10\n",
      "33365/33365 [==============================] - 16s - loss: 0.7003 - acc: 0.7234    \n",
      "Epoch 9/10\n",
      "33365/33365 [==============================] - 17s - loss: 0.6974 - acc: 0.7222    \n",
      "Epoch 10/10\n",
      "33365/33365 [==============================] - 17s - loss: 0.6947 - acc: 0.7244    \n",
      "3370/3707 [==========================>...] - ETA: 0sEpoch 1/10\n",
      "33365/33365 [==============================] - 17s - loss: 0.8732 - acc: 0.6243    \n",
      "Epoch 2/10\n",
      "33365/33365 [==============================] - 16s - loss: 0.7627 - acc: 0.7042    \n",
      "Epoch 3/10\n",
      "33365/33365 [==============================] - 17s - loss: 0.7352 - acc: 0.7126    \n",
      "Epoch 4/10\n",
      "33365/33365 [==============================] - 18s - loss: 0.7217 - acc: 0.7156    \n",
      "Epoch 5/10\n",
      "33365/33365 [==============================] - 18s - loss: 0.7136 - acc: 0.7187    \n",
      "Epoch 6/10\n",
      "33365/33365 [==============================] - 16s - loss: 0.7077 - acc: 0.7188    \n",
      "Epoch 7/10\n",
      "33365/33365 [==============================] - 15s - loss: 0.7038 - acc: 0.7207    \n",
      "Epoch 8/10\n",
      "33365/33365 [==============================] - 18s - loss: 0.7002 - acc: 0.7220    \n",
      "Epoch 9/10\n",
      "33365/33365 [==============================] - 18s - loss: 0.6977 - acc: 0.7223    \n",
      "Epoch 10/10\n",
      "33365/33365 [==============================] - 16s - loss: 0.6951 - acc: 0.7237    \n",
      "3345/3707 [==========================>...] - ETA: 0sEpoch 1/10\n",
      "33365/33365 [==============================] - 17s - loss: 0.8745 - acc: 0.6179    \n",
      "Epoch 2/10\n",
      "33365/33365 [==============================] - 16s - loss: 0.7640 - acc: 0.7051    \n",
      "Epoch 3/10\n",
      "33365/33365 [==============================] - 17s - loss: 0.7372 - acc: 0.7134    \n",
      "Epoch 4/10\n",
      "33365/33365 [==============================] - 15s - loss: 0.7237 - acc: 0.7167    \n",
      "Epoch 5/10\n",
      "33365/33365 [==============================] - 15s - loss: 0.7163 - acc: 0.7192    \n",
      "Epoch 6/10\n",
      "33365/33365 [==============================] - 15s - loss: 0.7107 - acc: 0.7207    \n",
      "Epoch 7/10\n",
      "33365/33365 [==============================] - 16s - loss: 0.7063 - acc: 0.7203    \n",
      "Epoch 8/10\n",
      "33365/33365 [==============================] - 18s - loss: 0.7027 - acc: 0.7223    \n",
      "Epoch 9/10\n",
      "33365/33365 [==============================] - 18s - loss: 0.6996 - acc: 0.7217    \n",
      "Epoch 10/10\n",
      "33365/33365 [==============================] - 15s - loss: 0.6974 - acc: 0.7235    \n",
      "3530/3707 [===========================>..] - ETA: 0sEpoch 1/10\n",
      "33365/33365 [==============================] - 15s - loss: 0.8771 - acc: 0.6176    \n",
      "Epoch 2/10\n",
      "33365/33365 [==============================] - 17s - loss: 0.7639 - acc: 0.7021    \n",
      "Epoch 3/10\n",
      "33365/33365 [==============================] - 16s - loss: 0.7363 - acc: 0.7124    \n",
      "Epoch 4/10\n",
      "33365/33365 [==============================] - 17s - loss: 0.7225 - acc: 0.7154    \n",
      "Epoch 5/10\n",
      "33365/33365 [==============================] - 17s - loss: 0.7144 - acc: 0.7169    \n",
      "Epoch 6/10\n",
      "33365/33365 [==============================] - 17s - loss: 0.7087 - acc: 0.7184    \n",
      "Epoch 7/10\n",
      "33365/33365 [==============================] - 17s - loss: 0.7046 - acc: 0.7189    \n",
      "Epoch 8/10\n",
      "33365/33365 [==============================] - 18s - loss: 0.7012 - acc: 0.7216    \n",
      "Epoch 9/10\n",
      "33365/33365 [==============================] - 21s - loss: 0.6982 - acc: 0.7219    \n",
      "Epoch 10/10\n",
      "33365/33365 [==============================] - 19s - loss: 0.6958 - acc: 0.7218    \n",
      "3425/3707 [==========================>...] - ETA: 0sEpoch 1/10\n",
      "33365/33365 [==============================] - 16s - loss: 0.8731 - acc: 0.6194    \n",
      "Epoch 2/10\n",
      "33365/33365 [==============================] - 15s - loss: 0.7615 - acc: 0.7035    \n",
      "Epoch 3/10\n",
      "33365/33365 [==============================] - 16s - loss: 0.7344 - acc: 0.7135    \n",
      "Epoch 4/10\n",
      "33365/33365 [==============================] - 16s - loss: 0.7206 - acc: 0.7178    \n",
      "Epoch 5/10\n",
      "33365/33365 [==============================] - 16s - loss: 0.7126 - acc: 0.7181    \n",
      "Epoch 6/10\n",
      "33365/33365 [==============================] - 15s - loss: 0.7068 - acc: 0.7205    \n",
      "Epoch 7/10\n",
      "33365/33365 [==============================] - 16s - loss: 0.7026 - acc: 0.7210    \n",
      "Epoch 8/10\n",
      "33365/33365 [==============================] - 17s - loss: 0.6990 - acc: 0.7231    \n",
      "Epoch 9/10\n",
      "33365/33365 [==============================] - 18s - loss: 0.6964 - acc: 0.7240    \n",
      "Epoch 10/10\n",
      "33365/33365 [==============================] - 17s - loss: 0.6940 - acc: 0.7226    \n",
      "3455/3707 [==========================>...] - ETA: 0sEpoch 1/10\n",
      "33365/33365 [==============================] - 18s - loss: 0.8773 - acc: 0.6170    \n",
      "Epoch 2/10\n",
      "33365/33365 [==============================] - 19s - loss: 0.7644 - acc: 0.7041    \n",
      "Epoch 3/10\n",
      "33365/33365 [==============================] - 21s - loss: 0.7362 - acc: 0.7125    \n",
      "Epoch 4/10\n",
      "33365/33365 [==============================] - 20s - loss: 0.7226 - acc: 0.7168    \n",
      "Epoch 5/10\n",
      "33365/33365 [==============================] - 20s - loss: 0.7139 - acc: 0.7180    \n",
      "Epoch 6/10\n",
      "33365/33365 [==============================] - 19s - loss: 0.7086 - acc: 0.7178    \n",
      "Epoch 7/10\n",
      "33365/33365 [==============================] - 21s - loss: 0.7043 - acc: 0.7199    \n",
      "Epoch 8/10\n",
      "33365/33365 [==============================] - 20s - loss: 0.7009 - acc: 0.7212    \n",
      "Epoch 9/10\n",
      "33365/33365 [==============================] - 20s - loss: 0.6978 - acc: 0.7220    \n",
      "Epoch 10/10\n",
      "33365/33365 [==============================] - 20s - loss: 0.6953 - acc: 0.7236    \n",
      "3390/3707 [==========================>...] - ETA: 0sEpoch 1/10\n",
      "33365/33365 [==============================] - 20s - loss: 0.8743 - acc: 0.6177    \n",
      "Epoch 2/10\n"
     ]
    },
    {
     "name": "stdout",
     "output_type": "stream",
     "text": [
      "33365/33365 [==============================] - 18s - loss: 0.7623 - acc: 0.7034    \n",
      "Epoch 3/10\n",
      "33365/33365 [==============================] - 18s - loss: 0.7348 - acc: 0.7135    \n",
      "Epoch 4/10\n",
      "33365/33365 [==============================] - 19s - loss: 0.7214 - acc: 0.7180    \n",
      "Epoch 5/10\n",
      "33365/33365 [==============================] - 18s - loss: 0.7131 - acc: 0.7196    \n",
      "Epoch 6/10\n",
      "33365/33365 [==============================] - 20s - loss: 0.7076 - acc: 0.7212    \n",
      "Epoch 7/10\n",
      "33365/33365 [==============================] - 20s - loss: 0.7032 - acc: 0.7217    \n",
      "Epoch 8/10\n",
      "33365/33365 [==============================] - 21s - loss: 0.7002 - acc: 0.7206    \n",
      "Epoch 9/10\n",
      "33365/33365 [==============================] - 21s - loss: 0.6968 - acc: 0.7237    \n",
      "Epoch 10/10\n",
      "33365/33365 [==============================] - 18s - loss: 0.6944 - acc: 0.7239    \n",
      "3705/3707 [============================>.] - ETA: 0sEpoch 1/10\n",
      "33365/33365 [==============================] - 18s - loss: 0.8741 - acc: 0.6218    \n",
      "Epoch 2/10\n",
      "33365/33365 [==============================] - 21s - loss: 0.7633 - acc: 0.7047    \n",
      "Epoch 3/10\n",
      "33365/33365 [==============================] - 22s - loss: 0.7359 - acc: 0.7139    \n",
      "Epoch 4/10\n",
      "33365/33365 [==============================] - 22s - loss: 0.7228 - acc: 0.7156    \n",
      "Epoch 5/10\n",
      "33365/33365 [==============================] - 22s - loss: 0.7146 - acc: 0.7201    \n",
      "Epoch 6/10\n",
      "33365/33365 [==============================] - 22s - loss: 0.7091 - acc: 0.7204    \n",
      "Epoch 7/10\n",
      "33365/33365 [==============================] - 22s - loss: 0.7048 - acc: 0.7207    \n",
      "Epoch 8/10\n",
      "33365/33365 [==============================] - 22s - loss: 0.7018 - acc: 0.7208    \n",
      "Epoch 9/10\n",
      "33365/33365 [==============================] - 22s - loss: 0.6989 - acc: 0.7223    \n",
      "Epoch 10/10\n",
      "33365/33365 [==============================] - 21s - loss: 0.6963 - acc: 0.7239    \n",
      "3570/3707 [===========================>..] - ETA: 0s"
     ]
    }
   ],
   "source": [
    "probabilities = cross_val_predict(estimator, X, Y, cv=kfold, method='predict_proba')"
   ]
  },
  {
   "cell_type": "code",
   "execution_count": 13,
   "metadata": {
    "ExecuteTime": {
     "end_time": "2017-05-17T15:15:51.296940Z",
     "start_time": "2017-05-17T10:15:51.178423-05:00"
    }
   },
   "outputs": [],
   "source": [
    "predicted = np.array([list(a).index(max(list(a))) for a in list(probabilities)])"
   ]
  },
  {
   "cell_type": "code",
   "execution_count": 14,
   "metadata": {
    "ExecuteTime": {
     "end_time": "2017-05-17T15:15:51.312288Z",
     "start_time": "2017-05-17T10:15:51.299397-05:00"
    }
   },
   "outputs": [],
   "source": [
    "label_binarizer = preprocessing.LabelBinarizer()\n",
    "\n",
    "label_binarizer.fit(range(max(predicted)+1))\n",
    "predicted_transformed = label_binarizer.transform(predicted)"
   ]
  },
  {
   "cell_type": "code",
   "execution_count": 15,
   "metadata": {
    "ExecuteTime": {
     "end_time": "2017-05-17T15:15:51.332990Z",
     "start_time": "2017-05-17T10:15:51.314431-05:00"
    }
   },
   "outputs": [
    {
     "data": {
      "text/plain": [
       "0.72156883901596891"
      ]
     },
     "execution_count": 15,
     "metadata": {},
     "output_type": "execute_result"
    }
   ],
   "source": [
    "metrics.accuracy_score(Y, predicted_transformed)"
   ]
  },
  {
   "cell_type": "markdown",
   "metadata": {},
   "source": [
    "#### Classification report\n",
    "* 0 = ambiguous\n",
    "* 1 = fail\n",
    "* 2 = germline\n",
    "* 3 = somatic"
   ]
  },
  {
   "cell_type": "code",
   "execution_count": 16,
   "metadata": {
    "ExecuteTime": {
     "end_time": "2017-05-17T15:15:51.358126Z",
     "start_time": "2017-05-17T10:15:51.334856-05:00"
    }
   },
   "outputs": [
    {
     "name": "stdout",
     "output_type": "stream",
     "text": [
      "             precision    recall  f1-score   support\n",
      "\n",
      "          0       0.68      0.73      0.70     13745\n",
      "          1       0.47      0.13      0.21      1600\n",
      "          2       0.60      0.51      0.55      3946\n",
      "          3       0.78      0.81      0.80     17781\n",
      "\n",
      "avg / total       0.71      0.72      0.71     37072\n",
      "\n"
     ]
    }
   ],
   "source": [
    "print(metrics.classification_report(Y, predicted_transformed))"
   ]
  },
  {
   "cell_type": "code",
   "execution_count": 17,
   "metadata": {
    "ExecuteTime": {
     "end_time": "2017-05-17T15:15:51.665386Z",
     "start_time": "2017-05-17T10:15:51.359951-05:00"
    }
   },
   "outputs": [
    {
     "data": {
      "image/png": "[encoded data removed]",
      "text/plain": [
       "<matplotlib.figure.Figure at 0x13fe46630>"
      ]
     },
     "metadata": {},
     "output_type": "display_data"
    }
   ],
   "source": [
    "n_classes = Y.shape[1]\n",
    "class_lookup = {0: 'Ambiguous', 1: 'Fail', 2: 'Germline', 3: 'Somatic'}\n",
    "fpr = dict()\n",
    "tpr = dict()\n",
    "roc_auc = dict()\n",
    "plt.title('Receiver Operating Characteristic')\n",
    "colors = cycle(['aqua', 'darkorange', 'cornflowerblue', 'deeppink'])\n",
    "for i, color in zip(range(n_classes), colors):\n",
    "    fpr[i], tpr[i], _ = metrics.roc_curve(Y[:, i], probabilities[:, i])\n",
    "    roc_auc[i] = metrics.auc(fpr[i], tpr[i])\n",
    "    plt.plot(fpr[i], tpr[i], color=color, label='ROC curve of class {0}'\n",
    "             ' (area = {1:0.2f})'.format(class_lookup[i], roc_auc[i]))\n",
    "plt.plot([0, 1], [0, 1], 'k--')\n",
    "plt.xlim([0.0, 1.0])\n",
    "plt.ylim([0.0, 1.05])\n",
    "plt.xlabel('False Positive Rate')\n",
    "plt.ylabel('True Positive Rate')\n",
    "plt.legend(loc=\"lower right\")\n",
    "plt.show()"
   ]
  },
  {
   "cell_type": "code",
   "execution_count": 18,
   "metadata": {
    "ExecuteTime": {
     "end_time": "2017-05-17T15:15:51.704187Z",
     "start_time": "2017-05-17T10:15:51.667039-05:00"
    }
   },
   "outputs": [],
   "source": [
    "prob_df = pd.DataFrame(probabilities, columns=['Ambiguous','Fail',\n",
    "                                               'Germline', 'Somatic'])\n",
    "\n",
    "# Normalize the values by dividing each value by the sum of its columns\n",
    "prob_df_norm = prob_df.div(prob_df.sum(axis=1), axis=0)\n",
    "\n",
    "label_index = pd.DataFrame(Y, columns=['Ambiguous','Fail',\n",
    "                                          'Germline','Somatic'], dtype=bool)\n",
    "\n",
    "positive_probabilities = prob_df_norm[label_index].unstack().dropna().values\n",
    "\n",
    "positive_counts, bins = np.histogram(positive_probabilities, bins=[0,.1,.2,.3,.4,.5,.6,.7,.8,.9,1])\n",
    "\n",
    "negative_probabilities = prob_df_norm[~label_index].unstack().dropna()\n",
    "\n",
    "negative_counts, _ = np.histogram(negative_probabilities, bins=[0,.1,.2,.3,.4,.5,.6,.7,.8,.9,1])\n",
    "\n",
    "pct_positive = positive_counts / (positive_counts + negative_counts)"
   ]
  },
  {
   "cell_type": "code",
   "execution_count": 19,
   "metadata": {
    "ExecuteTime": {
     "end_time": "2017-05-17T15:15:52.179275Z",
     "start_time": "2017-05-17T10:15:51.706832-05:00"
    }
   },
   "outputs": [
    {
     "data": {
      "image/png": "[encoded data removed]",
      "text/plain": [
       "<matplotlib.figure.Figure at 0x13fe46128>"
      ]
     },
     "metadata": {},
     "output_type": "display_data"
    }
   ],
   "source": [
    "width = 0.03       # the width of the bars\n",
    "\n",
    "fig, ax1 = plt.subplots()\n",
    "rects1 = ax1.bar(bins[1:], negative_counts, width, color='grey')\n",
    "\n",
    "rects2 = ax1.bar(bins[1:] + width, positive_counts, width, color='green')\n",
    "\n",
    "# add some text for labels, title and axes ticks\n",
    "\n",
    "ax1.set_title('Reliability diagram')\n",
    "ax1.set_xticks(bins[1:] + width / 2)\n",
    "ax1.set_xticklabels(bins[1:])\n",
    "# ax.plot(ax.get_xlim(), ax.get_ylim(), ls=\"--\", c=\".3\")\n",
    "\n",
    "# ax1.legend((rects1[0], rects2[0]), ('Neg', 'Pos'), loc=5)\n",
    "\n",
    "ax2 = ax1.twinx()\n",
    "ax2.plot(bins, bins, ls=\"--\", c=\".3\")\n",
    "r2 = str(round(metrics.r2_score(bins[1:], pct_positive),2))\n",
    "ax2.plot(bins[1:], pct_positive, \"-o\", color='blue')\n",
    "ax2.text(.85,.75,'$R^2$: {0}'.format(r2), color='blue', fontsize=15)\n",
    "\n",
    "\n",
    "plt.show()"
   ]
  },
  {
   "cell_type": "markdown",
   "metadata": {},
   "source": [
    "## Refactor to single class classifier \n",
    "Manual reviewer's calling variants germline is problematic as the callers that produced the calls are designed to call somatic variants. These germline calls are likely very poor quality and in most analysis streams get thrown out anyway. While 'ambigous' variant exist in a grey area where the reviewer is unsure whether to call the variant somatic or fail. All of these classes (germile, ambiguous, and fail) are treated the same in downstream analysis (thrown out)."
   ]
  },
  {
   "cell_type": "code",
   "execution_count": 20,
   "metadata": {
    "ExecuteTime": {
     "end_time": "2017-05-17T15:15:52.189803Z",
     "start_time": "2017-05-17T10:15:52.181478-05:00"
    }
   },
   "outputs": [
    {
     "data": {
      "text/plain": [
       "call\n",
       "a    13745\n",
       "f     1600\n",
       "g     3946\n",
       "s    17781\n",
       "dtype: int64"
      ]
     },
     "execution_count": 20,
     "metadata": {},
     "output_type": "execute_result"
    }
   ],
   "source": [
    "training_data.groupby('call').size()"
   ]
  },
  {
   "cell_type": "code",
   "execution_count": 21,
   "metadata": {
    "ExecuteTime": {
     "end_time": "2017-05-17T15:15:52.206595Z",
     "start_time": "2017-05-17T10:15:52.192795-05:00"
    },
    "collapsed": true
   },
   "outputs": [],
   "source": [
    "training_data['binary_call'] = training_data.call.replace(['a', 'f', 'g'], False)\n",
    "training_data['binary_call'] = training_data['binary_call'].replace('s', True)"
   ]
  },
  {
   "cell_type": "code",
   "execution_count": 22,
   "metadata": {
    "ExecuteTime": {
     "end_time": "2017-05-17T15:15:52.217868Z",
     "start_time": "2017-05-17T10:15:52.209142-05:00"
    }
   },
   "outputs": [
    {
     "data": {
      "text/plain": [
       "binary_call\n",
       "False    19291\n",
       "True     17781\n",
       "dtype: int64"
      ]
     },
     "execution_count": 22,
     "metadata": {},
     "output_type": "execute_result"
    }
   ],
   "source": [
    "training_data.groupby('binary_call').size()"
   ]
  },
  {
   "cell_type": "code",
   "execution_count": 23,
   "metadata": {
    "ExecuteTime": {
     "end_time": "2017-05-17T15:15:52.294872Z",
     "start_time": "2017-05-17T10:15:52.219635-05:00"
    },
    "collapsed": true
   },
   "outputs": [],
   "source": [
    "# Get Labels\n",
    "binary_Y = training_data.binary_call.astype(int).values\n",
    "# Get training data as numpy array\n",
    "X = training_data.drop(['call', 'binary_call'], axis=1).astype(float).values"
   ]
  },
  {
   "cell_type": "code",
   "execution_count": 24,
   "metadata": {
    "ExecuteTime": {
     "end_time": "2017-05-17T15:15:52.301430Z",
     "start_time": "2017-05-17T10:15:52.296993-05:00"
    }
   },
   "outputs": [
    {
     "data": {
      "text/plain": [
       "(37072, 67)"
      ]
     },
     "execution_count": 24,
     "metadata": {},
     "output_type": "execute_result"
    }
   ],
   "source": [
    "X.shape"
   ]
  },
  {
   "cell_type": "code",
   "execution_count": 25,
   "metadata": {
    "ExecuteTime": {
     "end_time": "2017-05-17T15:15:52.308681Z",
     "start_time": "2017-05-17T10:15:52.303407-05:00"
    }
   },
   "outputs": [
    {
     "data": {
      "text/plain": [
       "(37072,)"
      ]
     },
     "execution_count": 25,
     "metadata": {},
     "output_type": "execute_result"
    }
   ],
   "source": [
    "binary_Y.shape"
   ]
  },
  {
   "cell_type": "code",
   "execution_count": 26,
   "metadata": {
    "ExecuteTime": {
     "end_time": "2017-05-17T15:15:52.314802Z",
     "start_time": "2017-05-17T10:15:52.310512-05:00"
    },
    "collapsed": true
   },
   "outputs": [],
   "source": [
    "# define baseline model\n",
    "def baseline_binary_model():\n",
    "    # create model\n",
    "    model = Sequential()\n",
    "    model.add(Dense(1, input_dim=67, kernel_initializer='normal', activation='sigmoid'))\n",
    "    # Compile model\n",
    "    model.compile(loss='binary_crossentropy', optimizer='adam', metrics=['accuracy'])\n",
    "    return model"
   ]
  },
  {
   "cell_type": "code",
   "execution_count": 27,
   "metadata": {
    "ExecuteTime": {
     "end_time": "2017-05-17T15:15:52.320266Z",
     "start_time": "2017-05-17T10:15:52.316681-05:00"
    },
    "collapsed": true
   },
   "outputs": [],
   "source": [
    "binary_estimator = KerasClassifier(build_fn=baseline_binary_model, epochs=10, batch_size=5, verbose=1)"
   ]
  },
  {
   "cell_type": "code",
   "execution_count": 28,
   "metadata": {
    "ExecuteTime": {
     "end_time": "2017-05-17T15:15:52.325032Z",
     "start_time": "2017-05-17T10:15:52.322048-05:00"
    }
   },
   "outputs": [],
   "source": [
    "binary_kfold = KFold(n_splits=10, shuffle=True, random_state=seed)"
   ]
  },
  {
   "cell_type": "code",
   "execution_count": 29,
   "metadata": {
    "ExecuteTime": {
     "end_time": "2017-05-17T15:55:20.701754Z",
     "start_time": "2017-05-17T10:15:52.326912-05:00"
    }
   },
   "outputs": [
    {
     "name": "stdout",
     "output_type": "stream",
     "text": [
      "Epoch 1/10\n",
      "33364/33364 [==============================] - 29s - loss: 0.5898 - acc: 0.6949    \n",
      "Epoch 2/10\n",
      "33364/33364 [==============================] - 24s - loss: 0.5197 - acc: 0.7692    \n",
      "Epoch 3/10\n",
      "33364/33364 [==============================] - 21s - loss: 0.4946 - acc: 0.7921    \n",
      "Epoch 4/10\n",
      "33364/33364 [==============================] - 22s - loss: 0.4823 - acc: 0.8028    \n",
      "Epoch 5/10\n",
      "33364/33364 [==============================] - 22s - loss: 0.4751 - acc: 0.8033    \n",
      "Epoch 6/10\n",
      "33364/33364 [==============================] - 22s - loss: 0.4701 - acc: 0.8051    \n",
      "Epoch 7/10\n",
      "33364/33364 [==============================] - 22s - loss: 0.4669 - acc: 0.8055    \n",
      "Epoch 8/10\n",
      "33364/33364 [==============================] - 20s - loss: 0.4645 - acc: 0.8066    \n",
      "Epoch 9/10\n",
      "33364/33364 [==============================] - 23s - loss: 0.4626 - acc: 0.8069    \n",
      "Epoch 10/10\n",
      "33364/33364 [==============================] - 22s - loss: 0.4610 - acc: 0.8075    \n",
      "3655/3708 [============================>.] - ETA: 0sEpoch 1/10\n",
      "33364/33364 [==============================] - 22s - loss: 0.5915 - acc: 0.6918    \n",
      "Epoch 2/10\n",
      "33364/33364 [==============================] - 22s - loss: 0.5217 - acc: 0.7598    \n",
      "Epoch 3/10\n",
      "33364/33364 [==============================] - 22s - loss: 0.4965 - acc: 0.7885    \n",
      "Epoch 4/10\n",
      "33364/33364 [==============================] - 22s - loss: 0.4841 - acc: 0.8013    \n",
      "Epoch 5/10\n",
      "33364/33364 [==============================] - 22s - loss: 0.4767 - acc: 0.8034    \n",
      "Epoch 6/10\n",
      "33364/33364 [==============================] - 24s - loss: 0.4720 - acc: 0.8054    \n",
      "Epoch 7/10\n",
      "33364/33364 [==============================] - 31s - loss: 0.4685 - acc: 0.8078    \n",
      "Epoch 8/10\n",
      "33364/33364 [==============================] - 30s - loss: 0.4661 - acc: 0.8072    \n",
      "Epoch 9/10\n",
      "33364/33364 [==============================] - 29s - loss: 0.4641 - acc: 0.8072    \n",
      "Epoch 10/10\n",
      "33364/33364 [==============================] - 29s - loss: 0.4626 - acc: 0.8075    \n",
      "3495/3708 [===========================>..] - ETA: 0sEpoch 1/10\n",
      "33365/33365 [==============================] - 25s - loss: 0.5929 - acc: 0.6935    \n",
      "Epoch 2/10\n",
      "33365/33365 [==============================] - 21s - loss: 0.5233 - acc: 0.7646    \n",
      "Epoch 3/10\n",
      "33365/33365 [==============================] - 24s - loss: 0.4982 - acc: 0.7902    \n",
      "Epoch 4/10\n",
      "33365/33365 [==============================] - 20s - loss: 0.4857 - acc: 0.7995    \n",
      "Epoch 5/10\n",
      "33365/33365 [==============================] - 18s - loss: 0.4780 - acc: 0.8030    \n",
      "Epoch 6/10\n",
      "33365/33365 [==============================] - 20s - loss: 0.4735 - acc: 0.8034    \n",
      "Epoch 7/10\n",
      "33365/33365 [==============================] - 18s - loss: 0.4702 - acc: 0.8051    \n",
      "Epoch 8/10\n",
      "33365/33365 [==============================] - 19s - loss: 0.4677 - acc: 0.8058    \n",
      "Epoch 9/10\n",
      "33365/33365 [==============================] - 19s - loss: 0.4656 - acc: 0.8067    \n",
      "Epoch 10/10\n",
      "33365/33365 [==============================] - 21s - loss: 0.4642 - acc: 0.8063    \n",
      "3500/3707 [===========================>..] - ETA: 0sEpoch 1/10\n",
      "33365/33365 [==============================] - 26s - loss: 0.5904 - acc: 0.6951    \n",
      "Epoch 2/10\n",
      "33365/33365 [==============================] - 30s - loss: 0.5215 - acc: 0.7632    \n",
      "Epoch 3/10\n",
      "33365/33365 [==============================] - 29s - loss: 0.4965 - acc: 0.7897    \n",
      "Epoch 4/10\n",
      "33365/33365 [==============================] - 34s - loss: 0.4842 - acc: 0.8018    \n",
      "Epoch 5/10\n",
      "33365/33365 [==============================] - 33s - loss: 0.4771 - acc: 0.8028    \n",
      "Epoch 6/10\n",
      "33365/33365 [==============================] - 32s - loss: 0.4726 - acc: 0.8044    \n",
      "Epoch 7/10\n",
      "33365/33365 [==============================] - 33s - loss: 0.4693 - acc: 0.8050    \n",
      "Epoch 8/10\n",
      "33365/33365 [==============================] - 27s - loss: 0.4667 - acc: 0.8068    \n",
      "Epoch 9/10\n",
      "33365/33365 [==============================] - 29s - loss: 0.4650 - acc: 0.8062    \n",
      "Epoch 10/10\n",
      "33365/33365 [==============================] - 33s - loss: 0.4636 - acc: 0.8072    \n",
      "3640/3707 [============================>.] - ETA: 0sEpoch 1/10\n",
      "33365/33365 [==============================] - 31s - loss: 0.5933 - acc: 0.6924    \n",
      "Epoch 2/10\n",
      "33365/33365 [==============================] - 32s - loss: 0.5223 - acc: 0.7620    \n",
      "Epoch 3/10\n",
      "33365/33365 [==============================] - 31s - loss: 0.4972 - acc: 0.7888    \n",
      "Epoch 4/10\n",
      "33365/33365 [==============================] - 32s - loss: 0.4848 - acc: 0.8006    \n",
      "Epoch 5/10\n",
      "33365/33365 [==============================] - 29s - loss: 0.4775 - acc: 0.8025    \n",
      "Epoch 6/10\n",
      "33365/33365 [==============================] - 30s - loss: 0.4731 - acc: 0.8046    \n",
      "Epoch 7/10\n",
      "33365/33365 [==============================] - 28s - loss: 0.4698 - acc: 0.8051    \n",
      "Epoch 8/10\n",
      "33365/33365 [==============================] - 29s - loss: 0.4676 - acc: 0.8058    \n",
      "Epoch 9/10\n",
      "33365/33365 [==============================] - 33s - loss: 0.4657 - acc: 0.8050    \n",
      "Epoch 10/10\n",
      "33365/33365 [==============================] - 31s - loss: 0.4641 - acc: 0.8073    \n",
      "3675/3707 [============================>.] - ETA: 0sEpoch 1/10\n",
      "33365/33365 [==============================] - 31s - loss: 0.5924 - acc: 0.6898    \n",
      "Epoch 2/10\n",
      "33365/33365 [==============================] - 32s - loss: 0.5227 - acc: 0.7620    \n",
      "Epoch 3/10\n",
      "33365/33365 [==============================] - 31s - loss: 0.4977 - acc: 0.7902    \n",
      "Epoch 4/10\n",
      "33365/33365 [==============================] - 28s - loss: 0.4851 - acc: 0.7998    \n",
      "Epoch 5/10\n",
      "33365/33365 [==============================] - 23s - loss: 0.4780 - acc: 0.8019    \n",
      "Epoch 6/10\n",
      "33365/33365 [==============================] - 20s - loss: 0.4733 - acc: 0.8032    \n",
      "Epoch 7/10\n",
      "33365/33365 [==============================] - 19s - loss: 0.4702 - acc: 0.8043    \n",
      "Epoch 8/10\n",
      "33365/33365 [==============================] - 19s - loss: 0.4677 - acc: 0.8036    \n",
      "Epoch 9/10\n",
      "33365/33365 [==============================] - 19s - loss: 0.4657 - acc: 0.8054    \n",
      "Epoch 10/10\n",
      "33365/33365 [==============================] - 19s - loss: 0.4643 - acc: 0.8057    \n",
      "3470/3707 [===========================>..] - ETA: 0sEpoch 1/10\n",
      "33365/33365 [==============================] - 19s - loss: 0.5911 - acc: 0.6908    \n",
      "Epoch 2/10\n",
      "33365/33365 [==============================] - 20s - loss: 0.5214 - acc: 0.7642    \n",
      "Epoch 3/10\n",
      "33365/33365 [==============================] - 20s - loss: 0.4962 - acc: 0.7909    \n",
      "Epoch 4/10\n",
      "33365/33365 [==============================] - 20s - loss: 0.4834 - acc: 0.8017    \n",
      "Epoch 5/10\n",
      "33365/33365 [==============================] - 22s - loss: 0.4764 - acc: 0.8042    \n",
      "Epoch 6/10\n",
      "33365/33365 [==============================] - 20s - loss: 0.4714 - acc: 0.8062    \n",
      "Epoch 7/10\n",
      "33365/33365 [==============================] - 19s - loss: 0.4681 - acc: 0.8063    \n",
      "Epoch 8/10\n",
      "33365/33365 [==============================] - 18s - loss: 0.4655 - acc: 0.8064    \n",
      "Epoch 9/10\n",
      "33365/33365 [==============================] - 18s - loss: 0.4637 - acc: 0.8066    \n",
      "Epoch 10/10\n",
      "33365/33365 [==============================] - 18s - loss: 0.4618 - acc: 0.8083    \n",
      "3515/3707 [===========================>..] - ETA: 0sEpoch 1/10\n",
      "33365/33365 [==============================] - 19s - loss: 0.5916 - acc: 0.6996    \n",
      "Epoch 2/10\n",
      "33365/33365 [==============================] - 19s - loss: 0.5232 - acc: 0.7619    \n",
      "Epoch 3/10\n",
      "33365/33365 [==============================] - 18s - loss: 0.4985 - acc: 0.7883    \n",
      "Epoch 4/10\n",
      "33365/33365 [==============================] - 19s - loss: 0.4866 - acc: 0.7998    \n",
      "Epoch 5/10\n",
      "33365/33365 [==============================] - 18s - loss: 0.4793 - acc: 0.8028    \n",
      "Epoch 6/10\n",
      "33365/33365 [==============================] - 18s - loss: 0.4747 - acc: 0.8027    \n",
      "Epoch 7/10\n",
      "33365/33365 [==============================] - 18s - loss: 0.4714 - acc: 0.8038    \n",
      "Epoch 8/10\n",
      "33365/33365 [==============================] - 18s - loss: 0.4689 - acc: 0.8057    \n",
      "Epoch 9/10\n",
      "33365/33365 [==============================] - 18s - loss: 0.4672 - acc: 0.8060    \n",
      "Epoch 10/10\n",
      "33365/33365 [==============================] - 19s - loss: 0.4657 - acc: 0.8064    \n",
      "3405/3707 [==========================>...] - ETA: 0sEpoch 1/10\n",
      "33365/33365 [==============================] - 19s - loss: 0.5900 - acc: 0.6976    \n",
      "Epoch 2/10\n"
     ]
    },
    {
     "name": "stdout",
     "output_type": "stream",
     "text": [
      "33365/33365 [==============================] - 18s - loss: 0.5219 - acc: 0.7625    \n",
      "Epoch 3/10\n",
      "33365/33365 [==============================] - 18s - loss: 0.4976 - acc: 0.7903    \n",
      "Epoch 4/10\n",
      "33365/33365 [==============================] - 18s - loss: 0.4856 - acc: 0.7987    \n",
      "Epoch 5/10\n",
      "33365/33365 [==============================] - 19s - loss: 0.4782 - acc: 0.8032    \n",
      "Epoch 6/10\n",
      "33365/33365 [==============================] - 18s - loss: 0.4737 - acc: 0.8045    \n",
      "Epoch 7/10\n",
      "33365/33365 [==============================] - 18s - loss: 0.4702 - acc: 0.8039    \n",
      "Epoch 8/10\n",
      "33365/33365 [==============================] - 19s - loss: 0.4680 - acc: 0.8052    \n",
      "Epoch 9/10\n",
      "33365/33365 [==============================] - 18s - loss: 0.4661 - acc: 0.8054    \n",
      "Epoch 10/10\n",
      "33365/33365 [==============================] - 18s - loss: 0.4646 - acc: 0.8059    \n",
      "3220/3707 [=========================>....] - ETA: 0sEpoch 1/10\n",
      "33365/33365 [==============================] - 18s - loss: 0.5914 - acc: 0.6928    \n",
      "Epoch 2/10\n",
      "33365/33365 [==============================] - 17s - loss: 0.5216 - acc: 0.7647    \n",
      "Epoch 3/10\n",
      "33365/33365 [==============================] - 18s - loss: 0.4964 - acc: 0.7897    \n",
      "Epoch 4/10\n",
      "33365/33365 [==============================] - 17s - loss: 0.4841 - acc: 0.8015    \n",
      "Epoch 5/10\n",
      "33365/33365 [==============================] - 18s - loss: 0.4771 - acc: 0.8038    \n",
      "Epoch 6/10\n",
      "33365/33365 [==============================] - 24s - loss: 0.4726 - acc: 0.8056    \n",
      "Epoch 7/10\n",
      "33365/33365 [==============================] - 28s - loss: 0.4694 - acc: 0.8061    \n",
      "Epoch 8/10\n",
      "33365/33365 [==============================] - 25s - loss: 0.4669 - acc: 0.8061    \n",
      "Epoch 9/10\n",
      "33365/33365 [==============================] - 19s - loss: 0.4650 - acc: 0.8073    \n",
      "Epoch 10/10\n",
      "33365/33365 [==============================] - 19s - loss: 0.4637 - acc: 0.8074    \n",
      "3330/3707 [=========================>....] - ETA: 0s"
     ]
    }
   ],
   "source": [
    "binary_probabilities = cross_val_predict(binary_estimator, X, binary_Y, cv=binary_kfold, method='predict_proba')"
   ]
  },
  {
   "cell_type": "code",
   "execution_count": 30,
   "metadata": {
    "ExecuteTime": {
     "end_time": "2017-05-17T15:55:20.709628Z",
     "start_time": "2017-05-17T10:55:20.703862-05:00"
    }
   },
   "outputs": [
    {
     "data": {
      "text/plain": [
       "array([[ 0.83843452,  0.16156547],\n",
       "       [ 0.02316564,  0.97683436],\n",
       "       [ 0.04626358,  0.95373642],\n",
       "       ..., \n",
       "       [ 0.59686291,  0.40313706],\n",
       "       [ 0.4630214 ,  0.5369786 ],\n",
       "       [ 0.17671436,  0.82328564]], dtype=float32)"
      ]
     },
     "execution_count": 30,
     "metadata": {},
     "output_type": "execute_result"
    }
   ],
   "source": [
    "binary_probabilities"
   ]
  },
  {
   "cell_type": "code",
   "execution_count": 31,
   "metadata": {
    "ExecuteTime": {
     "end_time": "2017-05-17T15:55:20.811699Z",
     "start_time": "2017-05-17T10:55:20.711779-05:00"
    },
    "collapsed": true
   },
   "outputs": [],
   "source": [
    "predicted = np.array([list(a).index(max(list(a))) for a in list(binary_probabilities)])"
   ]
  },
  {
   "cell_type": "code",
   "execution_count": 32,
   "metadata": {
    "ExecuteTime": {
     "end_time": "2017-05-17T15:55:20.820104Z",
     "start_time": "2017-05-17T10:55:20.814031-05:00"
    },
    "scrolled": true
   },
   "outputs": [
    {
     "data": {
      "text/plain": [
       "0.80616098403107461"
      ]
     },
     "execution_count": 32,
     "metadata": {},
     "output_type": "execute_result"
    }
   ],
   "source": [
    "metrics.accuracy_score(binary_Y, predicted)"
   ]
  },
  {
   "cell_type": "code",
   "execution_count": 33,
   "metadata": {
    "ExecuteTime": {
     "end_time": "2017-05-17T15:55:20.833612Z",
     "start_time": "2017-05-17T10:55:20.822509-05:00"
    }
   },
   "outputs": [
    {
     "name": "stdout",
     "output_type": "stream",
     "text": [
      "             precision    recall  f1-score   support\n",
      "\n",
      "          0       0.81      0.82      0.82     19291\n",
      "          1       0.80      0.79      0.80     17781\n",
      "\n",
      "avg / total       0.81      0.81      0.81     37072\n",
      "\n"
     ]
    }
   ],
   "source": [
    "print(metrics.classification_report(binary_Y, predicted))"
   ]
  },
  {
   "cell_type": "code",
   "execution_count": 34,
   "metadata": {
    "ExecuteTime": {
     "end_time": "2017-05-17T15:55:20.838791Z",
     "start_time": "2017-05-17T10:55:20.835574-05:00"
    }
   },
   "outputs": [],
   "source": [
    "somatic_prob = binary_probabilities[:,1]"
   ]
  },
  {
   "cell_type": "code",
   "execution_count": 35,
   "metadata": {
    "ExecuteTime": {
     "end_time": "2017-05-17T15:55:21.036102Z",
     "start_time": "2017-05-17T10:55:20.840605-05:00"
    }
   },
   "outputs": [
    {
     "data": {
      "image/png": "[encoded data removed]",
      "text/plain": [
       "<matplotlib.figure.Figure at 0x1497cda58>"
      ]
     },
     "metadata": {},
     "output_type": "display_data"
    }
   ],
   "source": [
    "plt.title('Receiver Operating Characteristic')\n",
    "fpr, tpr, _ = metrics.roc_curve(binary_Y, somatic_prob)\n",
    "roc_auc = metrics.auc(fpr, tpr)\n",
    "plt.plot(fpr, tpr, color='cornflowerblue',label='ROC curve of somatic call'\n",
    "         ' (area = {0:0.2f})'.format(roc_auc))\n",
    "plt.plot([0, 1], [0, 1], 'k--')\n",
    "plt.xlim([0.0, 1.0])\n",
    "plt.ylim([0.0, 1.05])\n",
    "plt.xlabel('False Positive Rate')\n",
    "plt.ylabel('True Positive Rate')\n",
    "plt.legend(loc=\"lower right\")\n",
    "plt.show()"
   ]
  },
  {
   "cell_type": "code",
   "execution_count": 38,
   "metadata": {
    "ExecuteTime": {
     "end_time": "2017-05-17T15:55:21.401731Z",
     "start_time": "2017-05-17T10:55:21.378172-05:00"
    },
    "collapsed": true
   },
   "outputs": [],
   "source": [
    "prob_df = pd.DataFrame(binary_probabilities, columns=['Fail', 'Somatic'])\n",
    "\n",
    "label_index = pd.DataFrame(pd.DataFrame(np.array([np.logical_not(binary_Y),binary_Y]), dtype=bool).transpose())\n",
    "label_index.columns=['Fail', 'Somatic']\n",
    "positive_probabilities = prob_df[label_index].unstack().dropna().values\n",
    "\n",
    "positive_counts, bins = np.histogram(positive_probabilities, bins=[0,.1,.2,.3,.4,.5,.6,.7,.8,.9,1])\n",
    "\n",
    "negative_probabilities = prob_df[~label_index].unstack().dropna()\n",
    "\n",
    "negative_counts, _ = np.histogram(negative_probabilities, bins=[0,.1,.2,.3,.4,.5,.6,.7,.8,.9,1])\n",
    "\n",
    "binary_pct_positive = positive_counts / (positive_counts + negative_counts)"
   ]
  },
  {
   "cell_type": "code",
   "execution_count": 39,
   "metadata": {
    "ExecuteTime": {
     "end_time": "2017-05-17T15:55:21.715847Z",
     "start_time": "2017-05-17T10:55:21.403884-05:00"
    }
   },
   "outputs": [
    {
     "data": {
      "image/png": "[encoded data removed]",
      "text/plain": [
       "<matplotlib.figure.Figure at 0x1441d2630>"
      ]
     },
     "metadata": {},
     "output_type": "display_data"
    }
   ],
   "source": [
    "width = 0.03       # the width of the bars\n",
    "\n",
    "fig, ax1 = plt.subplots()\n",
    "rects1 = ax1.bar(bins[1:], negative_counts, width, color='grey')\n",
    "\n",
    "rects2 = ax1.bar(bins[1:] + width, positive_counts, width, color='green')\n",
    "\n",
    "# add some text for labels, title and axes ticks\n",
    "\n",
    "ax1.set_title('Reliability diagram')\n",
    "ax1.set_xticks(bins[1:] + width / 2)\n",
    "ax1.set_xticklabels(bins[1:])\n",
    "# ax.plot(ax.get_xlim(), ax.get_ylim(), ls=\"--\", c=\".3\")\n",
    "\n",
    "# ax1.legend((rects1[0], rects2[0]), ('Neg', 'Pos'), loc=5)\n",
    "\n",
    "ax2 = ax1.twinx()\n",
    "ax2.plot(bins, bins, ls=\"--\", c=\".3\")\n",
    "r2 = str(round(metrics.r2_score(bins[1:], pct_positive),2))\n",
    "ax2.plot(bins[1:], binary_pct_positive, \"-o\", color='blue')\n",
    "ax2.text(.85,.75,'$R^2$: {0}'.format(r2), color='blue', fontsize=15)\n",
    "\n",
    "\n",
    "plt.show()"
   ]
  },
  {
   "cell_type": "code",
   "execution_count": null,
   "metadata": {
    "collapsed": true
   },
   "outputs": [],
   "source": []
  }
 ],
 "metadata": {
  "kernelspec": {
   "display_name": "Python 3",
   "language": "python",
   "name": "python3"
  },
  "language_info": {
   "codemirror_mode": {
    "name": "ipython",
    "version": 3
   },
   "file_extension": ".py",
   "mimetype": "text/x-python",
   "name": "python",
   "nbconvert_exporter": "python",
   "pygments_lexer": "ipython3",
   "version": "3.6.1"
  }
 },
 "nbformat": 4,
 "nbformat_minor": 2
}
