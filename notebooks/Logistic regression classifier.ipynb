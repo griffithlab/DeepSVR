{
 "cells": [
  {
   "cell_type": "code",
   "execution_count": 1,
   "metadata": {
    "ExecuteTime": {
     "end_time": "2017-05-10T17:02:41.523829Z",
     "start_time": "2017-05-10T12:02:38.257875-05:00"
    }
   },
   "outputs": [
    {
     "name": "stderr",
     "output_type": "stream",
     "text": [
      "Using TensorFlow backend.\n"
     ]
    }
   ],
   "source": [
    "import numpy as np\n",
    "import pandas as pd\n",
    "from keras.models import Sequential\n",
    "from keras.layers import Dense\n",
    "from keras.wrappers.scikit_learn import KerasClassifier\n",
    "from sklearn.model_selection import KFold\n",
    "from sklearn.model_selection import cross_val_predict\n",
    "from sklearn import preprocessing\n",
    "from sklearn import metrics\n",
    "\n",
    "import matplotlib.pyplot as plt\n",
    "import seaborn as sns\n",
    "from itertools import cycle\n",
    "\n",
    "sns.set_style(\"white\")\n",
    "sns.set_context('notebook')"
   ]
  },
  {
   "cell_type": "code",
   "execution_count": 2,
   "metadata": {
    "ExecuteTime": {
     "end_time": "2017-05-10T17:02:41.571523Z",
     "start_time": "2017-05-10T12:02:41.526037-05:00"
    },
    "collapsed": true
   },
   "outputs": [],
   "source": [
    "training_data = pd.read_pickle('../data/training_data.pkl')"
   ]
  },
  {
   "cell_type": "code",
   "execution_count": 22,
   "metadata": {
    "ExecuteTime": {
     "end_time": "2017-05-10T17:50:52.444035Z",
     "start_time": "2017-05-10T12:50:52.420558-05:00"
    }
   },
   "outputs": [
    {
     "data": {
      "text/plain": [
       "call\n",
       "a    13745\n",
       "f     1600\n",
       "g     3946\n",
       "s    17781\n",
       "dtype: int64"
      ]
     },
     "execution_count": 22,
     "metadata": {},
     "output_type": "execute_result"
    }
   ],
   "source": [
    "training_data.groupby('call').size()"
   ]
  },
  {
   "cell_type": "code",
   "execution_count": 3,
   "metadata": {
    "ExecuteTime": {
     "end_time": "2017-05-10T17:02:41.621005Z",
     "start_time": "2017-05-10T12:02:41.573447-05:00"
    }
   },
   "outputs": [],
   "source": [
    "# Get Labels\n",
    "Y = pd.get_dummies(training_data.call).astype(float).values\n",
    "# Get training data as numpy array\n",
    "X = training_data.drop('call', axis=1).astype(float).values"
   ]
  },
  {
   "cell_type": "code",
   "execution_count": 4,
   "metadata": {
    "ExecuteTime": {
     "end_time": "2017-05-10T17:02:41.631495Z",
     "start_time": "2017-05-10T12:02:41.622757-05:00"
    }
   },
   "outputs": [
    {
     "data": {
      "text/plain": [
       "(37072, 67)"
      ]
     },
     "execution_count": 4,
     "metadata": {},
     "output_type": "execute_result"
    }
   ],
   "source": [
    "X.shape"
   ]
  },
  {
   "cell_type": "code",
   "execution_count": 5,
   "metadata": {
    "ExecuteTime": {
     "end_time": "2017-05-10T17:02:41.636629Z",
     "start_time": "2017-05-10T12:02:41.633209-05:00"
    }
   },
   "outputs": [
    {
     "data": {
      "text/plain": [
       "(37072, 4)"
      ]
     },
     "execution_count": 5,
     "metadata": {},
     "output_type": "execute_result"
    }
   ],
   "source": [
    "Y.shape"
   ]
  },
  {
   "cell_type": "code",
   "execution_count": 6,
   "metadata": {
    "ExecuteTime": {
     "end_time": "2017-05-10T17:02:41.640979Z",
     "start_time": "2017-05-10T12:02:41.637972-05:00"
    },
    "collapsed": true
   },
   "outputs": [],
   "source": [
    "# fix random seed for reproducibility\n",
    "seed = 7\n",
    "np.random.seed(seed)"
   ]
  },
  {
   "cell_type": "code",
   "execution_count": 7,
   "metadata": {
    "ExecuteTime": {
     "end_time": "2017-05-10T17:02:41.646878Z",
     "start_time": "2017-05-10T12:02:41.642629-05:00"
    },
    "collapsed": true
   },
   "outputs": [],
   "source": [
    "# define baseline model\n",
    "def baseline_model():\n",
    "    # create model\n",
    "    model = Sequential()\n",
    "    model.add(Dense(4, input_dim=67, kernel_initializer='normal', activation='sigmoid'))\n",
    "    # Compile model\n",
    "    model.compile(loss='categorical_crossentropy', optimizer='adam', metrics=['accuracy'])\n",
    "    return model"
   ]
  },
  {
   "cell_type": "code",
   "execution_count": 8,
   "metadata": {
    "ExecuteTime": {
     "end_time": "2017-05-10T17:02:41.652309Z",
     "start_time": "2017-05-10T12:02:41.648710-05:00"
    },
    "collapsed": true
   },
   "outputs": [],
   "source": [
    "estimator = KerasClassifier(build_fn=baseline_model, epochs=10, batch_size=5, verbose=1)"
   ]
  },
  {
   "cell_type": "code",
   "execution_count": 9,
   "metadata": {
    "ExecuteTime": {
     "end_time": "2017-05-10T17:02:41.656511Z",
     "start_time": "2017-05-10T12:02:41.653805-05:00"
    },
    "collapsed": true
   },
   "outputs": [],
   "source": [
    "kfold = KFold(n_splits=10, shuffle=True, random_state=seed)"
   ]
  },
  {
   "cell_type": "code",
   "execution_count": 10,
   "metadata": {
    "ExecuteTime": {
     "end_time": "2017-05-10T17:35:52.779226Z",
     "start_time": "2017-05-10T12:02:41.657985-05:00"
    }
   },
   "outputs": [
    {
     "name": "stdout",
     "output_type": "stream",
     "text": [
      "Epoch 1/10\n",
      "33364/33364 [==============================] - 18s - loss: 0.8710 - acc: 0.6177    \n",
      "Epoch 2/10\n",
      "33364/33364 [==============================] - 16s - loss: 0.7603 - acc: 0.7050    \n",
      "Epoch 3/10\n",
      "33364/33364 [==============================] - 19s - loss: 0.7329 - acc: 0.7132    \n",
      "Epoch 4/10\n",
      "33364/33364 [==============================] - 17s - loss: 0.7192 - acc: 0.7176    \n",
      "Epoch 5/10\n",
      "33364/33364 [==============================] - 17s - loss: 0.7112 - acc: 0.7197    \n",
      "Epoch 6/10\n",
      "33364/33364 [==============================] - 18s - loss: 0.7055 - acc: 0.7209    \n",
      "Epoch 7/10\n",
      "33364/33364 [==============================] - 18s - loss: 0.7015 - acc: 0.7220    \n",
      "Epoch 8/10\n",
      "33364/33364 [==============================] - 18s - loss: 0.6981 - acc: 0.7233    \n",
      "Epoch 9/10\n",
      "33364/33364 [==============================] - 18s - loss: 0.6951 - acc: 0.7242    \n",
      "Epoch 10/10\n",
      "33364/33364 [==============================] - 18s - loss: 0.6926 - acc: 0.7240    \n",
      "3655/3708 [============================>.] - ETA: 0sEpoch 1/10\n",
      "33364/33364 [==============================] - 19s - loss: 0.8741 - acc: 0.6205    \n",
      "Epoch 2/10\n",
      "33364/33364 [==============================] - 18s - loss: 0.7629 - acc: 0.7071    \n",
      "Epoch 3/10\n",
      "33364/33364 [==============================] - 19s - loss: 0.7352 - acc: 0.7135    \n",
      "Epoch 4/10\n",
      "33364/33364 [==============================] - 19s - loss: 0.7213 - acc: 0.7178    \n",
      "Epoch 5/10\n",
      "33364/33364 [==============================] - 19s - loss: 0.7133 - acc: 0.7195    \n",
      "Epoch 6/10\n",
      "33364/33364 [==============================] - 19s - loss: 0.7076 - acc: 0.7212    \n",
      "Epoch 7/10\n",
      "33364/33364 [==============================] - 20s - loss: 0.7029 - acc: 0.7222    \n",
      "Epoch 8/10\n",
      "33364/33364 [==============================] - 20s - loss: 0.6999 - acc: 0.7236    \n",
      "Epoch 9/10\n",
      "33364/33364 [==============================] - 20s - loss: 0.6971 - acc: 0.7232    \n",
      "Epoch 10/10\n",
      "33364/33364 [==============================] - 19s - loss: 0.6943 - acc: 0.7244    \n",
      "3690/3708 [============================>.] - ETA: 0sEpoch 1/10\n",
      "33365/33365 [==============================] - 20s - loss: 0.8764 - acc: 0.6197    \n",
      "Epoch 2/10\n",
      "33365/33365 [==============================] - 18s - loss: 0.7633 - acc: 0.7057    \n",
      "Epoch 3/10\n",
      "33365/33365 [==============================] - 18s - loss: 0.7354 - acc: 0.7132    \n",
      "Epoch 4/10\n",
      "33365/33365 [==============================] - 20s - loss: 0.7218 - acc: 0.7172    \n",
      "Epoch 5/10\n",
      "33365/33365 [==============================] - 18s - loss: 0.7135 - acc: 0.7199    \n",
      "Epoch 6/10\n",
      "33365/33365 [==============================] - 18s - loss: 0.7077 - acc: 0.7207    \n",
      "Epoch 7/10\n",
      "33365/33365 [==============================] - 18s - loss: 0.7037 - acc: 0.7226    \n",
      "Epoch 8/10\n",
      "33365/33365 [==============================] - 18s - loss: 0.7003 - acc: 0.7234    \n",
      "Epoch 9/10\n",
      "33365/33365 [==============================] - 18s - loss: 0.6974 - acc: 0.7222    \n",
      "Epoch 10/10\n",
      "33365/33365 [==============================] - 18s - loss: 0.6947 - acc: 0.7244    \n",
      "3330/3707 [=========================>....] - ETA: 0sEpoch 1/10\n",
      "33365/33365 [==============================] - 18s - loss: 0.8732 - acc: 0.6243    \n",
      "Epoch 2/10\n",
      "33365/33365 [==============================] - 18s - loss: 0.7627 - acc: 0.7042    \n",
      "Epoch 3/10\n",
      "33365/33365 [==============================] - 18s - loss: 0.7352 - acc: 0.7126    \n",
      "Epoch 4/10\n",
      "33365/33365 [==============================] - 18s - loss: 0.7217 - acc: 0.7156    \n",
      "Epoch 5/10\n",
      "33365/33365 [==============================] - 17s - loss: 0.7136 - acc: 0.7187    \n",
      "Epoch 6/10\n",
      "33365/33365 [==============================] - 21s - loss: 0.7077 - acc: 0.7188    \n",
      "Epoch 7/10\n",
      "33365/33365 [==============================] - 21s - loss: 0.7038 - acc: 0.7207    \n",
      "Epoch 8/10\n",
      "33365/33365 [==============================] - 21s - loss: 0.7002 - acc: 0.7220    \n",
      "Epoch 9/10\n",
      "33365/33365 [==============================] - 21s - loss: 0.6977 - acc: 0.7223    \n",
      "Epoch 10/10\n",
      "33365/33365 [==============================] - 21s - loss: 0.6951 - acc: 0.7237    \n",
      "3510/3707 [===========================>..] - ETA: 0sEpoch 1/10\n",
      "33365/33365 [==============================] - 22s - loss: 0.8745 - acc: 0.6179    \n",
      "Epoch 2/10\n",
      "33365/33365 [==============================] - 22s - loss: 0.7640 - acc: 0.7051    \n",
      "Epoch 3/10\n",
      "33365/33365 [==============================] - 22s - loss: 0.7372 - acc: 0.7134    \n",
      "Epoch 4/10\n",
      "33365/33365 [==============================] - 22s - loss: 0.7237 - acc: 0.7167    \n",
      "Epoch 5/10\n",
      "33365/33365 [==============================] - 22s - loss: 0.7163 - acc: 0.7192    \n",
      "Epoch 6/10\n",
      "33365/33365 [==============================] - 22s - loss: 0.7107 - acc: 0.7207    \n",
      "Epoch 7/10\n",
      "33365/33365 [==============================] - 22s - loss: 0.7063 - acc: 0.7203    \n",
      "Epoch 8/10\n",
      "33365/33365 [==============================] - 22s - loss: 0.7027 - acc: 0.7223    \n",
      "Epoch 9/10\n",
      "33365/33365 [==============================] - 21s - loss: 0.6996 - acc: 0.7217    \n",
      "Epoch 10/10\n",
      "33365/33365 [==============================] - 20s - loss: 0.6974 - acc: 0.7235    \n",
      "3560/3707 [===========================>..] - ETA: 0sEpoch 1/10\n",
      "33365/33365 [==============================] - 20s - loss: 0.8771 - acc: 0.6176    \n",
      "Epoch 2/10\n",
      "33365/33365 [==============================] - 20s - loss: 0.7639 - acc: 0.7021    \n",
      "Epoch 3/10\n",
      "33365/33365 [==============================] - 20s - loss: 0.7363 - acc: 0.7124    \n",
      "Epoch 4/10\n",
      "33365/33365 [==============================] - 20s - loss: 0.7225 - acc: 0.7154    \n",
      "Epoch 5/10\n",
      "33365/33365 [==============================] - 19s - loss: 0.7144 - acc: 0.7169    \n",
      "Epoch 6/10\n",
      "33365/33365 [==============================] - 19s - loss: 0.7087 - acc: 0.7184    \n",
      "Epoch 7/10\n",
      "33365/33365 [==============================] - 19s - loss: 0.7046 - acc: 0.7189    \n",
      "Epoch 8/10\n",
      "33365/33365 [==============================] - 19s - loss: 0.7012 - acc: 0.7216    \n",
      "Epoch 9/10\n",
      "33365/33365 [==============================] - 19s - loss: 0.6982 - acc: 0.7219    \n",
      "Epoch 10/10\n",
      "33365/33365 [==============================] - 18s - loss: 0.6958 - acc: 0.7218    \n",
      "3520/3707 [===========================>..] - ETA: 0sEpoch 1/10\n",
      "33365/33365 [==============================] - 19s - loss: 0.8731 - acc: 0.6194    \n",
      "Epoch 2/10\n",
      "33365/33365 [==============================] - 19s - loss: 0.7615 - acc: 0.7035    \n",
      "Epoch 3/10\n",
      "33365/33365 [==============================] - 19s - loss: 0.7344 - acc: 0.7135    \n",
      "Epoch 4/10\n",
      "33365/33365 [==============================] - 19s - loss: 0.7206 - acc: 0.7178    \n",
      "Epoch 5/10\n",
      "33365/33365 [==============================] - 20s - loss: 0.7126 - acc: 0.7181    \n",
      "Epoch 6/10\n",
      "33365/33365 [==============================] - 22s - loss: 0.7068 - acc: 0.7205    \n",
      "Epoch 7/10\n",
      "33365/33365 [==============================] - 21s - loss: 0.7026 - acc: 0.7210    \n",
      "Epoch 8/10\n",
      "33365/33365 [==============================] - 21s - loss: 0.6990 - acc: 0.7231    \n",
      "Epoch 9/10\n",
      "33365/33365 [==============================] - 21s - loss: 0.6964 - acc: 0.7240    \n",
      "Epoch 10/10\n",
      "33365/33365 [==============================] - 21s - loss: 0.6940 - acc: 0.7226    \n",
      "3500/3707 [===========================>..] - ETA: 0sEpoch 1/10\n",
      "33365/33365 [==============================] - 22s - loss: 0.8773 - acc: 0.6170    \n",
      "Epoch 2/10\n",
      "33365/33365 [==============================] - 21s - loss: 0.7644 - acc: 0.7041    \n",
      "Epoch 3/10\n",
      "33365/33365 [==============================] - 22s - loss: 0.7362 - acc: 0.7125    \n",
      "Epoch 4/10\n",
      "33365/33365 [==============================] - 21s - loss: 0.7226 - acc: 0.7168    \n",
      "Epoch 5/10\n",
      "33365/33365 [==============================] - 21s - loss: 0.7139 - acc: 0.7180    \n",
      "Epoch 6/10\n",
      "33365/33365 [==============================] - 21s - loss: 0.7086 - acc: 0.7178    \n",
      "Epoch 7/10\n",
      "33365/33365 [==============================] - 22s - loss: 0.7043 - acc: 0.7199    \n",
      "Epoch 8/10\n",
      "33365/33365 [==============================] - 21s - loss: 0.7009 - acc: 0.7212    \n",
      "Epoch 9/10\n",
      "33365/33365 [==============================] - 21s - loss: 0.6978 - acc: 0.7220    \n",
      "Epoch 10/10\n",
      "33365/33365 [==============================] - 21s - loss: 0.6953 - acc: 0.7236    \n",
      "3645/3707 [============================>.] - ETA: 0sEpoch 1/10\n",
      "33365/33365 [==============================] - 21s - loss: 0.8743 - acc: 0.6177    \n",
      "Epoch 2/10\n"
     ]
    },
    {
     "name": "stdout",
     "output_type": "stream",
     "text": [
      "33365/33365 [==============================] - 16s - loss: 0.7623 - acc: 0.7034    \n",
      "Epoch 3/10\n",
      "33365/33365 [==============================] - 16s - loss: 0.7348 - acc: 0.7135    \n",
      "Epoch 4/10\n",
      "33365/33365 [==============================] - 16s - loss: 0.7214 - acc: 0.7180    \n",
      "Epoch 5/10\n",
      "33365/33365 [==============================] - 19s - loss: 0.7131 - acc: 0.7196    \n",
      "Epoch 6/10\n",
      "33365/33365 [==============================] - 17s - loss: 0.7076 - acc: 0.7212    \n",
      "Epoch 7/10\n",
      "33365/33365 [==============================] - 16s - loss: 0.7032 - acc: 0.7217    \n",
      "Epoch 8/10\n",
      "33365/33365 [==============================] - 16s - loss: 0.7002 - acc: 0.7206    \n",
      "Epoch 9/10\n",
      "33365/33365 [==============================] - 17s - loss: 0.6968 - acc: 0.7237    \n",
      "Epoch 10/10\n",
      "33365/33365 [==============================] - 16s - loss: 0.6944 - acc: 0.7239    \n",
      "3640/3707 [============================>.] - ETA: 0sEpoch 1/10\n",
      "33365/33365 [==============================] - 19s - loss: 0.8741 - acc: 0.6218    \n",
      "Epoch 2/10\n",
      "33365/33365 [==============================] - 20s - loss: 0.7633 - acc: 0.7047    \n",
      "Epoch 3/10\n",
      "33365/33365 [==============================] - 19s - loss: 0.7359 - acc: 0.7139    \n",
      "Epoch 4/10\n",
      "33365/33365 [==============================] - 19s - loss: 0.7228 - acc: 0.7156    \n",
      "Epoch 5/10\n",
      "33365/33365 [==============================] - 19s - loss: 0.7146 - acc: 0.7201    \n",
      "Epoch 6/10\n",
      "33365/33365 [==============================] - 19s - loss: 0.7091 - acc: 0.7204    \n",
      "Epoch 7/10\n",
      "33365/33365 [==============================] - 19s - loss: 0.7048 - acc: 0.7207    \n",
      "Epoch 8/10\n",
      "33365/33365 [==============================] - 19s - loss: 0.7018 - acc: 0.7208    \n",
      "Epoch 9/10\n",
      "33365/33365 [==============================] - 19s - loss: 0.6989 - acc: 0.7223    \n",
      "Epoch 10/10\n",
      "33365/33365 [==============================] - 19s - loss: 0.6963 - acc: 0.7239    \n",
      "3695/3707 [============================>.] - ETA: 0s"
     ]
    }
   ],
   "source": [
    "predicted = cross_val_predict(estimator, X, Y, cv=kfold)"
   ]
  },
  {
   "cell_type": "code",
   "execution_count": null,
   "metadata": {
    "collapsed": true
   },
   "outputs": [],
   "source": [
    "label_binarizer = preprocessing.LabelBinarizer()\n",
    "\n",
    "label_binarizer.fit(range(max(predicted)+1))\n",
    "predicted_transformed = label_binarizer.transform(predicted)"
   ]
  },
  {
   "cell_type": "code",
   "execution_count": 18,
   "metadata": {
    "ExecuteTime": {
     "end_time": "2017-05-10T17:48:29.151897Z",
     "start_time": "2017-05-10T12:48:29.136349-05:00"
    }
   },
   "outputs": [
    {
     "data": {
      "text/plain": [
       "0.72156883901596891"
      ]
     },
     "execution_count": 18,
     "metadata": {},
     "output_type": "execute_result"
    }
   ],
   "source": [
    "metrics.accuracy_score(Y, predicted_transformed)"
   ]
  },
  {
   "cell_type": "markdown",
   "metadata": {},
   "source": [
    "#### Classification report\n",
    "* 0 = ambiguous\n",
    "* 1 = fail\n",
    "* 2 = germline\n",
    "* 3 = somatic"
   ]
  },
  {
   "cell_type": "code",
   "execution_count": 21,
   "metadata": {
    "ExecuteTime": {
     "end_time": "2017-05-10T17:49:16.931150Z",
     "start_time": "2017-05-10T12:49:16.909123-05:00"
    }
   },
   "outputs": [
    {
     "name": "stdout",
     "output_type": "stream",
     "text": [
      "             precision    recall  f1-score   support\n",
      "\n",
      "          0       0.68      0.73      0.70     13745\n",
      "          1       0.47      0.13      0.21      1600\n",
      "          2       0.60      0.51      0.55      3946\n",
      "          3       0.78      0.81      0.80     17781\n",
      "\n",
      "avg / total       0.71      0.72      0.71     37072\n",
      "\n"
     ]
    }
   ],
   "source": [
    "print(metrics.classification_report(Y, predicted_transformed))"
   ]
  },
  {
   "cell_type": "code",
   "execution_count": 48,
   "metadata": {
    "ExecuteTime": {
     "end_time": "2017-05-10T20:22:18.162805Z",
     "start_time": "2017-05-10T15:22:17.926069-05:00"
    }
   },
   "outputs": [
    {
     "data": {
      "image/png": "[encoded data removed]",
      "text/plain": [
       "<matplotlib.figure.Figure at 0x13e2eda90>"
      ]
     },
     "metadata": {},
     "output_type": "display_data"
    }
   ],
   "source": [
    "n_classes = Y.shape[1]\n",
    "class_lookup = {0: 'Ambiguous', 1: 'Fail', 2: 'Germline', 3: 'Somatic'}\n",
    "fpr = dict()\n",
    "tpr = dict()\n",
    "roc_auc = dict()\n",
    "plt.title('Receiver Operating Characteristic')\n",
    "colors = cycle(['aqua', 'darkorange', 'cornflowerblue', 'deeppink'])\n",
    "for i, color in zip(range(n_classes), colors):\n",
    "    fpr[i], tpr[i], _ = metrics.roc_curve(Y[:, i], predicted_transformed[:, i])\n",
    "    roc_auc[i] = metrics.auc(fpr[i], tpr[i])\n",
    "    plt.plot(fpr[i], tpr[i], color=color, label='ROC curve of class {0}'\n",
    "             ' (area = {1:0.2f})'.format(class_lookup[i], roc_auc[i]))\n",
    "plt.plot([0, 1], [0, 1], 'k--')\n",
    "plt.xlim([0.0, 1.0])\n",
    "plt.ylim([0.0, 1.05])\n",
    "plt.xlabel('False Positive Rate')\n",
    "plt.ylabel('True Positive Rate')\n",
    "plt.legend(loc=\"lower right\")\n",
    "plt.show()"
   ]
  },
  {
   "cell_type": "code",
   "execution_count": null,
   "metadata": {
    "collapsed": true
   },
   "outputs": [],
   "source": []
  }
 ],
 "metadata": {
  "kernelspec": {
   "display_name": "Python 3",
   "language": "python",
   "name": "python3"
  },
  "language_info": {
   "codemirror_mode": {
    "name": "ipython",
    "version": 3
   },
   "file_extension": ".py",
   "mimetype": "text/x-python",
   "name": "python",
   "nbconvert_exporter": "python",
   "pygments_lexer": "ipython3",
   "version": "3.6.1"
  }
 },
 "nbformat": 4,
 "nbformat_minor": 2
}
