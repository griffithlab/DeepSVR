{
 "cells": [
  {
   "cell_type": "code",
   "execution_count": 1,
   "metadata": {
    "ExecuteTime": {
     "end_time": "2017-10-13T15:17:09.281141Z",
     "start_time": "2017-10-13T15:17:09.035420Z"
    },
    "collapsed": true
   },
   "outputs": [],
   "source": [
    "import matplotlib.pyplot as plt"
   ]
  },
  {
   "cell_type": "code",
   "execution_count": 2,
   "metadata": {
    "ExecuteTime": {
     "end_time": "2017-10-13T15:17:09.411481Z",
     "start_time": "2017-10-13T15:17:09.282592Z"
    },
    "collapsed": true
   },
   "outputs": [],
   "source": [
    "import pandas as pd, os, re, numpy as np\n",
    "%matplotlib inline"
   ]
  },
  {
   "cell_type": "code",
   "execution_count": 3,
   "metadata": {
    "ExecuteTime": {
     "end_time": "2017-10-13T15:17:09.683664Z",
     "start_time": "2017-10-13T15:17:09.413138Z"
    },
    "collapsed": true
   },
   "outputs": [],
   "source": [
    "import seaborn as sns"
   ]
  },
  {
   "cell_type": "code",
   "execution_count": 4,
   "metadata": {
    "ExecuteTime": {
     "end_time": "2017-10-13T15:17:09.896004Z",
     "start_time": "2017-10-13T15:17:09.685439Z"
    },
    "collapsed": true
   },
   "outputs": [],
   "source": [
    "from clustergrammer_widget import *"
   ]
  },
  {
   "cell_type": "code",
   "execution_count": 5,
   "metadata": {
    "ExecuteTime": {
     "end_time": "2017-10-13T15:17:09.975037Z",
     "start_time": "2017-10-13T15:17:09.898207Z"
    },
    "collapsed": true
   },
   "outputs": [],
   "source": [
    "samples = pd.read_pickle('../data/full_sample_df.pkl')"
   ]
  },
  {
   "cell_type": "code",
   "execution_count": 6,
   "metadata": {
    "ExecuteTime": {
     "end_time": "2017-10-13T15:17:09.984970Z",
     "start_time": "2017-10-13T15:17:09.977443Z"
    },
    "collapsed": true
   },
   "outputs": [],
   "source": [
    "samples = samples[samples.sequencing_context != 'rna seq']"
   ]
  },
  {
   "cell_type": "code",
   "execution_count": 7,
   "metadata": {
    "ExecuteTime": {
     "end_time": "2017-10-13T15:17:09.993421Z",
     "start_time": "2017-10-13T15:17:09.986835Z"
    },
    "collapsed": true
   },
   "outputs": [],
   "source": [
    "#keep tumor normal pairs\n",
    "samples = samples[samples.tumor_normal_pair]"
   ]
  },
  {
   "cell_type": "code",
   "execution_count": 8,
   "metadata": {
    "ExecuteTime": {
     "end_time": "2017-10-13T15:17:10.614648Z",
     "start_time": "2017-10-13T15:17:09.995786Z"
    },
    "collapsed": true
   },
   "outputs": [],
   "source": [
    "review_df = pd.read_pickle('../data/review_df.pkl')"
   ]
  },
  {
   "cell_type": "code",
   "execution_count": 9,
   "metadata": {
    "ExecuteTime": {
     "end_time": "2017-10-13T15:17:10.637138Z",
     "start_time": "2017-10-13T15:17:10.616462Z"
    },
    "collapsed": true
   },
   "outputs": [],
   "source": [
    "review_df.project = review_df.project.str.strip()"
   ]
  },
  {
   "cell_type": "code",
   "execution_count": 10,
   "metadata": {
    "ExecuteTime": {
     "end_time": "2017-10-13T15:17:10.656107Z",
     "start_time": "2017-10-13T15:17:10.638827Z"
    },
    "collapsed": true
   },
   "outputs": [],
   "source": [
    "#filter to only tumor normal pairs\n",
    "review_df = review_df[review_df.individual_name.isin(list(samples.individual_name.unique()))]"
   ]
  },
  {
   "cell_type": "code",
   "execution_count": 11,
   "metadata": {
    "ExecuteTime": {
     "end_time": "2017-10-13T15:17:10.712191Z",
     "start_time": "2017-10-13T15:17:10.658145Z"
    },
    "collapsed": true
   },
   "outputs": [],
   "source": [
    "review_df.drop_duplicates(inplace=True)"
   ]
  },
  {
   "cell_type": "code",
   "execution_count": 12,
   "metadata": {
    "ExecuteTime": {
     "end_time": "2017-10-13T15:17:10.721070Z",
     "start_time": "2017-10-13T15:17:10.713856Z"
    },
    "collapsed": true
   },
   "outputs": [],
   "source": [
    "from zero_one_based_conversion import convert"
   ]
  },
  {
   "cell_type": "code",
   "execution_count": 13,
   "metadata": {
    "ExecuteTime": {
     "end_time": "2017-10-13T15:17:10.727364Z",
     "start_time": "2017-10-13T15:17:10.722963Z"
    },
    "collapsed": true
   },
   "outputs": [],
   "source": [
    "def convert_one_based(row):\n",
    "    return convert.coordinate_system('\\t'.join(map(str,row.values)), 'to_one_based').split('\\t')"
   ]
  },
  {
   "cell_type": "code",
   "execution_count": 14,
   "metadata": {
    "ExecuteTime": {
     "end_time": "2017-10-13T15:17:15.218139Z",
     "start_time": "2017-10-13T15:17:10.729551Z"
    }
   },
   "outputs": [
    {
     "name": "stdout",
     "output_type": "stream",
     "text": [
      "Coordinate Error in line 1 or input. Coordinate skipped.\n",
      "\tMessage: For the coordinate 11:51579262-51579264->T, the reference and variant fields indicate an insertion variant, however the coordinates (51579262 and 51579264) are not valid for these mutation types.\n",
      "Coordinate Error in line 1 or input. Coordinate skipped.\n",
      "\tMessage: For the coordinate 1:36728386-36728388->T, the reference and variant fields indicate an insertion variant, however the coordinates (36728386 and 36728388) are not valid for these mutation types.\n",
      "Coordinate Error in line 1 or input. Coordinate skipped.\n",
      "\tMessage: For the coordinate 1:34510640-34510642->AT, the reference and variant fields indicate an insertion variant, however the coordinates (34510640 and 34510642) are not valid for these mutation types.\n",
      "Coordinate Error in line 1 or input. Coordinate skipped.\n",
      "\tMessage: For the coordinate 11:51579262-51579264->T, the reference and variant fields indicate an insertion variant, however the coordinates (51579262 and 51579264) are not valid for these mutation types.\n",
      "Coordinate Error in line 1 or input. Coordinate skipped.\n",
      "\tMessage: For the coordinate 11:115846647-115846649->G, the reference and variant fields indicate an insertion variant, however the coordinates (115846647 and 115846649) are not valid for these mutation types.\n",
      "Coordinate Error in line 1 or input. Coordinate skipped.\n",
      "\tMessage: For the coordinate X:152851629-152851631->TTGTC, the reference and variant fields indicate an insertion variant, however the coordinates (152851629 and 152851631) are not valid for these mutation types.\n",
      "Coordinate Error in line 1 or input. Coordinate skipped.\n",
      "\tMessage: For the coordinate 7:151975679-151975681->TGTATATATA, the reference and variant fields indicate an insertion variant, however the coordinates (151975679 and 151975681) are not valid for these mutation types.\n",
      "Coordinate Error in line 1 or input. Coordinate skipped.\n",
      "\tMessage: For the coordinate 11:115846647-115846649->G, the reference and variant fields indicate an insertion variant, however the coordinates (115846647 and 115846649) are not valid for these mutation types.\n",
      "Coordinate Error in line 1 or input. Coordinate skipped.\n",
      "\tMessage: For the coordinate 11:51579262-51579264->T, the reference and variant fields indicate an insertion variant, however the coordinates (51579262 and 51579264) are not valid for these mutation types.\n",
      "Coordinate Error in line 1 or input. Coordinate skipped.\n",
      "\tMessage: For the coordinate 11:51579262-51579264->T, the reference and variant fields indicate an insertion variant, however the coordinates (51579262 and 51579264) are not valid for these mutation types.\n",
      "Coordinate Error in line 1 or input. Coordinate skipped.\n",
      "\tMessage: For the coordinate 1:34510640-34510642->AT, the reference and variant fields indicate an insertion variant, however the coordinates (34510640 and 34510642) are not valid for these mutation types.\n",
      "Coordinate Error in line 1 or input. Coordinate skipped.\n",
      "\tMessage: For the coordinate 10:15863734-15863734AAC>-, the reference and variant fields indicate an deletion or substitution variant, however the coordinates (15863734 and 15863734) are not valid for these mutation types.\n",
      "Coordinate Error in line 1 or input. Coordinate skipped.\n",
      "\tMessage: For the coordinate X:51239294-51239309TCCTCGAGGCAGCC>0, the reference and variant fields indicate an deletion or substitution variant, however the coordinates (51239294 and 51239309) are not valid for these mutation types.\n",
      "Coordinate Error in line 1 or input. Coordinate skipped.\n",
      "\tMessage: For the coordinate 17:66422230-66422234TCA>0, the reference and variant fields indicate an deletion or substitution variant, however the coordinates (66422230 and 66422234) are not valid for these mutation types.\n",
      "Coordinate Error in line 1 or input. Coordinate skipped.\n",
      "\tMessage: For the coordinate 19:876901-876938CCTGCCACGGGGCCCCCACCTGCCACAGGGCCCCCA>0, the reference and variant fields indicate an deletion or substitution variant, however the coordinates (876901 and 876938) are not valid for these mutation types.\n",
      "Coordinate Error in line 1 or input. Coordinate skipped.\n",
      "\tMessage: For the coordinate 19:876927-876929A>0, the reference and variant fields indicate an deletion or substitution variant, however the coordinates (876927 and 876929) are not valid for these mutation types.\n",
      "Coordinate Error in line 1 or input. Coordinate skipped.\n",
      "\tMessage: For the coordinate 8:145623879-1456238780>G, the reference and variant fields indicate an insertion variant, however the coordinates (145623879 and 145623878) are not valid for these mutation types.\n",
      "Coordinate Error in line 1 or input. Coordinate skipped.\n",
      "\tMessage: For the coordinate 10:99126520-99126524CTC>0, the reference and variant fields indicate an deletion or substitution variant, however the coordinates (99126520 and 99126524) are not valid for these mutation types.\n",
      "Coordinate Error in line 1 or input. Coordinate skipped.\n",
      "\tMessage: For the coordinate 12:124824739-1248247380>GCCG, the reference and variant fields indicate an insertion variant, however the coordinates (124824739 and 124824738) are not valid for these mutation types.\n",
      "Coordinate Error in line 1 or input. Coordinate skipped.\n",
      "\tMessage: For the coordinate 17:39211139-392111380>GCAGGGGGGCCGGCA, the reference and variant fields indicate an insertion variant, however the coordinates (39211139 and 39211138) are not valid for these mutation types.\n",
      "Coordinate Error in line 1 or input. Coordinate skipped.\n",
      "\tMessage: For the coordinate 17:7579642-7579659CCCCAGCCCTCCAGGT>0, the reference and variant fields indicate an deletion or substitution variant, however the coordinates (7579642 and 7579659) are not valid for these mutation types.\n",
      "Coordinate Error in line 1 or input. Coordinate skipped.\n",
      "\tMessage: For the coordinate 4:1019053-1019056CA>0, the reference and variant fields indicate an deletion or substitution variant, however the coordinates (1019053 and 1019056) are not valid for these mutation types.\n",
      "Coordinate Error in line 1 or input. Coordinate skipped.\n",
      "\tMessage: For the coordinate X:40456467-40456471ATA>-, the reference and variant fields indicate an deletion or substitution variant, however the coordinates (40456467 and 40456471) are not valid for these mutation types.\n",
      "Coordinate Error in line 1 or input. Coordinate skipped.\n",
      "\tMessage: For the coordinate 1:153233488-1532334870>GGCGGT, the reference and variant fields indicate an insertion variant, however the coordinates (153233488 and 153233487) are not valid for these mutation types.\n",
      "Coordinate Error in line 1 or input. Coordinate skipped.\n",
      "\tMessage: For the coordinate 10:46999591-469995900>ATGAGGGAG, the reference and variant fields indicate an insertion variant, however the coordinates (46999591 and 46999590) are not valid for these mutation types.\n",
      "Coordinate Error in line 1 or input. Coordinate skipped.\n",
      "\tMessage: For the coordinate 19:55832019-558320180>CTTCTGTTA, the reference and variant fields indicate an insertion variant, however the coordinates (55832019 and 55832018) are not valid for these mutation types.\n",
      "Coordinate Error in line 1 or input. Coordinate skipped.\n",
      "\tMessage: For the coordinate 22:38161835-381618340>G, the reference and variant fields indicate an insertion variant, however the coordinates (38161835 and 38161834) are not valid for these mutation types.\n",
      "Coordinate Error in line 1 or input. Coordinate skipped.\n",
      "\tMessage: For the coordinate 22:43618631-43618633G>0, the reference and variant fields indicate an deletion or substitution variant, however the coordinates (43618631 and 43618633) are not valid for these mutation types.\n",
      "Coordinate Error in line 1 or input. Coordinate skipped.\n",
      "\tMessage: For the coordinate X:135960146-1359601450>AA, the reference and variant fields indicate an insertion variant, however the coordinates (135960146 and 135960145) are not valid for these mutation types.\n",
      "Coordinate Error in line 1 or input. Coordinate skipped.\n",
      "\tMessage: For the coordinate X:48926089-48926091A>0, the reference and variant fields indicate an deletion or substitution variant, however the coordinates (48926089 and 48926091) are not valid for these mutation types.\n",
      "Coordinate Error in line 1 or input. Coordinate skipped.\n",
      "\tMessage: For the coordinate 1:24969837-24969839G>0, the reference and variant fields indicate an deletion or substitution variant, however the coordinates (24969837 and 24969839) are not valid for these mutation types.\n",
      "Coordinate Error in line 1 or input. Coordinate skipped.\n",
      "\tMessage: For the coordinate 1:26742191-267421900>C, the reference and variant fields indicate an insertion variant, however the coordinates (26742191 and 26742190) are not valid for these mutation types.\n",
      "Coordinate Error in line 1 or input. Coordinate skipped.\n",
      "\tMessage: For the coordinate 1:52895228-52895231AT>0, the reference and variant fields indicate an deletion or substitution variant, however the coordinates (52895228 and 52895231) are not valid for these mutation types.\n",
      "Coordinate Error in line 1 or input. Coordinate skipped.\n",
      "\tMessage: For the coordinate 11:64606910-646069090>CTGCTCCCA, the reference and variant fields indicate an insertion variant, however the coordinates (64606910 and 64606909) are not valid for these mutation types.\n",
      "Coordinate Error in line 1 or input. Coordinate skipped.\n",
      "\tMessage: For the coordinate 12:7045891-70458900>CAG, the reference and variant fields indicate an insertion variant, however the coordinates (7045891 and 7045890) are not valid for these mutation types.\n",
      "Coordinate Error in line 1 or input. Coordinate skipped.\n",
      "\tMessage: For the coordinate 16:88593209-88593211T>0, the reference and variant fields indicate an deletion or substitution variant, however the coordinates (88593209 and 88593211) are not valid for these mutation types.\n",
      "Coordinate Error in line 1 or input. Coordinate skipped.\n",
      "\tMessage: For the coordinate 17:40270028-40270068CTGAAGCTGAGGAGAGAGAGAGACGTCAGGGATGGGGGG>0, the reference and variant fields indicate an deletion or substitution variant, however the coordinates (40270028 and 40270068) are not valid for these mutation types.\n",
      "Coordinate Error in line 1 or input. Coordinate skipped.\n",
      "\tMessage: For the coordinate 17:79219499-79219503ATG>0, the reference and variant fields indicate an deletion or substitution variant, however the coordinates (79219499 and 79219503) are not valid for these mutation types.\n",
      "Coordinate Error in line 1 or input. Coordinate skipped.\n",
      "\tMessage: For the coordinate 19:38377390-38377409CCTCCTCCTCCTCCCTTA>0, the reference and variant fields indicate an deletion or substitution variant, however the coordinates (38377390 and 38377409) are not valid for these mutation types.\n",
      "Coordinate Error in line 1 or input. Coordinate skipped.\n",
      "\tMessage: For the coordinate 19:48908630-48908632G>0, the reference and variant fields indicate an deletion or substitution variant, however the coordinates (48908630 and 48908632) are not valid for these mutation types.\n",
      "Coordinate Error in line 1 or input. Coordinate skipped.\n",
      "\tMessage: For the coordinate 19:6042152-6042161GCGTTACC>0, the reference and variant fields indicate an deletion or substitution variant, however the coordinates (6042152 and 6042161) are not valid for these mutation types.\n",
      "Coordinate Error in line 1 or input. Coordinate skipped.\n"
     ]
    },
    {
     "name": "stdout",
     "output_type": "stream",
     "text": [
      "\tMessage: For the coordinate 5:158524095-158524099GGC>0, the reference and variant fields indicate an deletion or substitution variant, however the coordinates (158524095 and 158524099) are not valid for these mutation types.\n",
      "Coordinate Error in line 1 or input. Coordinate skipped.\n",
      "\tMessage: For the coordinate 6:157528578-157528581CT>0, the reference and variant fields indicate an deletion or substitution variant, however the coordinates (157528578 and 157528581) are not valid for these mutation types.\n",
      "Coordinate Error in line 1 or input. Coordinate skipped.\n",
      "\tMessage: For the coordinate 7:105733551-1057335500>A, the reference and variant fields indicate an insertion variant, however the coordinates (105733551 and 105733550) are not valid for these mutation types.\n",
      "Coordinate Error in line 1 or input. Coordinate skipped.\n",
      "\tMessage: For the coordinate 8:38884345-388843440>T, the reference and variant fields indicate an insertion variant, however the coordinates (38884345 and 38884344) are not valid for these mutation types.\n",
      "Coordinate Error in line 1 or input. Coordinate skipped.\n",
      "\tMessage: For the coordinate 12:498266-498269GG>0, the reference and variant fields indicate an deletion or substitution variant, however the coordinates (498266 and 498269) are not valid for these mutation types.\n",
      "Coordinate Error in line 1 or input. Coordinate skipped.\n",
      "\tMessage: For the coordinate 16:88780635-887806340>GTGT, the reference and variant fields indicate an insertion variant, however the coordinates (88780635 and 88780634) are not valid for these mutation types.\n",
      "Coordinate Error in line 1 or input. Coordinate skipped.\n",
      "\tMessage: For the coordinate 17:62006657-62006660GT>0, the reference and variant fields indicate an deletion or substitution variant, however the coordinates (62006657 and 62006660) are not valid for these mutation types.\n",
      "Coordinate Error in line 1 or input. Coordinate skipped.\n",
      "\tMessage: For the coordinate 17:76798547-76798554TTTTTC>0, the reference and variant fields indicate an deletion or substitution variant, however the coordinates (76798547 and 76798554) are not valid for these mutation types.\n",
      "Coordinate Error in line 1 or input. Coordinate skipped.\n",
      "\tMessage: For the coordinate 2:153476066-1534760650>CCA, the reference and variant fields indicate an insertion variant, however the coordinates (153476066 and 153476065) are not valid for these mutation types.\n",
      "Coordinate Error in line 1 or input. Coordinate skipped.\n",
      "\tMessage: For the coordinate 21:46927369-46927412GGGAGGGCCAGGTGCTGGGGCGGGAGAGTCGGGTGCTGGGCA>0, the reference and variant fields indicate an deletion or substitution variant, however the coordinates (46927369 and 46927412) are not valid for these mutation types.\n",
      "Coordinate Error in line 1 or input. Coordinate skipped.\n",
      "\tMessage: For the coordinate 22:24175835-241758340>CT, the reference and variant fields indicate an insertion variant, however the coordinates (24175835 and 24175834) are not valid for these mutation types.\n",
      "Coordinate Error in line 1 or input. Coordinate skipped.\n",
      "\tMessage: For the coordinate 5:1481134-1481148AGGGCCTGCACCA>0, the reference and variant fields indicate an deletion or substitution variant, however the coordinates (1481134 and 1481148) are not valid for these mutation types.\n",
      "Coordinate Error in line 1 or input. Coordinate skipped.\n",
      "\tMessage: For the coordinate 12:3659130-3659135ACTT>0, the reference and variant fields indicate an deletion or substitution variant, however the coordinates (3659130 and 3659135) are not valid for these mutation types.\n",
      "Coordinate Error in line 1 or input. Coordinate skipped.\n",
      "\tMessage: For the coordinate 14:71209169-71209173GAT>0, the reference and variant fields indicate an deletion or substitution variant, however the coordinates (71209169 and 71209173) are not valid for these mutation types.\n",
      "Coordinate Error in line 1 or input. Coordinate skipped.\n",
      "\tMessage: For the coordinate 17:43482006-43482009AG>0, the reference and variant fields indicate an deletion or substitution variant, however the coordinates (43482006 and 43482009) are not valid for these mutation types.\n",
      "Coordinate Error in line 1 or input. Coordinate skipped.\n",
      "\tMessage: For the coordinate 17:7579642-7579659CCCCAGCCCTCCAGGT>0, the reference and variant fields indicate an deletion or substitution variant, however the coordinates (7579642 and 7579659) are not valid for these mutation types.\n",
      "Coordinate Error in line 1 or input. Coordinate skipped.\n",
      "\tMessage: For the coordinate 19:35837536-35837538T>0, the reference and variant fields indicate an deletion or substitution variant, however the coordinates (35837536 and 35837538) are not valid for these mutation types.\n",
      "Coordinate Error in line 1 or input. Coordinate skipped.\n",
      "\tMessage: For the coordinate 2:102785155-102785157G>0, the reference and variant fields indicate an deletion or substitution variant, however the coordinates (102785155 and 102785157) are not valid for these mutation types.\n",
      "Coordinate Error in line 1 or input. Coordinate skipped.\n",
      "\tMessage: For the coordinate 2:189904250-189904252C>0, the reference and variant fields indicate an deletion or substitution variant, however the coordinates (189904250 and 189904252) are not valid for these mutation types.\n",
      "Coordinate Error in line 1 or input. Coordinate skipped.\n",
      "\tMessage: For the coordinate 20:2633397-2633404GCCTGC>0, the reference and variant fields indicate an deletion or substitution variant, however the coordinates (2633397 and 2633404) are not valid for these mutation types.\n",
      "Coordinate Error in line 1 or input. Coordinate skipped.\n",
      "\tMessage: For the coordinate 21:47721985-477219840>TGG, the reference and variant fields indicate an insertion variant, however the coordinates (47721985 and 47721984) are not valid for these mutation types.\n",
      "Coordinate Error in line 1 or input. Coordinate skipped.\n",
      "\tMessage: For the coordinate 6:27783020-27783024CAA>0, the reference and variant fields indicate an deletion or substitution variant, however the coordinates (27783020 and 27783024) are not valid for these mutation types.\n",
      "Coordinate Error in line 1 or input. Coordinate skipped.\n",
      "\tMessage: For the coordinate 8:8234868-82348670>GCCGCT, the reference and variant fields indicate an insertion variant, however the coordinates (8234868 and 8234867) are not valid for these mutation types.\n",
      "Coordinate Error in line 1 or input. Coordinate skipped.\n",
      "\tMessage: For the coordinate 9:126118516-126118524GCAGAGC>0, the reference and variant fields indicate an deletion or substitution variant, however the coordinates (126118516 and 126118524) are not valid for these mutation types.\n",
      "Coordinate Error in line 1 or input. Coordinate skipped.\n",
      "\tMessage: For the coordinate 9:33463450-33463454AGA>-, the reference and variant fields indicate an deletion or substitution variant, however the coordinates (33463450 and 33463454) are not valid for these mutation types.\n",
      "Coordinate Error in line 1 or input. Coordinate skipped.\n",
      "\tMessage: For the coordinate 12:49432268-49432270G>0, the reference and variant fields indicate an deletion or substitution variant, however the coordinates (49432268 and 49432270) are not valid for these mutation types.\n",
      "Coordinate Error in line 1 or input. Coordinate skipped.\n",
      "\tMessage: For the coordinate 17:2597722-2597734CAGCGGGGACA>0, the reference and variant fields indicate an deletion or substitution variant, however the coordinates (2597722 and 2597734) are not valid for these mutation types.\n",
      "Coordinate Error in line 1 or input. Coordinate skipped.\n",
      "\tMessage: For the coordinate 19:19035155-19035157A>0, the reference and variant fields indicate an deletion or substitution variant, however the coordinates (19035155 and 19035157) are not valid for these mutation types.\n",
      "Coordinate Error in line 1 or input. Coordinate skipped.\n",
      "\tMessage: For the coordinate 21:37414194-374141930>AAA, the reference and variant fields indicate an insertion variant, however the coordinates (37414194 and 37414193) are not valid for these mutation types.\n",
      "Coordinate Error in line 1 or input. Coordinate skipped.\n",
      "\tMessage: For the coordinate 6:32552184-325521830>A, the reference and variant fields indicate an insertion variant, however the coordinates (32552184 and 32552183) are not valid for these mutation types.\n",
      "Coordinate Error in line 1 or input. Coordinate skipped.\n",
      "\tMessage: For the coordinate 9:131456191-131456198GAAGAA>0, the reference and variant fields indicate an deletion or substitution variant, however the coordinates (131456191 and 131456198) are not valid for these mutation types.\n",
      "Coordinate Error in line 1 or input. Coordinate skipped.\n",
      "\tMessage: For the coordinate 1:90493242-90493244A>0, the reference and variant fields indicate an deletion or substitution variant, however the coordinates (90493242 and 90493244) are not valid for these mutation types.\n",
      "Coordinate Error in line 1 or input. Coordinate skipped.\n",
      "\tMessage: For the coordinate 10:133795200-133795202T>0, the reference and variant fields indicate an deletion or substitution variant, however the coordinates (133795200 and 133795202) are not valid for these mutation types.\n",
      "Coordinate Error in line 1 or input. Coordinate skipped.\n",
      "\tMessage: For the coordinate 10:7737588-7737590T>0, the reference and variant fields indicate an deletion or substitution variant, however the coordinates (7737588 and 7737590) are not valid for these mutation types.\n",
      "Coordinate Error in line 1 or input. Coordinate skipped.\n",
      "\tMessage: For the coordinate 11:68671280-686712790>CCGCCGCCATCTTC, the reference and variant fields indicate an insertion variant, however the coordinates (68671280 and 68671279) are not valid for these mutation types.\n",
      "Coordinate Error in line 1 or input. Coordinate skipped.\n",
      "\tMessage: For the coordinate 12:49422876-49422878A>0, the reference and variant fields indicate an deletion or substitution variant, however the coordinates (49422876 and 49422878) are not valid for these mutation types.\n",
      "Coordinate Error in line 1 or input. Coordinate skipped.\n",
      "\tMessage: For the coordinate 12:81239720-81239722A>0, the reference and variant fields indicate an deletion or substitution variant, however the coordinates (81239720 and 81239722) are not valid for these mutation types.\n",
      "Coordinate Error in line 1 or input. Coordinate skipped.\n",
      "\tMessage: For the coordinate 14:103964853-103964855T>0, the reference and variant fields indicate an deletion or substitution variant, however the coordinates (103964853 and 103964855) are not valid for these mutation types.\n",
      "Coordinate Error in line 1 or input. Coordinate skipped.\n",
      "\tMessage: For the coordinate 19:991195-991198GT>0, the reference and variant fields indicate an deletion or substitution variant, however the coordinates (991195 and 991198) are not valid for these mutation types.\n",
      "Coordinate Error in line 1 or input. Coordinate skipped.\n",
      "\tMessage: For the coordinate 2:173901362-173901364T>0, the reference and variant fields indicate an deletion or substitution variant, however the coordinates (173901362 and 173901364) are not valid for these mutation types.\n",
      "Coordinate Error in line 1 or input. Coordinate skipped.\n",
      "\tMessage: For the coordinate 2:44566503-44566506AG>0, the reference and variant fields indicate an deletion or substitution variant, however the coordinates (44566503 and 44566506) are not valid for these mutation types.\n",
      "Coordinate Error in line 1 or input. Coordinate skipped.\n",
      "\tMessage: For the coordinate 20:47752488-47752490A>0, the reference and variant fields indicate an deletion or substitution variant, however the coordinates (47752488 and 47752490) are not valid for these mutation types.\n",
      "Coordinate Error in line 1 or input. Coordinate skipped.\n",
      "\tMessage: For the coordinate 22:38483155-384831540>TCATGGGTG, the reference and variant fields indicate an insertion variant, however the coordinates (38483155 and 38483154) are not valid for these mutation types.\n",
      "Coordinate Error in line 1 or input. Coordinate skipped.\n",
      "\tMessage: For the coordinate 8:145151664-145151667GG>0, the reference and variant fields indicate an deletion or substitution variant, however the coordinates (145151664 and 145151667) are not valid for these mutation types.\n",
      "Coordinate Error in line 1 or input. Coordinate skipped.\n",
      "\tMessage: For the coordinate 1:150849070-150849073CC>0, the reference and variant fields indicate an deletion or substitution variant, however the coordinates (150849070 and 150849073) are not valid for these mutation types.\n",
      "Coordinate Error in line 1 or input. Coordinate skipped.\n",
      "\tMessage: For the coordinate X:77109401-77109404AG>0, the reference and variant fields indicate an deletion or substitution variant, however the coordinates (77109401 and 77109404) are not valid for these mutation types.\n",
      "Coordinate Error in line 1 or input. Coordinate skipped.\n",
      "\tMessage: For the coordinate X:80001159-800011580>A, the reference and variant fields indicate an insertion variant, however the coordinates (80001159 and 80001158) are not valid for these mutation types.\n",
      "Coordinate Error in line 1 or input. Coordinate skipped.\n",
      "\tMessage: For the coordinate 19:36642559-36642562GA>0, the reference and variant fields indicate an deletion or substitution variant, however the coordinates (36642559 and 36642562) are not valid for these mutation types.\n",
      "Coordinate Error in line 1 or input. Coordinate skipped.\n",
      "\tMessage: For the coordinate 7:100385560-100385596GCTTCAGCTACCGCTTGCAAGGCCGCATGACCTAT>0, the reference and variant fields indicate an deletion or substitution variant, however the coordinates (100385560 and 100385596) are not valid for these mutation types.\n",
      "Coordinate Error in line 1 or input. Coordinate skipped.\n",
      "\tMessage: For the coordinate 7:149518531-149518533C>0, the reference and variant fields indicate an deletion or substitution variant, however the coordinates (149518531 and 149518533) are not valid for these mutation types.\n",
      "Coordinate Error in line 1 or input. Coordinate skipped.\n",
      "\tMessage: For the coordinate 1:2489786-2489808GTGTGAAGGAGGCCTGCGGGG>-, the reference and variant fields indicate an deletion or substitution variant, however the coordinates (2489786 and 2489808) are not valid for these mutation types.\n",
      "Coordinate Error in line 1 or input. Coordinate skipped.\n",
      "\tMessage: For the coordinate 12:49431214-494312130>C, the reference and variant fields indicate an insertion variant, however the coordinates (49431214 and 49431213) are not valid for these mutation types.\n",
      "Coordinate Error in line 1 or input. Coordinate skipped.\n",
      "\tMessage: For the coordinate 14:24114335-24114339CTT>0, the reference and variant fields indicate an deletion or substitution variant, however the coordinates (24114335 and 24114339) are not valid for these mutation types.\n",
      "Coordinate Error in line 1 or input. Coordinate skipped.\n",
      "\tMessage: For the coordinate 19:15997135-159971340>C, the reference and variant fields indicate an insertion variant, however the coordinates (15997135 and 15997134) are not valid for these mutation types.\n",
      "Coordinate Error in line 1 or input. Coordinate skipped.\n",
      "\tMessage: For the coordinate 19:57742492-57742507GGACGAGCAGGATT>0, the reference and variant fields indicate an deletion or substitution variant, however the coordinates (57742492 and 57742507) are not valid for these mutation types.\n",
      "Coordinate Error in line 1 or input. Coordinate skipped.\n",
      "\tMessage: For the coordinate 6:90577710-90577728CTTTGCCCAGACATGGA>0, the reference and variant fields indicate an deletion or substitution variant, however the coordinates (90577710 and 90577728) are not valid for these mutation types.\n",
      "Coordinate Error in line 1 or input. Coordinate skipped.\n",
      "\tMessage: For the coordinate X:71425464-71425467AG>0, the reference and variant fields indicate an deletion or substitution variant, however the coordinates (71425464 and 71425467) are not valid for these mutation types.\n",
      "Coordinate Error in line 1 or input. Coordinate skipped.\n",
      "\tMessage: For the coordinate 1:200080462-2000804610>T, the reference and variant fields indicate an insertion variant, however the coordinates (200080462 and 200080461) are not valid for these mutation types.\n",
      "Coordinate Error in line 1 or input. Coordinate skipped.\n",
      "\tMessage: For the coordinate 10:118396275-118396277G>0, the reference and variant fields indicate an deletion or substitution variant, however the coordinates (118396275 and 118396277) are not valid for these mutation types.\n",
      "Coordinate Error in line 1 or input. Coordinate skipped.\n",
      "\tMessage: For the coordinate 14:106092210-1060922090>G, the reference and variant fields indicate an insertion variant, however the coordinates (106092210 and 106092209) are not valid for these mutation types.\n",
      "Coordinate Error in line 1 or input. Coordinate skipped.\n",
      "\tMessage: For the coordinate 19:16870052-16870054G>0, the reference and variant fields indicate an deletion or substitution variant, however the coordinates (16870052 and 16870054) are not valid for these mutation types.\n",
      "Coordinate Error in line 1 or input. Coordinate skipped.\n",
      "\tMessage: For the coordinate 20:2633397-2633404GCCTGC>0, the reference and variant fields indicate an deletion or substitution variant, however the coordinates (2633397 and 2633404) are not valid for these mutation types.\n",
      "Coordinate Error in line 1 or input. Coordinate skipped.\n",
      "\tMessage: For the coordinate 8:142228076-142228095GAGCGGCCCCGCTCCGGT>0, the reference and variant fields indicate an deletion or substitution variant, however the coordinates (142228076 and 142228095) are not valid for these mutation types.\n",
      "Coordinate Error in line 1 or input. Coordinate skipped.\n",
      "\tMessage: For the coordinate 10:76781904-76781908GAA>0, the reference and variant fields indicate an deletion or substitution variant, however the coordinates (76781904 and 76781908) are not valid for these mutation types.\n",
      "Coordinate Error in line 1 or input. Coordinate skipped.\n",
      "\tMessage: For the coordinate 17:46673959-46673963CTT>-, the reference and variant fields indicate an deletion or substitution variant, however the coordinates (46673959 and 46673963) are not valid for these mutation types.\n",
      "Coordinate Error in line 1 or input. Coordinate skipped.\n",
      "\tMessage: For the coordinate 19:36642561-366425600>C, the reference and variant fields indicate an insertion variant, however the coordinates (36642561 and 36642560) are not valid for these mutation types.\n",
      "Coordinate Error in line 1 or input. Coordinate skipped.\n",
      "\tMessage: For the coordinate 6:145124290-1451242890>TT, the reference and variant fields indicate an insertion variant, however the coordinates (145124290 and 145124289) are not valid for these mutation types.\n",
      "Coordinate Error in line 1 or input. Coordinate skipped.\n",
      "\tMessage: For the coordinate 6:145124293-1451242920>T, the reference and variant fields indicate an insertion variant, however the coordinates (145124293 and 145124292) are not valid for these mutation types.\n",
      "Coordinate Error in line 1 or input. Coordinate skipped.\n",
      "\tMessage: For the coordinate 6:33262442-33262445AC>0, the reference and variant fields indicate an deletion or substitution variant, however the coordinates (33262442 and 33262445) are not valid for these mutation types.\n",
      "Coordinate Error in line 1 or input. Coordinate skipped.\n",
      "\tMessage: For the coordinate 8:38884345-388843440>T, the reference and variant fields indicate an insertion variant, however the coordinates (38884345 and 38884344) are not valid for these mutation types.\n",
      "Coordinate Error in line 1 or input. Coordinate skipped.\n",
      "\tMessage: For the coordinate 9:139903352-1399033510>C, the reference and variant fields indicate an insertion variant, however the coordinates (139903352 and 139903351) are not valid for these mutation types.\n",
      "Coordinate Error in line 1 or input. Coordinate skipped.\n",
      "\tMessage: For the coordinate 10:131639306-1316393050>CCC, the reference and variant fields indicate an insertion variant, however the coordinates (131639306 and 131639305) are not valid for these mutation types.\n",
      "Coordinate Error in line 1 or input. Coordinate skipped.\n",
      "\tMessage: For the coordinate 1:95357980-95357982T>0, the reference and variant fields indicate an deletion or substitution variant, however the coordinates (95357980 and 95357982) are not valid for these mutation types.\n",
      "Coordinate Error in line 1 or input. Coordinate skipped.\n",
      "\tMessage: For the coordinate 10:134012501-134012508CGAGGG>0, the reference and variant fields indicate an deletion or substitution variant, however the coordinates (134012501 and 134012508) are not valid for these mutation types.\n",
      "Coordinate Error in line 1 or input. Coordinate skipped.\n",
      "\tMessage: For the coordinate 10:37486188-374861870>A, the reference and variant fields indicate an insertion variant, however the coordinates (37486188 and 37486187) are not valid for these mutation types.\n",
      "Coordinate Error in line 1 or input. Coordinate skipped.\n",
      "\tMessage: For the coordinate 12:124887058-1248870570>GCTGCT, the reference and variant fields indicate an insertion variant, however the coordinates (124887058 and 124887057) are not valid for these mutation types.\n",
      "Coordinate Error in line 1 or input. Coordinate skipped.\n",
      "\tMessage: For the coordinate 12:51740392-51740404CATATCCACTT>0, the reference and variant fields indicate an deletion or substitution variant, however the coordinates (51740392 and 51740404) are not valid for these mutation types.\n",
      "Coordinate Error in line 1 or input. Coordinate skipped.\n",
      "\tMessage: For the coordinate 14:106329477-106329479C>0, the reference and variant fields indicate an deletion or substitution variant, however the coordinates (106329477 and 106329479) are not valid for these mutation types.\n",
      "Coordinate Error in line 1 or input. Coordinate skipped.\n",
      "\tMessage: For the coordinate 14:106329483-1063294820>AT, the reference and variant fields indicate an insertion variant, however the coordinates (106329483 and 106329482) are not valid for these mutation types.\n",
      "Coordinate Error in line 1 or input. Coordinate skipped.\n",
      "\tMessage: For the coordinate 19:44005875-44005880CAAA>0, the reference and variant fields indicate an deletion or substitution variant, however the coordinates (44005875 and 44005880) are not valid for these mutation types.\n",
      "Coordinate Error in line 1 or input. Coordinate skipped.\n",
      "\tMessage: For the coordinate 19:50881822-508818210>CAG, the reference and variant fields indicate an insertion variant, however the coordinates (50881822 and 50881821) are not valid for these mutation types.\n",
      "Coordinate Error in line 1 or input. Coordinate skipped.\n",
      "\tMessage: For the coordinate 19:8398948-8398961TCGCTGTCGCCA>0, the reference and variant fields indicate an deletion or substitution variant, however the coordinates (8398948 and 8398961) are not valid for these mutation types.\n",
      "Coordinate Error in line 1 or input. Coordinate skipped.\n",
      "\tMessage: For the coordinate 2:179322940-179322942A>0, the reference and variant fields indicate an deletion or substitution variant, however the coordinates (179322940 and 179322942) are not valid for these mutation types.\n",
      "Coordinate Error in line 1 or input. Coordinate skipped.\n",
      "\tMessage: For the coordinate 4:1388622-13886210>CA, the reference and variant fields indicate an insertion variant, however the coordinates (1388622 and 1388621) are not valid for these mutation types.\n",
      "Coordinate Error in line 1 or input. Coordinate skipped.\n",
      "\tMessage: For the coordinate 5:1093630-10936290>T, the reference and variant fields indicate an insertion variant, however the coordinates (1093630 and 1093629) are not valid for these mutation types.\n",
      "Coordinate Error in line 1 or input. Coordinate skipped.\n",
      "\tMessage: For the coordinate 5:111500822-1115008210>AAA, the reference and variant fields indicate an insertion variant, however the coordinates (111500822 and 111500821) are not valid for these mutation types.\n",
      "Coordinate Error in line 1 or input. Coordinate skipped.\n",
      "\tMessage: For the coordinate 5:1481134-1481148AGGGCCTGCACCA>0, the reference and variant fields indicate an deletion or substitution variant, however the coordinates (1481134 and 1481148) are not valid for these mutation types.\n",
      "Coordinate Error in line 1 or input. Coordinate skipped.\n",
      "\tMessage: For the coordinate 6:109906328-109906332CTT>0, the reference and variant fields indicate an deletion or substitution variant, however the coordinates (109906328 and 109906332) are not valid for these mutation types.\n",
      "Coordinate Error in line 1 or input. Coordinate skipped.\n",
      "\tMessage: For the coordinate 6:138201327-138201330GT>0, the reference and variant fields indicate an deletion or substitution variant, however the coordinates (138201327 and 138201330) are not valid for these mutation types.\n",
      "Coordinate Error in line 1 or input. Coordinate skipped.\n",
      "\tMessage: For the coordinate 7:128587350-128587381ACTCTGCAGCCGCCCACTCTGCGGCCGCCT>0, the reference and variant fields indicate an deletion or substitution variant, however the coordinates (128587350 and 128587381) are not valid for these mutation types.\n",
      "Coordinate Error in line 1 or input. Coordinate skipped.\n",
      "\tMessage: For the coordinate 8:103573009-103573037TGCAACCCCTGCAGCCCCTGCAACCCG>0, the reference and variant fields indicate an deletion or substitution variant, however the coordinates (103573009 and 103573037) are not valid for these mutation types.\n",
      "Coordinate Error in line 1 or input. Coordinate skipped.\n",
      "\tMessage: For the coordinate 9:140918169-140918185GGAGAAGGAGACCAC>0, the reference and variant fields indicate an deletion or substitution variant, however the coordinates (140918169 and 140918185) are not valid for these mutation types.\n",
      "Coordinate Error in line 1 or input. Coordinate skipped.\n",
      "\tMessage: For the coordinate 2:97833395-97833398GA>0, the reference and variant fields indicate an deletion or substitution variant, however the coordinates (97833395 and 97833398) are not valid for these mutation types.\n",
      "Coordinate Error in line 1 or input. Coordinate skipped.\n",
      "\tMessage: For the coordinate 2:97833399-97833401T>0, the reference and variant fields indicate an deletion or substitution variant, however the coordinates (97833399 and 97833401) are not valid for these mutation types.\n",
      "Coordinate Error in line 1 or input. Coordinate skipped.\n",
      "\tMessage: For the coordinate 7:117188882-1171888810>C, the reference and variant fields indicate an insertion variant, however the coordinates (117188882 and 117188881) are not valid for these mutation types.\n",
      "Coordinate Error in line 1 or input. Coordinate skipped.\n",
      "\tMessage: For the coordinate 10:29578180-295781790>TGAAGCCAACTGTCTC, the reference and variant fields indicate an insertion variant, however the coordinates (29578180 and 29578179) are not valid for these mutation types.\n",
      "Coordinate Error in line 1 or input. Coordinate skipped.\n",
      "\tMessage: For the coordinate 12:104359897-104359900GC>0, the reference and variant fields indicate an deletion or substitution variant, however the coordinates (104359897 and 104359900) are not valid for these mutation types.\n",
      "Coordinate Error in line 1 or input. Coordinate skipped.\n",
      "\tMessage: For the coordinate 16:67229792-67229796CAG>0, the reference and variant fields indicate an deletion or substitution variant, however the coordinates (67229792 and 67229796) are not valid for these mutation types.\n",
      "Coordinate Error in line 1 or input. Coordinate skipped.\n",
      "\tMessage: For the coordinate 19:40405901-40405903A>0, the reference and variant fields indicate an deletion or substitution variant, however the coordinates (40405901 and 40405903) are not valid for these mutation types.\n",
      "Coordinate Error in line 1 or input. Coordinate skipped.\n",
      "\tMessage: For the coordinate X:47107349-47107351A>0, the reference and variant fields indicate an deletion or substitution variant, however the coordinates (47107349 and 47107351) are not valid for these mutation types.\n"
     ]
    }
   ],
   "source": [
    "review_df_one_based = review_df.apply(convert_one_based, axis=1)"
   ]
  },
  {
   "cell_type": "code",
   "execution_count": 15,
   "metadata": {
    "ExecuteTime": {
     "end_time": "2017-10-13T15:17:15.225579Z",
     "start_time": "2017-10-13T15:17:15.220012Z"
    }
   },
   "outputs": [
    {
     "data": {
      "text/plain": [
       "37342"
      ]
     },
     "execution_count": 15,
     "metadata": {},
     "output_type": "execute_result"
    }
   ],
   "source": [
    "len(review_df)"
   ]
  },
  {
   "cell_type": "code",
   "execution_count": 16,
   "metadata": {
    "ExecuteTime": {
     "end_time": "2017-10-13T15:17:15.283467Z",
     "start_time": "2017-10-13T15:17:15.227499Z"
    }
   },
   "outputs": [
    {
     "data": {
      "text/plain": [
       "37201"
      ]
     },
     "execution_count": 16,
     "metadata": {},
     "output_type": "execute_result"
    }
   ],
   "source": [
    "review_df_one_based = review_df_one_based.replace('',np.nan).dropna(how='all')\n",
    "len(review_df_one_based)"
   ]
  },
  {
   "cell_type": "code",
   "execution_count": 17,
   "metadata": {
    "ExecuteTime": {
     "end_time": "2017-10-13T15:17:15.336679Z",
     "start_time": "2017-10-13T15:17:15.285419Z"
    },
    "collapsed": true
   },
   "outputs": [],
   "source": [
    "review_df_one_based.project = review_df_one_based.project.str.strip()"
   ]
  },
  {
   "cell_type": "code",
   "execution_count": 18,
   "metadata": {
    "ExecuteTime": {
     "end_time": "2017-10-13T15:17:15.342271Z",
     "start_time": "2017-10-13T15:17:15.338724Z"
    },
    "collapsed": true
   },
   "outputs": [],
   "source": [
    "group = review_df_one_based.groupby(['individual_name'])"
   ]
  },
  {
   "cell_type": "code",
   "execution_count": 19,
   "metadata": {
    "ExecuteTime": {
     "end_time": "2017-10-13T15:17:15.404817Z",
     "start_time": "2017-10-13T15:17:15.344226Z"
    },
    "collapsed": true
   },
   "outputs": [],
   "source": [
    "duplicated = group.project.apply(lambda x: len(x.unique()))"
   ]
  },
  {
   "cell_type": "code",
   "execution_count": 20,
   "metadata": {
    "ExecuteTime": {
     "end_time": "2017-10-13T15:17:15.412591Z",
     "start_time": "2017-10-13T15:17:15.407184Z"
    },
    "collapsed": true
   },
   "outputs": [],
   "source": [
    "duplicated = duplicated[duplicated >1].index.tolist()"
   ]
  },
  {
   "cell_type": "code",
   "execution_count": 21,
   "metadata": {
    "ExecuteTime": {
     "end_time": "2017-10-13T15:17:15.418932Z",
     "start_time": "2017-10-13T15:17:15.414938Z"
    },
    "collapsed": true
   },
   "outputs": [],
   "source": [
    "compare_group = review_df_one_based.groupby(['project','individual_name'])"
   ]
  },
  {
   "cell_type": "code",
   "execution_count": 22,
   "metadata": {
    "ExecuteTime": {
     "end_time": "2017-10-13T15:17:15.425211Z",
     "start_time": "2017-10-13T15:17:15.421391Z"
    },
    "collapsed": true
   },
   "outputs": [],
   "source": [
    "#find dups ignoring project\n",
    "compare_group = review_df_one_based.groupby(['individual_name'])"
   ]
  },
  {
   "cell_type": "code",
   "execution_count": 23,
   "metadata": {
    "ExecuteTime": {
     "end_time": "2017-10-13T15:17:15.432496Z",
     "start_time": "2017-10-13T15:17:15.426892Z"
    },
    "collapsed": true
   },
   "outputs": [],
   "source": [
    "def group_percent_similar(group1, group2):\n",
    "    g1= group1[['chr','start','stop','ref','var']]\n",
    "    g2 = group2[['chr','start','stop','ref','var']]\n",
    "    g = pd.concat([g1,g2])\n",
    "    return len(g[g.duplicated()])/(len(g)- len(g[g.duplicated()]))"
   ]
  },
  {
   "cell_type": "code",
   "execution_count": 24,
   "metadata": {
    "ExecuteTime": {
     "end_time": "2017-10-13T15:27:42.152814Z",
     "start_time": "2017-10-13T15:17:15.434658Z"
    },
    "collapsed": true
   },
   "outputs": [],
   "source": [
    "names = ['__'.join(x) for x in compare_group.groups.keys()]\n",
    "compare_calls = pd.DataFrame(index=names, columns=names)\n",
    "for name1, group1 in compare_group:\n",
    "    for name2, group2 in compare_group:\n",
    "        compare_calls.set_value('__'.join(name1), \n",
    "                                '__'.join(name2), \n",
    "                                group_percent_similar(group1, group2))"
   ]
  },
  {
   "cell_type": "code",
   "execution_count": 25,
   "metadata": {
    "ExecuteTime": {
     "end_time": "2017-10-13T15:27:42.177875Z",
     "start_time": "2017-10-13T15:27:42.154586Z"
    },
    "collapsed": true
   },
   "outputs": [],
   "source": [
    "compare_calls.to_pickle('../data/compare_calls.pkl')"
   ]
  },
  {
   "cell_type": "code",
   "execution_count": 26,
   "metadata": {
    "ExecuteTime": {
     "end_time": "2017-10-13T15:27:42.197336Z",
     "start_time": "2017-10-13T15:27:42.180042Z"
    },
    "collapsed": true
   },
   "outputs": [],
   "source": [
    "compare_calls = pd.read_pickle('../data/compare_calls.pkl')"
   ]
  },
  {
   "cell_type": "code",
   "execution_count": 27,
   "metadata": {
    "ExecuteTime": {
     "end_time": "2017-10-13T15:27:42.206700Z",
     "start_time": "2017-10-13T15:27:42.199411Z"
    },
    "collapsed": true
   },
   "outputs": [],
   "source": [
    "compare_calls = compare_calls.astype(float)"
   ]
  },
  {
   "cell_type": "code",
   "execution_count": 28,
   "metadata": {
    "ExecuteTime": {
     "end_time": "2017-10-13T15:27:42.718709Z",
     "start_time": "2017-10-13T15:27:42.208390Z"
    }
   },
   "outputs": [
    {
     "data": {
      "image/png": "[encoded data removed]",
      "text/plain": [
       "<matplotlib.figure.Figure at 0x11103fcf8>"
      ]
     },
     "metadata": {},
     "output_type": "display_data"
    }
   ],
   "source": [
    "sns.set_context(\"talk\")\n",
    "heatmap = sns.heatmap(compare_calls, xticklabels=False, yticklabels=False)"
   ]
  },
  {
   "cell_type": "code",
   "execution_count": 29,
   "metadata": {
    "ExecuteTime": {
     "end_time": "2017-10-13T15:27:42.724571Z",
     "start_time": "2017-10-13T15:27:42.721086Z"
    },
    "collapsed": true
   },
   "outputs": [],
   "source": [
    "# fig = heatmap.get_figure()\n",
    "# fig.savefig(\"output.png\")"
   ]
  },
  {
   "cell_type": "code",
   "execution_count": 30,
   "metadata": {
    "ExecuteTime": {
     "end_time": "2017-10-13T15:27:43.905108Z",
     "start_time": "2017-10-13T15:27:42.726748Z"
    }
   },
   "outputs": [
    {
     "name": "stderr",
     "output_type": "stream",
     "text": [
      "Widget Javascript not detected.  It may not be installed or enabled properly.\n"
     ]
    },
    {
     "data": {
      "application/vnd.jupyter.widget-view+json": {
       "model_id": "8a96a8d66e804d4197c49f2d991b44bf"
      }
     },
     "metadata": {},
     "output_type": "display_data"
    }
   ],
   "source": [
    "net = Network(clustergrammer_widget)\n",
    "net.load_df(compare_calls)\n",
    "net.cluster()\n",
    "net.widget()"
   ]
  },
  {
   "cell_type": "code",
   "execution_count": 31,
   "metadata": {
    "ExecuteTime": {
     "end_time": "2017-10-13T15:27:43.921636Z",
     "start_time": "2017-10-13T15:27:43.906925Z"
    },
    "collapsed": true
   },
   "outputs": [],
   "source": [
    "mask = np.ones(compare_calls.shape, dtype='bool')\n",
    "mask[np.triu_indices(len(compare_calls))]=False\n",
    "m = mask & (compare_calls!=0)\n",
    "\n",
    "compare = compare_calls.mask(~m).unstack().dropna()"
   ]
  },
  {
   "cell_type": "markdown",
   "metadata": {},
   "source": [
    "## All samples with at greater than 0.7 percent similarity were removed"
   ]
  },
  {
   "cell_type": "code",
   "execution_count": 32,
   "metadata": {
    "ExecuteTime": {
     "end_time": "2017-10-13T15:27:44.861838Z",
     "start_time": "2017-10-13T15:27:43.923938Z"
    },
    "scrolled": false
   },
   "outputs": [
    {
     "data": {
      "image/png": "[encoded data removed]",
      "text/plain": [
       "<matplotlib.figure.Figure at 0x1110067f0>"
      ]
     },
     "metadata": {},
     "output_type": "display_data"
    }
   ],
   "source": [
    "sns.distplot(compare)\n",
    "plt.yscale('log')"
   ]
  },
  {
   "cell_type": "code",
   "execution_count": null,
   "metadata": {
    "collapsed": true
   },
   "outputs": [],
   "source": []
  }
 ],
 "metadata": {
  "anaconda-cloud": {},
  "kernelspec": {
   "display_name": "Python 3",
   "language": "python",
   "name": "python3"
  },
  "language_info": {
   "codemirror_mode": {
    "name": "ipython",
    "version": 3
   },
   "file_extension": ".py",
   "mimetype": "text/x-python",
   "name": "python",
   "nbconvert_exporter": "python",
   "pygments_lexer": "ipython3",
   "version": "3.6.1"
  }
 },
 "nbformat": 4,
 "nbformat_minor": 1
}
