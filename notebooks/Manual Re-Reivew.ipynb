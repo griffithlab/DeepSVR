{
 "cells": [
  {
   "cell_type": "code",
   "execution_count": 1,
   "metadata": {},
   "outputs": [],
   "source": [
    "#!/usr/bin/env python3\n",
    "import json\n",
    "import numpy as np\n",
    "import requests\n",
    "import sys\n",
    "import pandas as pd\n",
    "import matplotlib.pyplot as plt\n",
    "import seaborn as sns\n",
    "import random\n",
    "from manual_review_classifier.ClassifierPlots import create_reliability_diagram, create_roc_curve\n",
    "\n",
    "###Create Tools for code\n",
    "#create tool that can append files to a list\n",
    "def append_file_to_list(file):\n",
    "    list = []\n",
    "    f = open(file, 'r')\n",
    "    for line in f:\n",
    "        line = line.strip('\\n')\n",
    "        line = line.split('\\t')\n",
    "        list.append(line)\n",
    "    return list\n"
   ]
  },
  {
   "cell_type": "code",
   "execution_count": 7,
   "metadata": {},
   "outputs": [],
   "source": [
    "#open error file for deep learning\n",
    "error_data = append_file_to_list('../data/clinical_analysis_data/errors_dl.tsv')\n",
    "CIViC_FN = append_file_to_list('../data/clinical_analysis_data/CIViC_variants_DL_FN.txt')\n",
    "CIViC_FP = append_file_to_list('../data/clinical_analysis_data/CIViC_variants_DL_FP.txt')"
   ]
  },
  {
   "cell_type": "code",
   "execution_count": 8,
   "metadata": {},
   "outputs": [],
   "source": [
    "# Pull clinical and non-clinical False Negatives\n",
    "FN_no_clinical = {}\n",
    "FN_clinical = {}\n",
    "for number,thing in enumerate(error_data):\n",
    "    if thing[2] == 'False Negative':\n",
    "        code1 = thing[7:12]\n",
    "        prob1 = thing[5][0:5]\n",
    "        for item in CIViC_FN[1:]:\n",
    "            code2 = item[0:5]\n",
    "            prob2 = item[7][0:5]\n",
    "            if code1 == code2 and prob1 == prob2:\n",
    "                FN_clinical[number] = thing\n",
    "for number,thing in enumerate(error_data):\n",
    "    if thing[2] == 'False Negative' and number not in FN_clinical:\n",
    "        FN_no_clinical[number] = thing\n",
    "\n",
    "# Pull clinical and non-clinical False Positive\n",
    "FP_no_clinical = {}\n",
    "FP_clinical = {}\n",
    "for number,thing in enumerate(error_data):\n",
    "    if thing[2] == 'False Positive':\n",
    "        code1 = thing[7:12]\n",
    "        prob1 = thing[5][0:5]\n",
    "        for item in CIViC_FP[1:]:\n",
    "            code2 = item[0:5]\n",
    "            prob2 = item[7][0:5]\n",
    "            if code1 == code2 and prob1 == prob2:\n",
    "                FP_clinical[number] = thing\n",
    "for number,thing in enumerate(error_data):\n",
    "    if thing[2] == 'False Positive' and number not in FP_clinical:\n",
    "        FP_no_clinical[number] = thing"
   ]
  },
  {
   "cell_type": "code",
   "execution_count": 9,
   "metadata": {},
   "outputs": [],
   "source": [
    "#Pull the non-Clinical Flase Positives and take random 30\n",
    "FP_no_clinical_IGV = []\n",
    "for item in range(45):\n",
    "    number = np.random.choice((list(FP_no_clinical.keys())))\n",
    "    FP_no_clinical_IGV.append(FP_no_clinical[number])\n"
   ]
  },
  {
   "cell_type": "code",
   "execution_count": 7,
   "metadata": {},
   "outputs": [],
   "source": [
    "#Pull the non-Clinical Flase Negatives and take random 30\n",
    "FN_no_clinical_IGV = []\n",
    "for item in range(45):\n",
    "    number = np.random.choice((list(FN_no_clinical.keys())))\n",
    "    FN_no_clinical_IGV.append(FN_no_clinical[number])"
   ]
  },
  {
   "cell_type": "code",
   "execution_count": 8,
   "metadata": {},
   "outputs": [],
   "source": [
    "#Pull the Clinical False Negatives and False Positives\n",
    "FP_clinical_IGV = []\n",
    "for k,v in FP_clinical.items():\n",
    "    FP_clinical_IGV.append(v)\n",
    "    \n",
    "FN_clinical_IGV = []\n",
    "for k,v in FN_clinical.items():\n",
    "    FN_clinical_IGV.append(v)"
   ]
  },
  {
   "cell_type": "code",
   "execution_count": 12,
   "metadata": {},
   "outputs": [],
   "source": [
    "# Pull master manual re-review list for analysis\n",
    "MRR = append_file_to_list(\"../data/clinical_analysis_data/manual_rereview.txt\")"
   ]
  },
  {
   "cell_type": "code",
   "execution_count": 13,
   "metadata": {},
   "outputs": [],
   "source": [
    "# Determine columns that are reviewer calls\n",
    "calls = [16, 17, 18, 19, 20, 21, 22]\n",
    "# Count calls and determine consensus or no consensus\n",
    "MRR_new = []\n",
    "MR_count = 0\n",
    "classifier_count = 0\n",
    "new_consensus = 0\n",
    "no_consensus = 0\n",
    "for item in MRR[1:]:\n",
    "    F = 0\n",
    "    S = 0\n",
    "    A = 0\n",
    "    for k in calls:\n",
    "        if item[k] == 'S':\n",
    "            S += 1\n",
    "        if item[k] == 'F':\n",
    "            F += 1\n",
    "        if item[k] == 'A':\n",
    "            A += 1\n",
    "    if F > S and F > A:\n",
    "        consensus = 'F'\n",
    "    elif S > F and S > A:\n",
    "        consensus = 'S'\n",
    "    elif A > F and A > S:\n",
    "        consensus = 'A'\n",
    "    else:\n",
    "        consensus = 'none'\n",
    "        no_consensus += 1\n",
    "        agree = 'none'\n",
    "    if item[0] == consensus:\n",
    "        agree = \"MR\"\n",
    "        MR_count += 1\n",
    "    elif item[1] == consensus:\n",
    "        agree = \"Classifier\"\n",
    "        classifier_count += 1\n",
    "    elif item[0] != consensus and item[1] != consensus:\n",
    "        agree = 'new'\n",
    "        new_consensus += 1\n",
    "    MRR_new.append([item[0], item[1], item[2], item[3], item[25], consensus, agree])\n",
    "    "
   ]
  },
  {
   "cell_type": "code",
   "execution_count": 14,
   "metadata": {},
   "outputs": [
    {
     "name": "stdout",
     "output_type": "stream",
     "text": [
      "Total Variants:  179\n",
      "MR-Variants:  58\n",
      "Classifier-Variants:  57\n",
      "Change-Variants:  64\n",
      "No Consensus:  13\n"
     ]
    }
   ],
   "source": [
    "# Print statements\n",
    "total = len(MRR_new)\n",
    "print('Total Variants: ',total)\n",
    "print('MR-Variants: ',MR_count)\n",
    "print('Classifier-Variants: ',classifier_count)\n",
    "print('Change-Variants: ',new_consensus)\n",
    "print('No Consensus: ',no_consensus)"
   ]
  },
  {
   "cell_type": "code",
   "execution_count": null,
   "metadata": {},
   "outputs": [],
   "source": []
  }
 ],
 "metadata": {
  "kernelspec": {
   "display_name": "Python 3",
   "language": "python",
   "name": "python3"
  },
  "language_info": {
   "codemirror_mode": {
    "name": "ipython",
    "version": 3
   },
   "file_extension": ".py",
   "mimetype": "text/x-python",
   "name": "python",
   "nbconvert_exporter": "python",
   "pygments_lexer": "ipython3",
   "version": "3.6.3"
  }
 },
 "nbformat": 4,
 "nbformat_minor": 2
}
