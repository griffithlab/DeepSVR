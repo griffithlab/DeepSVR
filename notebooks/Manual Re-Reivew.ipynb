{
 "cells": [
  {
   "cell_type": "code",
   "execution_count": 1,
   "metadata": {
    "collapsed": true
   },
   "outputs": [],
   "source": [
    "#!/usr/bin/env python3\n",
    "import json\n",
    "import numpy as np\n",
    "import requests\n",
    "import sys\n",
    "import pandas as pd\n",
    "import matplotlib.pyplot as plt\n",
    "import seaborn as sns\n",
    "import random\n",
    "\n",
    "###Create Tools for code\n",
    "#create tool that can append files to a list\n",
    "def append_file_to_list(file):\n",
    "    list = []\n",
    "    f = open(file, 'r')\n",
    "    for line in f:\n",
    "        line = line.strip('\\n')\n",
    "        line = line.split('\\t')\n",
    "        list.append(line)\n",
    "    return list\n"
   ]
  },
  {
   "cell_type": "code",
   "execution_count": 2,
   "metadata": {
    "collapsed": true
   },
   "outputs": [],
   "source": [
    "#open error file for deep learning\n",
    "error_data = append_file_to_list('../data/clinical_analysis_data/errors_dl.tsv')\n",
    "error_pd = pd.read_csv('../data/clinical_analysis_data/errors_dl.tsv', sep='\\t')\n",
    "training_data = pd.read_pickle('../data/training_data.pkl')\n",
    "full_data = pd.read_pickle('../data/full_sample_df.pkl')"
   ]
  },
  {
   "cell_type": "code",
   "execution_count": 4,
   "metadata": {},
   "outputs": [],
   "source": [
    "#Make sure that the DoCM Variants and CIViC Variants overlap\n",
    "\n",
    "CIViC_FN = append_file_to_list(\"../data/clinical_analysis_data/CIViC_variants_DL_FN.txt\")\n",
    "DoCM_FN = append_file_to_list(\"../data/clinical_analysis_data/DoCM_variants_DL_FN.txt\")\n",
    "\n",
    "overlap_FN = 0\n",
    "\n",
    "for item in DoCM_FN:\n",
    "    code = item[0:5]\n",
    "    for thing in CIViC_FN:\n",
    "        code2 = item[0:5]\n",
    "        if code == code2:\n",
    "            overlap_FN += 1\n",
    "            break\n",
    "            \n",
    "CIViC_FP = append_file_to_list(\"../data/clinical_analysis_data/CIViC_variants_DL_FP.txt\")\n",
    "DoCM_FP = append_file_to_list(\"../data/clinical_analysis_data/DoCM_variants_DL_FP.txt\")\n",
    "\n",
    "overlap_FP = 0\n",
    "\n",
    "for item in DoCM_FP:\n",
    "    code = item[0:5]\n",
    "    for thing in CIViC_FP:\n",
    "        code2 = item[0:5]\n",
    "        if code == code2:\n",
    "            overlap_FP += 1\n",
    "            break"
   ]
  },
  {
   "cell_type": "code",
   "execution_count": 5,
   "metadata": {},
   "outputs": [],
   "source": [
    "FN_no_clinical = {}\n",
    "FN_clinical = {}\n",
    "for number,thing in enumerate(error_data):\n",
    "    if thing[2] == 'False Negative':\n",
    "        code1 = thing[7:12]\n",
    "        prob1 = thing[5][0:5]\n",
    "        for item in CIViC_FN[1:]:\n",
    "            code2 = item[0:5]\n",
    "            prob2 = item[7][0:5]\n",
    "            if code1 == code2 and prob1 == prob2:\n",
    "                FN_clinical[number] = thing\n",
    "for number,thing in enumerate(error_data):\n",
    "    if thing[2] == 'False Negative' and number not in FN_clinical:\n",
    "        FN_no_clinical[number] = thing\n",
    "                             \n",
    "FP_no_clinical = {}\n",
    "FP_clinical = {}\n",
    "for number,thing in enumerate(error_data):\n",
    "    if thing[2] == 'False Positive':\n",
    "        code1 = thing[7:12]\n",
    "        prob1 = thing[5][0:5]\n",
    "        for item in CIViC_FP[1:]:\n",
    "            code2 = item[0:5]\n",
    "            prob2 = item[7][0:5]\n",
    "            if code1 == code2 and prob1 == prob2:\n",
    "                FP_clinical[number] = thing\n",
    "for number,thing in enumerate(error_data):\n",
    "    if thing[2] == 'False Positive' and number not in FP_clinical:\n",
    "        FP_no_clinical[number] = thing"
   ]
  },
  {
   "cell_type": "code",
   "execution_count": 6,
   "metadata": {
    "collapsed": true
   },
   "outputs": [],
   "source": [
    "#Pull the non-Clinical Flase Positives and take random 30\n",
    "\n",
    "FP_no_clinical_IGV = []\n",
    "for item in range(45):\n",
    "    number = np.random.choice((list(FP_no_clinical.keys())))\n",
    "    FP_no_clinical_IGV.append(FP_no_clinical[number])\n"
   ]
  },
  {
   "cell_type": "code",
   "execution_count": 7,
   "metadata": {},
   "outputs": [],
   "source": [
    "#Pull the non-Clinical Flase Negatives and take random 30\n",
    "\n",
    "FN_no_clinical_IGV = []\n",
    "for item in range(45):\n",
    "    number = np.random.choice((list(FN_no_clinical.keys())))\n",
    "    FN_no_clinical_IGV.append(FN_no_clinical[number])"
   ]
  },
  {
   "cell_type": "code",
   "execution_count": 8,
   "metadata": {
    "collapsed": true
   },
   "outputs": [],
   "source": [
    "#Pull the Clinical False Negatives and False Positives\n",
    "FP_clinical_IGV = []\n",
    "for k,v in FP_clinical.items():\n",
    "    FP_clinical_IGV.append(v)\n",
    "    \n",
    "FN_clinical_IGV = []\n",
    "for k,v in FN_clinical.items():\n",
    "    FN_clinical_IGV.append(v)"
   ]
  },
  {
   "cell_type": "code",
   "execution_count": 81,
   "metadata": {
    "collapsed": true
   },
   "outputs": [],
   "source": [
    "#print all clinical to lists\n",
    "np.savetxt(\"../data/manual_rereview/clin_FP.csv\", FP_clinical_IGV, delimiter=\",\", fmt='%s')\n",
    "np.savetxt(\"../data/manual_rereview/clin_FN.csv\", FN_clinical_IGV, delimiter=\",\", fmt='%s')"
   ]
  },
  {
   "cell_type": "code",
   "execution_count": 13,
   "metadata": {
    "collapsed": true
   },
   "outputs": [],
   "source": [
    "#print all non_clinical to lists\n",
    "np.savetxt(\"../data/non_clin_FP.csv\", FP_no_clinical_IGV, delimiter=\",\", fmt='%s')\n",
    "np.savetxt(\"../data/non_clin_FN.csv\", FN_no_clinical_IGV, delimiter=\",\", fmt='%s')"
   ]
  },
  {
   "cell_type": "code",
   "execution_count": 10,
   "metadata": {},
   "outputs": [
    {
     "data": {
      "text/html": [
       "<div>\n",
       "<style>\n",
       "    .dataframe thead tr:only-child th {\n",
       "        text-align: right;\n",
       "    }\n",
       "\n",
       "    .dataframe thead th {\n",
       "        text-align: left;\n",
       "    }\n",
       "\n",
       "    .dataframe tbody tr th {\n",
       "        vertical-align: top;\n",
       "    }\n",
       "</style>\n",
       "<table border=\"1\" class=\"dataframe\">\n",
       "  <thead>\n",
       "    <tr style=\"text-align: right;\">\n",
       "      <th></th>\n",
       "      <th>xml_file_path</th>\n",
       "      <th>bed_file_path</th>\n",
       "      <th>track_name</th>\n",
       "      <th>xml_bam_path</th>\n",
       "      <th>model_id</th>\n",
       "      <th>model_type</th>\n",
       "      <th>subject_name</th>\n",
       "      <th>individual_name</th>\n",
       "      <th>build_id</th>\n",
       "      <th>gms_bam_path</th>\n",
       "      <th>...</th>\n",
       "      <th>sequencing_scope</th>\n",
       "      <th>project</th>\n",
       "      <th>tumor_normal_pair</th>\n",
       "      <th>has_met</th>\n",
       "      <th>has_pre_malignant</th>\n",
       "      <th>has_relapse</th>\n",
       "      <th>sequencing_context</th>\n",
       "      <th>species_name</th>\n",
       "      <th>ref-seq-build</th>\n",
       "      <th>formated_bed_file_path</th>\n",
       "    </tr>\n",
       "  </thead>\n",
       "  <tbody>\n",
       "    <tr>\n",
       "      <th>1657</th>\n",
       "      <td>NaN</td>\n",
       "      <td>/gscmnt/gc2543/griffithlab/bainscou/manual_review_data/lee/BKM120/H_RO-WU018.bed</td>\n",
       "      <td>NaN</td>\n",
       "      <td>NaN</td>\n",
       "      <td>e373b3d7a28e47a890cc2dfbb4fed623</td>\n",
       "      <td>reference alignment</td>\n",
       "      <td>H_RO-WU018-WU018_BKM120</td>\n",
       "      <td>H_RO-WU018</td>\n",
       "      <td>5c34a155422c430c9990f252ec2d129b</td>\n",
       "      <td>/gscmnt/gc7002/info/build_merged_alignments/merged-alignment-blade8-1-2.gsc.wustl.edu-apipe-builder-14480-32af0e1541b445cc8283a6ddecc985ed/32af0e1541b445cc8283a6ddecc985ed.bam</td>\n",
       "      <td>...</td>\n",
       "      <td>exome</td>\n",
       "      <td>lee/BKM120</td>\n",
       "      <td>True</td>\n",
       "      <td>False</td>\n",
       "      <td>False</td>\n",
       "      <td>False</td>\n",
       "      <td>capture</td>\n",
       "      <td>human</td>\n",
       "      <td>GRCh37-lite-build37</td>\n",
       "      <td>/gscmnt/gc2543/griffithlab/bainscou/manual_review_data/lee/BKM120/H_RO-WU018.bed.formated</td>\n",
       "    </tr>\n",
       "    <tr>\n",
       "      <th>1674</th>\n",
       "      <td>NaN</td>\n",
       "      <td>/gscmnt/gc2543/griffithlab/bainscou/manual_review_data/lee/BKM120/H_RO-WU018.bed</td>\n",
       "      <td>NaN</td>\n",
       "      <td>NaN</td>\n",
       "      <td>f7de451f0b5f470d9095d561df7e296b</td>\n",
       "      <td>reference alignment</td>\n",
       "      <td>H_RO-WU018-gl1310144</td>\n",
       "      <td>H_RO-WU018</td>\n",
       "      <td>49411c66a4ad4085969f4758f8ca3c2f</td>\n",
       "      <td>/gscmnt/gc7002/info/build_merged_alignments/merged-alignment-blade14-2-14.gsc.wustl.edu-apipe-builder-30471-4bb11f4fe80348a3a33d4d25439c6dad/4bb11f4fe80348a3a33d4d25439c6dad.bam</td>\n",
       "      <td>...</td>\n",
       "      <td>exome</td>\n",
       "      <td>lee/BKM120</td>\n",
       "      <td>True</td>\n",
       "      <td>False</td>\n",
       "      <td>False</td>\n",
       "      <td>False</td>\n",
       "      <td>capture</td>\n",
       "      <td>human</td>\n",
       "      <td>GRCh37-lite-build37</td>\n",
       "      <td>/gscmnt/gc2543/griffithlab/bainscou/manual_review_data/lee/BKM120/H_RO-WU018.bed.formated</td>\n",
       "    </tr>\n",
       "  </tbody>\n",
       "</table>\n",
       "<p>2 rows × 21 columns</p>\n",
       "</div>"
      ],
      "text/plain": [
       "     xml_file_path  \\\n",
       "1657  NaN            \n",
       "1674  NaN            \n",
       "\n",
       "                                                                         bed_file_path  \\\n",
       "1657  /gscmnt/gc2543/griffithlab/bainscou/manual_review_data/lee/BKM120/H_RO-WU018.bed   \n",
       "1674  /gscmnt/gc2543/griffithlab/bainscou/manual_review_data/lee/BKM120/H_RO-WU018.bed   \n",
       "\n",
       "     track_name xml_bam_path                          model_id  \\\n",
       "1657  NaN        NaN          e373b3d7a28e47a890cc2dfbb4fed623   \n",
       "1674  NaN        NaN          f7de451f0b5f470d9095d561df7e296b   \n",
       "\n",
       "               model_type             subject_name individual_name  \\\n",
       "1657  reference alignment  H_RO-WU018-WU018_BKM120  H_RO-WU018       \n",
       "1674  reference alignment  H_RO-WU018-gl1310144     H_RO-WU018       \n",
       "\n",
       "                              build_id  \\\n",
       "1657  5c34a155422c430c9990f252ec2d129b   \n",
       "1674  49411c66a4ad4085969f4758f8ca3c2f   \n",
       "\n",
       "                                                                                                                                                                           gms_bam_path  \\\n",
       "1657  /gscmnt/gc7002/info/build_merged_alignments/merged-alignment-blade8-1-2.gsc.wustl.edu-apipe-builder-14480-32af0e1541b445cc8283a6ddecc985ed/32af0e1541b445cc8283a6ddecc985ed.bam     \n",
       "1674  /gscmnt/gc7002/info/build_merged_alignments/merged-alignment-blade14-2-14.gsc.wustl.edu-apipe-builder-30471-4bb11f4fe80348a3a33d4d25439c6dad/4bb11f4fe80348a3a33d4d25439c6dad.bam   \n",
       "\n",
       "                                                ...                                              \\\n",
       "1657                                            ...                                               \n",
       "1674                                            ...                                               \n",
       "\n",
       "     sequencing_scope     project tumor_normal_pair  has_met  \\\n",
       "1657  exome            lee/BKM120  True              False     \n",
       "1674  exome            lee/BKM120  True              False     \n",
       "\n",
       "      has_pre_malignant  has_relapse  sequencing_context species_name  \\\n",
       "1657  False              False        capture             human         \n",
       "1674  False              False        capture             human         \n",
       "\n",
       "            ref-seq-build  \\\n",
       "1657  GRCh37-lite-build37   \n",
       "1674  GRCh37-lite-build37   \n",
       "\n",
       "                                                                         formated_bed_file_path  \n",
       "1657  /gscmnt/gc2543/griffithlab/bainscou/manual_review_data/lee/BKM120/H_RO-WU018.bed.formated  \n",
       "1674  /gscmnt/gc2543/griffithlab/bainscou/manual_review_data/lee/BKM120/H_RO-WU018.bed.formated  \n",
       "\n",
       "[2 rows x 21 columns]"
      ]
     },
     "execution_count": 10,
     "metadata": {},
     "output_type": "execute_result"
    }
   ],
   "source": [
    "# get full data\n",
    "pd.set_option('display.max_colwidth', -1)\n",
    "full_data[full_data['individual_name'] == \"H_RO-WU018\"]#[['subject_name','model_id', 'tissue_type', 'gms_bam_path']]"
   ]
  },
  {
   "cell_type": "code",
   "execution_count": 156,
   "metadata": {},
   "outputs": [
    {
     "name": "stdout",
     "output_type": "stream",
     "text": [
      "[1, 2, 3, 4, 5, 6, 7, 8, 9, 10, 11, 12, 13, 14, 15, 16, 17, 18, 19, 20, 21, 22, 23, 24, 25, 26, 27, 28, 29, 30, 31, 32, 33, 34, 35, 36, 37, 38, 39, 40, 41, 42, 43, 44, 45, 46, 47, 48, 49, 50, 51, 52, 53, 54, 55, 56, 57, 58, 59, 60, 61, 62, 63, 64, 65, 66, 67, 68, 69, 70, 71, 72, 73, 74, 75, 76, 77, 78, 79, 80, 81, 82, 83, 84, 85, 86, 87, 88, 89, 90, 91, 92, 93, 94, 95, 96, 97, 98, 99, 100, 101, 102, 103, 104, 105, 106, 107, 108, 109, 110, 111, 112, 113, 114, 115, 116, 117, 118, 119, 120, 121, 122, 123, 124, 125, 126, 127, 128, 129, 130, 131, 132, 133, 134, 135, 136, 137, 138, 139, 140, 141, 142, 143, 144, 145, 146, 147, 148, 149, 150, 151, 152, 153, 154, 155, 156, 157, 158, 159, 160, 161, 162, 163, 164, 165, 166, 167, 168, 169, 170, 171, 172, 173, 174, 175, 176, 177, 178, 179]\n",
      "[36, 146, 42, 40, 163, 13, 57, 35, 14, 97, 29, 148, 19, 121, 130, 54, 73, 33, 8, 134, 41, 155, 78, 43, 110, 49, 5, 16, 127, 79, 56, 20, 77, 99, 152, 162, 15, 38, 104, 31, 32, 90, 30, 23, 98, 83, 7, 107, 81, 69, 39, 82, 153, 166, 26, 76, 64, 71, 44, 28, 59, 1, 172, 66, 106, 142, 178, 115, 112, 122, 17, 165, 12, 103, 135, 67, 22, 125, 143, 176, 124, 47, 114, 85, 74, 89, 160, 141, 86, 3, 159, 133, 45, 80, 93, 118, 95, 137, 21, 116, 51, 150, 72, 157, 11, 10, 177, 9, 149, 62, 2, 132, 27, 84, 61, 139, 25, 4, 151, 48, 94, 144, 164, 52, 158, 24, 111, 131, 60, 18, 145, 123, 167, 113, 101, 96, 174, 129, 68, 92, 154, 140, 120, 65, 136, 63, 58, 37, 70, 53, 173, 75, 6, 100, 171, 109, 126, 170, 175, 147, 156, 119, 117, 91, 88, 108, 55, 128, 168, 105, 138, 179, 102, 34, 161, 50, 169, 87, 46]\n"
     ]
    }
   ],
   "source": [
    "arr = []\n",
    "for item in range(180):\n",
    "    arr.append(item)\n",
    "arr.pop(0)\n",
    "\n",
    "print(arr)\n",
    "\n",
    "random.shuffle(arr)\n",
    "print(arr)"
   ]
  },
  {
   "cell_type": "code",
   "execution_count": null,
   "metadata": {
    "collapsed": true
   },
   "outputs": [],
   "source": []
  }
 ],
 "metadata": {
  "kernelspec": {
   "display_name": "Python 3",
   "language": "python",
   "name": "python3"
  },
  "language_info": {
   "codemirror_mode": {
    "name": "ipython",
    "version": 3
   },
   "file_extension": ".py",
   "mimetype": "text/x-python",
   "name": "python",
   "nbconvert_exporter": "python",
   "pygments_lexer": "ipython3",
   "version": "3.6.3"
  }
 },
 "nbformat": 4,
 "nbformat_minor": 2
}
