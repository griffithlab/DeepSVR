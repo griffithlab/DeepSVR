{
 "cells": [
  {
   "cell_type": "code",
   "execution_count": 1,
   "metadata": {
    "ExecuteTime": {
     "end_time": "2017-05-10T20:30:31.288873Z",
     "start_time": "2017-05-10T15:30:27.737020-05:00"
    }
   },
   "outputs": [
    {
     "name": "stderr",
     "output_type": "stream",
     "text": [
      "Using TensorFlow backend.\n"
     ]
    }
   ],
   "source": [
    "import numpy as np\n",
    "import pandas as pd\n",
    "from keras.models import Sequential\n",
    "from keras.layers import Dense\n",
    "from keras.wrappers.scikit_learn import KerasClassifier\n",
    "from sklearn.model_selection import KFold\n",
    "from sklearn.model_selection import cross_val_predict\n",
    "from sklearn import preprocessing\n",
    "from sklearn import metrics\n",
    "\n",
    "import matplotlib.pyplot as plt\n",
    "import seaborn as sns\n",
    "from itertools import cycle\n",
    "\n",
    "sns.set_style(\"white\")\n",
    "sns.set_context('notebook')"
   ]
  },
  {
   "cell_type": "code",
   "execution_count": 2,
   "metadata": {
    "ExecuteTime": {
     "end_time": "2017-05-10T20:30:31.333444Z",
     "start_time": "2017-05-10T15:30:31.290534-05:00"
    },
    "collapsed": true
   },
   "outputs": [],
   "source": [
    "training_data = pd.read_pickle('../data/training_data.pkl')"
   ]
  },
  {
   "cell_type": "code",
   "execution_count": 3,
   "metadata": {
    "ExecuteTime": {
     "end_time": "2017-05-10T20:30:31.356497Z",
     "start_time": "2017-05-10T15:30:31.335587-05:00"
    }
   },
   "outputs": [
    {
     "data": {
      "text/plain": [
       "call\n",
       "a    13745\n",
       "f     1600\n",
       "g     3946\n",
       "s    17781\n",
       "dtype: int64"
      ]
     },
     "execution_count": 3,
     "metadata": {},
     "output_type": "execute_result"
    }
   ],
   "source": [
    "training_data.groupby('call').size()"
   ]
  },
  {
   "cell_type": "code",
   "execution_count": 4,
   "metadata": {
    "ExecuteTime": {
     "end_time": "2017-05-10T20:30:31.412575Z",
     "start_time": "2017-05-10T15:30:31.358796-05:00"
    },
    "collapsed": true
   },
   "outputs": [],
   "source": [
    "# Get Labels\n",
    "Y = pd.get_dummies(training_data.call).astype(float).values\n",
    "# Get training data as numpy array\n",
    "X = training_data.drop('call', axis=1).astype(float).values"
   ]
  },
  {
   "cell_type": "code",
   "execution_count": 5,
   "metadata": {
    "ExecuteTime": {
     "end_time": "2017-05-10T20:30:31.419490Z",
     "start_time": "2017-05-10T15:30:31.414626-05:00"
    }
   },
   "outputs": [
    {
     "data": {
      "text/plain": [
       "(37072, 67)"
      ]
     },
     "execution_count": 5,
     "metadata": {},
     "output_type": "execute_result"
    }
   ],
   "source": [
    "X.shape"
   ]
  },
  {
   "cell_type": "code",
   "execution_count": 6,
   "metadata": {
    "ExecuteTime": {
     "end_time": "2017-05-10T20:30:31.425212Z",
     "start_time": "2017-05-10T15:30:31.421164-05:00"
    }
   },
   "outputs": [
    {
     "data": {
      "text/plain": [
       "(37072, 4)"
      ]
     },
     "execution_count": 6,
     "metadata": {},
     "output_type": "execute_result"
    }
   ],
   "source": [
    "Y.shape"
   ]
  },
  {
   "cell_type": "code",
   "execution_count": 7,
   "metadata": {
    "ExecuteTime": {
     "end_time": "2017-05-10T20:30:31.430290Z",
     "start_time": "2017-05-10T15:30:31.426935-05:00"
    },
    "collapsed": true
   },
   "outputs": [],
   "source": [
    "# fix random seed for reproducibility\n",
    "seed = 7\n",
    "np.random.seed(seed)"
   ]
  },
  {
   "cell_type": "code",
   "execution_count": 8,
   "metadata": {
    "ExecuteTime": {
     "end_time": "2017-05-10T20:30:31.437318Z",
     "start_time": "2017-05-10T15:30:31.432152-05:00"
    },
    "collapsed": true
   },
   "outputs": [],
   "source": [
    "# define baseline model\n",
    "def baseline_model():\n",
    "    # create model\n",
    "    model = Sequential()\n",
    "    model.add(Dense(67, input_dim=67, kernel_initializer='normal', activation='relu'))\n",
    "    model.add(Dense(23, activation='relu'))\n",
    "    model.add(Dense(23, activation='relu'))\n",
    "    model.add(Dense(4, kernel_initializer='normal', activation='sigmoid'))\n",
    "    # Compile model\n",
    "    model.compile(loss='categorical_crossentropy', optimizer='adam', metrics=['accuracy'])\n",
    "    return model"
   ]
  },
  {
   "cell_type": "code",
   "execution_count": 9,
   "metadata": {
    "ExecuteTime": {
     "end_time": "2017-05-10T20:30:31.442909Z",
     "start_time": "2017-05-10T15:30:31.439320-05:00"
    },
    "collapsed": true
   },
   "outputs": [],
   "source": [
    "estimator = KerasClassifier(build_fn=baseline_model, epochs=10, batch_size=5, verbose=1)"
   ]
  },
  {
   "cell_type": "code",
   "execution_count": 10,
   "metadata": {
    "ExecuteTime": {
     "end_time": "2017-05-10T20:30:31.447630Z",
     "start_time": "2017-05-10T15:30:31.444610-05:00"
    },
    "collapsed": true
   },
   "outputs": [],
   "source": [
    "kfold = KFold(n_splits=10, shuffle=True, random_state=seed)"
   ]
  },
  {
   "cell_type": "code",
   "execution_count": 11,
   "metadata": {
    "ExecuteTime": {
     "end_time": "2017-05-10T21:18:19.791302Z",
     "start_time": "2017-05-10T15:30:31.449495-05:00"
    }
   },
   "outputs": [
    {
     "name": "stdout",
     "output_type": "stream",
     "text": [
      "Epoch 1/10\n",
      "33364/33364 [==============================] - 27s - loss: 0.7338 - acc: 0.6886    \n",
      "Epoch 2/10\n",
      "33364/33364 [==============================] - 28s - loss: 0.6121 - acc: 0.7531    \n",
      "Epoch 3/10\n",
      "33364/33364 [==============================] - 28s - loss: 0.5802 - acc: 0.7660    \n",
      "Epoch 4/10\n",
      "33364/33364 [==============================] - 29s - loss: 0.5619 - acc: 0.7734    \n",
      "Epoch 5/10\n",
      "33364/33364 [==============================] - 29s - loss: 0.5482 - acc: 0.7774    \n",
      "Epoch 6/10\n",
      "33364/33364 [==============================] - 29s - loss: 0.5378 - acc: 0.7822    \n",
      "Epoch 7/10\n",
      "33364/33364 [==============================] - 29s - loss: 0.5292 - acc: 0.7865    \n",
      "Epoch 8/10\n",
      "33364/33364 [==============================] - 30s - loss: 0.5251 - acc: 0.7875    \n",
      "Epoch 9/10\n",
      "33364/33364 [==============================] - 30s - loss: 0.5199 - acc: 0.7891    \n",
      "Epoch 10/10\n",
      "33364/33364 [==============================] - 31s - loss: 0.5146 - acc: 0.7915    \n",
      "3580/3708 [===========================>..] - ETA: 0sEpoch 1/10\n",
      "33364/33364 [==============================] - 31s - loss: 0.7351 - acc: 0.6891    \n",
      "Epoch 2/10\n",
      "33364/33364 [==============================] - 29s - loss: 0.6131 - acc: 0.7522    \n",
      "Epoch 3/10\n",
      "33364/33364 [==============================] - 27s - loss: 0.5789 - acc: 0.7686    \n",
      "Epoch 4/10\n",
      "33364/33364 [==============================] - 31s - loss: 0.5607 - acc: 0.7736    \n",
      "Epoch 5/10\n",
      "33364/33364 [==============================] - 33s - loss: 0.5509 - acc: 0.7769    \n",
      "Epoch 6/10\n",
      "33364/33364 [==============================] - 32s - loss: 0.5412 - acc: 0.7830    \n",
      "Epoch 7/10\n",
      "33364/33364 [==============================] - 25s - loss: 0.5334 - acc: 0.7844    \n",
      "Epoch 8/10\n",
      "33364/33364 [==============================] - 28s - loss: 0.5255 - acc: 0.7889    \n",
      "Epoch 9/10\n",
      "33364/33364 [==============================] - 26s - loss: 0.5196 - acc: 0.7889    \n",
      "Epoch 10/10\n",
      "33364/33364 [==============================] - 26s - loss: 0.5145 - acc: 0.7921    \n",
      "3585/3708 [============================>.] - ETA: 0sEpoch 1/10\n",
      "33365/33365 [==============================] - 28s - loss: 0.7276 - acc: 0.6931    \n",
      "Epoch 2/10\n",
      "33365/33365 [==============================] - 28s - loss: 0.6077 - acc: 0.7522    \n",
      "Epoch 3/10\n",
      "33365/33365 [==============================] - 30s - loss: 0.5747 - acc: 0.7658    \n",
      "Epoch 4/10\n",
      "33365/33365 [==============================] - 29s - loss: 0.5577 - acc: 0.7740    \n",
      "Epoch 5/10\n",
      "33365/33365 [==============================] - 28s - loss: 0.5470 - acc: 0.7778    \n",
      "Epoch 6/10\n",
      "33365/33365 [==============================] - 27s - loss: 0.5369 - acc: 0.7812    \n",
      "Epoch 7/10\n",
      "33365/33365 [==============================] - 27s - loss: 0.5278 - acc: 0.7859    \n",
      "Epoch 8/10\n",
      "33365/33365 [==============================] - 31s - loss: 0.5231 - acc: 0.7884    \n",
      "Epoch 9/10\n",
      "33365/33365 [==============================] - 27s - loss: 0.5167 - acc: 0.7907    \n",
      "Epoch 10/10\n",
      "33365/33365 [==============================] - 26s - loss: 0.5119 - acc: 0.7926    \n",
      "3375/3707 [==========================>...] - ETA: 0sEpoch 1/10\n",
      "33365/33365 [==============================] - 27s - loss: 0.7383 - acc: 0.6860    \n",
      "Epoch 2/10\n",
      "33365/33365 [==============================] - 28s - loss: 0.6163 - acc: 0.7517    \n",
      "Epoch 3/10\n",
      "33365/33365 [==============================] - 27s - loss: 0.5791 - acc: 0.7666    \n",
      "Epoch 4/10\n",
      "33365/33365 [==============================] - 25s - loss: 0.5586 - acc: 0.7745    \n",
      "Epoch 5/10\n",
      "33365/33365 [==============================] - 26s - loss: 0.5453 - acc: 0.7798    \n",
      "Epoch 6/10\n",
      "33365/33365 [==============================] - 25s - loss: 0.5378 - acc: 0.7806    \n",
      "Epoch 7/10\n",
      "33365/33365 [==============================] - 25s - loss: 0.5313 - acc: 0.7850    \n",
      "Epoch 8/10\n",
      "33365/33365 [==============================] - 24s - loss: 0.5230 - acc: 0.7897    \n",
      "Epoch 9/10\n",
      "33365/33365 [==============================] - 25s - loss: 0.5169 - acc: 0.7899    \n",
      "Epoch 10/10\n",
      "33365/33365 [==============================] - 26s - loss: 0.5132 - acc: 0.7923    \n",
      "3670/3707 [============================>.] - ETA: 0sEpoch 1/10\n",
      "33365/33365 [==============================] - 30s - loss: 0.7594 - acc: 0.6679    \n",
      "Epoch 2/10\n",
      "33365/33365 [==============================] - 29s - loss: 0.6180 - acc: 0.7505    \n",
      "Epoch 3/10\n",
      "33365/33365 [==============================] - 26s - loss: 0.5852 - acc: 0.7633    \n",
      "Epoch 4/10\n",
      "33365/33365 [==============================] - 25s - loss: 0.5662 - acc: 0.7703    \n",
      "Epoch 5/10\n",
      "33365/33365 [==============================] - 24s - loss: 0.5521 - acc: 0.7781    \n",
      "Epoch 6/10\n",
      "33365/33365 [==============================] - 26s - loss: 0.5420 - acc: 0.7790    \n",
      "Epoch 7/10\n",
      "33365/33365 [==============================] - 24s - loss: 0.5367 - acc: 0.7823    \n",
      "Epoch 8/10\n",
      "33365/33365 [==============================] - 25s - loss: 0.5287 - acc: 0.7851    \n",
      "Epoch 9/10\n",
      "33365/33365 [==============================] - 27s - loss: 0.5234 - acc: 0.7879    \n",
      "Epoch 10/10\n",
      "33365/33365 [==============================] - 26s - loss: 0.5174 - acc: 0.7906    \n",
      "3490/3707 [===========================>..] - ETA: 0sEpoch 1/10\n",
      "33365/33365 [==============================] - 27s - loss: 0.7457 - acc: 0.6745    \n",
      "Epoch 2/10\n",
      "33365/33365 [==============================] - 25s - loss: 0.6198 - acc: 0.7482    \n",
      "Epoch 3/10\n",
      "33365/33365 [==============================] - 25s - loss: 0.5851 - acc: 0.7615    \n",
      "Epoch 4/10\n",
      "33365/33365 [==============================] - 25s - loss: 0.5637 - acc: 0.7702    \n",
      "Epoch 5/10\n",
      "33365/33365 [==============================] - 27s - loss: 0.5517 - acc: 0.7768    \n",
      "Epoch 6/10\n",
      "33365/33365 [==============================] - 26s - loss: 0.5413 - acc: 0.7791    \n",
      "Epoch 7/10\n",
      "33365/33365 [==============================] - 26s - loss: 0.5341 - acc: 0.7850    \n",
      "Epoch 8/10\n",
      "33365/33365 [==============================] - 26s - loss: 0.5258 - acc: 0.7859    \n",
      "Epoch 9/10\n",
      "33365/33365 [==============================] - 28s - loss: 0.5189 - acc: 0.7886    \n",
      "Epoch 10/10\n",
      "33365/33365 [==============================] - 29s - loss: 0.5146 - acc: 0.7910    \n",
      "3420/3707 [==========================>...] - ETA: 0sEpoch 1/10\n",
      "33365/33365 [==============================] - 30s - loss: 0.7394 - acc: 0.6867    \n",
      "Epoch 2/10\n",
      "33365/33365 [==============================] - 27s - loss: 0.6134 - acc: 0.7523    \n",
      "Epoch 3/10\n",
      "33365/33365 [==============================] - 29s - loss: 0.5809 - acc: 0.7659    \n",
      "Epoch 4/10\n",
      "33365/33365 [==============================] - 27s - loss: 0.5590 - acc: 0.7729    \n",
      "Epoch 5/10\n",
      "33365/33365 [==============================] - 26s - loss: 0.5470 - acc: 0.7786    \n",
      "Epoch 6/10\n",
      "33365/33365 [==============================] - 30s - loss: 0.5397 - acc: 0.7807    \n",
      "Epoch 7/10\n",
      "33365/33365 [==============================] - 31s - loss: 0.5301 - acc: 0.7838    \n",
      "Epoch 8/10\n",
      "33365/33365 [==============================] - 28s - loss: 0.5230 - acc: 0.7878    \n",
      "Epoch 9/10\n",
      "33365/33365 [==============================] - 25s - loss: 0.5188 - acc: 0.7881    \n",
      "Epoch 10/10\n",
      "33365/33365 [==============================] - 25s - loss: 0.5147 - acc: 0.7892    \n",
      "3630/3707 [============================>.] - ETA: 0sEpoch 1/10\n",
      "33365/33365 [==============================] - 28s - loss: 0.7130 - acc: 0.6992    \n",
      "Epoch 2/10\n",
      "33365/33365 [==============================] - 31s - loss: 0.5993 - acc: 0.7563    \n",
      "Epoch 3/10\n",
      "33365/33365 [==============================] - 29s - loss: 0.5730 - acc: 0.7667    \n",
      "Epoch 4/10\n",
      "33365/33365 [==============================] - 26s - loss: 0.5555 - acc: 0.7742    \n",
      "Epoch 5/10\n",
      "33365/33365 [==============================] - 25s - loss: 0.5446 - acc: 0.7798    \n",
      "Epoch 6/10\n",
      "33365/33365 [==============================] - 27s - loss: 0.5349 - acc: 0.7831    \n",
      "Epoch 7/10\n",
      "33365/33365 [==============================] - 26s - loss: 0.5275 - acc: 0.7867    \n",
      "Epoch 8/10\n",
      "33365/33365 [==============================] - 28s - loss: 0.5191 - acc: 0.7903    \n",
      "Epoch 9/10\n",
      "33365/33365 [==============================] - 26s - loss: 0.5158 - acc: 0.7905    \n",
      "Epoch 10/10\n",
      "33365/33365 [==============================] - 30s - loss: 0.5108 - acc: 0.7917    \n",
      "3660/3707 [============================>.] - ETA: 0sEpoch 1/10\n",
      "33365/33365 [==============================] - 29s - loss: 0.7231 - acc: 0.7000    \n",
      "Epoch 2/10\n"
     ]
    },
    {
     "name": "stdout",
     "output_type": "stream",
     "text": [
      "33365/33365 [==============================] - 30s - loss: 0.6141 - acc: 0.7522    \n",
      "Epoch 3/10\n",
      "33365/33365 [==============================] - 30s - loss: 0.5793 - acc: 0.7673    \n",
      "Epoch 4/10\n",
      "33365/33365 [==============================] - 26s - loss: 0.5618 - acc: 0.7718    \n",
      "Epoch 5/10\n",
      "33365/33365 [==============================] - 27s - loss: 0.5493 - acc: 0.7773    \n",
      "Epoch 6/10\n",
      "33365/33365 [==============================] - 26s - loss: 0.5378 - acc: 0.7825    \n",
      "Epoch 7/10\n",
      "33365/33365 [==============================] - 29s - loss: 0.5324 - acc: 0.7860    \n",
      "Epoch 8/10\n",
      "33365/33365 [==============================] - 29s - loss: 0.5268 - acc: 0.7872    \n",
      "Epoch 9/10\n",
      "33365/33365 [==============================] - 30s - loss: 0.5194 - acc: 0.7905    \n",
      "Epoch 10/10\n",
      "33365/33365 [==============================] - 30s - loss: 0.5145 - acc: 0.7914    \n",
      "3650/3707 [============================>.] - ETA: 0sEpoch 1/10\n",
      "33365/33365 [==============================] - 30s - loss: 0.7278 - acc: 0.6936    \n",
      "Epoch 2/10\n",
      "33365/33365 [==============================] - 30s - loss: 0.6104 - acc: 0.7556    \n",
      "Epoch 3/10\n",
      "33365/33365 [==============================] - 30s - loss: 0.5803 - acc: 0.7655    \n",
      "Epoch 4/10\n",
      "33365/33365 [==============================] - 30s - loss: 0.5619 - acc: 0.7727    \n",
      "Epoch 5/10\n",
      "33365/33365 [==============================] - 31s - loss: 0.5494 - acc: 0.7786    \n",
      "Epoch 6/10\n",
      "33365/33365 [==============================] - 38s - loss: 0.5385 - acc: 0.7805    \n",
      "Epoch 7/10\n",
      "33365/33365 [==============================] - 34s - loss: 0.5315 - acc: 0.7826    \n",
      "Epoch 8/10\n",
      "33365/33365 [==============================] - 36s - loss: 0.5271 - acc: 0.7868    \n",
      "Epoch 9/10\n",
      "33365/33365 [==============================] - 32s - loss: 0.5202 - acc: 0.7892    \n",
      "Epoch 10/10\n",
      "33365/33365 [==============================] - 32s - loss: 0.5149 - acc: 0.7912    \n",
      "3707/3707 [==============================] - 0s     \n"
     ]
    }
   ],
   "source": [
    "predicted = cross_val_predict(estimator, X, Y, cv=kfold)"
   ]
  },
  {
   "cell_type": "code",
   "execution_count": 12,
   "metadata": {
    "ExecuteTime": {
     "end_time": "2017-05-10T21:18:19.803499Z",
     "start_time": "2017-05-10T16:18:19.793296-05:00"
    },
    "collapsed": true
   },
   "outputs": [],
   "source": [
    "label_binarizer = preprocessing.LabelBinarizer()\n",
    "\n",
    "label_binarizer.fit(range(max(predicted)+1))\n",
    "predicted_transformed = label_binarizer.transform(predicted)"
   ]
  },
  {
   "cell_type": "code",
   "execution_count": 13,
   "metadata": {
    "ExecuteTime": {
     "end_time": "2017-05-10T21:18:19.848171Z",
     "start_time": "2017-05-10T16:18:19.805471-05:00"
    }
   },
   "outputs": [
    {
     "data": {
      "text/plain": [
       "0.78617285282693139"
      ]
     },
     "execution_count": 13,
     "metadata": {},
     "output_type": "execute_result"
    }
   ],
   "source": [
    "metrics.accuracy_score(Y, predicted_transformed)"
   ]
  },
  {
   "cell_type": "markdown",
   "metadata": {},
   "source": [
    "#### Classification report\n",
    "* 0 = ambiguous\n",
    "* 1 = fail\n",
    "* 2 = germline\n",
    "* 3 = somatic"
   ]
  },
  {
   "cell_type": "code",
   "execution_count": 14,
   "metadata": {
    "ExecuteTime": {
     "end_time": "2017-05-10T21:18:19.869943Z",
     "start_time": "2017-05-10T16:18:19.850333-05:00"
    }
   },
   "outputs": [
    {
     "name": "stdout",
     "output_type": "stream",
     "text": [
      "             precision    recall  f1-score   support\n",
      "\n",
      "          0       0.79      0.75      0.77     13745\n",
      "          1       0.55      0.46      0.50      1600\n",
      "          2       0.59      0.80      0.68      3946\n",
      "          3       0.86      0.84      0.85     17781\n",
      "\n",
      "avg / total       0.79      0.79      0.79     37072\n",
      "\n"
     ]
    }
   ],
   "source": [
    "print(metrics.classification_report(Y, predicted_transformed))"
   ]
  },
  {
   "cell_type": "code",
   "execution_count": 15,
   "metadata": {
    "ExecuteTime": {
     "end_time": "2017-05-10T21:18:20.124551Z",
     "start_time": "2017-05-10T16:18:19.871650-05:00"
    }
   },
   "outputs": [
    {
     "data": {
      "image/png": "[encoded data removed]",
      "text/plain": [
       "<matplotlib.figure.Figure at 0x1435f70f0>"
      ]
     },
     "metadata": {},
     "output_type": "display_data"
    }
   ],
   "source": [
    "n_classes = Y.shape[1]\n",
    "class_lookup = {0: 'Ambiguous', 1: 'Fail', 2: 'Germline', 3: 'Somatic'}\n",
    "fpr = dict()\n",
    "tpr = dict()\n",
    "roc_auc = dict()\n",
    "plt.title('Receiver Operating Characteristic')\n",
    "colors = cycle(['aqua', 'darkorange', 'cornflowerblue', 'deeppink'])\n",
    "for i, color in zip(range(n_classes), colors):\n",
    "    fpr[i], tpr[i], _ = metrics.roc_curve(Y[:, i], predicted_transformed[:, i])\n",
    "    roc_auc[i] = metrics.auc(fpr[i], tpr[i])\n",
    "    plt.plot(fpr[i], tpr[i], color=color, label='ROC curve of class {0}'\n",
    "             ' (area = {1:0.2f})'.format(class_lookup[i], roc_auc[i]))\n",
    "plt.plot([0, 1], [0, 1], 'k--')\n",
    "plt.xlim([0.0, 1.0])\n",
    "plt.ylim([0.0, 1.05])\n",
    "plt.xlabel('False Positive Rate')\n",
    "plt.ylabel('True Positive Rate')\n",
    "plt.legend(loc=\"lower right\")\n",
    "plt.show()"
   ]
  },
  {
   "cell_type": "code",
   "execution_count": null,
   "metadata": {
    "collapsed": true
   },
   "outputs": [],
   "source": []
  }
 ],
 "metadata": {
  "kernelspec": {
   "display_name": "Python 3",
   "language": "python",
   "name": "python3"
  },
  "language_info": {
   "codemirror_mode": {
    "name": "ipython",
    "version": 3
   },
   "file_extension": ".py",
   "mimetype": "text/x-python",
   "name": "python",
   "nbconvert_exporter": "python",
   "pygments_lexer": "ipython3",
   "version": "3.6.1"
  }
 },
 "nbformat": 4,
 "nbformat_minor": 2
}
