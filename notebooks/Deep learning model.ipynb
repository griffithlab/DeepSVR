{
 "cells": [
  {
   "cell_type": "code",
   "execution_count": 1,
   "metadata": {
    "ExecuteTime": {
     "end_time": "2017-05-31T17:52:10.523431Z",
     "start_time": "2017-05-31T17:52:10.296234Z"
    }
   },
   "outputs": [
    {
     "name": "stdout",
     "output_type": "stream",
     "text": [
      "Populating the interactive namespace from numpy and matplotlib\n"
     ]
    }
   ],
   "source": [
    "%pylab inline\n",
    "%load_ext autoreload\n",
    "%autoreload 2\n",
    "\n",
    "%aimport manual_review_classifier"
   ]
  },
  {
   "cell_type": "code",
   "execution_count": 2,
   "metadata": {
    "ExecuteTime": {
     "end_time": "2017-05-31T17:52:10.540229Z",
     "start_time": "2017-05-31T17:52:10.525332Z"
    },
    "collapsed": true
   },
   "outputs": [],
   "source": [
    "%matplotlib inline"
   ]
  },
  {
   "cell_type": "code",
   "execution_count": 3,
   "metadata": {
    "ExecuteTime": {
     "end_time": "2017-05-31T17:52:12.646430Z",
     "start_time": "2017-05-31T17:52:10.541880Z"
    }
   },
   "outputs": [
    {
     "name": "stderr",
     "output_type": "stream",
     "text": [
      "Using TensorFlow backend.\n"
     ]
    }
   ],
   "source": [
    "import numpy as np\n",
    "import pandas as pd\n",
    "import os\n",
    "from keras.models import Sequential\n",
    "from keras.layers import Dense\n",
    "from keras.wrappers.scikit_learn import KerasClassifier\n",
    "from sklearn.model_selection import KFold\n",
    "from sklearn.model_selection import cross_val_predict\n",
    "from sklearn import preprocessing\n",
    "from sklearn import metrics\n",
    "\n",
    "import matplotlib.pyplot as plt\n",
    "import seaborn as sns\n",
    "from itertools import cycle\n",
    "\n",
    "from manual_review_classifier.ClassifierPlots import create_reliability_diagram\n",
    "\n",
    "sns.set_style(\"white\")\n",
    "sns.set_context('notebook')"
   ]
  },
  {
   "cell_type": "code",
   "execution_count": 4,
   "metadata": {
    "ExecuteTime": {
     "end_time": "2017-05-31T17:52:12.709627Z",
     "start_time": "2017-05-31T17:52:12.648088Z"
    },
    "collapsed": true
   },
   "outputs": [],
   "source": [
    "training_data = pd.read_pickle('../data/training_data.pkl')"
   ]
  },
  {
   "cell_type": "code",
   "execution_count": 5,
   "metadata": {
    "ExecuteTime": {
     "end_time": "2017-05-31T17:52:12.746592Z",
     "start_time": "2017-05-31T17:52:12.711318Z"
    },
    "scrolled": true
   },
   "outputs": [
    {
     "data": {
      "text/plain": [
       "call\n",
       "a    14589\n",
       "f     1600\n",
       "g     4309\n",
       "s    21156\n",
       "dtype: int64"
      ]
     },
     "execution_count": 5,
     "metadata": {},
     "output_type": "execute_result"
    }
   ],
   "source": [
    "training_data.groupby('call').size()"
   ]
  },
  {
   "cell_type": "code",
   "execution_count": 6,
   "metadata": {
    "ExecuteTime": {
     "end_time": "2017-05-31T17:52:12.829917Z",
     "start_time": "2017-05-31T17:52:12.748284Z"
    },
    "collapsed": true
   },
   "outputs": [],
   "source": [
    "# Get Labels\n",
    "Y = pd.get_dummies(training_data.call).astype(float).values\n",
    "# Get training data as numpy array\n",
    "X = training_data.drop('call', axis=1).astype(float).values"
   ]
  },
  {
   "cell_type": "code",
   "execution_count": 7,
   "metadata": {
    "ExecuteTime": {
     "end_time": "2017-05-31T17:52:12.862542Z",
     "start_time": "2017-05-31T17:52:12.831625Z"
    }
   },
   "outputs": [
    {
     "data": {
      "text/plain": [
       "(41654, 71)"
      ]
     },
     "execution_count": 7,
     "metadata": {},
     "output_type": "execute_result"
    }
   ],
   "source": [
    "X.shape"
   ]
  },
  {
   "cell_type": "code",
   "execution_count": 8,
   "metadata": {
    "ExecuteTime": {
     "end_time": "2017-05-31T17:52:12.894084Z",
     "start_time": "2017-05-31T17:52:12.864010Z"
    }
   },
   "outputs": [
    {
     "data": {
      "text/plain": [
       "(41654, 4)"
      ]
     },
     "execution_count": 8,
     "metadata": {},
     "output_type": "execute_result"
    }
   ],
   "source": [
    "Y.shape"
   ]
  },
  {
   "cell_type": "code",
   "execution_count": 9,
   "metadata": {
    "ExecuteTime": {
     "end_time": "2017-05-31T17:52:12.925034Z",
     "start_time": "2017-05-31T17:52:12.895691Z"
    },
    "collapsed": true
   },
   "outputs": [],
   "source": [
    "# fix random seed for reproducibility\n",
    "seed = 7\n",
    "np.random.seed(seed)"
   ]
  },
  {
   "cell_type": "code",
   "execution_count": 10,
   "metadata": {
    "ExecuteTime": {
     "end_time": "2017-05-31T17:52:12.962710Z",
     "start_time": "2017-05-31T17:52:12.926714Z"
    },
    "collapsed": true
   },
   "outputs": [],
   "source": [
    "# define baseline model\n",
    "def baseline_model():\n",
    "    # create model\n",
    "    model = Sequential()\n",
    "    model.add(Dense(67, input_dim=71, kernel_initializer='normal', activation='relu'))\n",
    "    model.add(Dense(23, activation='relu'))\n",
    "    model.add(Dense(23, activation='relu'))\n",
    "    model.add(Dense(4, kernel_initializer='normal', activation='sigmoid'))\n",
    "    # Compile model\n",
    "    model.compile(loss='categorical_crossentropy', optimizer='adam', metrics=['accuracy'])\n",
    "    return model"
   ]
  },
  {
   "cell_type": "code",
   "execution_count": 11,
   "metadata": {
    "ExecuteTime": {
     "end_time": "2017-05-31T17:52:12.994576Z",
     "start_time": "2017-05-31T17:52:12.964471Z"
    },
    "collapsed": true
   },
   "outputs": [],
   "source": [
    "estimator = KerasClassifier(build_fn=baseline_model, epochs=10, batch_size=5, verbose=1)"
   ]
  },
  {
   "cell_type": "code",
   "execution_count": 12,
   "metadata": {
    "ExecuteTime": {
     "end_time": "2017-05-31T17:52:13.026331Z",
     "start_time": "2017-05-31T17:52:12.996270Z"
    },
    "collapsed": true
   },
   "outputs": [],
   "source": [
    "kfold = KFold(n_splits=10, shuffle=True, random_state=seed)"
   ]
  },
  {
   "cell_type": "code",
   "execution_count": 13,
   "metadata": {
    "ExecuteTime": {
     "end_time": "2017-05-31T18:50:35.447252Z",
     "start_time": "2017-05-31T17:52:13.027888Z"
    },
    "scrolled": true
   },
   "outputs": [
    {
     "name": "stdout",
     "output_type": "stream",
     "text": [
      "Epoch 1/10\n",
      "37488/37488 [==============================] - 35s - loss: 0.6735 - acc: 0.7247    \n",
      "Epoch 2/10\n",
      "37488/37488 [==============================] - 34s - loss: 0.5562 - acc: 0.7835    \n",
      "Epoch 3/10\n",
      "37488/37488 [==============================] - 30s - loss: 0.5295 - acc: 0.7933    \n",
      "Epoch 4/10\n",
      "37488/37488 [==============================] - 30s - loss: 0.5121 - acc: 0.7990    \n",
      "Epoch 5/10\n",
      "37488/37488 [==============================] - ETA: 0s - loss: 0.5029 - acc: 0.803 - 34s - loss: 0.5029 - acc: 0.8030    \n",
      "Epoch 6/10\n",
      "37488/37488 [==============================] - 30s - loss: 0.4941 - acc: 0.8051    \n",
      "Epoch 7/10\n",
      "37488/37488 [==============================] - 32s - loss: 0.4855 - acc: 0.8100    \n",
      "Epoch 8/10\n",
      "37488/37488 [==============================] - 33s - loss: 0.4807 - acc: 0.8119    \n",
      "Epoch 9/10\n",
      "37488/37488 [==============================] - 31s - loss: 0.4757 - acc: 0.8111    \n",
      "Epoch 10/10\n",
      "37488/37488 [==============================] - 30s - loss: 0.4710 - acc: 0.8144    \n",
      "4080/4166 [============================>.] - ETA: 0sEpoch 1/10\n",
      "37488/37488 [==============================] - 31s - loss: 0.6746 - acc: 0.7251    \n",
      "Epoch 2/10\n",
      "37488/37488 [==============================] - 34s - loss: 0.5595 - acc: 0.7800    \n",
      "Epoch 3/10\n",
      "37488/37488 [==============================] - 43s - loss: 0.5326 - acc: 0.7917    \n",
      "Epoch 4/10\n",
      "37488/37488 [==============================] - 39s - loss: 0.5149 - acc: 0.7989    \n",
      "Epoch 5/10\n",
      "37488/37488 [==============================] - 39s - loss: 0.5033 - acc: 0.8022    \n",
      "Epoch 6/10\n",
      "37488/37488 [==============================] - 39s - loss: 0.4958 - acc: 0.8046    \n",
      "Epoch 7/10\n",
      "37488/37488 [==============================] - 37s - loss: 0.4873 - acc: 0.8085    \n",
      "Epoch 8/10\n",
      "37488/37488 [==============================] - 38s - loss: 0.4823 - acc: 0.8089    \n",
      "Epoch 9/10\n",
      "37488/37488 [==============================] - 38s - loss: 0.4773 - acc: 0.8123    \n",
      "Epoch 10/10\n",
      "37488/37488 [==============================] - 38s - loss: 0.4735 - acc: 0.8126    \n",
      "3920/4166 [===========================>..] - ETA: 0sEpoch 1/10\n",
      "37488/37488 [==============================] - 37s - loss: 0.6612 - acc: 0.7310    \n",
      "Epoch 2/10\n",
      "37488/37488 [==============================] - 30s - loss: 0.5564 - acc: 0.7822    \n",
      "Epoch 3/10\n",
      "37488/37488 [==============================] - 30s - loss: 0.5322 - acc: 0.7907    \n",
      "Epoch 4/10\n",
      "37488/37488 [==============================] - 30s - loss: 0.5144 - acc: 0.7980    \n",
      "Epoch 5/10\n",
      "37488/37488 [==============================] - 30s - loss: 0.5024 - acc: 0.8020    \n",
      "Epoch 6/10\n",
      "37488/37488 [==============================] - 32s - loss: 0.4946 - acc: 0.8044    \n",
      "Epoch 7/10\n",
      "37488/37488 [==============================] - 33s - loss: 0.4879 - acc: 0.8070    \n",
      "Epoch 8/10\n",
      "37488/37488 [==============================] - 31s - loss: 0.4826 - acc: 0.8094    \n",
      "Epoch 9/10\n",
      "37488/37488 [==============================] - 32s - loss: 0.4773 - acc: 0.8112    \n",
      "Epoch 10/10\n",
      "37488/37488 [==============================] - 35s - loss: 0.4734 - acc: 0.8117    \n",
      "4040/4166 [============================>.] - ETA: 0sEpoch 1/10\n",
      "37488/37488 [==============================] - 31s - loss: 0.6770 - acc: 0.7267    \n",
      "Epoch 2/10\n",
      "37488/37488 [==============================] - 33s - loss: 0.5596 - acc: 0.7806    \n",
      "Epoch 3/10\n",
      "37488/37488 [==============================] - 34s - loss: 0.5321 - acc: 0.7910    \n",
      "Epoch 4/10\n",
      "37488/37488 [==============================] - 33s - loss: 0.5144 - acc: 0.7988    \n",
      "Epoch 5/10\n",
      "37488/37488 [==============================] - 35s - loss: 0.5033 - acc: 0.8014    \n",
      "Epoch 6/10\n",
      "37488/37488 [==============================] - 38s - loss: 0.4940 - acc: 0.8050    \n",
      "Epoch 7/10\n",
      "37488/37488 [==============================] - 34s - loss: 0.4882 - acc: 0.8051    \n",
      "Epoch 8/10\n",
      "37488/37488 [==============================] - 32s - loss: 0.4838 - acc: 0.8083    \n",
      "Epoch 9/10\n",
      "37488/37488 [==============================] - 32s - loss: 0.4785 - acc: 0.8092    \n",
      "Epoch 10/10\n",
      "37488/37488 [==============================] - 29s - loss: 0.4752 - acc: 0.8105    \n",
      "3860/4166 [==========================>...] - ETA: 0sEpoch 1/10\n",
      "37489/37489 [==============================] - 30s - loss: 0.6655 - acc: 0.7310    \n",
      "Epoch 2/10\n",
      "37489/37489 [==============================] - 29s - loss: 0.5524 - acc: 0.7840    \n",
      "Epoch 3/10\n",
      "37489/37489 [==============================] - 32s - loss: 0.5271 - acc: 0.7939    \n",
      "Epoch 4/10\n",
      "37489/37489 [==============================] - 31s - loss: 0.5103 - acc: 0.8011    \n",
      "Epoch 5/10\n",
      "37489/37489 [==============================] - 30s - loss: 0.4989 - acc: 0.8049    \n",
      "Epoch 6/10\n",
      "37489/37489 [==============================] - 31s - loss: 0.4923 - acc: 0.8058    \n",
      "Epoch 7/10\n",
      "37489/37489 [==============================] - 29s - loss: 0.4861 - acc: 0.8081    \n",
      "Epoch 8/10\n",
      "37489/37489 [==============================] - 30s - loss: 0.4789 - acc: 0.8104    \n",
      "Epoch 9/10\n",
      "37489/37489 [==============================] - 31s - loss: 0.4755 - acc: 0.8121    \n",
      "Epoch 10/10\n",
      "37489/37489 [==============================] - 33s - loss: 0.4721 - acc: 0.8121    \n",
      "4090/4165 [============================>.] - ETA: 0sEpoch 1/10\n",
      "37489/37489 [==============================] - 31s - loss: 0.6714 - acc: 0.7249    \n",
      "Epoch 2/10\n",
      "37489/37489 [==============================] - 34s - loss: 0.5580 - acc: 0.7804    \n",
      "Epoch 3/10\n",
      "37489/37489 [==============================] - 31s - loss: 0.5321 - acc: 0.7911    \n",
      "Epoch 4/10\n",
      "37489/37489 [==============================] - 31s - loss: 0.5137 - acc: 0.7962    \n",
      "Epoch 5/10\n",
      "37489/37489 [==============================] - 33s - loss: 0.5025 - acc: 0.8027    \n",
      "Epoch 6/10\n",
      "37489/37489 [==============================] - 30s - loss: 0.4948 - acc: 0.8047    \n",
      "Epoch 7/10\n",
      "37489/37489 [==============================] - 30s - loss: 0.4868 - acc: 0.8059    \n",
      "Epoch 8/10\n",
      "37489/37489 [==============================] - 32s - loss: 0.4823 - acc: 0.8091    \n",
      "Epoch 9/10\n",
      "37489/37489 [==============================] - 34s - loss: 0.4746 - acc: 0.8130    \n",
      "Epoch 10/10\n",
      "37489/37489 [==============================] - 28s - loss: 0.4720 - acc: 0.8123    \n",
      "3805/4165 [==========================>...] - ETA: 0sEpoch 1/10\n",
      "37489/37489 [==============================] - 33s - loss: 0.6657 - acc: 0.7278    \n",
      "Epoch 2/10\n",
      "37489/37489 [==============================] - 33s - loss: 0.5568 - acc: 0.7821    \n",
      "Epoch 3/10\n",
      "37489/37489 [==============================] - 31s - loss: 0.5318 - acc: 0.7915    \n",
      "Epoch 4/10\n",
      "37489/37489 [==============================] - 34s - loss: 0.5159 - acc: 0.7963    \n",
      "Epoch 5/10\n",
      "37489/37489 [==============================] - 39s - loss: 0.5050 - acc: 0.8014    \n",
      "Epoch 6/10\n",
      "37489/37489 [==============================] - 38s - loss: 0.4970 - acc: 0.8044    \n",
      "Epoch 7/10\n",
      "37489/37489 [==============================] - 39s - loss: 0.4897 - acc: 0.8069    \n",
      "Epoch 8/10\n",
      "37489/37489 [==============================] - 38s - loss: 0.4838 - acc: 0.8087    \n",
      "Epoch 9/10\n",
      "37489/37489 [==============================] - 39s - loss: 0.4775 - acc: 0.8107    \n",
      "Epoch 10/10\n",
      "37489/37489 [==============================] - 39s - loss: 0.4735 - acc: 0.8120    \n",
      "4065/4165 [============================>.] - ETA: 0sEpoch 1/10\n",
      "37489/37489 [==============================] - 39s - loss: 0.6700 - acc: 0.7258    \n",
      "Epoch 2/10\n",
      "37489/37489 [==============================] - 39s - loss: 0.5588 - acc: 0.7812    \n",
      "Epoch 3/10\n",
      "37489/37489 [==============================] - 39s - loss: 0.5297 - acc: 0.7926    \n",
      "Epoch 4/10\n",
      "37489/37489 [==============================] - 40s - loss: 0.5140 - acc: 0.7974    \n",
      "Epoch 5/10\n",
      "37489/37489 [==============================] - 41s - loss: 0.5020 - acc: 0.8028    \n",
      "Epoch 6/10\n",
      "37489/37489 [==============================] - 41s - loss: 0.4933 - acc: 0.8059    \n",
      "Epoch 7/10\n",
      "37489/37489 [==============================] - 40s - loss: 0.4857 - acc: 0.8080    \n",
      "Epoch 8/10\n",
      "37489/37489 [==============================] - 41s - loss: 0.4794 - acc: 0.8108    \n",
      "Epoch 9/10\n",
      "37489/37489 [==============================] - 41s - loss: 0.4755 - acc: 0.8113    \n",
      "Epoch 10/10\n",
      "37489/37489 [==============================] - 38s - loss: 0.4724 - acc: 0.8137    \n",
      "4100/4165 [============================>.] - ETA: 0sEpoch 1/10\n",
      "37489/37489 [==============================] - 39s - loss: 0.6574 - acc: 0.7317    \n",
      "Epoch 2/10\n"
     ]
    },
    {
     "name": "stdout",
     "output_type": "stream",
     "text": [
      "37489/37489 [==============================] - 31s - loss: 0.5547 - acc: 0.7805    \n",
      "Epoch 3/10\n",
      "37489/37489 [==============================] - 32s - loss: 0.5295 - acc: 0.7922    \n",
      "Epoch 4/10\n",
      "37489/37489 [==============================] - 31s - loss: 0.5149 - acc: 0.7973    \n",
      "Epoch 5/10\n",
      "37489/37489 [==============================] - 32s - loss: 0.5034 - acc: 0.8008    \n",
      "Epoch 6/10\n",
      "37489/37489 [==============================] - 31s - loss: 0.4934 - acc: 0.8063    \n",
      "Epoch 7/10\n",
      "37489/37489 [==============================] - 33s - loss: 0.4892 - acc: 0.8073    \n",
      "Epoch 8/10\n",
      "37489/37489 [==============================] - 34s - loss: 0.4824 - acc: 0.8093    \n",
      "Epoch 9/10\n",
      "37489/37489 [==============================] - 33s - loss: 0.4761 - acc: 0.8121    \n",
      "Epoch 10/10\n",
      "37489/37489 [==============================] - 35s - loss: 0.4710 - acc: 0.8135    \n",
      "4100/4165 [============================>.] - ETA: 0sEpoch 1/10\n",
      "37489/37489 [==============================] - 38s - loss: 0.6857 - acc: 0.7151    \n",
      "Epoch 2/10\n",
      "37489/37489 [==============================] - 39s - loss: 0.5609 - acc: 0.7794    \n",
      "Epoch 3/10\n",
      "37489/37489 [==============================] - 39s - loss: 0.5337 - acc: 0.7914    \n",
      "Epoch 4/10\n",
      "37489/37489 [==============================] - 40s - loss: 0.5168 - acc: 0.7977    \n",
      "Epoch 5/10\n",
      "37489/37489 [==============================] - 40s - loss: 0.5064 - acc: 0.8013    \n",
      "Epoch 6/10\n",
      "37489/37489 [==============================] - 38s - loss: 0.4972 - acc: 0.8052    \n",
      "Epoch 7/10\n",
      "37489/37489 [==============================] - 36s - loss: 0.4905 - acc: 0.8065    \n",
      "Epoch 8/10\n",
      "37489/37489 [==============================] - 36s - loss: 0.4845 - acc: 0.8095    \n",
      "Epoch 9/10\n",
      "37489/37489 [==============================] - 36s - loss: 0.4800 - acc: 0.8095    \n",
      "Epoch 10/10\n",
      "37489/37489 [==============================] - 37s - loss: 0.4746 - acc: 0.8108    \n",
      "4080/4165 [============================>.] - ETA: 0s"
     ]
    }
   ],
   "source": [
    "if not os.path.exists('../data/deep_learning/multiclass_relu_probs.npy'):\n",
    "    probabilities = cross_val_predict(estimator, X, Y, cv=kfold, method='predict_proba')\n",
    "    np.save('../data/deep_learning/multiclass_relu_probs.npy', probabilities)\n",
    "else:\n",
    "    probabilities = np.load('../data/deep_learning/multiclass_relu_probs.npy')"
   ]
  },
  {
   "cell_type": "code",
   "execution_count": 14,
   "metadata": {
    "ExecuteTime": {
     "end_time": "2017-05-31T18:50:35.735488Z",
     "start_time": "2017-05-31T18:50:35.449584Z"
    },
    "collapsed": true
   },
   "outputs": [],
   "source": [
    "predicted = np.array([list(a).index(max(list(a))) for a in list(probabilities)])"
   ]
  },
  {
   "cell_type": "code",
   "execution_count": 15,
   "metadata": {
    "ExecuteTime": {
     "end_time": "2017-05-31T18:50:35.775087Z",
     "start_time": "2017-05-31T18:50:35.737478Z"
    },
    "collapsed": true
   },
   "outputs": [],
   "source": [
    "label_binarizer = preprocessing.LabelBinarizer()\n",
    "\n",
    "label_binarizer.fit(range(max(predicted)+1))\n",
    "predicted_transformed = label_binarizer.transform(predicted)"
   ]
  },
  {
   "cell_type": "code",
   "execution_count": 16,
   "metadata": {
    "ExecuteTime": {
     "end_time": "2017-05-31T18:50:35.819813Z",
     "start_time": "2017-05-31T18:50:35.776706Z"
    }
   },
   "outputs": [
    {
     "data": {
      "text/plain": [
       "0.80642915446295671"
      ]
     },
     "execution_count": 16,
     "metadata": {},
     "output_type": "execute_result"
    }
   ],
   "source": [
    "metrics.accuracy_score(Y, predicted_transformed)"
   ]
  },
  {
   "cell_type": "markdown",
   "metadata": {},
   "source": [
    "#### Classification report\n",
    "* 0 = ambiguous\n",
    "* 1 = fail\n",
    "* 2 = germline\n",
    "* 3 = somatic"
   ]
  },
  {
   "cell_type": "code",
   "execution_count": 17,
   "metadata": {
    "ExecuteTime": {
     "end_time": "2017-05-31T18:50:35.871702Z",
     "start_time": "2017-05-31T18:50:35.821595Z"
    }
   },
   "outputs": [
    {
     "name": "stdout",
     "output_type": "stream",
     "text": [
      "             precision    recall  f1-score   support\n",
      "\n",
      "          0       0.80      0.74      0.77     14589\n",
      "          1       0.56      0.47      0.51      1600\n",
      "          2       0.70      0.73      0.71      4309\n",
      "          3       0.85      0.89      0.87     21156\n",
      "\n",
      "avg / total       0.80      0.81      0.80     41654\n",
      "\n"
     ]
    }
   ],
   "source": [
    "print(metrics.classification_report(Y, predicted_transformed))"
   ]
  },
  {
   "cell_type": "code",
   "execution_count": 18,
   "metadata": {
    "ExecuteTime": {
     "end_time": "2017-05-31T18:50:36.200643Z",
     "start_time": "2017-05-31T18:50:35.873828Z"
    }
   },
   "outputs": [
    {
     "data": {
      "image/png": "[encoded data removed]",
      "text/plain": [
       "<matplotlib.figure.Figure at 0x14384bbe0>"
      ]
     },
     "metadata": {},
     "output_type": "display_data"
    }
   ],
   "source": [
    "n_classes = Y.shape[1]\n",
    "class_lookup = {0: 'Ambiguous', 1: 'Fail', 2: 'Germline', 3: 'Somatic'}\n",
    "fpr = dict()\n",
    "tpr = dict()\n",
    "roc_auc = dict()\n",
    "plt.title('Receiver Operating Characteristic')\n",
    "colors = cycle(['aqua', 'darkorange', 'cornflowerblue', 'deeppink'])\n",
    "for i, color in zip(range(n_classes), colors):\n",
    "    fpr[i], tpr[i], _ = metrics.roc_curve(Y[:, i], probabilities[:, i])\n",
    "    roc_auc[i] = metrics.auc(fpr[i], tpr[i])\n",
    "    plt.plot(fpr[i], tpr[i], color=color, label='ROC curve of class {0}'\n",
    "             ' (area = {1:0.2f})'.format(class_lookup[i], roc_auc[i]))\n",
    "plt.plot([0, 1], [0, 1], 'k--')\n",
    "plt.xlim([-0.01, 1.0])\n",
    "plt.ylim([0.0, 1.05])\n",
    "plt.xlabel('False Positive Rate')\n",
    "plt.ylabel('True Positive Rate')\n",
    "plt.legend(loc=\"lower right\")\n",
    "plt.show()"
   ]
  },
  {
   "cell_type": "code",
   "execution_count": 19,
   "metadata": {
    "ExecuteTime": {
     "end_time": "2017-05-31T18:50:36.712209Z",
     "start_time": "2017-05-31T18:50:36.202704Z"
    }
   },
   "outputs": [
    {
     "name": "stdout",
     "output_type": "stream",
     "text": [
      "confidence intervals +-:  [ 0.00040597  0.00343494  0.00447062  0.0064856   0.00769449  0.00790297\n",
      "  0.00789482  0.00704294  0.0049625   0.00168334]\n"
     ]
    },
    {
     "data": {
      "image/png": "[encoded data removed]",
      "text/plain": [
       "<matplotlib.figure.Figure at 0x1440702b0>"
      ]
     },
     "metadata": {},
     "output_type": "display_data"
    }
   ],
   "source": [
    "create_reliability_diagram(probabilities, Y, \n",
    "                           ['Ambiguous','Fail','Germline', 'Somatic'], 'blue')"
   ]
  },
  {
   "cell_type": "markdown",
   "metadata": {},
   "source": [
    "## Refactor to single class classifier \n",
    "Manual reviewer's calling variants germline is problematic as the callers that produced the calls are designed to call somatic variants. These germline calls are likely very poor quality and in most analysis streams get thrown out anyway. While 'ambigous' variant exist in a grey area where the reviewer is unsure whether to call the variant somatic or fail. All of these classes (germile, ambiguous, and fail) are treated the same in downstream analysis (thrown out)."
   ]
  },
  {
   "cell_type": "code",
   "execution_count": 20,
   "metadata": {
    "ExecuteTime": {
     "end_time": "2017-05-31T18:50:36.748089Z",
     "start_time": "2017-05-31T18:50:36.713918Z"
    }
   },
   "outputs": [
    {
     "data": {
      "text/plain": [
       "call\n",
       "a    14589\n",
       "f     1600\n",
       "g     4309\n",
       "s    21156\n",
       "dtype: int64"
      ]
     },
     "execution_count": 20,
     "metadata": {},
     "output_type": "execute_result"
    }
   ],
   "source": [
    "training_data.groupby('call').size()"
   ]
  },
  {
   "cell_type": "code",
   "execution_count": 21,
   "metadata": {
    "ExecuteTime": {
     "end_time": "2017-05-31T18:50:36.790326Z",
     "start_time": "2017-05-31T18:50:36.749808Z"
    },
    "collapsed": true
   },
   "outputs": [],
   "source": [
    "training_data['binary_call'] = training_data.call.replace(['a', 'f', 'g'], False)\n",
    "training_data['binary_call'] = training_data['binary_call'].replace('s', True)"
   ]
  },
  {
   "cell_type": "code",
   "execution_count": 22,
   "metadata": {
    "ExecuteTime": {
     "end_time": "2017-05-31T18:50:36.825907Z",
     "start_time": "2017-05-31T18:50:36.792202Z"
    }
   },
   "outputs": [
    {
     "data": {
      "text/plain": [
       "binary_call\n",
       "False    20498\n",
       "True     21156\n",
       "dtype: int64"
      ]
     },
     "execution_count": 22,
     "metadata": {},
     "output_type": "execute_result"
    }
   ],
   "source": [
    "training_data.groupby('binary_call').size()"
   ]
  },
  {
   "cell_type": "code",
   "execution_count": 23,
   "metadata": {
    "ExecuteTime": {
     "end_time": "2017-05-31T18:50:36.930486Z",
     "start_time": "2017-05-31T18:50:36.827689Z"
    },
    "collapsed": true
   },
   "outputs": [],
   "source": [
    "# Get Labels\n",
    "binary_Y = training_data.binary_call.astype(int).values\n",
    "# Get training data as numpy array\n",
    "X = training_data.drop(['call', 'binary_call'], axis=1).astype(float).values"
   ]
  },
  {
   "cell_type": "code",
   "execution_count": 24,
   "metadata": {
    "ExecuteTime": {
     "end_time": "2017-05-31T18:50:36.962876Z",
     "start_time": "2017-05-31T18:50:36.932576Z"
    }
   },
   "outputs": [
    {
     "data": {
      "text/plain": [
       "(41654, 71)"
      ]
     },
     "execution_count": 24,
     "metadata": {},
     "output_type": "execute_result"
    }
   ],
   "source": [
    "X.shape"
   ]
  },
  {
   "cell_type": "code",
   "execution_count": 25,
   "metadata": {
    "ExecuteTime": {
     "end_time": "2017-05-31T18:50:36.995647Z",
     "start_time": "2017-05-31T18:50:36.964637Z"
    }
   },
   "outputs": [
    {
     "data": {
      "text/plain": [
       "(41654,)"
      ]
     },
     "execution_count": 25,
     "metadata": {},
     "output_type": "execute_result"
    }
   ],
   "source": [
    "binary_Y.shape"
   ]
  },
  {
   "cell_type": "code",
   "execution_count": 26,
   "metadata": {
    "ExecuteTime": {
     "end_time": "2017-05-31T18:50:37.032391Z",
     "start_time": "2017-05-31T18:50:36.997498Z"
    },
    "collapsed": true
   },
   "outputs": [],
   "source": [
    "# define baseline model\n",
    "def baseline_binary_model():\n",
    "    # create model\n",
    "    model = Sequential()\n",
    "    model.add(Dense(67, input_dim=71, kernel_initializer='normal', activation='relu'))\n",
    "    model.add(Dense(23, activation='relu'))\n",
    "    model.add(Dense(23, activation='relu'))\n",
    "    model.add(Dense(2, kernel_initializer='normal', activation='sigmoid'))\n",
    "    # Compile model\n",
    "    model.compile(loss='categorical_crossentropy', optimizer='adam', metrics=['accuracy'])\n",
    "    return model"
   ]
  },
  {
   "cell_type": "code",
   "execution_count": 27,
   "metadata": {
    "ExecuteTime": {
     "end_time": "2017-05-31T18:50:37.063352Z",
     "start_time": "2017-05-31T18:50:37.034090Z"
    },
    "collapsed": true
   },
   "outputs": [],
   "source": [
    "binary_estimator = KerasClassifier(build_fn=baseline_binary_model, epochs=10, batch_size=5, verbose=1)"
   ]
  },
  {
   "cell_type": "code",
   "execution_count": 28,
   "metadata": {
    "ExecuteTime": {
     "end_time": "2017-05-31T18:50:37.093942Z",
     "start_time": "2017-05-31T18:50:37.065543Z"
    },
    "collapsed": true
   },
   "outputs": [],
   "source": [
    "binary_kfold = KFold(n_splits=10, shuffle=True, random_state=seed)"
   ]
  },
  {
   "cell_type": "code",
   "execution_count": 29,
   "metadata": {
    "ExecuteTime": {
     "end_time": "2017-05-31T19:52:35.746804Z",
     "start_time": "2017-05-31T18:50:37.095828Z"
    }
   },
   "outputs": [
    {
     "name": "stdout",
     "output_type": "stream",
     "text": [
      "Epoch 1/10\n",
      "37488/37488 [==============================] - 32s - loss: 0.4072 - acc: 0.8213    \n",
      "Epoch 2/10\n",
      "37488/37488 [==============================] - 34s - loss: 0.3525 - acc: 0.8502    \n",
      "Epoch 3/10\n",
      "37488/37488 [==============================] - 37s - loss: 0.3380 - acc: 0.8585    \n",
      "Epoch 4/10\n",
      "37488/37488 [==============================] - 36s - loss: 0.3280 - acc: 0.8640    \n",
      "Epoch 5/10\n",
      "37488/37488 [==============================] - 38s - loss: 0.3212 - acc: 0.8662    \n",
      "Epoch 6/10\n",
      "37488/37488 [==============================] - 38s - loss: 0.3159 - acc: 0.8691    \n",
      "Epoch 7/10\n",
      "37488/37488 [==============================] - 35s - loss: 0.3120 - acc: 0.8709    \n",
      "Epoch 8/10\n",
      "37488/37488 [==============================] - ETA: 0s - loss: 0.3080 - acc: 0.871 - 33s - loss: 0.3080 - acc: 0.8715    \n",
      "Epoch 9/10\n",
      "37488/37488 [==============================] - 37s - loss: 0.3059 - acc: 0.8723    \n",
      "Epoch 10/10\n",
      "37488/37488 [==============================] - 39s - loss: 0.3016 - acc: 0.8732    \n",
      "3905/4166 [===========================>..] - ETA: 0sEpoch 1/10\n",
      "37488/37488 [==============================] - 38s - loss: 0.4100 - acc: 0.8203    \n",
      "Epoch 2/10\n",
      "37488/37488 [==============================] - 35s - loss: 0.3515 - acc: 0.8541    \n",
      "Epoch 3/10\n",
      "37488/37488 [==============================] - 39s - loss: 0.3361 - acc: 0.8603    \n",
      "Epoch 4/10\n",
      "37488/37488 [==============================] - 40s - loss: 0.3278 - acc: 0.8639    \n",
      "Epoch 5/10\n",
      "37488/37488 [==============================] - 40s - loss: 0.3210 - acc: 0.8662    \n",
      "Epoch 6/10\n",
      "37488/37488 [==============================] - 34s - loss: 0.3157 - acc: 0.8696    \n",
      "Epoch 7/10\n",
      "37488/37488 [==============================] - 32s - loss: 0.3113 - acc: 0.8706    \n",
      "Epoch 8/10\n",
      "37488/37488 [==============================] - 32s - loss: 0.3080 - acc: 0.8719    \n",
      "Epoch 9/10\n",
      "37488/37488 [==============================] - 40s - loss: 0.3048 - acc: 0.8729    \n",
      "Epoch 10/10\n",
      "37488/37488 [==============================] - 46s - loss: 0.3021 - acc: 0.8724    \n",
      "4050/4166 [============================>.] - ETA: 0sEpoch 1/10\n",
      "37488/37488 [==============================] - 47s - loss: 0.4084 - acc: 0.8216    \n",
      "Epoch 2/10\n",
      "37488/37488 [==============================] - 48s - loss: 0.3491 - acc: 0.8545    \n",
      "Epoch 3/10\n",
      "37488/37488 [==============================] - 49s - loss: 0.3359 - acc: 0.8601    \n",
      "Epoch 4/10\n",
      "37488/37488 [==============================] - 49s - loss: 0.3262 - acc: 0.8643    \n",
      "Epoch 5/10\n",
      "37488/37488 [==============================] - 50s - loss: 0.3195 - acc: 0.8656    \n",
      "Epoch 6/10\n",
      "37488/37488 [==============================] - 46s - loss: 0.3148 - acc: 0.8678    \n",
      "Epoch 7/10\n",
      "37488/37488 [==============================] - 44s - loss: 0.3111 - acc: 0.8705    \n",
      "Epoch 8/10\n",
      "37488/37488 [==============================] - 45s - loss: 0.3070 - acc: 0.8720    \n",
      "Epoch 9/10\n",
      "37488/37488 [==============================] - 49s - loss: 0.3041 - acc: 0.8737    \n",
      "Epoch 10/10\n",
      "37488/37488 [==============================] - 45s - loss: 0.3010 - acc: 0.8733    \n",
      "4060/4166 [============================>.] - ETA: 0sEpoch 1/10\n",
      "37488/37488 [==============================] - 46s - loss: 0.4036 - acc: 0.8212    \n",
      "Epoch 2/10\n",
      "37488/37488 [==============================] - 47s - loss: 0.3498 - acc: 0.8541    \n",
      "Epoch 3/10\n",
      "37488/37488 [==============================] - 39s - loss: 0.3357 - acc: 0.8596    \n",
      "Epoch 4/10\n",
      "37488/37488 [==============================] - 39s - loss: 0.3255 - acc: 0.8647    \n",
      "Epoch 5/10\n",
      "37488/37488 [==============================] - 40s - loss: 0.3206 - acc: 0.8665    \n",
      "Epoch 6/10\n",
      "37488/37488 [==============================] - 40s - loss: 0.3168 - acc: 0.8680    \n",
      "Epoch 7/10\n",
      "37488/37488 [==============================] - 39s - loss: 0.3125 - acc: 0.8700    \n",
      "Epoch 8/10\n",
      "37488/37488 [==============================] - 39s - loss: 0.3083 - acc: 0.8721    \n",
      "Epoch 9/10\n",
      "37488/37488 [==============================] - 40s - loss: 0.3055 - acc: 0.8719    \n",
      "Epoch 10/10\n",
      "37488/37488 [==============================] - 37s - loss: 0.3028 - acc: 0.8732    \n",
      "4035/4166 [============================>.] - ETA: 0sEpoch 1/10\n",
      "37489/37489 [==============================] - 41s - loss: 0.4044 - acc: 0.8231    \n",
      "Epoch 2/10\n",
      "37489/37489 [==============================] - 32s - loss: 0.3508 - acc: 0.8531    \n",
      "Epoch 3/10\n",
      "37489/37489 [==============================] - 31s - loss: 0.3351 - acc: 0.8601    \n",
      "Epoch 4/10\n",
      "37489/37489 [==============================] - 32s - loss: 0.3242 - acc: 0.8647    \n",
      "Epoch 5/10\n",
      "37489/37489 [==============================] - 29s - loss: 0.3175 - acc: 0.8663    \n",
      "Epoch 6/10\n",
      "37489/37489 [==============================] - 31s - loss: 0.3144 - acc: 0.8680    \n",
      "Epoch 7/10\n",
      "37489/37489 [==============================] - 32s - loss: 0.3092 - acc: 0.8697    \n",
      "Epoch 8/10\n",
      "37489/37489 [==============================] - 31s - loss: 0.3052 - acc: 0.8721    \n",
      "Epoch 9/10\n",
      "37489/37489 [==============================] - 29s - loss: 0.3015 - acc: 0.8735    \n",
      "Epoch 10/10\n",
      "37489/37489 [==============================] - 33s - loss: 0.3008 - acc: 0.8736    \n",
      "3790/4165 [==========================>...] - ETA: 0sEpoch 1/10\n",
      "37489/37489 [==============================] - 31s - loss: 0.4050 - acc: 0.8235    \n",
      "Epoch 2/10\n",
      "37489/37489 [==============================] - 30s - loss: 0.3529 - acc: 0.8548    \n",
      "Epoch 3/10\n",
      "37489/37489 [==============================] - 32s - loss: 0.3382 - acc: 0.8588    \n",
      "Epoch 4/10\n",
      "37489/37489 [==============================] - 35s - loss: 0.3274 - acc: 0.8644    \n",
      "Epoch 5/10\n",
      "37489/37489 [==============================] - 35s - loss: 0.3223 - acc: 0.8641    \n",
      "Epoch 6/10\n",
      "37489/37489 [==============================] - 34s - loss: 0.3169 - acc: 0.8688    \n",
      "Epoch 7/10\n",
      "37489/37489 [==============================] - 33s - loss: 0.3115 - acc: 0.8694    \n",
      "Epoch 8/10\n",
      "37489/37489 [==============================] - 29s - loss: 0.3085 - acc: 0.8702    \n",
      "Epoch 9/10\n",
      "37489/37489 [==============================] - 30s - loss: 0.3043 - acc: 0.8725    \n",
      "Epoch 10/10\n",
      "37489/37489 [==============================] - 29s - loss: 0.3032 - acc: 0.8727    \n",
      "4135/4165 [============================>.] - ETA: 0sEpoch 1/10\n",
      "37489/37489 [==============================] - 31s - loss: 0.4066 - acc: 0.8221    \n",
      "Epoch 2/10\n",
      "37489/37489 [==============================] - 31s - loss: 0.3525 - acc: 0.8521    \n",
      "Epoch 3/10\n",
      "37489/37489 [==============================] - 31s - loss: 0.3377 - acc: 0.8613    \n",
      "Epoch 4/10\n",
      "37489/37489 [==============================] - 32s - loss: 0.3283 - acc: 0.8638    \n",
      "Epoch 5/10\n",
      "37489/37489 [==============================] - 31s - loss: 0.3223 - acc: 0.8660    \n",
      "Epoch 6/10\n",
      "37489/37489 [==============================] - 32s - loss: 0.3165 - acc: 0.8685    \n",
      "Epoch 7/10\n",
      "37489/37489 [==============================] - 30s - loss: 0.3127 - acc: 0.8700    \n",
      "Epoch 8/10\n",
      "37489/37489 [==============================] - 31s - loss: 0.3075 - acc: 0.8708    \n",
      "Epoch 9/10\n",
      "37489/37489 [==============================] - 34s - loss: 0.3064 - acc: 0.8715    \n",
      "Epoch 10/10\n",
      "37489/37489 [==============================] - 36s - loss: 0.3023 - acc: 0.8732    \n",
      "4040/4165 [============================>.] - ETA: 0sEpoch 1/10\n",
      "37489/37489 [==============================] - 35s - loss: 0.4103 - acc: 0.8199    \n",
      "Epoch 2/10\n",
      "37489/37489 [==============================] - 32s - loss: 0.3551 - acc: 0.8522    \n",
      "Epoch 3/10\n",
      "37489/37489 [==============================] - 35s - loss: 0.3397 - acc: 0.8600    \n",
      "Epoch 4/10\n",
      "37489/37489 [==============================] - 32s - loss: 0.3283 - acc: 0.8639    \n",
      "Epoch 5/10\n",
      "37489/37489 [==============================] - 35s - loss: 0.3222 - acc: 0.8653    \n",
      "Epoch 6/10\n",
      "37489/37489 [==============================] - 32s - loss: 0.3156 - acc: 0.8684    \n",
      "Epoch 7/10\n",
      "37489/37489 [==============================] - 36s - loss: 0.3109 - acc: 0.8717    \n",
      "Epoch 8/10\n",
      "37489/37489 [==============================] - 32s - loss: 0.3081 - acc: 0.8731    \n",
      "Epoch 9/10\n",
      "37489/37489 [==============================] - 36s - loss: 0.3035 - acc: 0.8733    \n",
      "Epoch 10/10\n",
      "37489/37489 [==============================] - 36s - loss: 0.3005 - acc: 0.8741    \n",
      "4055/4165 [============================>.] - ETA: 0sEpoch 1/10\n",
      "37489/37489 [==============================] - 32s - loss: 0.4089 - acc: 0.8205    \n",
      "Epoch 2/10\n"
     ]
    },
    {
     "name": "stdout",
     "output_type": "stream",
     "text": [
      "37489/37489 [==============================] - ETA: 0s - loss: 0.3509 - acc: 0.853 - 33s - loss: 0.3508 - acc: 0.8531    \n",
      "Epoch 3/10\n",
      "37489/37489 [==============================] - 32s - loss: 0.3367 - acc: 0.8592    \n",
      "Epoch 4/10\n",
      "37489/37489 [==============================] - 33s - loss: 0.3275 - acc: 0.8639    \n",
      "Epoch 5/10\n",
      "37489/37489 [==============================] - 32s - loss: 0.3205 - acc: 0.8658    \n",
      "Epoch 6/10\n",
      "37489/37489 [==============================] - 34s - loss: 0.3146 - acc: 0.8689    \n",
      "Epoch 7/10\n",
      "37489/37489 [==============================] - 34s - loss: 0.3108 - acc: 0.8695    \n",
      "Epoch 8/10\n",
      "37489/37489 [==============================] - 38s - loss: 0.3068 - acc: 0.8721    \n",
      "Epoch 9/10\n",
      "37489/37489 [==============================] - 39s - loss: 0.3036 - acc: 0.8731    \n",
      "Epoch 10/10\n",
      "37489/37489 [==============================] - 38s - loss: 0.3014 - acc: 0.8734    \n",
      "4005/4165 [===========================>..] - ETA: 0sEpoch 1/10\n",
      "37489/37489 [==============================] - 39s - loss: 0.4060 - acc: 0.8221    \n",
      "Epoch 2/10\n",
      "37489/37489 [==============================] - 38s - loss: 0.3530 - acc: 0.8536    \n",
      "Epoch 3/10\n",
      "37489/37489 [==============================] - 39s - loss: 0.3380 - acc: 0.8597    \n",
      "Epoch 4/10\n",
      "37489/37489 [==============================] - 39s - loss: 0.3288 - acc: 0.8623    \n",
      "Epoch 5/10\n",
      "37489/37489 [==============================] - 39s - loss: 0.3232 - acc: 0.8643    \n",
      "Epoch 6/10\n",
      "37489/37489 [==============================] - 40s - loss: 0.3148 - acc: 0.8694    \n",
      "Epoch 7/10\n",
      "37489/37489 [==============================] - 40s - loss: 0.3109 - acc: 0.8704    \n",
      "Epoch 8/10\n",
      "37489/37489 [==============================] - 40s - loss: 0.3081 - acc: 0.8701    \n",
      "Epoch 9/10\n",
      "37489/37489 [==============================] - 40s - loss: 0.3045 - acc: 0.8734    \n",
      "Epoch 10/10\n",
      "37489/37489 [==============================] - 40s - loss: 0.3024 - acc: 0.8732    \n",
      "3900/4165 [===========================>..] - ETA: 0s"
     ]
    }
   ],
   "source": [
    "if not os.path.exists('../data/deep_learning/binary_relu_probs.npy'):\n",
    "    binary_probabilities = cross_val_predict(binary_estimator, X, binary_Y, cv=binary_kfold, method='predict_proba')\n",
    "    np.save('../data/deep_learning/binary_relu_probs.npy', probabilities)\n",
    "else:\n",
    "    binary_probabilities = np.load('../data/deep_learning/binary_relu_probs.npy')"
   ]
  },
  {
   "cell_type": "code",
   "execution_count": 30,
   "metadata": {
    "ExecuteTime": {
     "end_time": "2017-05-31T19:52:35.894037Z",
     "start_time": "2017-05-31T19:52:35.748905Z"
    },
    "collapsed": true
   },
   "outputs": [],
   "source": [
    "predicted = np.array([list(a).index(max(list(a))) for a in list(binary_probabilities)])"
   ]
  },
  {
   "cell_type": "code",
   "execution_count": 31,
   "metadata": {
    "ExecuteTime": {
     "end_time": "2017-05-31T19:52:35.928335Z",
     "start_time": "2017-05-31T19:52:35.896288Z"
    }
   },
   "outputs": [
    {
     "data": {
      "text/plain": [
       "0.86966437797090312"
      ]
     },
     "execution_count": 31,
     "metadata": {},
     "output_type": "execute_result"
    }
   ],
   "source": [
    "metrics.accuracy_score(binary_Y, predicted)"
   ]
  },
  {
   "cell_type": "code",
   "execution_count": 32,
   "metadata": {
    "ExecuteTime": {
     "end_time": "2017-05-31T19:52:35.969402Z",
     "start_time": "2017-05-31T19:52:35.930135Z"
    }
   },
   "outputs": [
    {
     "name": "stdout",
     "output_type": "stream",
     "text": [
      "             precision    recall  f1-score   support\n",
      "\n",
      "          0       0.87      0.87      0.87     20498\n",
      "          1       0.87      0.87      0.87     21156\n",
      "\n",
      "avg / total       0.87      0.87      0.87     41654\n",
      "\n"
     ]
    }
   ],
   "source": [
    "print(metrics.classification_report(binary_Y, predicted))"
   ]
  },
  {
   "cell_type": "code",
   "execution_count": 33,
   "metadata": {
    "ExecuteTime": {
     "end_time": "2017-05-31T19:52:36.001276Z",
     "start_time": "2017-05-31T19:52:35.971217Z"
    },
    "collapsed": true
   },
   "outputs": [],
   "source": [
    "somatic_prob = binary_probabilities[:,1]"
   ]
  },
  {
   "cell_type": "code",
   "execution_count": 34,
   "metadata": {
    "ExecuteTime": {
     "end_time": "2017-05-31T19:52:36.266659Z",
     "start_time": "2017-05-31T19:52:36.003678Z"
    }
   },
   "outputs": [
    {
     "data": {
      "image/png": "[encoded data removed]",
      "text/plain": [
       "<matplotlib.figure.Figure at 0x1490ecc18>"
      ]
     },
     "metadata": {},
     "output_type": "display_data"
    }
   ],
   "source": [
    "plt.title('Receiver Operating Characteristic')\n",
    "fpr, tpr, _ = metrics.roc_curve(binary_Y, somatic_prob)\n",
    "roc_auc = metrics.auc(fpr, tpr)\n",
    "plt.plot(fpr, tpr, color='cornflowerblue',label='ROC curve of somatic call'\n",
    "         ' (area = {0:0.2f})'.format(roc_auc))\n",
    "plt.plot([0, 1], [0, 1], 'k--')\n",
    "plt.xlim([-0.01, 1.0])\n",
    "plt.ylim([0.0, 1.01])\n",
    "plt.xlabel('False Positive Rate')\n",
    "plt.ylabel('True Positive Rate')\n",
    "plt.legend(loc=\"lower right\")\n",
    "plt.show()"
   ]
  },
  {
   "cell_type": "code",
   "execution_count": 35,
   "metadata": {
    "ExecuteTime": {
     "end_time": "2017-05-31T19:52:36.697531Z",
     "start_time": "2017-05-31T19:52:36.268564Z"
    }
   },
   "outputs": [
    {
     "name": "stdout",
     "output_type": "stream",
     "text": [
      "confidence intervals +-:  [ 0.0010982   0.00412058  0.00539447  0.0078439   0.00936455  0.00964912\n",
      "  0.00972062  0.00932304  0.0059132   0.00134771]\n"
     ]
    },
    {
     "data": {
      "image/png": "[encoded data removed]",
      "text/plain": [
       "<matplotlib.figure.Figure at 0x137ae1a58>"
      ]
     },
     "metadata": {},
     "output_type": "display_data"
    }
   ],
   "source": [
    "create_reliability_diagram(binary_probabilities, np.array([np.logical_not(binary_Y),binary_Y]).T,['Fail', 'Somatic'], 'blue')"
   ]
  },
  {
   "cell_type": "markdown",
   "metadata": {},
   "source": [
    "## Elu activation function"
   ]
  },
  {
   "cell_type": "code",
   "execution_count": 36,
   "metadata": {
    "ExecuteTime": {
     "end_time": "2017-05-31T19:52:36.744594Z",
     "start_time": "2017-05-31T19:52:36.700013Z"
    },
    "collapsed": true
   },
   "outputs": [],
   "source": [
    "# define baseline model\n",
    "def baseline_binary_model():\n",
    "    # create model\n",
    "    model = Sequential()\n",
    "    model.add(Dense(67, input_dim=71, kernel_initializer='normal', activation='elu'))\n",
    "    model.add(Dense(23, activation='elu'))\n",
    "    model.add(Dense(23, activation='elu'))\n",
    "    model.add(Dense(2, kernel_initializer='normal', activation='sigmoid'))\n",
    "    # Compile model\n",
    "    model.compile(loss='categorical_crossentropy', optimizer='adam', metrics=['accuracy'])\n",
    "    return model"
   ]
  },
  {
   "cell_type": "code",
   "execution_count": 37,
   "metadata": {
    "ExecuteTime": {
     "end_time": "2017-05-31T19:52:36.778680Z",
     "start_time": "2017-05-31T19:52:36.746753Z"
    },
    "collapsed": true
   },
   "outputs": [],
   "source": [
    "binary_estimator = KerasClassifier(build_fn=baseline_binary_model, epochs=10, batch_size=5, verbose=1)"
   ]
  },
  {
   "cell_type": "code",
   "execution_count": 38,
   "metadata": {
    "ExecuteTime": {
     "end_time": "2017-05-31T19:52:36.811650Z",
     "start_time": "2017-05-31T19:52:36.780603Z"
    },
    "collapsed": true
   },
   "outputs": [],
   "source": [
    "binary_kfold = KFold(n_splits=10, shuffle=True, random_state=seed)"
   ]
  },
  {
   "cell_type": "code",
   "execution_count": 39,
   "metadata": {
    "ExecuteTime": {
     "end_time": "2017-05-31T20:48:55.065979Z",
     "start_time": "2017-05-31T19:52:36.813365Z"
    },
    "scrolled": true
   },
   "outputs": [
    {
     "name": "stdout",
     "output_type": "stream",
     "text": [
      "Epoch 1/10\n",
      "37488/37488 [==============================] - 34s - loss: 0.4340 - acc: 0.8076    \n",
      "Epoch 2/10\n",
      "37488/37488 [==============================] - 35s - loss: 0.3711 - acc: 0.8422    \n",
      "Epoch 3/10\n",
      "37488/37488 [==============================] - 36s - loss: 0.3571 - acc: 0.8497    \n",
      "Epoch 4/10\n",
      "37488/37488 [==============================] - 39s - loss: 0.3467 - acc: 0.8533    \n",
      "Epoch 5/10\n",
      "37488/37488 [==============================] - 39s - loss: 0.3385 - acc: 0.8566    \n",
      "Epoch 6/10\n",
      "37488/37488 [==============================] - 40s - loss: 0.3320 - acc: 0.8589    \n",
      "Epoch 7/10\n",
      "37488/37488 [==============================] - 40s - loss: 0.3256 - acc: 0.8626    \n",
      "Epoch 8/10\n",
      "37488/37488 [==============================] - 40s - loss: 0.3205 - acc: 0.8643    \n",
      "Epoch 9/10\n",
      "37488/37488 [==============================] - 41s - loss: 0.3162 - acc: 0.8659    \n",
      "Epoch 10/10\n",
      "37488/37488 [==============================] - 43s - loss: 0.3128 - acc: 0.8672    \n",
      "4140/4166 [============================>.] - ETA: 0sEpoch 1/10\n",
      "37488/37488 [==============================] - 44s - loss: 0.4312 - acc: 0.8106    \n",
      "Epoch 2/10\n",
      "37488/37488 [==============================] - 43s - loss: 0.3714 - acc: 0.8408    \n",
      "Epoch 3/10\n",
      "37488/37488 [==============================] - 43s - loss: 0.3605 - acc: 0.8471    \n",
      "Epoch 4/10\n",
      "37488/37488 [==============================] - 39s - loss: 0.3485 - acc: 0.8521    \n",
      "Epoch 5/10\n",
      "37488/37488 [==============================] - 35s - loss: 0.3386 - acc: 0.8568    \n",
      "Epoch 6/10\n",
      "37488/37488 [==============================] - 32s - loss: 0.3325 - acc: 0.8608    \n",
      "Epoch 7/10\n",
      "37488/37488 [==============================] - 34s - loss: 0.3264 - acc: 0.8633    \n",
      "Epoch 8/10\n",
      "37488/37488 [==============================] - 34s - loss: 0.3215 - acc: 0.8648    \n",
      "Epoch 9/10\n",
      "37488/37488 [==============================] - 34s - loss: 0.3160 - acc: 0.8668    \n",
      "Epoch 10/10\n",
      "37488/37488 [==============================] - 39s - loss: 0.3118 - acc: 0.8675    \n",
      "4140/4166 [============================>.] - ETA: 0sEpoch 1/10\n",
      "37488/37488 [==============================] - 35s - loss: 0.4381 - acc: 0.8073    \n",
      "Epoch 2/10\n",
      "37488/37488 [==============================] - 32s - loss: 0.3722 - acc: 0.8399    \n",
      "Epoch 3/10\n",
      "37488/37488 [==============================] - 33s - loss: 0.3552 - acc: 0.8501    \n",
      "Epoch 4/10\n",
      "37488/37488 [==============================] - 32s - loss: 0.3449 - acc: 0.8544    \n",
      "Epoch 5/10\n",
      "37488/37488 [==============================] - 33s - loss: 0.3373 - acc: 0.8571    \n",
      "Epoch 6/10\n",
      "37488/37488 [==============================] - 32s - loss: 0.3305 - acc: 0.8613    \n",
      "Epoch 7/10\n",
      "37488/37488 [==============================] - 33s - loss: 0.3239 - acc: 0.8623    \n",
      "Epoch 8/10\n",
      "37488/37488 [==============================] - 32s - loss: 0.3206 - acc: 0.8647    \n",
      "Epoch 9/10\n",
      "37488/37488 [==============================] - 32s - loss: 0.3174 - acc: 0.8673    \n",
      "Epoch 10/10\n",
      "37488/37488 [==============================] - 33s - loss: 0.3133 - acc: 0.8682    \n",
      "4095/4166 [============================>.] - ETA: 0sEpoch 1/10\n",
      "37488/37488 [==============================] - 33s - loss: 0.4330 - acc: 0.8083    \n",
      "Epoch 2/10\n",
      "37488/37488 [==============================] - 33s - loss: 0.3676 - acc: 0.8438    \n",
      "Epoch 3/10\n",
      "37488/37488 [==============================] - 32s - loss: 0.3527 - acc: 0.8513    \n",
      "Epoch 4/10\n",
      "37488/37488 [==============================] - 33s - loss: 0.3433 - acc: 0.8541    \n",
      "Epoch 5/10\n",
      "37488/37488 [==============================] - 36s - loss: 0.3374 - acc: 0.8575    \n",
      "Epoch 6/10\n",
      "37488/37488 [==============================] - 40s - loss: 0.3324 - acc: 0.8603    \n",
      "Epoch 7/10\n",
      "37488/37488 [==============================] - 33s - loss: 0.3264 - acc: 0.8637    \n",
      "Epoch 8/10\n",
      "37488/37488 [==============================] - 32s - loss: 0.3235 - acc: 0.8638    \n",
      "Epoch 9/10\n",
      "37488/37488 [==============================] - 33s - loss: 0.3191 - acc: 0.8662    \n",
      "Epoch 10/10\n",
      "37488/37488 [==============================] - 33s - loss: 0.3159 - acc: 0.8669    \n",
      "4045/4166 [============================>.] - ETA: 0sEpoch 1/10\n",
      "37489/37489 [==============================] - 32s - loss: 0.4394 - acc: 0.8028    \n",
      "Epoch 2/10\n",
      "37489/37489 [==============================] - 31s - loss: 0.3740 - acc: 0.8399    \n",
      "Epoch 3/10\n",
      "37489/37489 [==============================] - 34s - loss: 0.3559 - acc: 0.8483    \n",
      "Epoch 4/10\n",
      "37489/37489 [==============================] - 33s - loss: 0.3477 - acc: 0.8545    \n",
      "Epoch 5/10\n",
      "37489/37489 [==============================] - 32s - loss: 0.3410 - acc: 0.8576    \n",
      "Epoch 6/10\n",
      "37489/37489 [==============================] - 32s - loss: 0.3340 - acc: 0.8612    \n",
      "Epoch 7/10\n",
      "37489/37489 [==============================] - 29s - loss: 0.3301 - acc: 0.8620    \n",
      "Epoch 8/10\n",
      "37489/37489 [==============================] - 30s - loss: 0.3253 - acc: 0.8639    \n",
      "Epoch 9/10\n",
      "37489/37489 [==============================] - 29s - loss: 0.3215 - acc: 0.8643    \n",
      "Epoch 10/10\n",
      "37489/37489 [==============================] - 30s - loss: 0.3157 - acc: 0.8657    \n",
      "4060/4165 [============================>.] - ETA: 0sEpoch 1/10\n",
      "37489/37489 [==============================] - 30s - loss: 0.4318 - acc: 0.8096    \n",
      "Epoch 2/10\n",
      "37489/37489 [==============================] - 30s - loss: 0.3696 - acc: 0.8442    \n",
      "Epoch 3/10\n",
      "37489/37489 [==============================] - 29s - loss: 0.3565 - acc: 0.8510    \n",
      "Epoch 4/10\n",
      "37489/37489 [==============================] - 30s - loss: 0.3466 - acc: 0.8538    \n",
      "Epoch 5/10\n",
      "37489/37489 [==============================] - 29s - loss: 0.3374 - acc: 0.8563    \n",
      "Epoch 6/10\n",
      "37489/37489 [==============================] - 30s - loss: 0.3293 - acc: 0.8610    \n",
      "Epoch 7/10\n",
      "37489/37489 [==============================] - 29s - loss: 0.3246 - acc: 0.8634    \n",
      "Epoch 8/10\n",
      "37489/37489 [==============================] - 30s - loss: 0.3198 - acc: 0.8648    \n",
      "Epoch 9/10\n",
      "37489/37489 [==============================] - 30s - loss: 0.3142 - acc: 0.8681    \n",
      "Epoch 10/10\n",
      "37489/37489 [==============================] - 31s - loss: 0.3118 - acc: 0.8680    \n",
      "4025/4165 [===========================>..] - ETA: 0sEpoch 1/10\n",
      "37489/37489 [==============================] - 30s - loss: 0.4386 - acc: 0.8044    \n",
      "Epoch 2/10\n",
      "37489/37489 [==============================] - 38s - loss: 0.3739 - acc: 0.8402    \n",
      "Epoch 3/10\n",
      "37489/37489 [==============================] - 33s - loss: 0.3553 - acc: 0.8497    \n",
      "Epoch 4/10\n",
      "37489/37489 [==============================] - 33s - loss: 0.3457 - acc: 0.8528    \n",
      "Epoch 5/10\n",
      "37489/37489 [==============================] - 33s - loss: 0.3385 - acc: 0.8573    \n",
      "Epoch 6/10\n",
      "37489/37489 [==============================] - 32s - loss: 0.3313 - acc: 0.8582    \n",
      "Epoch 7/10\n",
      "37489/37489 [==============================] - 36s - loss: 0.3257 - acc: 0.8618    \n",
      "Epoch 8/10\n",
      "37489/37489 [==============================] - 32s - loss: 0.3230 - acc: 0.8630    \n",
      "Epoch 9/10\n",
      "37489/37489 [==============================] - 32s - loss: 0.3171 - acc: 0.8651    \n",
      "Epoch 10/10\n",
      "37489/37489 [==============================] - 30s - loss: 0.3136 - acc: 0.8664    \n",
      "3985/4165 [===========================>..] - ETA: 0sEpoch 1/10\n",
      "37489/37489 [==============================] - 35s - loss: 0.4345 - acc: 0.8066    \n",
      "Epoch 2/10\n",
      "37489/37489 [==============================] - 30s - loss: 0.3705 - acc: 0.8419    \n",
      "Epoch 3/10\n",
      "37489/37489 [==============================] - 31s - loss: 0.3561 - acc: 0.8492    \n",
      "Epoch 4/10\n",
      "37489/37489 [==============================] - 34s - loss: 0.3459 - acc: 0.8538    \n",
      "Epoch 5/10\n",
      "37489/37489 [==============================] - 36s - loss: 0.3376 - acc: 0.8570    \n",
      "Epoch 6/10\n",
      "37489/37489 [==============================] - 30s - loss: 0.3316 - acc: 0.8599    \n",
      "Epoch 7/10\n",
      "37489/37489 [==============================] - 30s - loss: 0.3249 - acc: 0.8634    \n",
      "Epoch 8/10\n",
      "37489/37489 [==============================] - 30s - loss: 0.3183 - acc: 0.8665    \n",
      "Epoch 9/10\n",
      "37489/37489 [==============================] - 30s - loss: 0.3145 - acc: 0.8668    \n",
      "Epoch 10/10\n",
      "37489/37489 [==============================] - 30s - loss: 0.3121 - acc: 0.8684    \n",
      "3895/4165 [===========================>..] - ETA: 0sEpoch 1/10\n",
      "37489/37489 [==============================] - 30s - loss: 0.4370 - acc: 0.8072    \n",
      "Epoch 2/10\n"
     ]
    },
    {
     "name": "stdout",
     "output_type": "stream",
     "text": [
      "37489/37489 [==============================] - 31s - loss: 0.3775 - acc: 0.8388    \n",
      "Epoch 3/10\n",
      "37489/37489 [==============================] - 36s - loss: 0.3560 - acc: 0.8492    \n",
      "Epoch 4/10\n",
      "37489/37489 [==============================] - 37s - loss: 0.3431 - acc: 0.8543    \n",
      "Epoch 5/10\n",
      "37489/37489 [==============================] - 30s - loss: 0.3340 - acc: 0.8580    \n",
      "Epoch 6/10\n",
      "37489/37489 [==============================] - 30s - loss: 0.3267 - acc: 0.8625    \n",
      "Epoch 7/10\n",
      "37489/37489 [==============================] - 35s - loss: 0.3220 - acc: 0.8645    \n",
      "Epoch 8/10\n",
      "37489/37489 [==============================] - 30s - loss: 0.3158 - acc: 0.8655    \n",
      "Epoch 9/10\n",
      "37489/37489 [==============================] - 31s - loss: 0.3135 - acc: 0.8681    \n",
      "Epoch 10/10\n",
      "37489/37489 [==============================] - 31s - loss: 0.3093 - acc: 0.8686    \n",
      "3815/4165 [==========================>...] - ETA: 0sEpoch 1/10\n",
      "37489/37489 [==============================] - 30s - loss: 0.4349 - acc: 0.8075    \n",
      "Epoch 2/10\n",
      "37489/37489 [==============================] - 30s - loss: 0.3710 - acc: 0.8434    \n",
      "Epoch 3/10\n",
      "37489/37489 [==============================] - 30s - loss: 0.3554 - acc: 0.8493    \n",
      "Epoch 4/10\n",
      "37489/37489 [==============================] - 30s - loss: 0.3469 - acc: 0.8525    \n",
      "Epoch 5/10\n",
      "37489/37489 [==============================] - 32s - loss: 0.3387 - acc: 0.8573    \n",
      "Epoch 6/10\n",
      "37489/37489 [==============================] - 33s - loss: 0.3317 - acc: 0.8601    \n",
      "Epoch 7/10\n",
      "37489/37489 [==============================] - 31s - loss: 0.3258 - acc: 0.8631    \n",
      "Epoch 8/10\n",
      "37489/37489 [==============================] - 30s - loss: 0.3206 - acc: 0.8634    \n",
      "Epoch 9/10\n",
      "37489/37489 [==============================] - 31s - loss: 0.3158 - acc: 0.8651    \n",
      "Epoch 10/10\n",
      "37489/37489 [==============================] - 30s - loss: 0.3118 - acc: 0.8672    - E\n",
      "3915/4165 [===========================>..] - ETA: 0s"
     ]
    }
   ],
   "source": [
    "if not os.path.exists('../data/deep_learning/binary_elu_probs.npy'):\n",
    "    binary_probabilities = cross_val_predict(binary_estimator, X, binary_Y, cv=binary_kfold, method='predict_proba')\n",
    "    np.save('../data/deep_learning/binary_elu_probs.npy', probabilities)\n",
    "else:\n",
    "    binary_probabilities = np.load('../data/deep_learning/binary_elu_probs.npy')"
   ]
  },
  {
   "cell_type": "code",
   "execution_count": 40,
   "metadata": {
    "ExecuteTime": {
     "end_time": "2017-05-31T20:48:55.595670Z",
     "start_time": "2017-05-31T20:48:55.068176Z"
    },
    "collapsed": true
   },
   "outputs": [],
   "source": [
    "predicted = np.array([list(a).index(max(list(a))) for a in list(binary_probabilities)])"
   ]
  },
  {
   "cell_type": "code",
   "execution_count": 41,
   "metadata": {
    "ExecuteTime": {
     "end_time": "2017-05-31T20:48:55.627703Z",
     "start_time": "2017-05-31T20:48:55.597737Z"
    }
   },
   "outputs": [
    {
     "data": {
      "text/plain": [
       "0.86692754597397614"
      ]
     },
     "execution_count": 41,
     "metadata": {},
     "output_type": "execute_result"
    }
   ],
   "source": [
    "metrics.accuracy_score(binary_Y, predicted)"
   ]
  },
  {
   "cell_type": "code",
   "execution_count": 42,
   "metadata": {
    "ExecuteTime": {
     "end_time": "2017-05-31T20:48:55.665039Z",
     "start_time": "2017-05-31T20:48:55.629528Z"
    }
   },
   "outputs": [
    {
     "name": "stdout",
     "output_type": "stream",
     "text": [
      "             precision    recall  f1-score   support\n",
      "\n",
      "          0       0.86      0.87      0.87     20498\n",
      "          1       0.87      0.87      0.87     21156\n",
      "\n",
      "avg / total       0.87      0.87      0.87     41654\n",
      "\n"
     ]
    }
   ],
   "source": [
    "print(metrics.classification_report(binary_Y, predicted))"
   ]
  },
  {
   "cell_type": "code",
   "execution_count": 43,
   "metadata": {
    "ExecuteTime": {
     "end_time": "2017-05-31T20:48:55.697016Z",
     "start_time": "2017-05-31T20:48:55.666891Z"
    },
    "collapsed": true
   },
   "outputs": [],
   "source": [
    "somatic_prob = binary_probabilities[:,1]"
   ]
  },
  {
   "cell_type": "code",
   "execution_count": 44,
   "metadata": {
    "ExecuteTime": {
     "end_time": "2017-05-31T20:48:55.928885Z",
     "start_time": "2017-05-31T20:48:55.698792Z"
    }
   },
   "outputs": [
    {
     "data": {
      "image/png": "[encoded data removed]",
      "text/plain": [
       "<matplotlib.figure.Figure at 0x14e0fdc18>"
      ]
     },
     "metadata": {},
     "output_type": "display_data"
    }
   ],
   "source": [
    "plt.title('Receiver Operating Characteristic')\n",
    "fpr, tpr, _ = metrics.roc_curve(binary_Y, somatic_prob)\n",
    "roc_auc = metrics.auc(fpr, tpr)\n",
    "plt.plot(fpr, tpr, color='cornflowerblue',label='ROC curve of somatic call'\n",
    "         ' (area = {0:0.2f})'.format(roc_auc))\n",
    "plt.plot([0, 1], [0, 1], 'k--')\n",
    "plt.xlim([-0.01, 1.0])\n",
    "plt.ylim([0.0, 1.01])\n",
    "plt.xlabel('False Positive Rate')\n",
    "plt.ylabel('True Positive Rate')\n",
    "plt.legend(loc=\"lower right\")\n",
    "plt.show()"
   ]
  },
  {
   "cell_type": "code",
   "execution_count": 45,
   "metadata": {
    "ExecuteTime": {
     "end_time": "2017-05-31T20:48:56.300859Z",
     "start_time": "2017-05-31T20:48:55.930635Z"
    }
   },
   "outputs": [
    {
     "name": "stdout",
     "output_type": "stream",
     "text": [
      "confidence intervals +-:  [ 0.00127569  0.00508068  0.00805559  0.00858358  0.00925333  0.00808689\n",
      "  0.00777566  0.0064195   0.00452378  0.00190823]\n"
     ]
    },
    {
     "data": {
      "image/png": "[encoded data removed]",
      "text/plain": [
       "<matplotlib.figure.Figure at 0x13dbf40f0>"
      ]
     },
     "metadata": {},
     "output_type": "display_data"
    }
   ],
   "source": [
    "\n",
    "create_reliability_diagram(binary_probabilities, np.array([np.logical_not(binary_Y),binary_Y]).T,['Fail', 'Somatic'], 'blue')"
   ]
  },
  {
   "cell_type": "markdown",
   "metadata": {},
   "source": [
    "# Somatic, ambigous, fail classifier"
   ]
  },
  {
   "cell_type": "code",
   "execution_count": 46,
   "metadata": {
    "ExecuteTime": {
     "end_time": "2017-05-31T20:48:56.354632Z",
     "start_time": "2017-05-31T20:48:56.302577Z"
    },
    "collapsed": true
   },
   "outputs": [],
   "source": [
    "three_class = training_data.replace('g','f')"
   ]
  },
  {
   "cell_type": "code",
   "execution_count": 47,
   "metadata": {
    "ExecuteTime": {
     "end_time": "2017-05-31T20:48:56.389486Z",
     "start_time": "2017-05-31T20:48:56.356383Z"
    }
   },
   "outputs": [
    {
     "data": {
      "text/plain": [
       "call\n",
       "a    14589\n",
       "f     5909\n",
       "s    21156\n",
       "dtype: int64"
      ]
     },
     "execution_count": 47,
     "metadata": {},
     "output_type": "execute_result"
    }
   ],
   "source": [
    "three_class.groupby('call').size()"
   ]
  },
  {
   "cell_type": "code",
   "execution_count": 48,
   "metadata": {
    "ExecuteTime": {
     "end_time": "2017-05-31T20:48:56.474022Z",
     "start_time": "2017-05-31T20:48:56.391088Z"
    },
    "collapsed": true
   },
   "outputs": [],
   "source": [
    "# Get Labels\n",
    "Y = pd.get_dummies(three_class.call).astype(float).values\n",
    "# Get training data as numpy array\n",
    "X = training_data.drop(['call', 'binary_call'], axis=1).astype(float).values"
   ]
  },
  {
   "cell_type": "code",
   "execution_count": 49,
   "metadata": {
    "ExecuteTime": {
     "end_time": "2017-05-31T20:48:56.507019Z",
     "start_time": "2017-05-31T20:48:56.476014Z"
    }
   },
   "outputs": [
    {
     "data": {
      "text/plain": [
       "(41654, 71)"
      ]
     },
     "execution_count": 49,
     "metadata": {},
     "output_type": "execute_result"
    }
   ],
   "source": [
    "X.shape"
   ]
  },
  {
   "cell_type": "code",
   "execution_count": 50,
   "metadata": {
    "ExecuteTime": {
     "end_time": "2017-05-31T20:48:56.539974Z",
     "start_time": "2017-05-31T20:48:56.508868Z"
    }
   },
   "outputs": [
    {
     "data": {
      "text/plain": [
       "(41654, 3)"
      ]
     },
     "execution_count": 50,
     "metadata": {},
     "output_type": "execute_result"
    }
   ],
   "source": [
    "Y.shape"
   ]
  },
  {
   "cell_type": "code",
   "execution_count": 51,
   "metadata": {
    "ExecuteTime": {
     "end_time": "2017-05-31T20:48:56.569651Z",
     "start_time": "2017-05-31T20:48:56.541679Z"
    },
    "collapsed": true
   },
   "outputs": [],
   "source": [
    "# fix random seed for reproducibility\n",
    "seed = 7\n",
    "np.random.seed(seed)"
   ]
  },
  {
   "cell_type": "code",
   "execution_count": 52,
   "metadata": {
    "ExecuteTime": {
     "end_time": "2017-05-31T20:48:56.607555Z",
     "start_time": "2017-05-31T20:48:56.571690Z"
    },
    "collapsed": true
   },
   "outputs": [],
   "source": [
    "# define baseline model\n",
    "def baseline_model():\n",
    "    # create model\n",
    "    model = Sequential()\n",
    "    model.add(Dense(67, input_dim=71, kernel_initializer='normal', activation='relu'))\n",
    "    model.add(Dense(23, activation='relu'))\n",
    "    model.add(Dense(23, activation='relu'))\n",
    "    model.add(Dense(3, kernel_initializer='normal', activation='sigmoid'))\n",
    "    # Compile model\n",
    "    model.compile(loss='categorical_crossentropy', optimizer='adam', metrics=['accuracy'])\n",
    "    return model"
   ]
  },
  {
   "cell_type": "code",
   "execution_count": 53,
   "metadata": {
    "ExecuteTime": {
     "end_time": "2017-05-31T20:48:56.640574Z",
     "start_time": "2017-05-31T20:48:56.609477Z"
    },
    "collapsed": true
   },
   "outputs": [],
   "source": [
    "estimator = KerasClassifier(build_fn=baseline_model, epochs=10, batch_size=5, verbose=1)"
   ]
  },
  {
   "cell_type": "code",
   "execution_count": 54,
   "metadata": {
    "ExecuteTime": {
     "end_time": "2017-05-31T20:48:56.671727Z",
     "start_time": "2017-05-31T20:48:56.642372Z"
    },
    "collapsed": true
   },
   "outputs": [],
   "source": [
    "kfold = KFold(n_splits=10, shuffle=True, random_state=seed)"
   ]
  },
  {
   "cell_type": "code",
   "execution_count": 55,
   "metadata": {
    "ExecuteTime": {
     "end_time": "2017-05-31T21:46:37.992904Z",
     "start_time": "2017-05-31T20:48:56.673322Z"
    },
    "scrolled": true
   },
   "outputs": [
    {
     "name": "stdout",
     "output_type": "stream",
     "text": [
      "Epoch 1/10\n",
      "37488/37488 [==============================] - 32s - loss: 0.6022 - acc: 0.7415    \n",
      "Epoch 2/10\n",
      "37488/37488 [==============================] - 32s - loss: 0.5046 - acc: 0.7966    \n",
      "Epoch 3/10\n",
      "37488/37488 [==============================] - 33s - loss: 0.4820 - acc: 0.8049    \n",
      "Epoch 4/10\n",
      "37488/37488 [==============================] - 32s - loss: 0.4672 - acc: 0.8099    \n",
      "Epoch 5/10\n",
      "37488/37488 [==============================] - 32s - loss: 0.4602 - acc: 0.8131    \n",
      "Epoch 6/10\n",
      "37488/37488 [==============================] - 33s - loss: 0.4530 - acc: 0.8164    \n",
      "Epoch 7/10\n",
      "37488/37488 [==============================] - 32s - loss: 0.4469 - acc: 0.8180    \n",
      "Epoch 8/10\n",
      "37488/37488 [==============================] - 33s - loss: 0.4419 - acc: 0.8202    \n",
      "Epoch 9/10\n",
      "37488/37488 [==============================] - 34s - loss: 0.4371 - acc: 0.8214    \n",
      "Epoch 10/10\n",
      "37488/37488 [==============================] - 34s - loss: 0.4334 - acc: 0.8225    \n",
      "3925/4166 [===========================>..] - ETA: 0sEpoch 1/10\n",
      "37488/37488 [==============================] - 34s - loss: 0.6075 - acc: 0.7386    \n",
      "Epoch 2/10\n",
      "37488/37488 [==============================] - 32s - loss: 0.5093 - acc: 0.7945    \n",
      "Epoch 3/10\n",
      "37488/37488 [==============================] - 32s - loss: 0.4871 - acc: 0.8030    \n",
      "Epoch 4/10\n",
      "37488/37488 [==============================] - 32s - loss: 0.4709 - acc: 0.8097    \n",
      "Epoch 5/10\n",
      "37488/37488 [==============================] - 35s - loss: 0.4607 - acc: 0.8134    \n",
      "Epoch 6/10\n",
      "37488/37488 [==============================] - 31s - loss: 0.4548 - acc: 0.8161    \n",
      "Epoch 7/10\n",
      "37488/37488 [==============================] - 33s - loss: 0.4483 - acc: 0.8174    \n",
      "Epoch 8/10\n",
      "37488/37488 [==============================] - 32s - loss: 0.4424 - acc: 0.8205    \n",
      "Epoch 9/10\n",
      "37488/37488 [==============================] - 32s - loss: 0.4394 - acc: 0.8199    \n",
      "Epoch 10/10\n",
      "37488/37488 [==============================] - 31s - loss: 0.4356 - acc: 0.8230    \n",
      "4130/4166 [============================>.] - ETA: 0sEpoch 1/10\n",
      "37488/37488 [==============================] - 32s - loss: 0.5964 - acc: 0.7484    \n",
      "Epoch 2/10\n",
      "37488/37488 [==============================] - 31s - loss: 0.5024 - acc: 0.7973    \n",
      "Epoch 3/10\n",
      "37488/37488 [==============================] - 33s - loss: 0.4815 - acc: 0.8047    \n",
      "Epoch 4/10\n",
      "37488/37488 [==============================] - 33s - loss: 0.4682 - acc: 0.8098    \n",
      "Epoch 5/10\n",
      "37488/37488 [==============================] - 33s - loss: 0.4583 - acc: 0.8151    \n",
      "Epoch 6/10\n",
      "37488/37488 [==============================] - 35s - loss: 0.4520 - acc: 0.8150    \n",
      "Epoch 7/10\n",
      "37488/37488 [==============================] - 31s - loss: 0.4462 - acc: 0.8174    \n",
      "Epoch 8/10\n",
      "37488/37488 [==============================] - 31s - loss: 0.4397 - acc: 0.8205    \n",
      "Epoch 9/10\n",
      "37488/37488 [==============================] - 32s - loss: 0.4363 - acc: 0.8219    \n",
      "Epoch 10/10\n",
      "37488/37488 [==============================] - 36s - loss: 0.4322 - acc: 0.8234    \n",
      "4040/4166 [============================>.] - ETA: 0sEpoch 1/10\n",
      "37488/37488 [==============================] - 34s - loss: 0.6094 - acc: 0.7390    \n",
      "Epoch 2/10\n",
      "37488/37488 [==============================] - 34s - loss: 0.5091 - acc: 0.7920    \n",
      "Epoch 3/10\n",
      "37488/37488 [==============================] - 31s - loss: 0.4865 - acc: 0.8021    \n",
      "Epoch 4/10\n",
      "37488/37488 [==============================] - 31s - loss: 0.4707 - acc: 0.8100    \n",
      "Epoch 5/10\n",
      "37488/37488 [==============================] - 32s - loss: 0.4624 - acc: 0.8117    \n",
      "Epoch 6/10\n",
      "37488/37488 [==============================] - 32s - loss: 0.4554 - acc: 0.8156    \n",
      "Epoch 7/10\n",
      "37488/37488 [==============================] - 33s - loss: 0.4486 - acc: 0.8157    \n",
      "Epoch 8/10\n",
      "37488/37488 [==============================] - 31s - loss: 0.4448 - acc: 0.8191    \n",
      "Epoch 9/10\n",
      "37488/37488 [==============================] - 31s - loss: 0.4404 - acc: 0.8210    \n",
      "Epoch 10/10\n",
      "37488/37488 [==============================] - 31s - loss: 0.4362 - acc: 0.8225    \n",
      "3970/4166 [===========================>..] - ETA: 0sEpoch 1/10\n",
      "37489/37489 [==============================] - 40s - loss: 0.5938 - acc: 0.7486    \n",
      "Epoch 2/10\n",
      "37489/37489 [==============================] - 34s - loss: 0.4993 - acc: 0.7977    \n",
      "Epoch 3/10\n",
      "37489/37489 [==============================] - 35s - loss: 0.4787 - acc: 0.8067    \n",
      "Epoch 4/10\n",
      "37489/37489 [==============================] - 37s - loss: 0.4652 - acc: 0.8119    \n",
      "Epoch 5/10\n",
      "37489/37489 [==============================] - 38s - loss: 0.4572 - acc: 0.8151    \n",
      "Epoch 6/10\n",
      "37489/37489 [==============================] - 32s - loss: 0.4499 - acc: 0.8172    \n",
      "Epoch 7/10\n",
      "37489/37489 [==============================] - 38s - loss: 0.4449 - acc: 0.8189    \n",
      "Epoch 8/10\n",
      "37489/37489 [==============================] - 37s - loss: 0.4391 - acc: 0.8212    \n",
      "Epoch 9/10\n",
      "37489/37489 [==============================] - 32s - loss: 0.4355 - acc: 0.8219    \n",
      "Epoch 10/10\n",
      "37489/37489 [==============================] - 34s - loss: 0.4316 - acc: 0.8229    \n",
      "4035/4165 [============================>.] - ETA: 0sEpoch 1/10\n",
      "37489/37489 [==============================] - 35s - loss: 0.5862 - acc: 0.7544    \n",
      "Epoch 2/10\n",
      "37489/37489 [==============================] - 35s - loss: 0.5041 - acc: 0.7966    \n",
      "Epoch 3/10\n",
      "37489/37489 [==============================] - 32s - loss: 0.4841 - acc: 0.8055    \n",
      "Epoch 4/10\n",
      "37489/37489 [==============================] - 32s - loss: 0.4703 - acc: 0.8088    \n",
      "Epoch 5/10\n",
      "37489/37489 [==============================] - 35s - loss: 0.4613 - acc: 0.8139    \n",
      "Epoch 6/10\n",
      "37489/37489 [==============================] - 35s - loss: 0.4533 - acc: 0.8163    \n",
      "Epoch 7/10\n",
      "37489/37489 [==============================] - 38s - loss: 0.4464 - acc: 0.8177    \n",
      "Epoch 8/10\n",
      "37489/37489 [==============================] - 31s - loss: 0.4424 - acc: 0.8191    \n",
      "Epoch 9/10\n",
      "37489/37489 [==============================] - 40s - loss: 0.4362 - acc: 0.8219    \n",
      "Epoch 10/10\n",
      "37489/37489 [==============================] - 42s - loss: 0.4335 - acc: 0.8228    \n",
      "3965/4165 [===========================>..] - ETA: 0sEpoch 1/10\n",
      "37489/37489 [==============================] - 42s - loss: 0.5900 - acc: 0.7512    \n",
      "Epoch 2/10\n",
      "37489/37489 [==============================] - 36s - loss: 0.5064 - acc: 0.7950    \n",
      "Epoch 3/10\n",
      "37489/37489 [==============================] - 35s - loss: 0.4851 - acc: 0.8042    \n",
      "Epoch 4/10\n",
      "37489/37489 [==============================] - 35s - loss: 0.4704 - acc: 0.8106    \n",
      "Epoch 5/10\n",
      "37489/37489 [==============================] - 36s - loss: 0.4607 - acc: 0.8132    \n",
      "Epoch 6/10\n",
      "37489/37489 [==============================] - 32s - loss: 0.4538 - acc: 0.8156    \n",
      "Epoch 7/10\n",
      "37489/37489 [==============================] - 34s - loss: 0.4475 - acc: 0.8191    \n",
      "Epoch 8/10\n",
      "37489/37489 [==============================] - 31s - loss: 0.4420 - acc: 0.8194    \n",
      "Epoch 9/10\n",
      "37489/37489 [==============================] - 31s - loss: 0.4366 - acc: 0.8220    \n",
      "Epoch 10/10\n",
      "37489/37489 [==============================] - 32s - loss: 0.4322 - acc: 0.8233    \n",
      "3920/4165 [===========================>..] - ETA: 0sEpoch 1/10\n",
      "37489/37489 [==============================] - 35s - loss: 0.5872 - acc: 0.7532    \n",
      "Epoch 2/10\n",
      "37489/37489 [==============================] - 34s - loss: 0.5023 - acc: 0.7964    \n",
      "Epoch 3/10\n",
      "37489/37489 [==============================] - 34s - loss: 0.4825 - acc: 0.8049    \n",
      "Epoch 4/10\n",
      "37489/37489 [==============================] - 34s - loss: 0.4694 - acc: 0.8098    \n",
      "Epoch 5/10\n",
      "37489/37489 [==============================] - 34s - loss: 0.4601 - acc: 0.8137    \n",
      "Epoch 6/10\n",
      "37489/37489 [==============================] - 34s - loss: 0.4538 - acc: 0.8152    \n",
      "Epoch 7/10\n",
      "37489/37489 [==============================] - 34s - loss: 0.4476 - acc: 0.8173    \n",
      "Epoch 8/10\n",
      "37489/37489 [==============================] - 34s - loss: 0.4404 - acc: 0.8218    \n",
      "Epoch 9/10\n",
      "37489/37489 [==============================] - 35s - loss: 0.4388 - acc: 0.8203    \n",
      "Epoch 10/10\n",
      "37489/37489 [==============================] - 34s - loss: 0.4331 - acc: 0.8232    \n",
      "4040/4165 [============================>.] - ETA: 0sEpoch 1/10\n",
      "37489/37489 [==============================] - 36s - loss: 0.5872 - acc: 0.7540    \n",
      "Epoch 2/10\n"
     ]
    },
    {
     "name": "stdout",
     "output_type": "stream",
     "text": [
      "37489/37489 [==============================] - 34s - loss: 0.5040 - acc: 0.7960    \n",
      "Epoch 3/10\n",
      "37489/37489 [==============================] - 35s - loss: 0.4823 - acc: 0.8051    \n",
      "Epoch 4/10\n",
      "37489/37489 [==============================] - 35s - loss: 0.4688 - acc: 0.8099    \n",
      "Epoch 5/10\n",
      "37489/37489 [==============================] - 34s - loss: 0.4588 - acc: 0.8136    \n",
      "Epoch 6/10\n",
      "37489/37489 [==============================] - 35s - loss: 0.4503 - acc: 0.8161    \n",
      "Epoch 7/10\n",
      "37489/37489 [==============================] - 34s - loss: 0.4458 - acc: 0.8175    \n",
      "Epoch 8/10\n",
      "37489/37489 [==============================] - 35s - loss: 0.4399 - acc: 0.8210    \n",
      "Epoch 9/10\n",
      "37489/37489 [==============================] - 35s - loss: 0.4354 - acc: 0.8219    \n",
      "Epoch 10/10\n",
      "37489/37489 [==============================] - 34s - loss: 0.4313 - acc: 0.8234    \n",
      "4125/4165 [============================>.] - ETA: 0sEpoch 1/10\n",
      "37489/37489 [==============================] - 34s - loss: 0.5856 - acc: 0.7522    \n",
      "Epoch 2/10\n",
      "37489/37489 [==============================] - 33s - loss: 0.5006 - acc: 0.7974    \n",
      "Epoch 3/10\n",
      "37489/37489 [==============================] - 34s - loss: 0.4806 - acc: 0.8047    \n",
      "Epoch 4/10\n",
      "37489/37489 [==============================] - 33s - loss: 0.4680 - acc: 0.8095    \n",
      "Epoch 5/10\n",
      "37489/37489 [==============================] - 34s - loss: 0.4569 - acc: 0.8142    \n",
      "Epoch 6/10\n",
      "37489/37489 [==============================] - ETA: 0s - loss: 0.4496 - acc: 0.816 - 34s - loss: 0.4495 - acc: 0.8163    \n",
      "Epoch 7/10\n",
      "37489/37489 [==============================] - 35s - loss: 0.4441 - acc: 0.8182    \n",
      "Epoch 8/10\n",
      "37489/37489 [==============================] - 36s - loss: 0.4389 - acc: 0.8221    \n",
      "Epoch 9/10\n",
      "37489/37489 [==============================] - 36s - loss: 0.4350 - acc: 0.8216    \n",
      "Epoch 10/10\n",
      "37489/37489 [==============================] - 40s - loss: 0.4315 - acc: 0.8229    \n",
      "3970/4165 [===========================>..] - ETA: 0s"
     ]
    }
   ],
   "source": [
    "if not os.path.exists('../data/deep_learning/threeclass_relu_probs.npy'):\n",
    "    probabilities = cross_val_predict(estimator, X, Y, cv=kfold, method='predict_proba')\n",
    "    np.save('../data/deep_learning/threeclass_relu_probs.npy', probabilities)\n",
    "else:\n",
    "    probabilities = np.load('../data/deep_learning/threeclass_relu_probs.npy')"
   ]
  },
  {
   "cell_type": "code",
   "execution_count": 56,
   "metadata": {
    "ExecuteTime": {
     "end_time": "2017-05-31T21:46:38.283491Z",
     "start_time": "2017-05-31T21:46:37.995060Z"
    },
    "collapsed": true
   },
   "outputs": [],
   "source": [
    "predicted = np.array([list(a).index(max(list(a))) for a in list(probabilities)])"
   ]
  },
  {
   "cell_type": "code",
   "execution_count": 57,
   "metadata": {
    "ExecuteTime": {
     "end_time": "2017-05-31T21:46:38.322161Z",
     "start_time": "2017-05-31T21:46:38.285458Z"
    },
    "collapsed": true
   },
   "outputs": [],
   "source": [
    "label_binarizer = preprocessing.LabelBinarizer()\n",
    "\n",
    "label_binarizer.fit(range(max(predicted)+1))\n",
    "predicted_transformed = label_binarizer.transform(predicted)"
   ]
  },
  {
   "cell_type": "code",
   "execution_count": 58,
   "metadata": {
    "ExecuteTime": {
     "end_time": "2017-05-31T21:46:38.366025Z",
     "start_time": "2017-05-31T21:46:38.324104Z"
    }
   },
   "outputs": [
    {
     "data": {
      "text/plain": [
       "0.81591203725932682"
      ]
     },
     "execution_count": 58,
     "metadata": {},
     "output_type": "execute_result"
    }
   ],
   "source": [
    "metrics.accuracy_score(Y, predicted_transformed)"
   ]
  },
  {
   "cell_type": "markdown",
   "metadata": {},
   "source": [
    "#### Classification report\n",
    "* 0 = ambiguous\n",
    "* 1 = fail\n",
    "* 2 = germline\n",
    "* 3 = somatic"
   ]
  },
  {
   "cell_type": "code",
   "execution_count": 59,
   "metadata": {
    "ExecuteTime": {
     "end_time": "2017-05-31T21:46:38.414229Z",
     "start_time": "2017-05-31T21:46:38.367735Z"
    }
   },
   "outputs": [
    {
     "name": "stdout",
     "output_type": "stream",
     "text": [
      "             precision    recall  f1-score   support\n",
      "\n",
      "          0       0.81      0.73      0.77     14589\n",
      "          1       0.70      0.75      0.73      5909\n",
      "          2       0.85      0.89      0.87     21156\n",
      "\n",
      "avg / total       0.82      0.82      0.81     41654\n",
      "\n"
     ]
    }
   ],
   "source": [
    "print(metrics.classification_report(Y, predicted_transformed))"
   ]
  },
  {
   "cell_type": "code",
   "execution_count": 60,
   "metadata": {
    "ExecuteTime": {
     "end_time": "2017-05-31T21:46:38.707385Z",
     "start_time": "2017-05-31T21:46:38.416012Z"
    }
   },
   "outputs": [
    {
     "data": {
      "image/png": "[encoded data removed]",
      "text/plain": [
       "<matplotlib.figure.Figure at 0x152aadda0>"
      ]
     },
     "metadata": {},
     "output_type": "display_data"
    }
   ],
   "source": [
    "n_classes = Y.shape[1]\n",
    "class_lookup = {0: 'Ambiguous', 1: 'Fail', 2: 'Somatic'}\n",
    "fpr = dict()\n",
    "tpr = dict()\n",
    "roc_auc = dict()\n",
    "plt.title('Receiver Operating Characteristic')\n",
    "colors = cycle(['aqua', 'darkorange', 'cornflowerblue', 'deeppink'])\n",
    "for i, color in zip(range(n_classes), colors):\n",
    "    fpr[i], tpr[i], _ = metrics.roc_curve(Y[:, i], probabilities[:, i])\n",
    "    roc_auc[i] = metrics.auc(fpr[i], tpr[i])\n",
    "    plt.plot(fpr[i], tpr[i], color=color, label='ROC curve of class {0}'\n",
    "             ' (area = {1:0.2f})'.format(class_lookup[i], roc_auc[i]))\n",
    "plt.plot([0, 1], [0, 1], 'k--')\n",
    "plt.xlim([-0.01, 1.0])\n",
    "plt.ylim([0.0, 1.05])\n",
    "plt.xlabel('False Positive Rate')\n",
    "plt.ylabel('True Positive Rate')\n",
    "plt.legend(loc=\"lower right\")\n",
    "plt.show()"
   ]
  },
  {
   "cell_type": "code",
   "execution_count": 61,
   "metadata": {
    "ExecuteTime": {
     "end_time": "2017-05-31T21:46:39.102769Z",
     "start_time": "2017-05-31T21:46:38.709531Z"
    }
   },
   "outputs": [
    {
     "name": "stdout",
     "output_type": "stream",
     "text": [
      "confidence intervals +-:  [ 0.00059922  0.00355891  0.00484212  0.00619793  0.00780359  0.00789745\n",
      "  0.0084122   0.00745796  0.00514406  0.001602  ]\n"
     ]
    },
    {
     "data": {
      "image/png": "[encoded data removed]",
      "text/plain": [
       "<matplotlib.figure.Figure at 0x13de58320>"
      ]
     },
     "metadata": {},
     "output_type": "display_data"
    }
   ],
   "source": [
    "create_reliability_diagram(probabilities, Y,['Ambiguous','Fail','Somatic'], 'blue')"
   ]
  },
  {
   "cell_type": "code",
   "execution_count": null,
   "metadata": {
    "collapsed": true
   },
   "outputs": [],
   "source": []
  },
  {
   "cell_type": "markdown",
   "metadata": {},
   "source": [
    "* elu model\n",
    "* drop amb\n",
    "* som/amb/fail model\n",
    "* different roc curves for each class\n",
    "* look at signal for miscalls\n",
    "* ambig analysis\n",
    "* run on filtered variants one study\n",
    "* variant callers roc curve\n",
    "* trained model feature analyasis top ten feature\n",
    "* new model -- reviewer variability - shuffel all reviewers and classify model"
   ]
  },
  {
   "cell_type": "code",
   "execution_count": null,
   "metadata": {
    "collapsed": true
   },
   "outputs": [],
   "source": []
  }
 ],
 "metadata": {
  "kernelspec": {
   "display_name": "Python 3",
   "language": "python",
   "name": "python3"
  },
  "language_info": {
   "codemirror_mode": {
    "name": "ipython",
    "version": 3
   },
   "file_extension": ".py",
   "mimetype": "text/x-python",
   "name": "python",
   "nbconvert_exporter": "python",
   "pygments_lexer": "ipython3",
   "version": "3.6.1"
  }
 },
 "nbformat": 4,
 "nbformat_minor": 2
}
