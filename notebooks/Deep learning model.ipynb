{
 "cells": [
  {
   "cell_type": "code",
   "execution_count": 2,
   "metadata": {
    "ExecuteTime": {
     "end_time": "2017-05-16T15:18:51.711882Z",
     "start_time": "2017-05-16T10:18:47.274511-05:00"
    }
   },
   "outputs": [
    {
     "name": "stderr",
     "output_type": "stream",
     "text": [
      "Using TensorFlow backend.\n"
     ]
    }
   ],
   "source": [
    "import numpy as np\n",
    "import pandas as pd\n",
    "from keras.models import Sequential\n",
    "from keras.layers import Dense\n",
    "from keras.wrappers.scikit_learn import KerasClassifier\n",
    "from sklearn.model_selection import KFold\n",
    "from sklearn.model_selection import cross_val_predict\n",
    "from sklearn import preprocessing\n",
    "from sklearn import metrics\n",
    "\n",
    "import matplotlib.pyplot as plt\n",
    "import seaborn as sns\n",
    "from itertools import cycle\n",
    "\n",
    "sns.set_style(\"white\")\n",
    "sns.set_context('notebook')"
   ]
  },
  {
   "cell_type": "code",
   "execution_count": 3,
   "metadata": {
    "ExecuteTime": {
     "end_time": "2017-05-16T15:18:51.756133Z",
     "start_time": "2017-05-16T10:18:51.714074-05:00"
    },
    "collapsed": true
   },
   "outputs": [],
   "source": [
    "training_data = pd.read_pickle('../data/training_data.pkl')"
   ]
  },
  {
   "cell_type": "code",
   "execution_count": 4,
   "metadata": {
    "ExecuteTime": {
     "end_time": "2017-05-16T15:18:51.781835Z",
     "start_time": "2017-05-16T10:18:51.758145-05:00"
    }
   },
   "outputs": [
    {
     "data": {
      "text/plain": [
       "call\n",
       "a    13745\n",
       "f     1600\n",
       "g     3946\n",
       "s    17781\n",
       "dtype: int64"
      ]
     },
     "execution_count": 4,
     "metadata": {},
     "output_type": "execute_result"
    }
   ],
   "source": [
    "training_data.groupby('call').size()"
   ]
  },
  {
   "cell_type": "code",
   "execution_count": 5,
   "metadata": {
    "ExecuteTime": {
     "end_time": "2017-05-16T15:18:51.833562Z",
     "start_time": "2017-05-16T10:18:51.783920-05:00"
    },
    "collapsed": true
   },
   "outputs": [],
   "source": [
    "# Get Labels\n",
    "Y = pd.get_dummies(training_data.call).astype(float).values\n",
    "# Get training data as numpy array\n",
    "X = training_data.drop('call', axis=1).astype(float).values"
   ]
  },
  {
   "cell_type": "code",
   "execution_count": 6,
   "metadata": {
    "ExecuteTime": {
     "end_time": "2017-05-16T15:18:51.840460Z",
     "start_time": "2017-05-16T10:18:51.835351-05:00"
    }
   },
   "outputs": [
    {
     "data": {
      "text/plain": [
       "(37072, 67)"
      ]
     },
     "execution_count": 6,
     "metadata": {},
     "output_type": "execute_result"
    }
   ],
   "source": [
    "X.shape"
   ]
  },
  {
   "cell_type": "code",
   "execution_count": 7,
   "metadata": {
    "ExecuteTime": {
     "end_time": "2017-05-16T15:18:51.846788Z",
     "start_time": "2017-05-16T10:18:51.842184-05:00"
    }
   },
   "outputs": [
    {
     "data": {
      "text/plain": [
       "(37072, 4)"
      ]
     },
     "execution_count": 7,
     "metadata": {},
     "output_type": "execute_result"
    }
   ],
   "source": [
    "Y.shape"
   ]
  },
  {
   "cell_type": "code",
   "execution_count": 8,
   "metadata": {
    "ExecuteTime": {
     "end_time": "2017-05-16T15:18:51.852076Z",
     "start_time": "2017-05-16T10:18:51.848671-05:00"
    },
    "collapsed": true
   },
   "outputs": [],
   "source": [
    "# fix random seed for reproducibility\n",
    "seed = 7\n",
    "np.random.seed(seed)"
   ]
  },
  {
   "cell_type": "code",
   "execution_count": 9,
   "metadata": {
    "ExecuteTime": {
     "end_time": "2017-05-16T15:18:51.859993Z",
     "start_time": "2017-05-16T10:18:51.854088-05:00"
    },
    "collapsed": true
   },
   "outputs": [],
   "source": [
    "# define baseline model\n",
    "def baseline_model():\n",
    "    # create model\n",
    "    model = Sequential()\n",
    "    model.add(Dense(67, input_dim=67, kernel_initializer='normal', activation='relu'))\n",
    "    model.add(Dense(23, activation='relu'))\n",
    "    model.add(Dense(23, activation='relu'))\n",
    "    model.add(Dense(4, kernel_initializer='normal', activation='sigmoid'))\n",
    "    # Compile model\n",
    "    model.compile(loss='categorical_crossentropy', optimizer='adam', metrics=['accuracy'])\n",
    "    return model"
   ]
  },
  {
   "cell_type": "code",
   "execution_count": 10,
   "metadata": {
    "ExecuteTime": {
     "end_time": "2017-05-16T15:18:51.865261Z",
     "start_time": "2017-05-16T10:18:51.861906-05:00"
    },
    "collapsed": true
   },
   "outputs": [],
   "source": [
    "estimator = KerasClassifier(build_fn=baseline_model, epochs=10, batch_size=5, verbose=1)"
   ]
  },
  {
   "cell_type": "code",
   "execution_count": 11,
   "metadata": {
    "ExecuteTime": {
     "end_time": "2017-05-16T15:18:51.870559Z",
     "start_time": "2017-05-16T10:18:51.867063-05:00"
    },
    "collapsed": true
   },
   "outputs": [],
   "source": [
    "kfold = KFold(n_splits=10, shuffle=True, random_state=seed)"
   ]
  },
  {
   "cell_type": "code",
   "execution_count": 12,
   "metadata": {
    "ExecuteTime": {
     "end_time": "2017-05-16T16:10:15.643408Z",
     "start_time": "2017-05-16T10:18:51.871860-05:00"
    }
   },
   "outputs": [
    {
     "name": "stdout",
     "output_type": "stream",
     "text": [
      "Epoch 1/10\n",
      "33364/33364 [==============================] - 30s - loss: 0.7363 - acc: 0.6868    \n",
      "Epoch 2/10\n",
      "33364/33364 [==============================] - 23s - loss: 0.6110 - acc: 0.7531    \n",
      "Epoch 3/10\n",
      "33364/33364 [==============================] - 26s - loss: 0.5786 - acc: 0.7664    \n",
      "Epoch 4/10\n",
      "33364/33364 [==============================] - 25s - loss: 0.5632 - acc: 0.7729    \n",
      "Epoch 5/10\n",
      "33364/33364 [==============================] - 26s - loss: 0.5509 - acc: 0.7778    \n",
      "Epoch 6/10\n",
      "33364/33364 [==============================] - 25s - loss: 0.5420 - acc: 0.7827    \n",
      "Epoch 7/10\n",
      "33364/33364 [==============================] - 25s - loss: 0.5326 - acc: 0.7850    \n",
      "Epoch 8/10\n",
      "33364/33364 [==============================] - 25s - loss: 0.5274 - acc: 0.7857    \n",
      "Epoch 9/10\n",
      "33364/33364 [==============================] - 25s - loss: 0.5219 - acc: 0.7900    \n",
      "Epoch 10/10\n",
      "33364/33364 [==============================] - 25s - loss: 0.5164 - acc: 0.7911    \n",
      "3685/3708 [============================>.] - ETA: 0sEpoch 1/10\n",
      "33364/33364 [==============================] - 26s - loss: 0.7351 - acc: 0.6891    \n",
      "Epoch 2/10\n",
      "33364/33364 [==============================] - 27s - loss: 0.6131 - acc: 0.7522    \n",
      "Epoch 3/10\n",
      "33364/33364 [==============================] - 26s - loss: 0.5789 - acc: 0.7686    \n",
      "Epoch 4/10\n",
      "33364/33364 [==============================] - 24s - loss: 0.5615 - acc: 0.7733    \n",
      "Epoch 5/10\n",
      "33364/33364 [==============================] - 28s - loss: 0.5507 - acc: 0.7780    \n",
      "Epoch 6/10\n",
      "33364/33364 [==============================] - 28s - loss: 0.5409 - acc: 0.7822    \n",
      "Epoch 7/10\n",
      "33364/33364 [==============================] - 25s - loss: 0.5333 - acc: 0.7853    \n",
      "Epoch 8/10\n",
      "33364/33364 [==============================] - 28s - loss: 0.5253 - acc: 0.7891    \n",
      "Epoch 9/10\n",
      "33364/33364 [==============================] - 26s - loss: 0.5194 - acc: 0.7896    \n",
      "Epoch 10/10\n",
      "33364/33364 [==============================] - 26s - loss: 0.5147 - acc: 0.7928    \n",
      "3525/3708 [===========================>..] - ETA: 0sEpoch 1/10\n",
      "33365/33365 [==============================] - 26s - loss: 0.7275 - acc: 0.6933    \n",
      "Epoch 2/10\n",
      "33365/33365 [==============================] - 26s - loss: 0.6082 - acc: 0.7534    \n",
      "Epoch 3/10\n",
      "33365/33365 [==============================] - 31s - loss: 0.5752 - acc: 0.7653    \n",
      "Epoch 4/10\n",
      "33365/33365 [==============================] - 28s - loss: 0.5588 - acc: 0.7740    \n",
      "Epoch 5/10\n",
      "33365/33365 [==============================] - 28s - loss: 0.5473 - acc: 0.7786    \n",
      "Epoch 6/10\n",
      "33365/33365 [==============================] - 27s - loss: 0.5364 - acc: 0.7806    \n",
      "Epoch 7/10\n",
      "33365/33365 [==============================] - 25s - loss: 0.5284 - acc: 0.7839    \n",
      "Epoch 8/10\n",
      "33365/33365 [==============================] - 28s - loss: 0.5242 - acc: 0.7868    \n",
      "Epoch 9/10\n",
      "33365/33365 [==============================] - 29s - loss: 0.5170 - acc: 0.7912    \n",
      "Epoch 10/10\n",
      "33365/33365 [==============================] - 28s - loss: 0.5109 - acc: 0.7915    \n",
      "3630/3707 [============================>.] - ETA: 0sEpoch 1/10\n",
      "33365/33365 [==============================] - 28s - loss: 0.7380 - acc: 0.6853    \n",
      "Epoch 2/10\n",
      "33365/33365 [==============================] - 28s - loss: 0.6156 - acc: 0.7522    \n",
      "Epoch 3/10\n",
      "33365/33365 [==============================] - 28s - loss: 0.5804 - acc: 0.7671    \n",
      "Epoch 4/10\n",
      "33365/33365 [==============================] - 28s - loss: 0.5608 - acc: 0.7732    \n",
      "Epoch 5/10\n",
      "33365/33365 [==============================] - 29s - loss: 0.5470 - acc: 0.7810    \n",
      "Epoch 6/10\n",
      "33365/33365 [==============================] - 30s - loss: 0.5379 - acc: 0.7831    \n",
      "Epoch 7/10\n",
      "33365/33365 [==============================] - 35s - loss: 0.5321 - acc: 0.7853    \n",
      "Epoch 8/10\n",
      "33365/33365 [==============================] - 37s - loss: 0.5229 - acc: 0.7886    \n",
      "Epoch 9/10\n",
      "33365/33365 [==============================] - 35s - loss: 0.5181 - acc: 0.7898    \n",
      "Epoch 10/10\n",
      "33365/33365 [==============================] - 36s - loss: 0.5145 - acc: 0.7917    \n",
      "3665/3707 [============================>.] - ETA: 0sEpoch 1/10\n",
      "33365/33365 [==============================] - 35s - loss: 0.7594 - acc: 0.6678    \n",
      "Epoch 2/10\n",
      "33365/33365 [==============================] - 36s - loss: 0.6188 - acc: 0.7513    \n",
      "Epoch 3/10\n",
      "33365/33365 [==============================] - 37s - loss: 0.5858 - acc: 0.7624    \n",
      "Epoch 4/10\n",
      "33365/33365 [==============================] - 33s - loss: 0.5666 - acc: 0.7706    \n",
      "Epoch 5/10\n",
      "33365/33365 [==============================] - 35s - loss: 0.5522 - acc: 0.7769    \n",
      "Epoch 6/10\n",
      "33365/33365 [==============================] - 34s - loss: 0.5432 - acc: 0.7803    \n",
      "Epoch 7/10\n",
      "33365/33365 [==============================] - 31s - loss: 0.5375 - acc: 0.7830    \n",
      "Epoch 8/10\n",
      "33365/33365 [==============================] - 32s - loss: 0.5294 - acc: 0.7845    \n",
      "Epoch 9/10\n",
      "33365/33365 [==============================] - 32s - loss: 0.5231 - acc: 0.7877    \n",
      "Epoch 10/10\n",
      "33365/33365 [==============================] - 32s - loss: 0.5179 - acc: 0.7895    \n",
      "3605/3707 [============================>.] - ETA: 0sEpoch 1/10\n",
      "33365/33365 [==============================] - 33s - loss: 0.7457 - acc: 0.6745    \n",
      "Epoch 2/10\n",
      "33365/33365 [==============================] - 32s - loss: 0.6198 - acc: 0.7482    \n",
      "Epoch 3/10\n",
      "33365/33365 [==============================] - 36s - loss: 0.5851 - acc: 0.7612    \n",
      "Epoch 4/10\n",
      "33365/33365 [==============================] - ETA: 0s - loss: 0.5629 - acc: 0.770 - 30s - loss: 0.5631 - acc: 0.7701    \n",
      "Epoch 5/10\n",
      "33365/33365 [==============================] - 26s - loss: 0.5512 - acc: 0.7769    \n",
      "Epoch 6/10\n",
      "33365/33365 [==============================] - 28s - loss: 0.5409 - acc: 0.7790    \n",
      "Epoch 7/10\n",
      "33365/33365 [==============================] - 28s - loss: 0.5337 - acc: 0.7853    \n",
      "Epoch 8/10\n",
      "33365/33365 [==============================] - 27s - loss: 0.5257 - acc: 0.7862    \n",
      "Epoch 9/10\n",
      "33365/33365 [==============================] - 25s - loss: 0.5194 - acc: 0.7883    \n",
      "Epoch 10/10\n",
      "33365/33365 [==============================] - 25s - loss: 0.5151 - acc: 0.7904    \n",
      "3355/3707 [==========================>...] - ETA: 0sEpoch 1/10\n",
      "33365/33365 [==============================] - 27s - loss: 0.7394 - acc: 0.6867    \n",
      "Epoch 2/10\n",
      "33365/33365 [==============================] - 27s - loss: 0.6134 - acc: 0.7523    \n",
      "Epoch 3/10\n",
      "33365/33365 [==============================] - 25s - loss: 0.5816 - acc: 0.7650    \n",
      "Epoch 4/10\n",
      "33365/33365 [==============================] - 25s - loss: 0.5605 - acc: 0.7719    \n",
      "Epoch 5/10\n",
      "33365/33365 [==============================] - 33s - loss: 0.5482 - acc: 0.7777    \n",
      "Epoch 6/10\n",
      "33365/33365 [==============================] - 34s - loss: 0.5407 - acc: 0.7817    \n",
      "Epoch 7/10\n",
      "33365/33365 [==============================] - 34s - loss: 0.5313 - acc: 0.7832    \n",
      "Epoch 8/10\n",
      "33365/33365 [==============================] - 33s - loss: 0.5243 - acc: 0.7867    \n",
      "Epoch 9/10\n",
      "33365/33365 [==============================] - 33s - loss: 0.5199 - acc: 0.7870    \n",
      "Epoch 10/10\n",
      "33365/33365 [==============================] - 33s - loss: 0.5158 - acc: 0.7905    \n",
      "3475/3707 [===========================>..] - ETA: 0sEpoch 1/10\n",
      "33365/33365 [==============================] - 34s - loss: 0.7130 - acc: 0.6992    \n",
      "Epoch 2/10\n",
      "33365/33365 [==============================] - 33s - loss: 0.5993 - acc: 0.7563    \n",
      "Epoch 3/10\n",
      "33365/33365 [==============================] - 34s - loss: 0.5729 - acc: 0.7670    \n",
      "Epoch 4/10\n",
      "33365/33365 [==============================] - 33s - loss: 0.5557 - acc: 0.7734    \n",
      "Epoch 5/10\n",
      "33365/33365 [==============================] - 34s - loss: 0.5451 - acc: 0.7793    \n",
      "Epoch 6/10\n",
      "33365/33365 [==============================] - 38s - loss: 0.5361 - acc: 0.7831    \n",
      "Epoch 7/10\n",
      "33365/33365 [==============================] - 37s - loss: 0.5272 - acc: 0.7859    \n",
      "Epoch 8/10\n",
      "33365/33365 [==============================] - 37s - loss: 0.5196 - acc: 0.7904    \n",
      "Epoch 9/10\n",
      "33365/33365 [==============================] - 37s - loss: 0.5158 - acc: 0.7906    \n",
      "Epoch 10/10\n",
      "33365/33365 [==============================] - 37s - loss: 0.5104 - acc: 0.7922    \n",
      "3690/3707 [============================>.] - ETA: 0sEpoch 1/10\n",
      "33365/33365 [==============================] - 37s - loss: 0.7231 - acc: 0.7000    \n",
      "Epoch 2/10\n"
     ]
    },
    {
     "name": "stdout",
     "output_type": "stream",
     "text": [
      "33365/33365 [==============================] - 29s - loss: 0.6133 - acc: 0.7524    \n",
      "Epoch 3/10\n",
      "33365/33365 [==============================] - 29s - loss: 0.5796 - acc: 0.7663    \n",
      "Epoch 4/10\n",
      "33365/33365 [==============================] - 29s - loss: 0.5621 - acc: 0.7710    \n",
      "Epoch 5/10\n",
      "33365/33365 [==============================] - 29s - loss: 0.5500 - acc: 0.7760    \n",
      "Epoch 6/10\n",
      "33365/33365 [==============================] - 29s - loss: 0.5386 - acc: 0.7809    \n",
      "Epoch 7/10\n",
      "33365/33365 [==============================] - 29s - loss: 0.5328 - acc: 0.7841    \n",
      "Epoch 8/10\n",
      "33365/33365 [==============================] - 29s - loss: 0.5264 - acc: 0.7871    \n",
      "Epoch 9/10\n",
      "33365/33365 [==============================] - 29s - loss: 0.5206 - acc: 0.7893    \n",
      "Epoch 10/10\n",
      "33365/33365 [==============================] - 29s - loss: 0.5161 - acc: 0.7895    \n",
      "3425/3707 [==========================>...] - ETA: 0sEpoch 1/10\n",
      "33365/33365 [==============================] - 30s - loss: 0.7278 - acc: 0.6936    \n",
      "Epoch 2/10\n",
      "33365/33365 [==============================] - 29s - loss: 0.6103 - acc: 0.7547    \n",
      "Epoch 3/10\n",
      "33365/33365 [==============================] - 29s - loss: 0.5804 - acc: 0.7648    \n",
      "Epoch 4/10\n",
      "33365/33365 [==============================] - 29s - loss: 0.5618 - acc: 0.7724    \n",
      "Epoch 5/10\n",
      "33365/33365 [==============================] - 29s - loss: 0.5490 - acc: 0.7785    \n",
      "Epoch 6/10\n",
      "33365/33365 [==============================] - 30s - loss: 0.5378 - acc: 0.7800    \n",
      "Epoch 7/10\n",
      "33365/33365 [==============================] - 37s - loss: 0.5312 - acc: 0.7828    \n",
      "Epoch 8/10\n",
      "33365/33365 [==============================] - 40s - loss: 0.5268 - acc: 0.7857    \n",
      "Epoch 9/10\n",
      "33365/33365 [==============================] - 39s - loss: 0.5210 - acc: 0.7890    \n",
      "Epoch 10/10\n",
      "33365/33365 [==============================] - 38s - loss: 0.5148 - acc: 0.7922    \n",
      "3520/3707 [===========================>..] - ETA: 0s"
     ]
    }
   ],
   "source": [
    "probabilities = cross_val_predict(estimator, X, Y, cv=kfold, method='predict_proba')"
   ]
  },
  {
   "cell_type": "code",
   "execution_count": 13,
   "metadata": {
    "ExecuteTime": {
     "end_time": "2017-05-16T16:10:15.756829Z",
     "start_time": "2017-05-16T11:10:15.646153-05:00"
    },
    "collapsed": true
   },
   "outputs": [],
   "source": [
    "predicted = np.array([list(a).index(max(list(a))) for a in list(probabilities)])"
   ]
  },
  {
   "cell_type": "code",
   "execution_count": 14,
   "metadata": {
    "ExecuteTime": {
     "end_time": "2017-05-16T16:10:15.770727Z",
     "start_time": "2017-05-16T11:10:15.759108-05:00"
    },
    "collapsed": true
   },
   "outputs": [],
   "source": [
    "label_binarizer = preprocessing.LabelBinarizer()\n",
    "\n",
    "label_binarizer.fit(range(max(predicted)+1))\n",
    "predicted_transformed = label_binarizer.transform(predicted)"
   ]
  },
  {
   "cell_type": "code",
   "execution_count": 15,
   "metadata": {
    "ExecuteTime": {
     "end_time": "2017-05-16T16:10:15.790437Z",
     "start_time": "2017-05-16T11:10:15.772757-05:00"
    }
   },
   "outputs": [
    {
     "data": {
      "text/plain": [
       "0.7869551143720328"
      ]
     },
     "execution_count": 15,
     "metadata": {},
     "output_type": "execute_result"
    }
   ],
   "source": [
    "metrics.accuracy_score(Y, predicted_transformed)"
   ]
  },
  {
   "cell_type": "markdown",
   "metadata": {},
   "source": [
    "#### Classification report\n",
    "* 0 = ambiguous\n",
    "* 1 = fail\n",
    "* 2 = germline\n",
    "* 3 = somatic"
   ]
  },
  {
   "cell_type": "code",
   "execution_count": 16,
   "metadata": {
    "ExecuteTime": {
     "end_time": "2017-05-16T16:10:15.813408Z",
     "start_time": "2017-05-16T11:10:15.792473-05:00"
    }
   },
   "outputs": [
    {
     "name": "stdout",
     "output_type": "stream",
     "text": [
      "             precision    recall  f1-score   support\n",
      "\n",
      "          0       0.79      0.74      0.77     13745\n",
      "          1       0.56      0.48      0.51      1600\n",
      "          2       0.59      0.80      0.68      3946\n",
      "          3       0.86      0.84      0.85     17781\n",
      "\n",
      "avg / total       0.79      0.79      0.79     37072\n",
      "\n"
     ]
    }
   ],
   "source": [
    "print(metrics.classification_report(Y, predicted_transformed))"
   ]
  },
  {
   "cell_type": "code",
   "execution_count": 17,
   "metadata": {
    "ExecuteTime": {
     "end_time": "2017-05-16T16:10:16.107747Z",
     "start_time": "2017-05-16T11:10:15.815400-05:00"
    }
   },
   "outputs": [
    {
     "data": {
      "image/png": "[encoded data removed]",
      "text/plain": [
       "<matplotlib.figure.Figure at 0x136677828>"
      ]
     },
     "metadata": {},
     "output_type": "display_data"
    }
   ],
   "source": [
    "n_classes = Y.shape[1]\n",
    "class_lookup = {0: 'Ambiguous', 1: 'Fail', 2: 'Germline', 3: 'Somatic'}\n",
    "fpr = dict()\n",
    "tpr = dict()\n",
    "roc_auc = dict()\n",
    "plt.title('Receiver Operating Characteristic')\n",
    "colors = cycle(['aqua', 'darkorange', 'cornflowerblue', 'deeppink'])\n",
    "for i, color in zip(range(n_classes), colors):\n",
    "    fpr[i], tpr[i], _ = metrics.roc_curve(Y[:, i], probabilities[:, i])\n",
    "    roc_auc[i] = metrics.auc(fpr[i], tpr[i])\n",
    "    plt.plot(fpr[i], tpr[i], color=color, label='ROC curve of class {0}'\n",
    "             ' (area = {1:0.2f})'.format(class_lookup[i], roc_auc[i]))\n",
    "plt.plot([0, 1], [0, 1], 'k--')\n",
    "plt.xlim([-0.01, 1.0])\n",
    "plt.ylim([0.0, 1.05])\n",
    "plt.xlabel('False Positive Rate')\n",
    "plt.ylabel('True Positive Rate')\n",
    "plt.legend(loc=\"lower right\")\n",
    "plt.show()"
   ]
  },
  {
   "cell_type": "code",
   "execution_count": 18,
   "metadata": {
    "ExecuteTime": {
     "end_time": "2017-05-16T16:10:16.119078Z",
     "start_time": "2017-05-16T11:10:16.109952-05:00"
    },
    "collapsed": true
   },
   "outputs": [],
   "source": [
    "%matplotlib inline"
   ]
  },
  {
   "cell_type": "code",
   "execution_count": 22,
   "metadata": {
    "ExecuteTime": {
     "end_time": "2017-05-16T16:30:25.178856Z",
     "start_time": "2017-05-16T11:30:25.140155-05:00"
    },
    "collapsed": true
   },
   "outputs": [],
   "source": [
    "prob_df = pd.DataFrame(probabilities, columns=['Ambiguous','Fail',\n",
    "                                               'Germline', 'Somatic'])\n",
    "\n",
    "# Normalize the values by dividing each value by the sum of its columns\n",
    "prob_df_norm = prob_df.div(prob_df.sum(axis=1), axis=0)\n",
    "\n",
    "positive_index = pd.DataFrame(predicted_transformed, columns=['Ambiguous',\n",
    "                                                              'Fail',\n",
    "                                                              'Germline', \n",
    "                                                              'Somatic'], \n",
    "                              dtype=bool)\n",
    "\n",
    "positive_probabilities = prob_df_norm[positive_index].unstack().dropna().values\n",
    "\n",
    "positive_counts, bins = np.histogram(positive_probabilities, bins=[0,.1,.2,.3,.4,.5,.6,.7,.8,.9,1])\n",
    "\n",
    "negative_probabilities = prob_df_norm[~positive_index].unstack().dropna()\n",
    "\n",
    "negative_counts, _ = np.histogram(negative_probabilities, bins=[0,.1,.2,.3,.4,.5,.6,.7,.8,.9,1])\n",
    "\n",
    "pct_positive = positive_counts / (positive_counts + negative_counts)"
   ]
  },
  {
   "cell_type": "code",
   "execution_count": 23,
   "metadata": {
    "ExecuteTime": {
     "end_time": "2017-05-16T16:30:26.738737Z",
     "start_time": "2017-05-16T11:30:26.449674-05:00"
    }
   },
   "outputs": [
    {
     "data": {
      "image/png": "[encoded data removed]",
      "text/plain": [
       "<matplotlib.figure.Figure at 0x13686c390>"
      ]
     },
     "metadata": {},
     "output_type": "display_data"
    }
   ],
   "source": [
    "width = 0.03       # the width of the bars\n",
    "\n",
    "fig, ax1 = plt.subplots()\n",
    "rects1 = ax1.bar(bins[1:], negative_counts, width, color='grey')\n",
    "\n",
    "rects2 = ax1.bar(bins[1:] + width, positive_counts, width, color='green')\n",
    "\n",
    "# add some text for labels, title and axes ticks\n",
    "\n",
    "ax1.set_title('Reliability diagram')\n",
    "ax1.set_xticks(bins[1:] + width / 2)\n",
    "ax1.set_xticklabels(bins[1:])\n",
    "# ax.plot(ax.get_xlim(), ax.get_ylim(), ls=\"--\", c=\".3\")\n",
    "\n",
    "# ax1.legend((rects1[0], rects2[0]), ('Neg', 'Pos'), loc=5)\n",
    "\n",
    "ax2 = ax1.twinx()\n",
    "ax2.plot(bins, bins, ls=\"--\", c=\".3\")\n",
    "r2 = str(round(metrics.r2_score(bins[1:], pct_positive),2))\n",
    "ax2.plot(bins[1:], pct_positive, \"-o\", color='blue')\n",
    "ax2.text(.85,.75,'$R^2$: {0}'.format(r2), color='blue', fontsize=15)\n",
    "\n",
    "\n",
    "plt.show()"
   ]
  },
  {
   "cell_type": "code",
   "execution_count": null,
   "metadata": {
    "collapsed": true
   },
   "outputs": [],
   "source": []
  }
 ],
 "metadata": {
  "kernelspec": {
   "display_name": "Python 3",
   "language": "python",
   "name": "python3"
  }
 },
 "nbformat": 4,
 "nbformat_minor": 2
}
