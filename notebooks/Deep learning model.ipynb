{
 "cells": [
  {
   "cell_type": "code",
   "execution_count": 1,
   "metadata": {
    "ExecuteTime": {
     "end_time": "2017-06-05T15:32:06.167262Z",
     "start_time": "2017-06-05T15:32:05.737283Z"
    }
   },
   "outputs": [
    {
     "name": "stdout",
     "output_type": "stream",
     "text": [
      "Populating the interactive namespace from numpy and matplotlib\n"
     ]
    }
   ],
   "source": [
    "%pylab inline\n",
    "%load_ext autoreload\n",
    "%autoreload 2\n",
    "\n",
    "%aimport manual_review_classifier"
   ]
  },
  {
   "cell_type": "code",
   "execution_count": 2,
   "metadata": {
    "ExecuteTime": {
     "end_time": "2017-06-05T15:32:06.183670Z",
     "start_time": "2017-06-05T15:32:06.169389Z"
    },
    "collapsed": true
   },
   "outputs": [],
   "source": [
    "%matplotlib inline"
   ]
  },
  {
   "cell_type": "code",
   "execution_count": 3,
   "metadata": {
    "ExecuteTime": {
     "end_time": "2017-06-05T15:32:09.937446Z",
     "start_time": "2017-06-05T15:32:06.185576Z"
    }
   },
   "outputs": [
    {
     "name": "stderr",
     "output_type": "stream",
     "text": [
      "Using TensorFlow backend.\n"
     ]
    }
   ],
   "source": [
    "import numpy as np\n",
    "import pandas as pd\n",
    "import os\n",
    "from keras.models import Sequential\n",
    "from keras.layers import Dense\n",
    "from keras.wrappers.scikit_learn import KerasClassifier\n",
    "from sklearn.model_selection import KFold\n",
    "from sklearn.model_selection import cross_val_predict\n",
    "from sklearn import preprocessing\n",
    "from sklearn import metrics\n",
    "\n",
    "import matplotlib.pyplot as plt\n",
    "import seaborn as sns\n",
    "from itertools import cycle\n",
    "\n",
    "from manual_review_classifier.ClassifierPlots import create_reliability_diagram\n",
    "from manual_review_classifier.Analysis import determine_feature_importance\n",
    "\n",
    "sns.set_style(\"white\")\n",
    "sns.set_context('notebook')"
   ]
  },
  {
   "cell_type": "code",
   "execution_count": 4,
   "metadata": {
    "ExecuteTime": {
     "end_time": "2017-06-05T15:32:10.011341Z",
     "start_time": "2017-06-05T15:32:09.939706Z"
    },
    "collapsed": true
   },
   "outputs": [],
   "source": [
    "training_data = pd.read_pickle('../data/training_data.pkl')"
   ]
  },
  {
   "cell_type": "code",
   "execution_count": 5,
   "metadata": {
    "ExecuteTime": {
     "end_time": "2017-06-05T15:32:10.054753Z",
     "start_time": "2017-06-05T15:32:10.012920Z"
    },
    "scrolled": true
   },
   "outputs": [
    {
     "data": {
      "text/plain": [
       "call\n",
       "a    14589\n",
       "f     1600\n",
       "g     4309\n",
       "s    21156\n",
       "dtype: int64"
      ]
     },
     "execution_count": 5,
     "metadata": {},
     "output_type": "execute_result"
    }
   ],
   "source": [
    "training_data.groupby('call').size()"
   ]
  },
  {
   "cell_type": "code",
   "execution_count": 6,
   "metadata": {
    "ExecuteTime": {
     "end_time": "2017-06-05T15:32:10.139602Z",
     "start_time": "2017-06-05T15:32:10.056364Z"
    },
    "collapsed": true
   },
   "outputs": [],
   "source": [
    "# Get Labels\n",
    "Y = pd.get_dummies(training_data.call).astype(float).values\n",
    "# Get training data as numpy array\n",
    "X = training_data.drop('call', axis=1).astype(float).values"
   ]
  },
  {
   "cell_type": "code",
   "execution_count": 7,
   "metadata": {
    "ExecuteTime": {
     "end_time": "2017-06-05T15:32:10.171801Z",
     "start_time": "2017-06-05T15:32:10.141353Z"
    }
   },
   "outputs": [
    {
     "data": {
      "text/plain": [
       "(41654, 71)"
      ]
     },
     "execution_count": 7,
     "metadata": {},
     "output_type": "execute_result"
    }
   ],
   "source": [
    "X.shape"
   ]
  },
  {
   "cell_type": "code",
   "execution_count": 8,
   "metadata": {
    "ExecuteTime": {
     "end_time": "2017-06-05T15:32:10.203686Z",
     "start_time": "2017-06-05T15:32:10.173509Z"
    }
   },
   "outputs": [
    {
     "data": {
      "text/plain": [
       "(41654, 4)"
      ]
     },
     "execution_count": 8,
     "metadata": {},
     "output_type": "execute_result"
    }
   ],
   "source": [
    "Y.shape"
   ]
  },
  {
   "cell_type": "code",
   "execution_count": 9,
   "metadata": {
    "ExecuteTime": {
     "end_time": "2017-06-05T15:32:10.235541Z",
     "start_time": "2017-06-05T15:32:10.205361Z"
    },
    "collapsed": true
   },
   "outputs": [],
   "source": [
    "# fix random seed for reproducibility\n",
    "seed = 7\n",
    "np.random.seed(seed)"
   ]
  },
  {
   "cell_type": "code",
   "execution_count": 10,
   "metadata": {
    "ExecuteTime": {
     "end_time": "2017-06-05T15:32:10.271766Z",
     "start_time": "2017-06-05T15:32:10.237460Z"
    },
    "collapsed": true
   },
   "outputs": [],
   "source": [
    "# define baseline model\n",
    "def baseline_model():\n",
    "    # create model\n",
    "    model = Sequential()\n",
    "    model.add(Dense(67, input_dim=71, kernel_initializer='normal', activation='relu'))\n",
    "    model.add(Dense(23, activation='relu'))\n",
    "    model.add(Dense(23, activation='relu'))\n",
    "    model.add(Dense(4, kernel_initializer='normal', activation='sigmoid'))\n",
    "    # Compile model\n",
    "    model.compile(loss='categorical_crossentropy', optimizer='adam', metrics=['accuracy'])\n",
    "    return model"
   ]
  },
  {
   "cell_type": "code",
   "execution_count": 11,
   "metadata": {
    "ExecuteTime": {
     "end_time": "2017-06-05T15:32:10.302294Z",
     "start_time": "2017-06-05T15:32:10.273620Z"
    },
    "collapsed": true
   },
   "outputs": [],
   "source": [
    "estimator = KerasClassifier(build_fn=baseline_model, epochs=10, batch_size=5, verbose=1)"
   ]
  },
  {
   "cell_type": "code",
   "execution_count": 12,
   "metadata": {
    "ExecuteTime": {
     "end_time": "2017-06-05T15:32:10.332274Z",
     "start_time": "2017-06-05T15:32:10.304048Z"
    },
    "collapsed": true
   },
   "outputs": [],
   "source": [
    "kfold = KFold(n_splits=10, shuffle=True, random_state=seed)"
   ]
  },
  {
   "cell_type": "code",
   "execution_count": 13,
   "metadata": {
    "ExecuteTime": {
     "end_time": "2017-06-05T15:32:10.366048Z",
     "start_time": "2017-06-05T15:32:10.333901Z"
    },
    "collapsed": true,
    "scrolled": true
   },
   "outputs": [],
   "source": [
    "if not os.path.exists('../data/deep_learning/multiclass_relu_probs.npy'):\n",
    "    probabilities = cross_val_predict(estimator, X, Y, cv=kfold, method='predict_proba')\n",
    "    np.save('../data/deep_learning/multiclass_relu_probs.npy', probabilities)\n",
    "else:\n",
    "    probabilities = np.load('../data/deep_learning/multiclass_relu_probs.npy')"
   ]
  },
  {
   "cell_type": "code",
   "execution_count": 14,
   "metadata": {
    "ExecuteTime": {
     "end_time": "2017-06-05T15:32:10.507130Z",
     "start_time": "2017-06-05T15:32:10.367510Z"
    },
    "collapsed": true
   },
   "outputs": [],
   "source": [
    "predicted = np.array([list(a).index(max(list(a))) for a in list(probabilities)])"
   ]
  },
  {
   "cell_type": "code",
   "execution_count": 15,
   "metadata": {
    "ExecuteTime": {
     "end_time": "2017-06-05T15:32:10.543894Z",
     "start_time": "2017-06-05T15:32:10.508777Z"
    },
    "collapsed": true
   },
   "outputs": [],
   "source": [
    "label_binarizer = preprocessing.LabelBinarizer()\n",
    "\n",
    "label_binarizer.fit(range(max(predicted)+1))\n",
    "predicted_transformed = label_binarizer.transform(predicted)"
   ]
  },
  {
   "cell_type": "code",
   "execution_count": 16,
   "metadata": {
    "ExecuteTime": {
     "end_time": "2017-06-05T15:32:10.589703Z",
     "start_time": "2017-06-05T15:32:10.545591Z"
    }
   },
   "outputs": [
    {
     "data": {
      "text/plain": [
       "0.80642915446295671"
      ]
     },
     "execution_count": 16,
     "metadata": {},
     "output_type": "execute_result"
    }
   ],
   "source": [
    "metrics.accuracy_score(Y, predicted_transformed)"
   ]
  },
  {
   "cell_type": "markdown",
   "metadata": {},
   "source": [
    "#### Classification report\n",
    "* 0 = ambiguous\n",
    "* 1 = fail\n",
    "* 2 = germline\n",
    "* 3 = somatic"
   ]
  },
  {
   "cell_type": "code",
   "execution_count": 17,
   "metadata": {
    "ExecuteTime": {
     "end_time": "2017-06-05T15:32:10.641031Z",
     "start_time": "2017-06-05T15:32:10.591292Z"
    }
   },
   "outputs": [
    {
     "name": "stdout",
     "output_type": "stream",
     "text": [
      "             precision    recall  f1-score   support\n",
      "\n",
      "          0       0.80      0.74      0.77     14589\n",
      "          1       0.56      0.47      0.51      1600\n",
      "          2       0.70      0.73      0.71      4309\n",
      "          3       0.85      0.89      0.87     21156\n",
      "\n",
      "avg / total       0.80      0.81      0.80     41654\n",
      "\n"
     ]
    }
   ],
   "source": [
    "print(metrics.classification_report(Y, predicted_transformed))"
   ]
  },
  {
   "cell_type": "code",
   "execution_count": 18,
   "metadata": {
    "ExecuteTime": {
     "end_time": "2017-06-05T15:32:10.971188Z",
     "start_time": "2017-06-05T15:32:10.642818Z"
    }
   },
   "outputs": [
    {
     "data": {
      "image/png": "[encoded data removed]",
      "text/plain": [
       "<matplotlib.figure.Figure at 0x1357cdef0>"
      ]
     },
     "metadata": {},
     "output_type": "display_data"
    }
   ],
   "source": [
    "n_classes = Y.shape[1]\n",
    "class_lookup = {0: 'Ambiguous', 1: 'Fail', 2: 'Germline', 3: 'Somatic'}\n",
    "fpr = dict()\n",
    "tpr = dict()\n",
    "roc_auc = dict()\n",
    "plt.title('Receiver Operating Characteristic')\n",
    "colors = cycle(['aqua', 'darkorange', 'cornflowerblue', 'deeppink'])\n",
    "for i, color in zip(range(n_classes), colors):\n",
    "    fpr[i], tpr[i], _ = metrics.roc_curve(Y[:, i], probabilities[:, i])\n",
    "    roc_auc[i] = metrics.auc(fpr[i], tpr[i])\n",
    "    plt.plot(fpr[i], tpr[i], color=color, label='ROC curve of class {0}'\n",
    "             ' (area = {1:0.2f})'.format(class_lookup[i], roc_auc[i]))\n",
    "plt.plot([0, 1], [0, 1], 'k--')\n",
    "plt.xlim([-0.01, 1.0])\n",
    "plt.ylim([0.0, 1.05])\n",
    "plt.xlabel('False Positive Rate')\n",
    "plt.ylabel('True Positive Rate')\n",
    "plt.legend(loc=\"lower right\")\n",
    "plt.show()"
   ]
  },
  {
   "cell_type": "code",
   "execution_count": 19,
   "metadata": {
    "ExecuteTime": {
     "end_time": "2017-06-05T15:32:11.503247Z",
     "start_time": "2017-06-05T15:32:10.973028Z"
    }
   },
   "outputs": [
    {
     "name": "stdout",
     "output_type": "stream",
     "text": [
      "confidence intervals +-:  [ 0.00040597  0.00343494  0.00447062  0.0064856   0.00769449  0.00790297\n",
      "  0.00789482  0.00704294  0.0049625   0.00168334]\n"
     ]
    },
    {
     "data": {
      "image/png": "[encoded data removed]",
      "text/plain": [
       "<matplotlib.figure.Figure at 0x12e8cad30>"
      ]
     },
     "metadata": {},
     "output_type": "display_data"
    }
   ],
   "source": [
    "create_reliability_diagram(probabilities, Y, \n",
    "                           ['Ambiguous','Fail','Germline', 'Somatic'], 'blue')"
   ]
  },
  {
   "cell_type": "markdown",
   "metadata": {},
   "source": [
    "## Feature importance analysis"
   ]
  },
  {
   "cell_type": "code",
   "execution_count": 20,
   "metadata": {
    "ExecuteTime": {
     "end_time": "2017-06-05T15:46:47.127441Z",
     "start_time": "2017-06-05T15:32:11.504972Z"
    },
    "scrolled": true
   },
   "outputs": [
    {
     "name": "stdout",
     "output_type": "stream",
     "text": [
      "Epoch 1/10\n",
      "41654/41654 [==============================] - 38s - loss: 0.6583 - acc: 0.7334    \n",
      "Epoch 2/10\n",
      "41654/41654 [==============================] - 39s - loss: 0.5449 - acc: 0.7886    \n",
      "Epoch 3/10\n",
      "41654/41654 [==============================] - 36s - loss: 0.5189 - acc: 0.7970    \n",
      "Epoch 4/10\n",
      "41654/41654 [==============================] - 36s - loss: 0.5059 - acc: 0.8030    \n",
      "Epoch 5/10\n",
      "41654/41654 [==============================] - 35s - loss: 0.4952 - acc: 0.8058    \n",
      "Epoch 6/10\n",
      "41654/41654 [==============================] - 35s - loss: 0.4887 - acc: 0.8076    \n",
      "Epoch 7/10\n",
      "41654/41654 [==============================] - 35s - loss: 0.4823 - acc: 0.8084    \n",
      "Epoch 8/10\n",
      "41654/41654 [==============================] - 35s - loss: 0.4783 - acc: 0.8109    \n",
      "Epoch 9/10\n",
      "41654/41654 [==============================] - 35s - loss: 0.4721 - acc: 0.8129    \n",
      "Epoch 10/10\n",
      "41654/41654 [==============================] - 36s - loss: 0.4696 - acc: 0.8137    \n",
      "41654/41654 [==============================] - 7s     \n",
      "41654/41654 [==============================] - 7s     \n"
     ]
    }
   ],
   "source": [
    "feature_metrics = determine_feature_importance(baseline_model(), X, Y)"
   ]
  },
  {
   "cell_type": "code",
   "execution_count": 21,
   "metadata": {
    "ExecuteTime": {
     "end_time": "2017-06-05T15:46:47.168024Z",
     "start_time": "2017-06-05T15:46:47.129380Z"
    }
   },
   "outputs": [
    {
     "data": {
      "text/html": [
       "<div>\n",
       "<table border=\"1\" class=\"dataframe\">\n",
       "  <thead>\n",
       "    <tr style=\"text-align: right;\">\n",
       "      <th></th>\n",
       "      <th>feature</th>\n",
       "      <th>shuffled_loss</th>\n",
       "      <th>shuffled_accuracy</th>\n",
       "      <th>delta_loss</th>\n",
       "      <th>delta_accuracy</th>\n",
       "    </tr>\n",
       "  </thead>\n",
       "  <tbody>\n",
       "    <tr>\n",
       "      <th>0</th>\n",
       "      <td>disease</td>\n",
       "      <td>1.015848</td>\n",
       "      <td>0.627815</td>\n",
       "      <td>-0.535230</td>\n",
       "      <td>0.176718</td>\n",
       "    </tr>\n",
       "    <tr>\n",
       "      <th>1</th>\n",
       "      <td>reviewer</td>\n",
       "      <td>0.739476</td>\n",
       "      <td>0.697004</td>\n",
       "      <td>-0.258858</td>\n",
       "      <td>0.107529</td>\n",
       "    </tr>\n",
       "    <tr>\n",
       "      <th>31</th>\n",
       "      <td>tumor_VAF</td>\n",
       "      <td>0.702737</td>\n",
       "      <td>0.717386</td>\n",
       "      <td>-0.222119</td>\n",
       "      <td>0.087146</td>\n",
       "    </tr>\n",
       "    <tr>\n",
       "      <th>51</th>\n",
       "      <td>tumor_var_avg_mapping_quality</td>\n",
       "      <td>0.680393</td>\n",
       "      <td>0.723316</td>\n",
       "      <td>-0.199776</td>\n",
       "      <td>0.081217</td>\n",
       "    </tr>\n",
       "    <tr>\n",
       "      <th>48</th>\n",
       "      <td>tumor_var_avg_clipped_length</td>\n",
       "      <td>0.578110</td>\n",
       "      <td>0.758727</td>\n",
       "      <td>-0.097492</td>\n",
       "      <td>0.045806</td>\n",
       "    </tr>\n",
       "    <tr>\n",
       "      <th>54</th>\n",
       "      <td>tumor_var_avg_se_mapping_quality</td>\n",
       "      <td>0.534804</td>\n",
       "      <td>0.770970</td>\n",
       "      <td>-0.054186</td>\n",
       "      <td>0.033562</td>\n",
       "    </tr>\n",
       "    <tr>\n",
       "      <th>47</th>\n",
       "      <td>tumor_var_avg_basequality</td>\n",
       "      <td>0.603677</td>\n",
       "      <td>0.772843</td>\n",
       "      <td>-0.123059</td>\n",
       "      <td>0.031690</td>\n",
       "    </tr>\n",
       "    <tr>\n",
       "      <th>49</th>\n",
       "      <td>tumor_var_avg_distance_to_effective_3p_end</td>\n",
       "      <td>0.526829</td>\n",
       "      <td>0.781197</td>\n",
       "      <td>-0.046211</td>\n",
       "      <td>0.023335</td>\n",
       "    </tr>\n",
       "    <tr>\n",
       "      <th>55</th>\n",
       "      <td>tumor_var_avg_sum_mismatch_qualities</td>\n",
       "      <td>0.548038</td>\n",
       "      <td>0.781438</td>\n",
       "      <td>-0.067420</td>\n",
       "      <td>0.023095</td>\n",
       "    </tr>\n",
       "    <tr>\n",
       "      <th>2</th>\n",
       "      <td>normal_VAF</td>\n",
       "      <td>0.524731</td>\n",
       "      <td>0.791209</td>\n",
       "      <td>-0.044114</td>\n",
       "      <td>0.013324</td>\n",
       "    </tr>\n",
       "    <tr>\n",
       "      <th>18</th>\n",
       "      <td>normal_var_avg_basequality</td>\n",
       "      <td>0.509257</td>\n",
       "      <td>0.791401</td>\n",
       "      <td>-0.028639</td>\n",
       "      <td>0.013132</td>\n",
       "    </tr>\n",
       "    <tr>\n",
       "      <th>53</th>\n",
       "      <td>tumor_var_avg_pos_as_fraction</td>\n",
       "      <td>0.503195</td>\n",
       "      <td>0.794281</td>\n",
       "      <td>-0.022577</td>\n",
       "      <td>0.010251</td>\n",
       "    </tr>\n",
       "    <tr>\n",
       "      <th>19</th>\n",
       "      <td>normal_var_avg_clipped_length</td>\n",
       "      <td>0.498523</td>\n",
       "      <td>0.795050</td>\n",
       "      <td>-0.017905</td>\n",
       "      <td>0.009483</td>\n",
       "    </tr>\n",
       "    <tr>\n",
       "      <th>24</th>\n",
       "      <td>normal_var_avg_pos_as_fraction</td>\n",
       "      <td>0.493454</td>\n",
       "      <td>0.797018</td>\n",
       "      <td>-0.012836</td>\n",
       "      <td>0.007514</td>\n",
       "    </tr>\n",
       "    <tr>\n",
       "      <th>20</th>\n",
       "      <td>normal_var_avg_distance_to_effective_3p_end</td>\n",
       "      <td>0.492844</td>\n",
       "      <td>0.797618</td>\n",
       "      <td>-0.012226</td>\n",
       "      <td>0.006914</td>\n",
       "    </tr>\n",
       "  </tbody>\n",
       "</table>\n",
       "</div>"
      ],
      "text/plain": [
       "                                        feature  shuffled_loss  \\\n",
       "0                                       disease       1.015848   \n",
       "1                                      reviewer       0.739476   \n",
       "31                                    tumor_VAF       0.702737   \n",
       "51                tumor_var_avg_mapping_quality       0.680393   \n",
       "48                 tumor_var_avg_clipped_length       0.578110   \n",
       "54             tumor_var_avg_se_mapping_quality       0.534804   \n",
       "47                    tumor_var_avg_basequality       0.603677   \n",
       "49   tumor_var_avg_distance_to_effective_3p_end       0.526829   \n",
       "55         tumor_var_avg_sum_mismatch_qualities       0.548038   \n",
       "2                                    normal_VAF       0.524731   \n",
       "18                   normal_var_avg_basequality       0.509257   \n",
       "53                tumor_var_avg_pos_as_fraction       0.503195   \n",
       "19                normal_var_avg_clipped_length       0.498523   \n",
       "24               normal_var_avg_pos_as_fraction       0.493454   \n",
       "20  normal_var_avg_distance_to_effective_3p_end       0.492844   \n",
       "\n",
       "    shuffled_accuracy  delta_loss  delta_accuracy  \n",
       "0            0.627815   -0.535230        0.176718  \n",
       "1            0.697004   -0.258858        0.107529  \n",
       "31           0.717386   -0.222119        0.087146  \n",
       "51           0.723316   -0.199776        0.081217  \n",
       "48           0.758727   -0.097492        0.045806  \n",
       "54           0.770970   -0.054186        0.033562  \n",
       "47           0.772843   -0.123059        0.031690  \n",
       "49           0.781197   -0.046211        0.023335  \n",
       "55           0.781438   -0.067420        0.023095  \n",
       "2            0.791209   -0.044114        0.013324  \n",
       "18           0.791401   -0.028639        0.013132  \n",
       "53           0.794281   -0.022577        0.010251  \n",
       "19           0.795050   -0.017905        0.009483  \n",
       "24           0.797018   -0.012836        0.007514  \n",
       "20           0.797618   -0.012226        0.006914  "
      ]
     },
     "execution_count": 21,
     "metadata": {},
     "output_type": "execute_result"
    }
   ],
   "source": [
    "feature_metrics.head(15)"
   ]
  },
  {
   "cell_type": "markdown",
   "metadata": {},
   "source": [
    "## Refactor to single class classifier \n",
    "Manual reviewer's calling variants germline is problematic as the callers that produced the calls are designed to call somatic variants. These germline calls are likely very poor quality and in most analysis streams get thrown out anyway. While 'ambigous' variant exist in a grey area where the reviewer is unsure whether to call the variant somatic or fail. All of these classes (germile, ambiguous, and fail) are treated the same in downstream analysis (thrown out)."
   ]
  },
  {
   "cell_type": "code",
   "execution_count": 22,
   "metadata": {
    "ExecuteTime": {
     "end_time": "2017-06-05T15:46:47.200698Z",
     "start_time": "2017-06-05T15:46:47.169670Z"
    }
   },
   "outputs": [
    {
     "data": {
      "text/plain": [
       "call\n",
       "a    14589\n",
       "f     1600\n",
       "g     4309\n",
       "s    21156\n",
       "dtype: int64"
      ]
     },
     "execution_count": 22,
     "metadata": {},
     "output_type": "execute_result"
    }
   ],
   "source": [
    "training_data.groupby('call').size()"
   ]
  },
  {
   "cell_type": "code",
   "execution_count": 23,
   "metadata": {
    "ExecuteTime": {
     "end_time": "2017-06-05T15:46:47.243557Z",
     "start_time": "2017-06-05T15:46:47.202283Z"
    },
    "collapsed": true
   },
   "outputs": [],
   "source": [
    "training_data['binary_call'] = training_data.call.replace(['a', 'f', 'g'], False)\n",
    "training_data['binary_call'] = training_data['binary_call'].replace('s', True)"
   ]
  },
  {
   "cell_type": "code",
   "execution_count": 24,
   "metadata": {
    "ExecuteTime": {
     "end_time": "2017-06-05T15:46:47.277776Z",
     "start_time": "2017-06-05T15:46:47.245515Z"
    }
   },
   "outputs": [
    {
     "data": {
      "text/plain": [
       "binary_call\n",
       "False    20498\n",
       "True     21156\n",
       "dtype: int64"
      ]
     },
     "execution_count": 24,
     "metadata": {},
     "output_type": "execute_result"
    }
   ],
   "source": [
    "training_data.groupby('binary_call').size()"
   ]
  },
  {
   "cell_type": "code",
   "execution_count": 25,
   "metadata": {
    "ExecuteTime": {
     "end_time": "2017-06-05T15:46:47.349573Z",
     "start_time": "2017-06-05T15:46:47.279549Z"
    },
    "collapsed": true
   },
   "outputs": [],
   "source": [
    "# Get Labels\n",
    "binary_Y = training_data.binary_call.astype(int).values\n",
    "# Get training data as numpy array\n",
    "X = training_data.drop(['call', 'binary_call'], axis=1).astype(float).values"
   ]
  },
  {
   "cell_type": "code",
   "execution_count": 26,
   "metadata": {
    "ExecuteTime": {
     "end_time": "2017-06-05T15:46:47.379971Z",
     "start_time": "2017-06-05T15:46:47.351340Z"
    }
   },
   "outputs": [
    {
     "data": {
      "text/plain": [
       "(41654, 71)"
      ]
     },
     "execution_count": 26,
     "metadata": {},
     "output_type": "execute_result"
    }
   ],
   "source": [
    "X.shape"
   ]
  },
  {
   "cell_type": "code",
   "execution_count": 27,
   "metadata": {
    "ExecuteTime": {
     "end_time": "2017-06-05T15:46:47.409191Z",
     "start_time": "2017-06-05T15:46:47.381681Z"
    }
   },
   "outputs": [
    {
     "data": {
      "text/plain": [
       "(41654,)"
      ]
     },
     "execution_count": 27,
     "metadata": {},
     "output_type": "execute_result"
    }
   ],
   "source": [
    "binary_Y.shape"
   ]
  },
  {
   "cell_type": "code",
   "execution_count": 28,
   "metadata": {
    "ExecuteTime": {
     "end_time": "2017-06-05T15:46:47.442907Z",
     "start_time": "2017-06-05T15:46:47.410881Z"
    },
    "collapsed": true
   },
   "outputs": [],
   "source": [
    "# define baseline model\n",
    "def baseline_binary_model():\n",
    "    # create model\n",
    "    model = Sequential()\n",
    "    model.add(Dense(67, input_dim=71, kernel_initializer='normal', activation='relu'))\n",
    "    model.add(Dense(23, activation='relu'))\n",
    "    model.add(Dense(23, activation='relu'))\n",
    "    model.add(Dense(2, kernel_initializer='normal', activation='sigmoid'))\n",
    "    # Compile model\n",
    "    model.compile(loss='categorical_crossentropy', optimizer='adam', metrics=['accuracy'])\n",
    "    return model"
   ]
  },
  {
   "cell_type": "code",
   "execution_count": 29,
   "metadata": {
    "ExecuteTime": {
     "end_time": "2017-06-05T15:46:47.471477Z",
     "start_time": "2017-06-05T15:46:47.444465Z"
    },
    "collapsed": true
   },
   "outputs": [],
   "source": [
    "binary_estimator = KerasClassifier(build_fn=baseline_binary_model, epochs=10, batch_size=5, verbose=1)"
   ]
  },
  {
   "cell_type": "code",
   "execution_count": 30,
   "metadata": {
    "ExecuteTime": {
     "end_time": "2017-06-05T15:46:47.503827Z",
     "start_time": "2017-06-05T15:46:47.473337Z"
    },
    "collapsed": true
   },
   "outputs": [],
   "source": [
    "binary_kfold = KFold(n_splits=10, shuffle=True, random_state=seed)"
   ]
  },
  {
   "cell_type": "code",
   "execution_count": 31,
   "metadata": {
    "ExecuteTime": {
     "end_time": "2017-06-05T15:46:47.537619Z",
     "start_time": "2017-06-05T15:46:47.505870Z"
    }
   },
   "outputs": [],
   "source": [
    "if not os.path.exists('../data/deep_learning/binary_relu_probs.npy'):\n",
    "    binary_probabilities = cross_val_predict(binary_estimator, X, binary_Y, cv=binary_kfold, method='predict_proba')\n",
    "    np.save('../data/deep_learning/binary_relu_probs.npy', binary_probabilities)\n",
    "else:\n",
    "    binary_probabilities = np.load('../data/deep_learning/binary_relu_probs.npy')"
   ]
  },
  {
   "cell_type": "code",
   "execution_count": 32,
   "metadata": {
    "ExecuteTime": {
     "end_time": "2017-06-05T15:46:47.663711Z",
     "start_time": "2017-06-05T15:46:47.539333Z"
    },
    "collapsed": true
   },
   "outputs": [],
   "source": [
    "predicted = np.array([list(a).index(max(list(a))) for a in list(binary_probabilities)])"
   ]
  },
  {
   "cell_type": "code",
   "execution_count": 33,
   "metadata": {
    "ExecuteTime": {
     "end_time": "2017-06-05T15:46:47.695396Z",
     "start_time": "2017-06-05T15:46:47.666039Z"
    }
   },
   "outputs": [
    {
     "data": {
      "text/plain": [
       "0.8684159984635329"
      ]
     },
     "execution_count": 33,
     "metadata": {},
     "output_type": "execute_result"
    }
   ],
   "source": [
    "metrics.accuracy_score(binary_Y, predicted)"
   ]
  },
  {
   "cell_type": "code",
   "execution_count": 34,
   "metadata": {
    "ExecuteTime": {
     "end_time": "2017-06-05T15:46:47.731210Z",
     "start_time": "2017-06-05T15:46:47.697058Z"
    }
   },
   "outputs": [
    {
     "name": "stdout",
     "output_type": "stream",
     "text": [
      "             precision    recall  f1-score   support\n",
      "\n",
      "          0       0.87      0.86      0.87     20498\n",
      "          1       0.87      0.88      0.87     21156\n",
      "\n",
      "avg / total       0.87      0.87      0.87     41654\n",
      "\n"
     ]
    }
   ],
   "source": [
    "print(metrics.classification_report(binary_Y, predicted))"
   ]
  },
  {
   "cell_type": "code",
   "execution_count": 35,
   "metadata": {
    "ExecuteTime": {
     "end_time": "2017-06-05T15:46:47.759767Z",
     "start_time": "2017-06-05T15:46:47.733008Z"
    },
    "collapsed": true
   },
   "outputs": [],
   "source": [
    "somatic_prob = binary_probabilities[:,1]"
   ]
  },
  {
   "cell_type": "code",
   "execution_count": 36,
   "metadata": {
    "ExecuteTime": {
     "end_time": "2017-06-05T15:46:47.976804Z",
     "start_time": "2017-06-05T15:46:47.761399Z"
    }
   },
   "outputs": [
    {
     "data": {
      "image/png": "[encoded data removed]",
      "text/plain": [
       "<matplotlib.figure.Figure at 0x1356e8ba8>"
      ]
     },
     "metadata": {},
     "output_type": "display_data"
    }
   ],
   "source": [
    "plt.title('Receiver Operating Characteristic')\n",
    "fpr, tpr, _ = metrics.roc_curve(binary_Y, somatic_prob)\n",
    "roc_auc = metrics.auc(fpr, tpr)\n",
    "plt.plot(fpr, tpr, color='cornflowerblue',label='ROC curve of somatic call'\n",
    "         ' (area = {0:0.2f})'.format(roc_auc))\n",
    "plt.plot([0, 1], [0, 1], 'k--')\n",
    "plt.xlim([-0.01, 1.0])\n",
    "plt.ylim([0.0, 1.01])\n",
    "plt.xlabel('False Positive Rate')\n",
    "plt.ylabel('True Positive Rate')\n",
    "plt.legend(loc=\"lower right\")\n",
    "plt.show()"
   ]
  },
  {
   "cell_type": "code",
   "execution_count": 37,
   "metadata": {
    "ExecuteTime": {
     "end_time": "2017-06-05T15:46:48.338383Z",
     "start_time": "2017-06-05T15:46:47.978573Z"
    }
   },
   "outputs": [
    {
     "name": "stdout",
     "output_type": "stream",
     "text": [
      "confidence intervals +-:  [ 0.00114263  0.00458546  0.00605786  0.00837481  0.00915538  0.01047418\n",
      "  0.01036666  0.00957446  0.00714201  0.00143816]\n"
     ]
    },
    {
     "data": {
      "image/png": "[encoded data removed]",
      "text/plain": [
       "<matplotlib.figure.Figure at 0x1356e8710>"
      ]
     },
     "metadata": {},
     "output_type": "display_data"
    }
   ],
   "source": [
    "create_reliability_diagram(binary_probabilities, np.array([np.logical_not(binary_Y),binary_Y]).T,['Fail', 'Somatic'], 'blue')"
   ]
  },
  {
   "cell_type": "markdown",
   "metadata": {},
   "source": [
    "## Feature importance analysis"
   ]
  },
  {
   "cell_type": "code",
   "execution_count": 38,
   "metadata": {
    "ExecuteTime": {
     "end_time": "2017-06-05T16:01:14.319954Z",
     "start_time": "2017-06-05T15:46:48.340117Z"
    },
    "scrolled": true
   },
   "outputs": [
    {
     "name": "stdout",
     "output_type": "stream",
     "text": [
      "Epoch 1/10\n",
      "41654/41654 [==============================] - 33s - loss: 0.4084 - acc: 0.8227    \n",
      "Epoch 2/10\n",
      "41654/41654 [==============================] - 33s - loss: 0.3511 - acc: 0.8532    \n",
      "Epoch 3/10\n",
      "41654/41654 [==============================] - 35s - loss: 0.3339 - acc: 0.8613    \n",
      "Epoch 4/10\n",
      "41654/41654 [==============================] - ETA: 0s - loss: 0.3261 - acc: 0.864 - 36s - loss: 0.3263 - acc: 0.8649    \n",
      "Epoch 5/10\n",
      "41654/41654 [==============================] - 36s - loss: 0.3193 - acc: 0.8674    \n",
      "Epoch 6/10\n",
      "41654/41654 [==============================] - 36s - loss: 0.3147 - acc: 0.8681    \n",
      "Epoch 7/10\n",
      "41654/41654 [==============================] - 34s - loss: 0.3109 - acc: 0.8704    \n",
      "Epoch 8/10\n",
      "41654/41654 [==============================] - 33s - loss: 0.3060 - acc: 0.8722    \n",
      "Epoch 9/10\n",
      "41654/41654 [==============================] - 33s - loss: 0.3035 - acc: 0.8732    \n",
      "Epoch 10/10\n",
      "41654/41654 [==============================] - 33s - loss: 0.3005 - acc: 0.8745    \n",
      "41654/41654 [==============================] - 7s     \n",
      "41520/41654 [============================>.] - ETA: 0s"
     ]
    }
   ],
   "source": [
    "feature_metrics = determine_feature_importance(baseline_binary_model(), X, np.array([np.logical_not(binary_Y),binary_Y]).T)"
   ]
  },
  {
   "cell_type": "code",
   "execution_count": 39,
   "metadata": {
    "ExecuteTime": {
     "end_time": "2017-06-05T16:01:14.360303Z",
     "start_time": "2017-06-05T16:01:14.321925Z"
    }
   },
   "outputs": [
    {
     "data": {
      "text/html": [
       "<div>\n",
       "<table border=\"1\" class=\"dataframe\">\n",
       "  <thead>\n",
       "    <tr style=\"text-align: right;\">\n",
       "      <th></th>\n",
       "      <th>feature</th>\n",
       "      <th>shuffled_loss</th>\n",
       "      <th>shuffled_accuracy</th>\n",
       "      <th>delta_loss</th>\n",
       "      <th>delta_accuracy</th>\n",
       "    </tr>\n",
       "  </thead>\n",
       "  <tbody>\n",
       "    <tr>\n",
       "      <th>31</th>\n",
       "      <td>tumor_VAF</td>\n",
       "      <td>0.650099</td>\n",
       "      <td>0.756614</td>\n",
       "      <td>-0.344648</td>\n",
       "      <td>0.114947</td>\n",
       "    </tr>\n",
       "    <tr>\n",
       "      <th>0</th>\n",
       "      <td>disease</td>\n",
       "      <td>0.580268</td>\n",
       "      <td>0.757718</td>\n",
       "      <td>-0.274816</td>\n",
       "      <td>0.113843</td>\n",
       "    </tr>\n",
       "    <tr>\n",
       "      <th>1</th>\n",
       "      <td>reviewer</td>\n",
       "      <td>0.541300</td>\n",
       "      <td>0.787920</td>\n",
       "      <td>-0.235849</td>\n",
       "      <td>0.083641</td>\n",
       "    </tr>\n",
       "    <tr>\n",
       "      <th>48</th>\n",
       "      <td>tumor_var_avg_clipped_length</td>\n",
       "      <td>0.421468</td>\n",
       "      <td>0.814952</td>\n",
       "      <td>-0.116017</td>\n",
       "      <td>0.056609</td>\n",
       "    </tr>\n",
       "    <tr>\n",
       "      <th>51</th>\n",
       "      <td>tumor_var_avg_mapping_quality</td>\n",
       "      <td>0.446473</td>\n",
       "      <td>0.817160</td>\n",
       "      <td>-0.141022</td>\n",
       "      <td>0.054401</td>\n",
       "    </tr>\n",
       "    <tr>\n",
       "      <th>47</th>\n",
       "      <td>tumor_var_avg_basequality</td>\n",
       "      <td>0.371773</td>\n",
       "      <td>0.837639</td>\n",
       "      <td>-0.066321</td>\n",
       "      <td>0.033922</td>\n",
       "    </tr>\n",
       "    <tr>\n",
       "      <th>49</th>\n",
       "      <td>tumor_var_avg_distance_to_effective_3p_end</td>\n",
       "      <td>0.359545</td>\n",
       "      <td>0.852211</td>\n",
       "      <td>-0.054093</td>\n",
       "      <td>0.019350</td>\n",
       "    </tr>\n",
       "    <tr>\n",
       "      <th>55</th>\n",
       "      <td>tumor_var_avg_sum_mismatch_qualities</td>\n",
       "      <td>0.347787</td>\n",
       "      <td>0.852307</td>\n",
       "      <td>-0.042335</td>\n",
       "      <td>0.019254</td>\n",
       "    </tr>\n",
       "    <tr>\n",
       "      <th>2</th>\n",
       "      <td>normal_VAF</td>\n",
       "      <td>0.348813</td>\n",
       "      <td>0.859533</td>\n",
       "      <td>-0.043362</td>\n",
       "      <td>0.012028</td>\n",
       "    </tr>\n",
       "    <tr>\n",
       "      <th>39</th>\n",
       "      <td>tumor_ref_avg_num_mismaches_as_fraction</td>\n",
       "      <td>0.320667</td>\n",
       "      <td>0.865007</td>\n",
       "      <td>-0.015215</td>\n",
       "      <td>0.006554</td>\n",
       "    </tr>\n",
       "    <tr>\n",
       "      <th>54</th>\n",
       "      <td>tumor_var_avg_se_mapping_quality</td>\n",
       "      <td>0.319356</td>\n",
       "      <td>0.865247</td>\n",
       "      <td>-0.013905</td>\n",
       "      <td>0.006314</td>\n",
       "    </tr>\n",
       "    <tr>\n",
       "      <th>50</th>\n",
       "      <td>tumor_var_avg_distance_to_q2_start_in_q2_reads</td>\n",
       "      <td>0.321677</td>\n",
       "      <td>0.865823</td>\n",
       "      <td>-0.016225</td>\n",
       "      <td>0.005738</td>\n",
       "    </tr>\n",
       "    <tr>\n",
       "      <th>18</th>\n",
       "      <td>normal_var_avg_basequality</td>\n",
       "      <td>0.318450</td>\n",
       "      <td>0.866447</td>\n",
       "      <td>-0.012999</td>\n",
       "      <td>0.005114</td>\n",
       "    </tr>\n",
       "    <tr>\n",
       "      <th>52</th>\n",
       "      <td>tumor_var_avg_num_mismaches_as_fraction</td>\n",
       "      <td>0.315431</td>\n",
       "      <td>0.866735</td>\n",
       "      <td>-0.009979</td>\n",
       "      <td>0.004825</td>\n",
       "    </tr>\n",
       "    <tr>\n",
       "      <th>53</th>\n",
       "      <td>tumor_var_avg_pos_as_fraction</td>\n",
       "      <td>0.315785</td>\n",
       "      <td>0.866952</td>\n",
       "      <td>-0.010333</td>\n",
       "      <td>0.004609</td>\n",
       "    </tr>\n",
       "  </tbody>\n",
       "</table>\n",
       "</div>"
      ],
      "text/plain": [
       "                                           feature  shuffled_loss  \\\n",
       "31                                       tumor_VAF       0.650099   \n",
       "0                                          disease       0.580268   \n",
       "1                                         reviewer       0.541300   \n",
       "48                    tumor_var_avg_clipped_length       0.421468   \n",
       "51                   tumor_var_avg_mapping_quality       0.446473   \n",
       "47                       tumor_var_avg_basequality       0.371773   \n",
       "49      tumor_var_avg_distance_to_effective_3p_end       0.359545   \n",
       "55            tumor_var_avg_sum_mismatch_qualities       0.347787   \n",
       "2                                       normal_VAF       0.348813   \n",
       "39         tumor_ref_avg_num_mismaches_as_fraction       0.320667   \n",
       "54                tumor_var_avg_se_mapping_quality       0.319356   \n",
       "50  tumor_var_avg_distance_to_q2_start_in_q2_reads       0.321677   \n",
       "18                      normal_var_avg_basequality       0.318450   \n",
       "52         tumor_var_avg_num_mismaches_as_fraction       0.315431   \n",
       "53                   tumor_var_avg_pos_as_fraction       0.315785   \n",
       "\n",
       "    shuffled_accuracy  delta_loss  delta_accuracy  \n",
       "31           0.756614   -0.344648        0.114947  \n",
       "0            0.757718   -0.274816        0.113843  \n",
       "1            0.787920   -0.235849        0.083641  \n",
       "48           0.814952   -0.116017        0.056609  \n",
       "51           0.817160   -0.141022        0.054401  \n",
       "47           0.837639   -0.066321        0.033922  \n",
       "49           0.852211   -0.054093        0.019350  \n",
       "55           0.852307   -0.042335        0.019254  \n",
       "2            0.859533   -0.043362        0.012028  \n",
       "39           0.865007   -0.015215        0.006554  \n",
       "54           0.865247   -0.013905        0.006314  \n",
       "50           0.865823   -0.016225        0.005738  \n",
       "18           0.866447   -0.012999        0.005114  \n",
       "52           0.866735   -0.009979        0.004825  \n",
       "53           0.866952   -0.010333        0.004609  "
      ]
     },
     "execution_count": 39,
     "metadata": {},
     "output_type": "execute_result"
    }
   ],
   "source": [
    "feature_metrics.head(15)"
   ]
  },
  {
   "cell_type": "markdown",
   "metadata": {},
   "source": [
    "## Elu activation function"
   ]
  },
  {
   "cell_type": "code",
   "execution_count": 40,
   "metadata": {
    "ExecuteTime": {
     "end_time": "2017-06-05T16:01:14.396569Z",
     "start_time": "2017-06-05T16:01:14.361899Z"
    },
    "collapsed": true
   },
   "outputs": [],
   "source": [
    "# define baseline model\n",
    "def baseline_binary_model():\n",
    "    # create model\n",
    "    model = Sequential()\n",
    "    model.add(Dense(67, input_dim=71, kernel_initializer='normal', activation='elu'))\n",
    "    model.add(Dense(23, activation='elu'))\n",
    "    model.add(Dense(23, activation='elu'))\n",
    "    model.add(Dense(2, kernel_initializer='normal', activation='sigmoid'))\n",
    "    # Compile model\n",
    "    model.compile(loss='categorical_crossentropy', optimizer='adam', metrics=['accuracy'])\n",
    "    return model"
   ]
  },
  {
   "cell_type": "code",
   "execution_count": 41,
   "metadata": {
    "ExecuteTime": {
     "end_time": "2017-06-05T16:01:14.427776Z",
     "start_time": "2017-06-05T16:01:14.398512Z"
    },
    "collapsed": true
   },
   "outputs": [],
   "source": [
    "binary_estimator = KerasClassifier(build_fn=baseline_binary_model, epochs=10, batch_size=5, verbose=1)"
   ]
  },
  {
   "cell_type": "code",
   "execution_count": 42,
   "metadata": {
    "ExecuteTime": {
     "end_time": "2017-06-05T16:01:14.459467Z",
     "start_time": "2017-06-05T16:01:14.429528Z"
    },
    "collapsed": true
   },
   "outputs": [],
   "source": [
    "binary_kfold = KFold(n_splits=10, shuffle=True, random_state=seed)"
   ]
  },
  {
   "cell_type": "code",
   "execution_count": 43,
   "metadata": {
    "ExecuteTime": {
     "end_time": "2017-06-05T16:54:23.354575Z",
     "start_time": "2017-06-05T16:01:14.461014Z"
    },
    "scrolled": true
   },
   "outputs": [
    {
     "name": "stdout",
     "output_type": "stream",
     "text": [
      "Epoch 1/10\n",
      "37488/37488 [==============================] - 32s - loss: 0.4356 - acc: 0.8067    \n",
      "Epoch 2/10\n",
      "37488/37488 [==============================] - 34s - loss: 0.3765 - acc: 0.8384    \n",
      "Epoch 3/10\n",
      "37488/37488 [==============================] - 31s - loss: 0.3591 - acc: 0.8484    \n",
      "Epoch 4/10\n",
      "37488/37488 [==============================] - 32s - loss: 0.3486 - acc: 0.8527    \n",
      "Epoch 5/10\n",
      "37488/37488 [==============================] - 31s - loss: 0.3406 - acc: 0.8571    \n",
      "Epoch 6/10\n",
      "37488/37488 [==============================] - 32s - loss: 0.3344 - acc: 0.8582    \n",
      "Epoch 7/10\n",
      "37488/37488 [==============================] - 32s - loss: 0.3302 - acc: 0.8603    \n",
      "Epoch 8/10\n",
      "37488/37488 [==============================] - 30s - loss: 0.3258 - acc: 0.8619    \n",
      "Epoch 9/10\n",
      "37488/37488 [==============================] - 31s - loss: 0.3221 - acc: 0.8638    \n",
      "Epoch 10/10\n",
      "37488/37488 [==============================] - 29s - loss: 0.3180 - acc: 0.8652    \n",
      "4165/4166 [============================>.] - ETA: 0sEpoch 1/10\n",
      "37488/37488 [==============================] - 30s - loss: 0.4394 - acc: 0.8069    \n",
      "Epoch 2/10\n",
      "37488/37488 [==============================] - 33s - loss: 0.3714 - acc: 0.8435    \n",
      "Epoch 3/10\n",
      "37488/37488 [==============================] - 37s - loss: 0.3571 - acc: 0.8514    \n",
      "Epoch 4/10\n",
      "37488/37488 [==============================] - 36s - loss: 0.3456 - acc: 0.8544    \n",
      "Epoch 5/10\n",
      "37488/37488 [==============================] - 35s - loss: 0.3374 - acc: 0.8568    \n",
      "Epoch 6/10\n",
      "37488/37488 [==============================] - 34s - loss: 0.3313 - acc: 0.8590    \n",
      "Epoch 7/10\n",
      "37488/37488 [==============================] - 31s - loss: 0.3270 - acc: 0.8612    \n",
      "Epoch 8/10\n",
      "37488/37488 [==============================] - 31s - loss: 0.3224 - acc: 0.8626    \n",
      "Epoch 9/10\n",
      "37488/37488 [==============================] - 31s - loss: 0.3168 - acc: 0.8664    \n",
      "Epoch 10/10\n",
      "37488/37488 [==============================] - 32s - loss: 0.3136 - acc: 0.8678    \n",
      "3980/4166 [===========================>..] - ETA: 0sEpoch 1/10\n",
      "37488/37488 [==============================] - 33s - loss: 0.4350 - acc: 0.8078    \n",
      "Epoch 2/10\n",
      "37488/37488 [==============================] - 34s - loss: 0.3729 - acc: 0.8405    \n",
      "Epoch 3/10\n",
      "37488/37488 [==============================] - 33s - loss: 0.3539 - acc: 0.8513    \n",
      "Epoch 4/10\n",
      "37488/37488 [==============================] - 37s - loss: 0.3455 - acc: 0.8548    \n",
      "Epoch 5/10\n",
      "37488/37488 [==============================] - 31s - loss: 0.3389 - acc: 0.8582    \n",
      "Epoch 6/10\n",
      "37488/37488 [==============================] - 31s - loss: 0.3326 - acc: 0.8610    \n",
      "Epoch 7/10\n",
      "37488/37488 [==============================] - 33s - loss: 0.3276 - acc: 0.8637    \n",
      "Epoch 8/10\n",
      "37488/37488 [==============================] - 38s - loss: 0.3218 - acc: 0.8642    \n",
      "Epoch 9/10\n",
      "37488/37488 [==============================] - 35s - loss: 0.3169 - acc: 0.8670    \n",
      "Epoch 10/10\n",
      "37488/37488 [==============================] - 38s - loss: 0.3145 - acc: 0.8671    \n",
      "4010/4166 [===========================>..] - ETA: 0sEpoch 1/10\n",
      "37488/37488 [==============================] - 31s - loss: 0.4397 - acc: 0.8036    \n",
      "Epoch 2/10\n",
      "37488/37488 [==============================] - 31s - loss: 0.3806 - acc: 0.8359    \n",
      "Epoch 3/10\n",
      "37488/37488 [==============================] - 30s - loss: 0.3604 - acc: 0.8460    \n",
      "Epoch 4/10\n",
      "37488/37488 [==============================] - 31s - loss: 0.3502 - acc: 0.8522    \n",
      "Epoch 5/10\n",
      "37488/37488 [==============================] - 31s - loss: 0.3414 - acc: 0.8563    \n",
      "Epoch 6/10\n",
      "37488/37488 [==============================] - 31s - loss: 0.3342 - acc: 0.8593    \n",
      "Epoch 7/10\n",
      "37488/37488 [==============================] - 31s - loss: 0.3291 - acc: 0.8617    \n",
      "Epoch 8/10\n",
      "37488/37488 [==============================] - 31s - loss: 0.3223 - acc: 0.8640    \n",
      "Epoch 9/10\n",
      "37488/37488 [==============================] - 31s - loss: 0.3178 - acc: 0.8654    \n",
      "Epoch 10/10\n",
      "37488/37488 [==============================] - 34s - loss: 0.3148 - acc: 0.8666    \n",
      "4065/4166 [============================>.] - ETA: 0sEpoch 1/10\n",
      "37489/37489 [==============================] - 30s - loss: 0.4393 - acc: 0.8048    \n",
      "Epoch 2/10\n",
      "37489/37489 [==============================] - 32s - loss: 0.3746 - acc: 0.8385    \n",
      "Epoch 3/10\n",
      "37489/37489 [==============================] - 32s - loss: 0.3561 - acc: 0.8476    \n",
      "Epoch 4/10\n",
      "37489/37489 [==============================] - 32s - loss: 0.3472 - acc: 0.8533    \n",
      "Epoch 5/10\n",
      "37489/37489 [==============================] - 29s - loss: 0.3406 - acc: 0.8551    \n",
      "Epoch 6/10\n",
      "37489/37489 [==============================] - 30s - loss: 0.3351 - acc: 0.8559    \n",
      "Epoch 7/10\n",
      "37489/37489 [==============================] - 30s - loss: 0.3288 - acc: 0.8618    \n",
      "Epoch 8/10\n",
      "37489/37489 [==============================] - 30s - loss: 0.3250 - acc: 0.8612    \n",
      "Epoch 9/10\n",
      "37489/37489 [==============================] - 29s - loss: 0.3197 - acc: 0.8636    \n",
      "Epoch 10/10\n",
      "37489/37489 [==============================] - 30s - loss: 0.3152 - acc: 0.8666    \n",
      "4115/4165 [============================>.] - ETA: 0sEpoch 1/10\n",
      "37489/37489 [==============================] - 29s - loss: 0.4379 - acc: 0.8066    \n",
      "Epoch 2/10\n",
      "37489/37489 [==============================] - 30s - loss: 0.3742 - acc: 0.8401    \n",
      "Epoch 3/10\n",
      "37489/37489 [==============================] - 29s - loss: 0.3589 - acc: 0.8464    \n",
      "Epoch 4/10\n",
      "37489/37489 [==============================] - 30s - loss: 0.3499 - acc: 0.8520    \n",
      "Epoch 5/10\n",
      "37489/37489 [==============================] - 29s - loss: 0.3418 - acc: 0.8563    \n",
      "Epoch 6/10\n",
      "37489/37489 [==============================] - 30s - loss: 0.3354 - acc: 0.8585    \n",
      "Epoch 7/10\n",
      "37489/37489 [==============================] - 29s - loss: 0.3290 - acc: 0.8613    \n",
      "Epoch 8/10\n",
      "37489/37489 [==============================] - 30s - loss: 0.3219 - acc: 0.8639    \n",
      "Epoch 9/10\n",
      "37489/37489 [==============================] - 29s - loss: 0.3181 - acc: 0.8650    \n",
      "Epoch 10/10\n",
      "37489/37489 [==============================] - 29s - loss: 0.3139 - acc: 0.8667    \n",
      "3895/4165 [===========================>..] - ETA: 0sEpoch 1/10\n",
      "37489/37489 [==============================] - 29s - loss: 0.4361 - acc: 0.8066    \n",
      "Epoch 2/10\n",
      "37489/37489 [==============================] - 29s - loss: 0.3748 - acc: 0.8399    \n",
      "Epoch 3/10\n",
      "37489/37489 [==============================] - 29s - loss: 0.3578 - acc: 0.8478    \n",
      "Epoch 4/10\n",
      "37489/37489 [==============================] - 30s - loss: 0.3484 - acc: 0.8536    \n",
      "Epoch 5/10\n",
      "37489/37489 [==============================] - 29s - loss: 0.3411 - acc: 0.8561    \n",
      "Epoch 6/10\n",
      "37489/37489 [==============================] - 30s - loss: 0.3357 - acc: 0.8588    \n",
      "Epoch 7/10\n",
      "37489/37489 [==============================] - 30s - loss: 0.3285 - acc: 0.8611    \n",
      "Epoch 8/10\n",
      "37489/37489 [==============================] - 30s - loss: 0.3250 - acc: 0.8624    \n",
      "Epoch 9/10\n",
      "37489/37489 [==============================] - 29s - loss: 0.3207 - acc: 0.8639    \n",
      "Epoch 10/10\n",
      "37489/37489 [==============================] - 31s - loss: 0.3162 - acc: 0.8663    \n",
      "3860/4165 [==========================>...] - ETA: 0sEpoch 1/10\n",
      "37489/37489 [==============================] - 32s - loss: 0.4367 - acc: 0.8063    \n",
      "Epoch 2/10\n",
      "37489/37489 [==============================] - 30s - loss: 0.3700 - acc: 0.8428    \n",
      "Epoch 3/10\n",
      "37489/37489 [==============================] - 31s - loss: 0.3562 - acc: 0.8492    \n",
      "Epoch 4/10\n",
      "37489/37489 [==============================] - 30s - loss: 0.3462 - acc: 0.8539    \n",
      "Epoch 5/10\n",
      "37489/37489 [==============================] - 35s - loss: 0.3412 - acc: 0.8554    \n",
      "Epoch 6/10\n",
      "37489/37489 [==============================] - 30s - loss: 0.3328 - acc: 0.8609    \n",
      "Epoch 7/10\n",
      "37489/37489 [==============================] - 30s - loss: 0.3280 - acc: 0.8633    \n",
      "Epoch 8/10\n",
      "37489/37489 [==============================] - 30s - loss: 0.3223 - acc: 0.8629    \n",
      "Epoch 9/10\n",
      "37489/37489 [==============================] - 31s - loss: 0.3177 - acc: 0.8652    \n",
      "Epoch 10/10\n",
      "37489/37489 [==============================] - 30s - loss: 0.3139 - acc: 0.8669    \n",
      "4015/4165 [===========================>..] - ETA: 0sEpoch 1/10\n",
      "37489/37489 [==============================] - 31s - loss: 0.4319 - acc: 0.8102    \n",
      "Epoch 2/10\n"
     ]
    },
    {
     "name": "stdout",
     "output_type": "stream",
     "text": [
      "37489/37489 [==============================] - 28s - loss: 0.3733 - acc: 0.8407    \n",
      "Epoch 3/10\n",
      "37489/37489 [==============================] - 29s - loss: 0.3580 - acc: 0.8481    \n",
      "Epoch 4/10\n",
      "37489/37489 [==============================] - 28s - loss: 0.3482 - acc: 0.8514    \n",
      "Epoch 5/10\n",
      "37489/37489 [==============================] - 29s - loss: 0.3391 - acc: 0.8577    \n",
      "Epoch 6/10\n",
      "37489/37489 [==============================] - 29s - loss: 0.3322 - acc: 0.8600    \n",
      "Epoch 7/10\n",
      "37489/37489 [==============================] - 32s - loss: 0.3258 - acc: 0.8624    \n",
      "Epoch 8/10\n",
      "37489/37489 [==============================] - 34s - loss: 0.3217 - acc: 0.8642    \n",
      "Epoch 9/10\n",
      "37489/37489 [==============================] - 30s - loss: 0.3173 - acc: 0.8655    \n",
      "Epoch 10/10\n",
      "37489/37489 [==============================] - 29s - loss: 0.3131 - acc: 0.8685    \n",
      "3835/4165 [==========================>...] - ETA: 0sEpoch 1/10\n",
      "37489/37489 [==============================] - 30s - loss: 0.4305 - acc: 0.8082    \n",
      "Epoch 2/10\n",
      "37489/37489 [==============================] - 30s - loss: 0.3695 - acc: 0.8421    \n",
      "Epoch 3/10\n",
      "37489/37489 [==============================] - 29s - loss: 0.3557 - acc: 0.8499    \n",
      "Epoch 4/10\n",
      "37489/37489 [==============================] - 37s - loss: 0.3452 - acc: 0.8550    \n",
      "Epoch 5/10\n",
      "37489/37489 [==============================] - 35s - loss: 0.3351 - acc: 0.8584    \n",
      "Epoch 6/10\n",
      "37489/37489 [==============================] - 36s - loss: 0.3275 - acc: 0.8624    \n",
      "Epoch 7/10\n",
      "37489/37489 [==============================] - 31s - loss: 0.3212 - acc: 0.8639    \n",
      "Epoch 8/10\n",
      "37489/37489 [==============================] - 34s - loss: 0.3180 - acc: 0.8661    \n",
      "Epoch 9/10\n",
      "37489/37489 [==============================] - 34s - loss: 0.3140 - acc: 0.8680    \n",
      "Epoch 10/10\n",
      "37489/37489 [==============================] - 32s - loss: 0.3114 - acc: 0.8687    \n",
      "3970/4165 [===========================>..] - ETA: 0s"
     ]
    }
   ],
   "source": [
    "if not os.path.exists('../data/deep_learning/binary_elu_probs.npy'):\n",
    "    binary_probabilities = cross_val_predict(binary_estimator, X, binary_Y, cv=binary_kfold, method='predict_proba')\n",
    "    np.save('../data/deep_learning/binary_elu_probs.npy', binary_probabilities)\n",
    "else:\n",
    "    binary_probabilities = np.load('../data/deep_learning/binary_elu_probs.npy')"
   ]
  },
  {
   "cell_type": "code",
   "execution_count": 44,
   "metadata": {
    "ExecuteTime": {
     "end_time": "2017-06-05T16:54:23.491863Z",
     "start_time": "2017-06-05T16:54:23.355981Z"
    },
    "collapsed": true
   },
   "outputs": [],
   "source": [
    "predicted = np.array([list(a).index(max(list(a))) for a in list(binary_probabilities)])"
   ]
  },
  {
   "cell_type": "code",
   "execution_count": 45,
   "metadata": {
    "ExecuteTime": {
     "end_time": "2017-06-05T16:54:23.525692Z",
     "start_time": "2017-06-05T16:54:23.493847Z"
    }
   },
   "outputs": [
    {
     "data": {
      "text/plain": [
       "0.86419071397704905"
      ]
     },
     "execution_count": 45,
     "metadata": {},
     "output_type": "execute_result"
    }
   ],
   "source": [
    "metrics.accuracy_score(binary_Y, predicted)"
   ]
  },
  {
   "cell_type": "code",
   "execution_count": 46,
   "metadata": {
    "ExecuteTime": {
     "end_time": "2017-06-05T16:54:23.563795Z",
     "start_time": "2017-06-05T16:54:23.527285Z"
    }
   },
   "outputs": [
    {
     "name": "stdout",
     "output_type": "stream",
     "text": [
      "             precision    recall  f1-score   support\n",
      "\n",
      "          0       0.86      0.86      0.86     20498\n",
      "          1       0.87      0.86      0.87     21156\n",
      "\n",
      "avg / total       0.86      0.86      0.86     41654\n",
      "\n"
     ]
    }
   ],
   "source": [
    "print(metrics.classification_report(binary_Y, predicted))"
   ]
  },
  {
   "cell_type": "code",
   "execution_count": 47,
   "metadata": {
    "ExecuteTime": {
     "end_time": "2017-06-05T16:54:23.594355Z",
     "start_time": "2017-06-05T16:54:23.565556Z"
    },
    "collapsed": true
   },
   "outputs": [],
   "source": [
    "somatic_prob = binary_probabilities[:,1]"
   ]
  },
  {
   "cell_type": "code",
   "execution_count": 48,
   "metadata": {
    "ExecuteTime": {
     "end_time": "2017-06-05T16:54:23.829267Z",
     "start_time": "2017-06-05T16:54:23.596259Z"
    }
   },
   "outputs": [
    {
     "data": {
      "image/png": "[encoded data removed]",
      "text/plain": [
       "<matplotlib.figure.Figure at 0x13d033518>"
      ]
     },
     "metadata": {},
     "output_type": "display_data"
    }
   ],
   "source": [
    "plt.title('Receiver Operating Characteristic')\n",
    "fpr, tpr, _ = metrics.roc_curve(binary_Y, somatic_prob)\n",
    "roc_auc = metrics.auc(fpr, tpr)\n",
    "plt.plot(fpr, tpr, color='cornflowerblue',label='ROC curve of somatic call'\n",
    "         ' (area = {0:0.2f})'.format(roc_auc))\n",
    "plt.plot([0, 1], [0, 1], 'k--')\n",
    "plt.xlim([-0.01, 1.0])\n",
    "plt.ylim([0.0, 1.01])\n",
    "plt.xlabel('False Positive Rate')\n",
    "plt.ylabel('True Positive Rate')\n",
    "plt.legend(loc=\"lower right\")\n",
    "plt.show()"
   ]
  },
  {
   "cell_type": "code",
   "execution_count": 49,
   "metadata": {
    "ExecuteTime": {
     "end_time": "2017-06-05T16:54:24.221836Z",
     "start_time": "2017-06-05T16:54:23.831080Z"
    }
   },
   "outputs": [
    {
     "name": "stdout",
     "output_type": "stream",
     "text": [
      "confidence intervals +-:  [ 0.00128496  0.00446677  0.00683209  0.00932325  0.0088213   0.00740925\n",
      "  0.00592803  0.00563814  0.00452751  0.00197963]\n"
     ]
    },
    {
     "data": {
      "image/png": "[encoded data removed]",
      "text/plain": [
       "<matplotlib.figure.Figure at 0x13cf11dd8>"
      ]
     },
     "metadata": {},
     "output_type": "display_data"
    }
   ],
   "source": [
    "\n",
    "create_reliability_diagram(binary_probabilities, np.array([np.logical_not(binary_Y),binary_Y]).T,['Fail', 'Somatic'], 'blue')"
   ]
  },
  {
   "cell_type": "markdown",
   "metadata": {},
   "source": [
    "## Feature importance analysis"
   ]
  },
  {
   "cell_type": "code",
   "execution_count": 50,
   "metadata": {
    "ExecuteTime": {
     "end_time": "2017-06-05T17:11:54.523951Z",
     "start_time": "2017-06-05T16:54:24.223443Z"
    },
    "scrolled": true
   },
   "outputs": [
    {
     "name": "stdout",
     "output_type": "stream",
     "text": [
      "Epoch 1/10\n",
      "41654/41654 [==============================] - 37s - loss: 0.4304 - acc: 0.8101    \n",
      "Epoch 2/10\n",
      "41654/41654 [==============================] - 38s - loss: 0.3686 - acc: 0.8441    \n",
      "Epoch 3/10\n",
      "41654/41654 [==============================] - 40s - loss: 0.3552 - acc: 0.8503    \n",
      "Epoch 4/10\n",
      "41654/41654 [==============================] - 39s - loss: 0.3432 - acc: 0.8553    \n",
      "Epoch 5/10\n",
      "41654/41654 [==============================] - 34s - loss: 0.3351 - acc: 0.8579    \n",
      "Epoch 6/10\n",
      "41654/41654 [==============================] - 42s - loss: 0.3276 - acc: 0.8625    \n",
      "Epoch 7/10\n",
      "41654/41654 [==============================] - 40s - loss: 0.3218 - acc: 0.8643    \n",
      "Epoch 8/10\n",
      "41654/41654 [==============================] - 42s - loss: 0.3184 - acc: 0.8657    \n",
      "Epoch 9/10\n",
      "41654/41654 [==============================] - 42s - loss: 0.3142 - acc: 0.8664    \n",
      "Epoch 10/10\n",
      "41654/41654 [==============================] - 43s - loss: 0.3123 - acc: 0.8676    \n",
      "41650/41654 [============================>.] - ETA: 0s"
     ]
    }
   ],
   "source": [
    "feature_metrics = determine_feature_importance(baseline_binary_model(), X, np.array([np.logical_not(binary_Y),binary_Y]).T)"
   ]
  },
  {
   "cell_type": "code",
   "execution_count": 51,
   "metadata": {
    "ExecuteTime": {
     "end_time": "2017-06-05T17:11:54.568666Z",
     "start_time": "2017-06-05T17:11:54.525983Z"
    }
   },
   "outputs": [
    {
     "data": {
      "text/html": [
       "<div>\n",
       "<table border=\"1\" class=\"dataframe\">\n",
       "  <thead>\n",
       "    <tr style=\"text-align: right;\">\n",
       "      <th></th>\n",
       "      <th>feature</th>\n",
       "      <th>shuffled_loss</th>\n",
       "      <th>shuffled_accuracy</th>\n",
       "      <th>delta_loss</th>\n",
       "      <th>delta_accuracy</th>\n",
       "    </tr>\n",
       "  </thead>\n",
       "  <tbody>\n",
       "    <tr>\n",
       "      <th>0</th>\n",
       "      <td>disease</td>\n",
       "      <td>0.580244</td>\n",
       "      <td>0.750204</td>\n",
       "      <td>-0.274385</td>\n",
       "      <td>0.117780</td>\n",
       "    </tr>\n",
       "    <tr>\n",
       "      <th>31</th>\n",
       "      <td>tumor_VAF</td>\n",
       "      <td>0.626417</td>\n",
       "      <td>0.752293</td>\n",
       "      <td>-0.320557</td>\n",
       "      <td>0.115691</td>\n",
       "    </tr>\n",
       "    <tr>\n",
       "      <th>1</th>\n",
       "      <td>reviewer</td>\n",
       "      <td>0.553894</td>\n",
       "      <td>0.791185</td>\n",
       "      <td>-0.248034</td>\n",
       "      <td>0.076799</td>\n",
       "    </tr>\n",
       "    <tr>\n",
       "      <th>47</th>\n",
       "      <td>tumor_var_avg_basequality</td>\n",
       "      <td>0.427446</td>\n",
       "      <td>0.811087</td>\n",
       "      <td>-0.121586</td>\n",
       "      <td>0.056897</td>\n",
       "    </tr>\n",
       "    <tr>\n",
       "      <th>51</th>\n",
       "      <td>tumor_var_avg_mapping_quality</td>\n",
       "      <td>0.457023</td>\n",
       "      <td>0.813439</td>\n",
       "      <td>-0.151164</td>\n",
       "      <td>0.054545</td>\n",
       "    </tr>\n",
       "    <tr>\n",
       "      <th>48</th>\n",
       "      <td>tumor_var_avg_clipped_length</td>\n",
       "      <td>0.389558</td>\n",
       "      <td>0.828780</td>\n",
       "      <td>-0.083698</td>\n",
       "      <td>0.039204</td>\n",
       "    </tr>\n",
       "    <tr>\n",
       "      <th>55</th>\n",
       "      <td>tumor_var_avg_sum_mismatch_qualities</td>\n",
       "      <td>0.349348</td>\n",
       "      <td>0.850915</td>\n",
       "      <td>-0.043488</td>\n",
       "      <td>0.017069</td>\n",
       "    </tr>\n",
       "    <tr>\n",
       "      <th>2</th>\n",
       "      <td>normal_VAF</td>\n",
       "      <td>0.351961</td>\n",
       "      <td>0.853579</td>\n",
       "      <td>-0.046101</td>\n",
       "      <td>0.014404</td>\n",
       "    </tr>\n",
       "    <tr>\n",
       "      <th>49</th>\n",
       "      <td>tumor_var_avg_distance_to_effective_3p_end</td>\n",
       "      <td>0.340665</td>\n",
       "      <td>0.855452</td>\n",
       "      <td>-0.034806</td>\n",
       "      <td>0.012532</td>\n",
       "    </tr>\n",
       "    <tr>\n",
       "      <th>54</th>\n",
       "      <td>tumor_var_avg_se_mapping_quality</td>\n",
       "      <td>0.333058</td>\n",
       "      <td>0.857685</td>\n",
       "      <td>-0.027198</td>\n",
       "      <td>0.010299</td>\n",
       "    </tr>\n",
       "    <tr>\n",
       "      <th>52</th>\n",
       "      <td>tumor_var_avg_num_mismaches_as_fraction</td>\n",
       "      <td>0.321120</td>\n",
       "      <td>0.860085</td>\n",
       "      <td>-0.015260</td>\n",
       "      <td>0.007898</td>\n",
       "    </tr>\n",
       "    <tr>\n",
       "      <th>39</th>\n",
       "      <td>tumor_ref_avg_num_mismaches_as_fraction</td>\n",
       "      <td>0.324276</td>\n",
       "      <td>0.861982</td>\n",
       "      <td>-0.018416</td>\n",
       "      <td>0.006002</td>\n",
       "    </tr>\n",
       "    <tr>\n",
       "      <th>18</th>\n",
       "      <td>normal_var_avg_basequality</td>\n",
       "      <td>0.315724</td>\n",
       "      <td>0.862678</td>\n",
       "      <td>-0.009864</td>\n",
       "      <td>0.005306</td>\n",
       "    </tr>\n",
       "    <tr>\n",
       "      <th>19</th>\n",
       "      <td>normal_var_avg_clipped_length</td>\n",
       "      <td>0.318664</td>\n",
       "      <td>0.862918</td>\n",
       "      <td>-0.012804</td>\n",
       "      <td>0.005066</td>\n",
       "    </tr>\n",
       "    <tr>\n",
       "      <th>13</th>\n",
       "      <td>normal_ref_avg_sum_mismatch_qualities</td>\n",
       "      <td>0.315673</td>\n",
       "      <td>0.863350</td>\n",
       "      <td>-0.009813</td>\n",
       "      <td>0.004633</td>\n",
       "    </tr>\n",
       "  </tbody>\n",
       "</table>\n",
       "</div>"
      ],
      "text/plain": [
       "                                       feature  shuffled_loss  \\\n",
       "0                                      disease       0.580244   \n",
       "31                                   tumor_VAF       0.626417   \n",
       "1                                     reviewer       0.553894   \n",
       "47                   tumor_var_avg_basequality       0.427446   \n",
       "51               tumor_var_avg_mapping_quality       0.457023   \n",
       "48                tumor_var_avg_clipped_length       0.389558   \n",
       "55        tumor_var_avg_sum_mismatch_qualities       0.349348   \n",
       "2                                   normal_VAF       0.351961   \n",
       "49  tumor_var_avg_distance_to_effective_3p_end       0.340665   \n",
       "54            tumor_var_avg_se_mapping_quality       0.333058   \n",
       "52     tumor_var_avg_num_mismaches_as_fraction       0.321120   \n",
       "39     tumor_ref_avg_num_mismaches_as_fraction       0.324276   \n",
       "18                  normal_var_avg_basequality       0.315724   \n",
       "19               normal_var_avg_clipped_length       0.318664   \n",
       "13       normal_ref_avg_sum_mismatch_qualities       0.315673   \n",
       "\n",
       "    shuffled_accuracy  delta_loss  delta_accuracy  \n",
       "0            0.750204   -0.274385        0.117780  \n",
       "31           0.752293   -0.320557        0.115691  \n",
       "1            0.791185   -0.248034        0.076799  \n",
       "47           0.811087   -0.121586        0.056897  \n",
       "51           0.813439   -0.151164        0.054545  \n",
       "48           0.828780   -0.083698        0.039204  \n",
       "55           0.850915   -0.043488        0.017069  \n",
       "2            0.853579   -0.046101        0.014404  \n",
       "49           0.855452   -0.034806        0.012532  \n",
       "54           0.857685   -0.027198        0.010299  \n",
       "52           0.860085   -0.015260        0.007898  \n",
       "39           0.861982   -0.018416        0.006002  \n",
       "18           0.862678   -0.009864        0.005306  \n",
       "19           0.862918   -0.012804        0.005066  \n",
       "13           0.863350   -0.009813        0.004633  "
      ]
     },
     "execution_count": 51,
     "metadata": {},
     "output_type": "execute_result"
    }
   ],
   "source": [
    "feature_metrics.head(15)"
   ]
  },
  {
   "cell_type": "markdown",
   "metadata": {},
   "source": [
    "# Somatic, ambigous, fail classifier"
   ]
  },
  {
   "cell_type": "code",
   "execution_count": 52,
   "metadata": {
    "ExecuteTime": {
     "end_time": "2017-06-05T17:11:54.653528Z",
     "start_time": "2017-06-05T17:11:54.570869Z"
    },
    "collapsed": true
   },
   "outputs": [],
   "source": [
    "three_class = training_data.replace('g','f')"
   ]
  },
  {
   "cell_type": "code",
   "execution_count": 53,
   "metadata": {
    "ExecuteTime": {
     "end_time": "2017-06-05T17:11:54.689184Z",
     "start_time": "2017-06-05T17:11:54.655420Z"
    }
   },
   "outputs": [
    {
     "data": {
      "text/plain": [
       "call\n",
       "a    14589\n",
       "f     5909\n",
       "s    21156\n",
       "dtype: int64"
      ]
     },
     "execution_count": 53,
     "metadata": {},
     "output_type": "execute_result"
    }
   ],
   "source": [
    "three_class.groupby('call').size()"
   ]
  },
  {
   "cell_type": "code",
   "execution_count": 54,
   "metadata": {
    "ExecuteTime": {
     "end_time": "2017-06-05T17:11:54.778743Z",
     "start_time": "2017-06-05T17:11:54.690772Z"
    },
    "collapsed": true
   },
   "outputs": [],
   "source": [
    "# Get Labels\n",
    "Y = pd.get_dummies(three_class.call).astype(float).values\n",
    "# Get training data as numpy array\n",
    "X = training_data.drop(['call', 'binary_call'], axis=1).astype(float).values"
   ]
  },
  {
   "cell_type": "code",
   "execution_count": 55,
   "metadata": {
    "ExecuteTime": {
     "end_time": "2017-06-05T17:11:54.817875Z",
     "start_time": "2017-06-05T17:11:54.780545Z"
    }
   },
   "outputs": [
    {
     "data": {
      "text/plain": [
       "(41654, 71)"
      ]
     },
     "execution_count": 55,
     "metadata": {},
     "output_type": "execute_result"
    }
   ],
   "source": [
    "X.shape"
   ]
  },
  {
   "cell_type": "code",
   "execution_count": 56,
   "metadata": {
    "ExecuteTime": {
     "end_time": "2017-06-05T17:11:54.850729Z",
     "start_time": "2017-06-05T17:11:54.820353Z"
    }
   },
   "outputs": [
    {
     "data": {
      "text/plain": [
       "(41654, 3)"
      ]
     },
     "execution_count": 56,
     "metadata": {},
     "output_type": "execute_result"
    }
   ],
   "source": [
    "Y.shape"
   ]
  },
  {
   "cell_type": "code",
   "execution_count": 57,
   "metadata": {
    "ExecuteTime": {
     "end_time": "2017-06-05T17:11:54.881487Z",
     "start_time": "2017-06-05T17:11:54.852299Z"
    },
    "collapsed": true
   },
   "outputs": [],
   "source": [
    "# fix random seed for reproducibility\n",
    "seed = 7\n",
    "np.random.seed(seed)"
   ]
  },
  {
   "cell_type": "code",
   "execution_count": 58,
   "metadata": {
    "ExecuteTime": {
     "end_time": "2017-06-05T17:11:54.916971Z",
     "start_time": "2017-06-05T17:11:54.883234Z"
    },
    "collapsed": true
   },
   "outputs": [],
   "source": [
    "# define baseline model\n",
    "def baseline_model():\n",
    "    # create model\n",
    "    model = Sequential()\n",
    "    model.add(Dense(67, input_dim=71, kernel_initializer='normal', activation='relu'))\n",
    "    model.add(Dense(23, activation='relu'))\n",
    "    model.add(Dense(23, activation='relu'))\n",
    "    model.add(Dense(3, kernel_initializer='normal', activation='sigmoid'))\n",
    "    # Compile model\n",
    "    model.compile(loss='categorical_crossentropy', optimizer='adam', metrics=['accuracy'])\n",
    "    return model"
   ]
  },
  {
   "cell_type": "code",
   "execution_count": 59,
   "metadata": {
    "ExecuteTime": {
     "end_time": "2017-06-05T17:11:54.947677Z",
     "start_time": "2017-06-05T17:11:54.918672Z"
    },
    "collapsed": true
   },
   "outputs": [],
   "source": [
    "estimator = KerasClassifier(build_fn=baseline_model, epochs=10, batch_size=5, verbose=1)"
   ]
  },
  {
   "cell_type": "code",
   "execution_count": 60,
   "metadata": {
    "ExecuteTime": {
     "end_time": "2017-06-05T17:11:54.978452Z",
     "start_time": "2017-06-05T17:11:54.949444Z"
    },
    "collapsed": true
   },
   "outputs": [],
   "source": [
    "kfold = KFold(n_splits=10, shuffle=True, random_state=seed)"
   ]
  },
  {
   "cell_type": "code",
   "execution_count": 61,
   "metadata": {
    "ExecuteTime": {
     "end_time": "2017-06-05T17:11:55.013289Z",
     "start_time": "2017-06-05T17:11:54.980130Z"
    },
    "collapsed": true,
    "scrolled": true
   },
   "outputs": [],
   "source": [
    "if not os.path.exists('../data/deep_learning/threeclass_relu_probs.npy'):\n",
    "    probabilities = cross_val_predict(estimator, X, Y, cv=kfold, method='predict_proba')\n",
    "    np.save('../data/deep_learning/threeclass_relu_probs.npy', probabilities)\n",
    "else:\n",
    "    probabilities = np.load('../data/deep_learning/threeclass_relu_probs.npy')"
   ]
  },
  {
   "cell_type": "code",
   "execution_count": 62,
   "metadata": {
    "ExecuteTime": {
     "end_time": "2017-06-05T17:11:55.155699Z",
     "start_time": "2017-06-05T17:11:55.014884Z"
    },
    "collapsed": true
   },
   "outputs": [],
   "source": [
    "predicted = np.array([list(a).index(max(list(a))) for a in list(probabilities)])"
   ]
  },
  {
   "cell_type": "code",
   "execution_count": 63,
   "metadata": {
    "ExecuteTime": {
     "end_time": "2017-06-05T17:11:55.193854Z",
     "start_time": "2017-06-05T17:11:55.157532Z"
    },
    "collapsed": true
   },
   "outputs": [],
   "source": [
    "label_binarizer = preprocessing.LabelBinarizer()\n",
    "\n",
    "label_binarizer.fit(range(max(predicted)+1))\n",
    "predicted_transformed = label_binarizer.transform(predicted)"
   ]
  },
  {
   "cell_type": "code",
   "execution_count": 64,
   "metadata": {
    "ExecuteTime": {
     "end_time": "2017-06-05T17:11:55.248904Z",
     "start_time": "2017-06-05T17:11:55.196134Z"
    }
   },
   "outputs": [
    {
     "data": {
      "text/plain": [
       "0.81591203725932682"
      ]
     },
     "execution_count": 64,
     "metadata": {},
     "output_type": "execute_result"
    }
   ],
   "source": [
    "metrics.accuracy_score(Y, predicted_transformed)"
   ]
  },
  {
   "cell_type": "markdown",
   "metadata": {},
   "source": [
    "#### Classification report\n",
    "* 0 = ambiguous\n",
    "* 1 = fail\n",
    "* 2 = germline\n",
    "* 3 = somatic"
   ]
  },
  {
   "cell_type": "code",
   "execution_count": 65,
   "metadata": {
    "ExecuteTime": {
     "end_time": "2017-06-05T17:11:55.295763Z",
     "start_time": "2017-06-05T17:11:55.250587Z"
    }
   },
   "outputs": [
    {
     "name": "stdout",
     "output_type": "stream",
     "text": [
      "             precision    recall  f1-score   support\n",
      "\n",
      "          0       0.81      0.73      0.77     14589\n",
      "          1       0.70      0.75      0.73      5909\n",
      "          2       0.85      0.89      0.87     21156\n",
      "\n",
      "avg / total       0.82      0.82      0.81     41654\n",
      "\n"
     ]
    }
   ],
   "source": [
    "print(metrics.classification_report(Y, predicted_transformed))"
   ]
  },
  {
   "cell_type": "code",
   "execution_count": 66,
   "metadata": {
    "ExecuteTime": {
     "end_time": "2017-06-05T17:11:55.588532Z",
     "start_time": "2017-06-05T17:11:55.297758Z"
    }
   },
   "outputs": [
    {
     "data": {
      "image/png": "[encoded data removed]",
      "text/plain": [
       "<matplotlib.figure.Figure at 0x1369f80f0>"
      ]
     },
     "metadata": {},
     "output_type": "display_data"
    }
   ],
   "source": [
    "n_classes = Y.shape[1]\n",
    "class_lookup = {0: 'Ambiguous', 1: 'Fail', 2: 'Somatic'}\n",
    "fpr = dict()\n",
    "tpr = dict()\n",
    "roc_auc = dict()\n",
    "plt.title('Receiver Operating Characteristic')\n",
    "colors = cycle(['aqua', 'darkorange', 'cornflowerblue', 'deeppink'])\n",
    "for i, color in zip(range(n_classes), colors):\n",
    "    fpr[i], tpr[i], _ = metrics.roc_curve(Y[:, i], probabilities[:, i])\n",
    "    roc_auc[i] = metrics.auc(fpr[i], tpr[i])\n",
    "    plt.plot(fpr[i], tpr[i], color=color, label='ROC curve of class {0}'\n",
    "             ' (area = {1:0.2f})'.format(class_lookup[i], roc_auc[i]))\n",
    "plt.plot([0, 1], [0, 1], 'k--')\n",
    "plt.xlim([-0.01, 1.0])\n",
    "plt.ylim([0.0, 1.05])\n",
    "plt.xlabel('False Positive Rate')\n",
    "plt.ylabel('True Positive Rate')\n",
    "plt.legend(loc=\"lower right\")\n",
    "plt.show()"
   ]
  },
  {
   "cell_type": "code",
   "execution_count": 67,
   "metadata": {
    "ExecuteTime": {
     "end_time": "2017-06-05T17:11:55.985527Z",
     "start_time": "2017-06-05T17:11:55.590163Z"
    }
   },
   "outputs": [
    {
     "name": "stdout",
     "output_type": "stream",
     "text": [
      "confidence intervals +-:  [ 0.00059922  0.00355891  0.00484212  0.00619793  0.00780359  0.00789745\n",
      "  0.0084122   0.00745796  0.00514406  0.001602  ]\n"
     ]
    },
    {
     "data": {
      "image/png": "[encoded data removed]",
      "text/plain": [
       "<matplotlib.figure.Figure at 0x13cff7208>"
      ]
     },
     "metadata": {},
     "output_type": "display_data"
    }
   ],
   "source": [
    "create_reliability_diagram(probabilities, Y,['Ambiguous','Fail','Somatic'], 'blue')"
   ]
  },
  {
   "cell_type": "markdown",
   "metadata": {},
   "source": [
    "## Feature importance analysis"
   ]
  },
  {
   "cell_type": "code",
   "execution_count": 68,
   "metadata": {
    "ExecuteTime": {
     "end_time": "2017-06-05T17:31:24.310600Z",
     "start_time": "2017-06-05T17:11:55.987424Z"
    }
   },
   "outputs": [
    {
     "name": "stdout",
     "output_type": "stream",
     "text": [
      "Epoch 1/10\n",
      "41654/41654 [==============================] - 37s - loss: 0.5895 - acc: 0.7527    \n",
      "Epoch 2/10\n",
      "41654/41654 [==============================] - 37s - loss: 0.5035 - acc: 0.7987    \n",
      "Epoch 3/10\n",
      "41654/41654 [==============================] - 36s - loss: 0.4810 - acc: 0.8061    \n",
      "Epoch 4/10\n",
      "41654/41654 [==============================] - 37s - loss: 0.4678 - acc: 0.8109    \n",
      "Epoch 5/10\n",
      "41654/41654 [==============================] - 39s - loss: 0.4577 - acc: 0.8135    \n",
      "Epoch 6/10\n",
      "41654/41654 [==============================] - 40s - loss: 0.4519 - acc: 0.8161    \n",
      "Epoch 7/10\n",
      "41654/41654 [==============================] - 42s - loss: 0.4449 - acc: 0.8172    \n",
      "Epoch 8/10\n",
      "41654/41654 [==============================] - 42s - loss: 0.4403 - acc: 0.8195    \n",
      "Epoch 9/10\n",
      "41654/41654 [==============================] - 42s - loss: 0.4344 - acc: 0.8231    \n",
      "Epoch 10/10\n",
      "41654/41654 [==============================] - 42s - loss: 0.4322 - acc: 0.8225    \n",
      "41654/41654 [==============================] - 13s    \n",
      "41654/41654 [==============================] - 12s    \n",
      "41654/41654 [==============================] - 9s     \n",
      "41654/41654 [==============================] - 9s     \n",
      "41590/41654 [============================>.] - ETA: 0s"
     ]
    }
   ],
   "source": [
    "feature_metrics = determine_feature_importance(baseline_model(), X, Y)"
   ]
  },
  {
   "cell_type": "code",
   "execution_count": 69,
   "metadata": {
    "ExecuteTime": {
     "end_time": "2017-06-05T17:31:24.364023Z",
     "start_time": "2017-06-05T17:31:24.312852Z"
    }
   },
   "outputs": [
    {
     "data": {
      "text/html": [
       "<div>\n",
       "<table border=\"1\" class=\"dataframe\">\n",
       "  <thead>\n",
       "    <tr style=\"text-align: right;\">\n",
       "      <th></th>\n",
       "      <th>feature</th>\n",
       "      <th>shuffled_loss</th>\n",
       "      <th>shuffled_accuracy</th>\n",
       "      <th>delta_loss</th>\n",
       "      <th>delta_accuracy</th>\n",
       "    </tr>\n",
       "  </thead>\n",
       "  <tbody>\n",
       "    <tr>\n",
       "      <th>0</th>\n",
       "      <td>disease</td>\n",
       "      <td>0.862847</td>\n",
       "      <td>0.648389</td>\n",
       "      <td>-0.428063</td>\n",
       "      <td>0.169371</td>\n",
       "    </tr>\n",
       "    <tr>\n",
       "      <th>1</th>\n",
       "      <td>reviewer</td>\n",
       "      <td>0.726908</td>\n",
       "      <td>0.700437</td>\n",
       "      <td>-0.292124</td>\n",
       "      <td>0.117324</td>\n",
       "    </tr>\n",
       "    <tr>\n",
       "      <th>31</th>\n",
       "      <td>tumor_VAF</td>\n",
       "      <td>0.673087</td>\n",
       "      <td>0.725333</td>\n",
       "      <td>-0.238303</td>\n",
       "      <td>0.092428</td>\n",
       "    </tr>\n",
       "    <tr>\n",
       "      <th>51</th>\n",
       "      <td>tumor_var_avg_mapping_quality</td>\n",
       "      <td>0.611262</td>\n",
       "      <td>0.749004</td>\n",
       "      <td>-0.176477</td>\n",
       "      <td>0.068757</td>\n",
       "    </tr>\n",
       "    <tr>\n",
       "      <th>47</th>\n",
       "      <td>tumor_var_avg_basequality</td>\n",
       "      <td>0.542287</td>\n",
       "      <td>0.777428</td>\n",
       "      <td>-0.107502</td>\n",
       "      <td>0.040332</td>\n",
       "    </tr>\n",
       "    <tr>\n",
       "      <th>48</th>\n",
       "      <td>tumor_var_avg_clipped_length</td>\n",
       "      <td>0.500424</td>\n",
       "      <td>0.781390</td>\n",
       "      <td>-0.065639</td>\n",
       "      <td>0.036371</td>\n",
       "    </tr>\n",
       "    <tr>\n",
       "      <th>54</th>\n",
       "      <td>tumor_var_avg_se_mapping_quality</td>\n",
       "      <td>0.509927</td>\n",
       "      <td>0.783790</td>\n",
       "      <td>-0.075143</td>\n",
       "      <td>0.033970</td>\n",
       "    </tr>\n",
       "    <tr>\n",
       "      <th>49</th>\n",
       "      <td>tumor_var_avg_distance_to_effective_3p_end</td>\n",
       "      <td>0.486801</td>\n",
       "      <td>0.791617</td>\n",
       "      <td>-0.052016</td>\n",
       "      <td>0.026144</td>\n",
       "    </tr>\n",
       "    <tr>\n",
       "      <th>55</th>\n",
       "      <td>tumor_var_avg_sum_mismatch_qualities</td>\n",
       "      <td>0.498446</td>\n",
       "      <td>0.796802</td>\n",
       "      <td>-0.063662</td>\n",
       "      <td>0.020958</td>\n",
       "    </tr>\n",
       "    <tr>\n",
       "      <th>2</th>\n",
       "      <td>normal_VAF</td>\n",
       "      <td>0.485526</td>\n",
       "      <td>0.802156</td>\n",
       "      <td>-0.050742</td>\n",
       "      <td>0.015605</td>\n",
       "    </tr>\n",
       "    <tr>\n",
       "      <th>18</th>\n",
       "      <td>normal_var_avg_basequality</td>\n",
       "      <td>0.464529</td>\n",
       "      <td>0.804509</td>\n",
       "      <td>-0.029744</td>\n",
       "      <td>0.013252</td>\n",
       "    </tr>\n",
       "    <tr>\n",
       "      <th>19</th>\n",
       "      <td>normal_var_avg_clipped_length</td>\n",
       "      <td>0.452862</td>\n",
       "      <td>0.805277</td>\n",
       "      <td>-0.018078</td>\n",
       "      <td>0.012484</td>\n",
       "    </tr>\n",
       "    <tr>\n",
       "      <th>9</th>\n",
       "      <td>normal_ref_avg_mapping_quality</td>\n",
       "      <td>0.449940</td>\n",
       "      <td>0.806453</td>\n",
       "      <td>-0.015155</td>\n",
       "      <td>0.011307</td>\n",
       "    </tr>\n",
       "    <tr>\n",
       "      <th>53</th>\n",
       "      <td>tumor_var_avg_pos_as_fraction</td>\n",
       "      <td>0.455658</td>\n",
       "      <td>0.809886</td>\n",
       "      <td>-0.020873</td>\n",
       "      <td>0.007874</td>\n",
       "    </tr>\n",
       "    <tr>\n",
       "      <th>12</th>\n",
       "      <td>normal_ref_avg_se_mapping_quality</td>\n",
       "      <td>0.448557</td>\n",
       "      <td>0.811135</td>\n",
       "      <td>-0.013772</td>\n",
       "      <td>0.006626</td>\n",
       "    </tr>\n",
       "  </tbody>\n",
       "</table>\n",
       "</div>"
      ],
      "text/plain": [
       "                                       feature  shuffled_loss  \\\n",
       "0                                      disease       0.862847   \n",
       "1                                     reviewer       0.726908   \n",
       "31                                   tumor_VAF       0.673087   \n",
       "51               tumor_var_avg_mapping_quality       0.611262   \n",
       "47                   tumor_var_avg_basequality       0.542287   \n",
       "48                tumor_var_avg_clipped_length       0.500424   \n",
       "54            tumor_var_avg_se_mapping_quality       0.509927   \n",
       "49  tumor_var_avg_distance_to_effective_3p_end       0.486801   \n",
       "55        tumor_var_avg_sum_mismatch_qualities       0.498446   \n",
       "2                                   normal_VAF       0.485526   \n",
       "18                  normal_var_avg_basequality       0.464529   \n",
       "19               normal_var_avg_clipped_length       0.452862   \n",
       "9               normal_ref_avg_mapping_quality       0.449940   \n",
       "53               tumor_var_avg_pos_as_fraction       0.455658   \n",
       "12           normal_ref_avg_se_mapping_quality       0.448557   \n",
       "\n",
       "    shuffled_accuracy  delta_loss  delta_accuracy  \n",
       "0            0.648389   -0.428063        0.169371  \n",
       "1            0.700437   -0.292124        0.117324  \n",
       "31           0.725333   -0.238303        0.092428  \n",
       "51           0.749004   -0.176477        0.068757  \n",
       "47           0.777428   -0.107502        0.040332  \n",
       "48           0.781390   -0.065639        0.036371  \n",
       "54           0.783790   -0.075143        0.033970  \n",
       "49           0.791617   -0.052016        0.026144  \n",
       "55           0.796802   -0.063662        0.020958  \n",
       "2            0.802156   -0.050742        0.015605  \n",
       "18           0.804509   -0.029744        0.013252  \n",
       "19           0.805277   -0.018078        0.012484  \n",
       "9            0.806453   -0.015155        0.011307  \n",
       "53           0.809886   -0.020873        0.007874  \n",
       "12           0.811135   -0.013772        0.006626  "
      ]
     },
     "execution_count": 69,
     "metadata": {},
     "output_type": "execute_result"
    }
   ],
   "source": [
    "feature_metrics.head(15)"
   ]
  },
  {
   "cell_type": "markdown",
   "metadata": {},
   "source": [
    "# Somatic fail classifier\n",
    "remove ambiguous calls"
   ]
  },
  {
   "cell_type": "code",
   "execution_count": 70,
   "metadata": {
    "ExecuteTime": {
     "end_time": "2017-06-05T17:31:24.426994Z",
     "start_time": "2017-06-05T17:31:24.366218Z"
    },
    "collapsed": true
   },
   "outputs": [],
   "source": [
    "two_class = three_class[three_class.call != 'a']"
   ]
  },
  {
   "cell_type": "code",
   "execution_count": 71,
   "metadata": {
    "ExecuteTime": {
     "end_time": "2017-06-05T17:31:24.688381Z",
     "start_time": "2017-06-05T17:31:24.428885Z"
    }
   },
   "outputs": [
    {
     "name": "stderr",
     "output_type": "stream",
     "text": [
      "/Users/bainscou/anaconda/envs/manual_review/lib/python3.6/site-packages/pandas/core/generic.py:3485: SettingWithCopyWarning: \n",
      "A value is trying to be set on a copy of a slice from a DataFrame.\n",
      "Try using .loc[row_indexer,col_indexer] = value instead\n",
      "\n",
      "See the caveats in the documentation: http://pandas.pydata.org/pandas-docs/stable/indexing.html#indexing-view-versus-copy\n",
      "  regex=regex)\n"
     ]
    }
   ],
   "source": [
    "two_class.replace({'call': {'f': False, 's': True}}, inplace=True)"
   ]
  },
  {
   "cell_type": "code",
   "execution_count": 72,
   "metadata": {
    "ExecuteTime": {
     "end_time": "2017-06-05T17:31:24.736501Z",
     "start_time": "2017-06-05T17:31:24.690554Z"
    }
   },
   "outputs": [
    {
     "data": {
      "text/plain": [
       "call\n",
       "False     5909\n",
       "True     21156\n",
       "dtype: int64"
      ]
     },
     "execution_count": 72,
     "metadata": {},
     "output_type": "execute_result"
    }
   ],
   "source": [
    "two_class.groupby('call').size()"
   ]
  },
  {
   "cell_type": "code",
   "execution_count": 73,
   "metadata": {
    "ExecuteTime": {
     "end_time": "2017-06-05T17:31:24.809640Z",
     "start_time": "2017-06-05T17:31:24.738284Z"
    },
    "collapsed": true
   },
   "outputs": [],
   "source": [
    "# Get Labels\n",
    "binary_Y = two_class.call.astype(int).values\n",
    "# Get training data as numpy array\n",
    "X = two_class.drop(['call', 'binary_call'], axis=1).astype(float).values"
   ]
  },
  {
   "cell_type": "code",
   "execution_count": 74,
   "metadata": {
    "ExecuteTime": {
     "end_time": "2017-06-05T17:31:24.846655Z",
     "start_time": "2017-06-05T17:31:24.811521Z"
    }
   },
   "outputs": [
    {
     "data": {
      "text/plain": [
       "(27065, 71)"
      ]
     },
     "execution_count": 74,
     "metadata": {},
     "output_type": "execute_result"
    }
   ],
   "source": [
    "X.shape"
   ]
  },
  {
   "cell_type": "code",
   "execution_count": 75,
   "metadata": {
    "ExecuteTime": {
     "end_time": "2017-06-05T17:31:24.890822Z",
     "start_time": "2017-06-05T17:31:24.848917Z"
    }
   },
   "outputs": [
    {
     "data": {
      "text/plain": [
       "(27065,)"
      ]
     },
     "execution_count": 75,
     "metadata": {},
     "output_type": "execute_result"
    }
   ],
   "source": [
    "binary_Y.shape"
   ]
  },
  {
   "cell_type": "code",
   "execution_count": 76,
   "metadata": {
    "ExecuteTime": {
     "end_time": "2017-06-05T17:31:24.938240Z",
     "start_time": "2017-06-05T17:31:24.892743Z"
    },
    "collapsed": true
   },
   "outputs": [],
   "source": [
    "# define baseline model\n",
    "def baseline_binary_model():\n",
    "    # create model\n",
    "    model = Sequential()\n",
    "    model.add(Dense(67, input_dim=71, kernel_initializer='normal', activation='relu'))\n",
    "    model.add(Dense(23, activation='relu'))\n",
    "    model.add(Dense(23, activation='relu'))\n",
    "    model.add(Dense(2, kernel_initializer='normal', activation='sigmoid'))\n",
    "    # Compile model\n",
    "    model.compile(loss='categorical_crossentropy', optimizer='adam', metrics=['accuracy'])\n",
    "    return model"
   ]
  },
  {
   "cell_type": "code",
   "execution_count": 77,
   "metadata": {
    "ExecuteTime": {
     "end_time": "2017-06-05T17:31:24.972034Z",
     "start_time": "2017-06-05T17:31:24.939896Z"
    },
    "collapsed": true
   },
   "outputs": [],
   "source": [
    "binary_estimator = KerasClassifier(build_fn=baseline_binary_model, epochs=10, batch_size=5, verbose=1)"
   ]
  },
  {
   "cell_type": "code",
   "execution_count": 78,
   "metadata": {
    "ExecuteTime": {
     "end_time": "2017-06-05T17:31:25.005020Z",
     "start_time": "2017-06-05T17:31:24.973997Z"
    },
    "collapsed": true
   },
   "outputs": [],
   "source": [
    "binary_kfold = KFold(n_splits=10, shuffle=True, random_state=seed)"
   ]
  },
  {
   "cell_type": "code",
   "execution_count": 79,
   "metadata": {
    "ExecuteTime": {
     "end_time": "2017-06-05T17:31:25.041614Z",
     "start_time": "2017-06-05T17:31:25.006715Z"
    }
   },
   "outputs": [],
   "source": [
    "if not os.path.exists('../data/deep_learning/no_amb_relu_probs.npy'):\n",
    "    binary_probabilities = cross_val_predict(binary_estimator, X, binary_Y, cv=binary_kfold, method='predict_proba')\n",
    "    np.save('../data/deep_learning/no_amb_relu_probs.npy', binary_probabilities)\n",
    "else:\n",
    "    binary_probabilities = np.load('../data/deep_learning/no_amb_relu_probs.npy')"
   ]
  },
  {
   "cell_type": "code",
   "execution_count": 80,
   "metadata": {
    "ExecuteTime": {
     "end_time": "2017-06-05T17:31:25.148285Z",
     "start_time": "2017-06-05T17:31:25.043475Z"
    },
    "collapsed": true
   },
   "outputs": [],
   "source": [
    "predicted = np.array([list(a).index(max(list(a))) for a in list(binary_probabilities)])"
   ]
  },
  {
   "cell_type": "code",
   "execution_count": 81,
   "metadata": {
    "ExecuteTime": {
     "end_time": "2017-06-05T17:31:25.183923Z",
     "start_time": "2017-06-05T17:31:25.150436Z"
    }
   },
   "outputs": [
    {
     "data": {
      "text/plain": [
       "0.94040273415850728"
      ]
     },
     "execution_count": 81,
     "metadata": {},
     "output_type": "execute_result"
    }
   ],
   "source": [
    "metrics.accuracy_score(binary_Y, predicted)"
   ]
  },
  {
   "cell_type": "code",
   "execution_count": 82,
   "metadata": {
    "ExecuteTime": {
     "end_time": "2017-06-05T17:31:25.222695Z",
     "start_time": "2017-06-05T17:31:25.186018Z"
    }
   },
   "outputs": [
    {
     "name": "stdout",
     "output_type": "stream",
     "text": [
      "             precision    recall  f1-score   support\n",
      "\n",
      "          0       0.88      0.85      0.86      5909\n",
      "          1       0.96      0.97      0.96     21156\n",
      "\n",
      "avg / total       0.94      0.94      0.94     27065\n",
      "\n"
     ]
    }
   ],
   "source": [
    "print(metrics.classification_report(binary_Y, predicted))"
   ]
  },
  {
   "cell_type": "code",
   "execution_count": 83,
   "metadata": {
    "ExecuteTime": {
     "end_time": "2017-06-05T17:31:25.256116Z",
     "start_time": "2017-06-05T17:31:25.224475Z"
    },
    "collapsed": true
   },
   "outputs": [],
   "source": [
    "somatic_prob = binary_probabilities[:,1]"
   ]
  },
  {
   "cell_type": "code",
   "execution_count": 84,
   "metadata": {
    "ExecuteTime": {
     "end_time": "2017-06-05T17:31:25.512791Z",
     "start_time": "2017-06-05T17:31:25.258188Z"
    }
   },
   "outputs": [
    {
     "data": {
      "image/png": "[encoded data removed]",
      "text/plain": [
       "<matplotlib.figure.Figure at 0x136c17b38>"
      ]
     },
     "metadata": {},
     "output_type": "display_data"
    }
   ],
   "source": [
    "plt.title('Receiver Operating Characteristic')\n",
    "fpr, tpr, _ = metrics.roc_curve(binary_Y, somatic_prob)\n",
    "roc_auc = metrics.auc(fpr, tpr)\n",
    "plt.plot(fpr, tpr, color='cornflowerblue',label='ROC curve of somatic call'\n",
    "         ' (area = {0:0.2f})'.format(roc_auc))\n",
    "plt.plot([0, 1], [0, 1], 'k--')\n",
    "plt.xlim([-0.01, 1.0])\n",
    "plt.ylim([0.0, 1.01])\n",
    "plt.xlabel('False Positive Rate')\n",
    "plt.ylabel('True Positive Rate')\n",
    "plt.legend(loc=\"lower right\")\n",
    "plt.show()"
   ]
  },
  {
   "cell_type": "code",
   "execution_count": 85,
   "metadata": {
    "ExecuteTime": {
     "end_time": "2017-06-05T17:31:25.908469Z",
     "start_time": "2017-06-05T17:31:25.515009Z"
    }
   },
   "outputs": [
    {
     "name": "stdout",
     "output_type": "stream",
     "text": [
      "confidence intervals +-:  [ 0.00076448  0.00744795  0.01226755  0.01465366  0.01620529  0.01764818\n",
      "  0.01660018  0.0130748   0.01013683  0.00086672]\n"
     ]
    },
    {
     "data": {
      "image/png": "[encoded data removed]",
      "text/plain": [
       "<matplotlib.figure.Figure at 0x13687cf60>"
      ]
     },
     "metadata": {},
     "output_type": "display_data"
    }
   ],
   "source": [
    "create_reliability_diagram(binary_probabilities, np.array([np.logical_not(binary_Y),binary_Y]).T,['Fail', 'Somatic'], 'blue')"
   ]
  },
  {
   "cell_type": "markdown",
   "metadata": {},
   "source": [
    "## Feature importance analysis"
   ]
  },
  {
   "cell_type": "code",
   "execution_count": 86,
   "metadata": {
    "ExecuteTime": {
     "end_time": "2017-06-05T17:45:00.492396Z",
     "start_time": "2017-06-05T17:31:25.910408Z"
    }
   },
   "outputs": [
    {
     "name": "stdout",
     "output_type": "stream",
     "text": [
      "Epoch 1/10\n",
      "27065/27065 [==============================] - 26s - loss: 0.2254 - acc: 0.9050    \n",
      "Epoch 2/10\n",
      "27065/27065 [==============================] - 29s - loss: 0.1769 - acc: 0.9288    \n",
      "Epoch 3/10\n",
      "27065/27065 [==============================] - 26s - loss: 0.1655 - acc: 0.9332    \n",
      "Epoch 4/10\n",
      "27065/27065 [==============================] - 27s - loss: 0.1589 - acc: 0.9372    \n",
      "Epoch 5/10\n",
      "27065/27065 [==============================] - 27s - loss: 0.1551 - acc: 0.9379    \n",
      "Epoch 6/10\n",
      "27065/27065 [==============================] - 28s - loss: 0.1509 - acc: 0.9391    \n",
      "Epoch 7/10\n",
      "27065/27065 [==============================] - 28s - loss: 0.1478 - acc: 0.9412    \n",
      "Epoch 8/10\n",
      "27065/27065 [==============================] - 28s - loss: 0.1470 - acc: 0.9404    \n",
      "Epoch 9/10\n",
      "27065/27065 [==============================] - 28s - loss: 0.1440 - acc: 0.9413    \n",
      "Epoch 10/10\n",
      "27065/27065 [==============================] - 28s - loss: 0.1425 - acc: 0.9437    \n",
      "27065/27065 [==============================] - 8s     \n",
      "27040/27065 [============================>.] - ETA: 0s"
     ]
    }
   ],
   "source": [
    "feature_metrics = determine_feature_importance(baseline_binary_model(), X, pd.concat([~two_class.call,two_class.call],axis=1).astype(int).values)"
   ]
  },
  {
   "cell_type": "code",
   "execution_count": 87,
   "metadata": {
    "ExecuteTime": {
     "end_time": "2017-06-05T17:45:00.532460Z",
     "start_time": "2017-06-05T17:45:00.494146Z"
    }
   },
   "outputs": [
    {
     "data": {
      "text/html": [
       "<div>\n",
       "<table border=\"1\" class=\"dataframe\">\n",
       "  <thead>\n",
       "    <tr style=\"text-align: right;\">\n",
       "      <th></th>\n",
       "      <th>feature</th>\n",
       "      <th>shuffled_loss</th>\n",
       "      <th>shuffled_accuracy</th>\n",
       "      <th>delta_loss</th>\n",
       "      <th>delta_accuracy</th>\n",
       "    </tr>\n",
       "  </thead>\n",
       "  <tbody>\n",
       "    <tr>\n",
       "      <th>0</th>\n",
       "      <td>disease</td>\n",
       "      <td>0.497287</td>\n",
       "      <td>0.846998</td>\n",
       "      <td>-0.363719</td>\n",
       "      <td>0.100647</td>\n",
       "    </tr>\n",
       "    <tr>\n",
       "      <th>51</th>\n",
       "      <td>tumor_var_avg_mapping_quality</td>\n",
       "      <td>0.302189</td>\n",
       "      <td>0.883724</td>\n",
       "      <td>-0.168621</td>\n",
       "      <td>0.063920</td>\n",
       "    </tr>\n",
       "    <tr>\n",
       "      <th>1</th>\n",
       "      <td>reviewer</td>\n",
       "      <td>0.244677</td>\n",
       "      <td>0.897247</td>\n",
       "      <td>-0.111109</td>\n",
       "      <td>0.050397</td>\n",
       "    </tr>\n",
       "    <tr>\n",
       "      <th>47</th>\n",
       "      <td>tumor_var_avg_basequality</td>\n",
       "      <td>0.280788</td>\n",
       "      <td>0.901644</td>\n",
       "      <td>-0.147221</td>\n",
       "      <td>0.046000</td>\n",
       "    </tr>\n",
       "    <tr>\n",
       "      <th>2</th>\n",
       "      <td>normal_VAF</td>\n",
       "      <td>0.198583</td>\n",
       "      <td>0.928616</td>\n",
       "      <td>-0.065016</td>\n",
       "      <td>0.019028</td>\n",
       "    </tr>\n",
       "    <tr>\n",
       "      <th>12</th>\n",
       "      <td>normal_ref_avg_se_mapping_quality</td>\n",
       "      <td>0.148860</td>\n",
       "      <td>0.936228</td>\n",
       "      <td>-0.015293</td>\n",
       "      <td>0.011417</td>\n",
       "    </tr>\n",
       "    <tr>\n",
       "      <th>31</th>\n",
       "      <td>tumor_VAF</td>\n",
       "      <td>0.175993</td>\n",
       "      <td>0.936265</td>\n",
       "      <td>-0.042426</td>\n",
       "      <td>0.011380</td>\n",
       "    </tr>\n",
       "    <tr>\n",
       "      <th>39</th>\n",
       "      <td>tumor_ref_avg_num_mismaches_as_fraction</td>\n",
       "      <td>0.152059</td>\n",
       "      <td>0.938777</td>\n",
       "      <td>-0.018492</td>\n",
       "      <td>0.008868</td>\n",
       "    </tr>\n",
       "    <tr>\n",
       "      <th>34</th>\n",
       "      <td>tumor_ref_avg_basequality</td>\n",
       "      <td>0.137716</td>\n",
       "      <td>0.939257</td>\n",
       "      <td>-0.004149</td>\n",
       "      <td>0.008387</td>\n",
       "    </tr>\n",
       "    <tr>\n",
       "      <th>55</th>\n",
       "      <td>tumor_var_avg_sum_mismatch_qualities</td>\n",
       "      <td>0.152253</td>\n",
       "      <td>0.939479</td>\n",
       "      <td>-0.018686</td>\n",
       "      <td>0.008166</td>\n",
       "    </tr>\n",
       "    <tr>\n",
       "      <th>53</th>\n",
       "      <td>tumor_var_avg_pos_as_fraction</td>\n",
       "      <td>0.144218</td>\n",
       "      <td>0.939664</td>\n",
       "      <td>-0.010651</td>\n",
       "      <td>0.007981</td>\n",
       "    </tr>\n",
       "    <tr>\n",
       "      <th>18</th>\n",
       "      <td>normal_var_avg_basequality</td>\n",
       "      <td>0.155246</td>\n",
       "      <td>0.939885</td>\n",
       "      <td>-0.021679</td>\n",
       "      <td>0.007759</td>\n",
       "    </tr>\n",
       "    <tr>\n",
       "      <th>41</th>\n",
       "      <td>tumor_ref_avg_se_mapping_quality</td>\n",
       "      <td>0.140865</td>\n",
       "      <td>0.941696</td>\n",
       "      <td>-0.007298</td>\n",
       "      <td>0.005949</td>\n",
       "    </tr>\n",
       "    <tr>\n",
       "      <th>19</th>\n",
       "      <td>normal_var_avg_clipped_length</td>\n",
       "      <td>0.146631</td>\n",
       "      <td>0.942361</td>\n",
       "      <td>-0.013063</td>\n",
       "      <td>0.005284</td>\n",
       "    </tr>\n",
       "    <tr>\n",
       "      <th>48</th>\n",
       "      <td>tumor_var_avg_clipped_length</td>\n",
       "      <td>0.145036</td>\n",
       "      <td>0.942804</td>\n",
       "      <td>-0.011469</td>\n",
       "      <td>0.004840</td>\n",
       "    </tr>\n",
       "  </tbody>\n",
       "</table>\n",
       "</div>"
      ],
      "text/plain": [
       "                                    feature  shuffled_loss  shuffled_accuracy  \\\n",
       "0                                   disease       0.497287           0.846998   \n",
       "51            tumor_var_avg_mapping_quality       0.302189           0.883724   \n",
       "1                                  reviewer       0.244677           0.897247   \n",
       "47                tumor_var_avg_basequality       0.280788           0.901644   \n",
       "2                                normal_VAF       0.198583           0.928616   \n",
       "12        normal_ref_avg_se_mapping_quality       0.148860           0.936228   \n",
       "31                                tumor_VAF       0.175993           0.936265   \n",
       "39  tumor_ref_avg_num_mismaches_as_fraction       0.152059           0.938777   \n",
       "34                tumor_ref_avg_basequality       0.137716           0.939257   \n",
       "55     tumor_var_avg_sum_mismatch_qualities       0.152253           0.939479   \n",
       "53            tumor_var_avg_pos_as_fraction       0.144218           0.939664   \n",
       "18               normal_var_avg_basequality       0.155246           0.939885   \n",
       "41         tumor_ref_avg_se_mapping_quality       0.140865           0.941696   \n",
       "19            normal_var_avg_clipped_length       0.146631           0.942361   \n",
       "48             tumor_var_avg_clipped_length       0.145036           0.942804   \n",
       "\n",
       "    delta_loss  delta_accuracy  \n",
       "0    -0.363719        0.100647  \n",
       "51   -0.168621        0.063920  \n",
       "1    -0.111109        0.050397  \n",
       "47   -0.147221        0.046000  \n",
       "2    -0.065016        0.019028  \n",
       "12   -0.015293        0.011417  \n",
       "31   -0.042426        0.011380  \n",
       "39   -0.018492        0.008868  \n",
       "34   -0.004149        0.008387  \n",
       "55   -0.018686        0.008166  \n",
       "53   -0.010651        0.007981  \n",
       "18   -0.021679        0.007759  \n",
       "41   -0.007298        0.005949  \n",
       "19   -0.013063        0.005284  \n",
       "48   -0.011469        0.004840  "
      ]
     },
     "execution_count": 87,
     "metadata": {},
     "output_type": "execute_result"
    }
   ],
   "source": [
    "feature_metrics.head(15)"
   ]
  },
  {
   "cell_type": "code",
   "execution_count": null,
   "metadata": {
    "collapsed": true
   },
   "outputs": [],
   "source": []
  },
  {
   "cell_type": "code",
   "execution_count": null,
   "metadata": {
    "collapsed": true
   },
   "outputs": [],
   "source": []
  },
  {
   "cell_type": "markdown",
   "metadata": {},
   "source": [
    "* elu model\n",
    "* drop amb\n",
    "* som/amb/fail model\n",
    "* different roc curves for each class\n",
    "* look at signal for miscalls\n",
    "* ambig analysis\n",
    "* run on filtered variants one study\n",
    "* variant callers roc curve\n",
    "* trained model feature analyasis top ten feature\n",
    "* new model -- reviewer variability - shuffel all reviewers and classify model"
   ]
  },
  {
   "cell_type": "code",
   "execution_count": null,
   "metadata": {
    "collapsed": true
   },
   "outputs": [],
   "source": []
  }
 ],
 "metadata": {
  "kernelspec": {
   "display_name": "Python 3",
   "language": "python",
   "name": "python3"
  },
  "language_info": {
   "codemirror_mode": {
    "name": "ipython",
    "version": 3
   },
   "file_extension": ".py",
   "mimetype": "text/x-python",
   "name": "python",
   "nbconvert_exporter": "python",
   "pygments_lexer": "ipython3",
   "version": "3.6.1"
  }
 },
 "nbformat": 4,
 "nbformat_minor": 2
}
