{
 "cells": [
  {
   "cell_type": "code",
   "execution_count": 1,
   "metadata": {
    "ExecuteTime": {
     "end_time": "2017-05-16T21:19:18.353369Z",
     "start_time": "2017-05-16T16:19:14.801556-05:00"
    }
   },
   "outputs": [
    {
     "name": "stderr",
     "output_type": "stream",
     "text": [
      "Using TensorFlow backend.\n"
     ]
    }
   ],
   "source": [
    "import numpy as np\n",
    "import pandas as pd\n",
    "from keras.models import Sequential\n",
    "from keras.layers import Dense\n",
    "from keras.wrappers.scikit_learn import KerasClassifier\n",
    "from sklearn.model_selection import KFold\n",
    "from sklearn.model_selection import cross_val_predict\n",
    "from sklearn import preprocessing\n",
    "from sklearn import metrics\n",
    "\n",
    "import matplotlib.pyplot as plt\n",
    "import seaborn as sns\n",
    "from itertools import cycle\n",
    "\n",
    "sns.set_style(\"white\")\n",
    "sns.set_context('notebook')"
   ]
  },
  {
   "cell_type": "code",
   "execution_count": 2,
   "metadata": {
    "ExecuteTime": {
     "end_time": "2017-05-16T21:19:19.457906Z",
     "start_time": "2017-05-16T16:19:19.416148-05:00"
    },
    "collapsed": true
   },
   "outputs": [],
   "source": [
    "training_data = pd.read_pickle('../data/training_data.pkl')"
   ]
  },
  {
   "cell_type": "code",
   "execution_count": 4,
   "metadata": {
    "ExecuteTime": {
     "end_time": "2017-05-16T15:18:51.781835Z",
     "start_time": "2017-05-16T10:18:51.758145-05:00"
    }
   },
   "outputs": [
    {
     "data": {
      "text/plain": [
       "call\n",
       "a    13745\n",
       "f     1600\n",
       "g     3946\n",
       "s    17781\n",
       "dtype: int64"
      ]
     },
     "execution_count": 4,
     "metadata": {},
     "output_type": "execute_result"
    }
   ],
   "source": [
    "training_data.groupby('call').size()"
   ]
  },
  {
   "cell_type": "code",
   "execution_count": 5,
   "metadata": {
    "ExecuteTime": {
     "end_time": "2017-05-16T15:18:51.833562Z",
     "start_time": "2017-05-16T10:18:51.783920-05:00"
    },
    "collapsed": true
   },
   "outputs": [],
   "source": [
    "# Get Labels\n",
    "Y = pd.get_dummies(training_data.call).astype(float).values\n",
    "# Get training data as numpy array\n",
    "X = training_data.drop('call', axis=1).astype(float).values"
   ]
  },
  {
   "cell_type": "code",
   "execution_count": 6,
   "metadata": {
    "ExecuteTime": {
     "end_time": "2017-05-16T15:18:51.840460Z",
     "start_time": "2017-05-16T10:18:51.835351-05:00"
    }
   },
   "outputs": [
    {
     "data": {
      "text/plain": [
       "(37072, 67)"
      ]
     },
     "execution_count": 6,
     "metadata": {},
     "output_type": "execute_result"
    }
   ],
   "source": [
    "X.shape"
   ]
  },
  {
   "cell_type": "code",
   "execution_count": 7,
   "metadata": {
    "ExecuteTime": {
     "end_time": "2017-05-16T15:18:51.846788Z",
     "start_time": "2017-05-16T10:18:51.842184-05:00"
    }
   },
   "outputs": [
    {
     "data": {
      "text/plain": [
       "(37072, 4)"
      ]
     },
     "execution_count": 7,
     "metadata": {},
     "output_type": "execute_result"
    }
   ],
   "source": [
    "Y.shape"
   ]
  },
  {
   "cell_type": "code",
   "execution_count": 3,
   "metadata": {
    "ExecuteTime": {
     "end_time": "2017-05-16T21:19:24.716565Z",
     "start_time": "2017-05-16T16:19:24.713663-05:00"
    },
    "collapsed": true
   },
   "outputs": [],
   "source": [
    "# fix random seed for reproducibility\n",
    "seed = 7\n",
    "np.random.seed(seed)"
   ]
  },
  {
   "cell_type": "code",
   "execution_count": 9,
   "metadata": {
    "ExecuteTime": {
     "end_time": "2017-05-16T15:18:51.859993Z",
     "start_time": "2017-05-16T10:18:51.854088-05:00"
    },
    "collapsed": true
   },
   "outputs": [],
   "source": [
    "# define baseline model\n",
    "def baseline_model():\n",
    "    # create model\n",
    "    model = Sequential()\n",
    "    model.add(Dense(67, input_dim=67, kernel_initializer='normal', activation='relu'))\n",
    "    model.add(Dense(23, activation='relu'))\n",
    "    model.add(Dense(23, activation='relu'))\n",
    "    model.add(Dense(4, kernel_initializer='normal', activation='sigmoid'))\n",
    "    # Compile model\n",
    "    model.compile(loss='categorical_crossentropy', optimizer='adam', metrics=['accuracy'])\n",
    "    return model"
   ]
  },
  {
   "cell_type": "code",
   "execution_count": 10,
   "metadata": {
    "ExecuteTime": {
     "end_time": "2017-05-16T15:18:51.865261Z",
     "start_time": "2017-05-16T10:18:51.861906-05:00"
    },
    "collapsed": true
   },
   "outputs": [],
   "source": [
    "estimator = KerasClassifier(build_fn=baseline_model, epochs=10, batch_size=5, verbose=1)"
   ]
  },
  {
   "cell_type": "code",
   "execution_count": 11,
   "metadata": {
    "ExecuteTime": {
     "end_time": "2017-05-16T15:18:51.870559Z",
     "start_time": "2017-05-16T10:18:51.867063-05:00"
    },
    "collapsed": true
   },
   "outputs": [],
   "source": [
    "kfold = KFold(n_splits=10, shuffle=True, random_state=seed)"
   ]
  },
  {
   "cell_type": "code",
   "execution_count": 12,
   "metadata": {
    "ExecuteTime": {
     "end_time": "2017-05-16T16:10:15.643408Z",
     "start_time": "2017-05-16T10:18:51.871860-05:00"
    }
   },
   "outputs": [
    {
     "name": "stdout",
     "output_type": "stream",
     "text": [
      "Epoch 1/10\n",
      "33364/33364 [==============================] - 30s - loss: 0.7363 - acc: 0.6868    \n",
      "Epoch 2/10\n",
      "33364/33364 [==============================] - 23s - loss: 0.6110 - acc: 0.7531    \n",
      "Epoch 3/10\n",
      "33364/33364 [==============================] - 26s - loss: 0.5786 - acc: 0.7664    \n",
      "Epoch 4/10\n",
      "33364/33364 [==============================] - 25s - loss: 0.5632 - acc: 0.7729    \n",
      "Epoch 5/10\n",
      "33364/33364 [==============================] - 26s - loss: 0.5509 - acc: 0.7778    \n",
      "Epoch 6/10\n",
      "33364/33364 [==============================] - 25s - loss: 0.5420 - acc: 0.7827    \n",
      "Epoch 7/10\n",
      "33364/33364 [==============================] - 25s - loss: 0.5326 - acc: 0.7850    \n",
      "Epoch 8/10\n",
      "33364/33364 [==============================] - 25s - loss: 0.5274 - acc: 0.7857    \n",
      "Epoch 9/10\n",
      "33364/33364 [==============================] - 25s - loss: 0.5219 - acc: 0.7900    \n",
      "Epoch 10/10\n",
      "33364/33364 [==============================] - 25s - loss: 0.5164 - acc: 0.7911    \n",
      "3685/3708 [============================>.] - ETA: 0sEpoch 1/10\n",
      "33364/33364 [==============================] - 26s - loss: 0.7351 - acc: 0.6891    \n",
      "Epoch 2/10\n",
      "33364/33364 [==============================] - 27s - loss: 0.6131 - acc: 0.7522    \n",
      "Epoch 3/10\n",
      "33364/33364 [==============================] - 26s - loss: 0.5789 - acc: 0.7686    \n",
      "Epoch 4/10\n",
      "33364/33364 [==============================] - 24s - loss: 0.5615 - acc: 0.7733    \n",
      "Epoch 5/10\n",
      "33364/33364 [==============================] - 28s - loss: 0.5507 - acc: 0.7780    \n",
      "Epoch 6/10\n",
      "33364/33364 [==============================] - 28s - loss: 0.5409 - acc: 0.7822    \n",
      "Epoch 7/10\n",
      "33364/33364 [==============================] - 25s - loss: 0.5333 - acc: 0.7853    \n",
      "Epoch 8/10\n",
      "33364/33364 [==============================] - 28s - loss: 0.5253 - acc: 0.7891    \n",
      "Epoch 9/10\n",
      "33364/33364 [==============================] - 26s - loss: 0.5194 - acc: 0.7896    \n",
      "Epoch 10/10\n",
      "33364/33364 [==============================] - 26s - loss: 0.5147 - acc: 0.7928    \n",
      "3525/3708 [===========================>..] - ETA: 0sEpoch 1/10\n",
      "33365/33365 [==============================] - 26s - loss: 0.7275 - acc: 0.6933    \n",
      "Epoch 2/10\n",
      "33365/33365 [==============================] - 26s - loss: 0.6082 - acc: 0.7534    \n",
      "Epoch 3/10\n",
      "33365/33365 [==============================] - 31s - loss: 0.5752 - acc: 0.7653    \n",
      "Epoch 4/10\n",
      "33365/33365 [==============================] - 28s - loss: 0.5588 - acc: 0.7740    \n",
      "Epoch 5/10\n",
      "33365/33365 [==============================] - 28s - loss: 0.5473 - acc: 0.7786    \n",
      "Epoch 6/10\n",
      "33365/33365 [==============================] - 27s - loss: 0.5364 - acc: 0.7806    \n",
      "Epoch 7/10\n",
      "33365/33365 [==============================] - 25s - loss: 0.5284 - acc: 0.7839    \n",
      "Epoch 8/10\n",
      "33365/33365 [==============================] - 28s - loss: 0.5242 - acc: 0.7868    \n",
      "Epoch 9/10\n",
      "33365/33365 [==============================] - 29s - loss: 0.5170 - acc: 0.7912    \n",
      "Epoch 10/10\n",
      "33365/33365 [==============================] - 28s - loss: 0.5109 - acc: 0.7915    \n",
      "3630/3707 [============================>.] - ETA: 0sEpoch 1/10\n",
      "33365/33365 [==============================] - 28s - loss: 0.7380 - acc: 0.6853    \n",
      "Epoch 2/10\n",
      "33365/33365 [==============================] - 28s - loss: 0.6156 - acc: 0.7522    \n",
      "Epoch 3/10\n",
      "33365/33365 [==============================] - 28s - loss: 0.5804 - acc: 0.7671    \n",
      "Epoch 4/10\n",
      "33365/33365 [==============================] - 28s - loss: 0.5608 - acc: 0.7732    \n",
      "Epoch 5/10\n",
      "33365/33365 [==============================] - 29s - loss: 0.5470 - acc: 0.7810    \n",
      "Epoch 6/10\n",
      "33365/33365 [==============================] - 30s - loss: 0.5379 - acc: 0.7831    \n",
      "Epoch 7/10\n",
      "33365/33365 [==============================] - 35s - loss: 0.5321 - acc: 0.7853    \n",
      "Epoch 8/10\n",
      "33365/33365 [==============================] - 37s - loss: 0.5229 - acc: 0.7886    \n",
      "Epoch 9/10\n",
      "33365/33365 [==============================] - 35s - loss: 0.5181 - acc: 0.7898    \n",
      "Epoch 10/10\n",
      "33365/33365 [==============================] - 36s - loss: 0.5145 - acc: 0.7917    \n",
      "3665/3707 [============================>.] - ETA: 0sEpoch 1/10\n",
      "33365/33365 [==============================] - 35s - loss: 0.7594 - acc: 0.6678    \n",
      "Epoch 2/10\n",
      "33365/33365 [==============================] - 36s - loss: 0.6188 - acc: 0.7513    \n",
      "Epoch 3/10\n",
      "33365/33365 [==============================] - 37s - loss: 0.5858 - acc: 0.7624    \n",
      "Epoch 4/10\n",
      "33365/33365 [==============================] - 33s - loss: 0.5666 - acc: 0.7706    \n",
      "Epoch 5/10\n",
      "33365/33365 [==============================] - 35s - loss: 0.5522 - acc: 0.7769    \n",
      "Epoch 6/10\n",
      "33365/33365 [==============================] - 34s - loss: 0.5432 - acc: 0.7803    \n",
      "Epoch 7/10\n",
      "33365/33365 [==============================] - 31s - loss: 0.5375 - acc: 0.7830    \n",
      "Epoch 8/10\n",
      "33365/33365 [==============================] - 32s - loss: 0.5294 - acc: 0.7845    \n",
      "Epoch 9/10\n",
      "33365/33365 [==============================] - 32s - loss: 0.5231 - acc: 0.7877    \n",
      "Epoch 10/10\n",
      "33365/33365 [==============================] - 32s - loss: 0.5179 - acc: 0.7895    \n",
      "3605/3707 [============================>.] - ETA: 0sEpoch 1/10\n",
      "33365/33365 [==============================] - 33s - loss: 0.7457 - acc: 0.6745    \n",
      "Epoch 2/10\n",
      "33365/33365 [==============================] - 32s - loss: 0.6198 - acc: 0.7482    \n",
      "Epoch 3/10\n",
      "33365/33365 [==============================] - 36s - loss: 0.5851 - acc: 0.7612    \n",
      "Epoch 4/10\n",
      "33365/33365 [==============================] - ETA: 0s - loss: 0.5629 - acc: 0.770 - 30s - loss: 0.5631 - acc: 0.7701    \n",
      "Epoch 5/10\n",
      "33365/33365 [==============================] - 26s - loss: 0.5512 - acc: 0.7769    \n",
      "Epoch 6/10\n",
      "33365/33365 [==============================] - 28s - loss: 0.5409 - acc: 0.7790    \n",
      "Epoch 7/10\n",
      "33365/33365 [==============================] - 28s - loss: 0.5337 - acc: 0.7853    \n",
      "Epoch 8/10\n",
      "33365/33365 [==============================] - 27s - loss: 0.5257 - acc: 0.7862    \n",
      "Epoch 9/10\n",
      "33365/33365 [==============================] - 25s - loss: 0.5194 - acc: 0.7883    \n",
      "Epoch 10/10\n",
      "33365/33365 [==============================] - 25s - loss: 0.5151 - acc: 0.7904    \n",
      "3355/3707 [==========================>...] - ETA: 0sEpoch 1/10\n",
      "33365/33365 [==============================] - 27s - loss: 0.7394 - acc: 0.6867    \n",
      "Epoch 2/10\n",
      "33365/33365 [==============================] - 27s - loss: 0.6134 - acc: 0.7523    \n",
      "Epoch 3/10\n",
      "33365/33365 [==============================] - 25s - loss: 0.5816 - acc: 0.7650    \n",
      "Epoch 4/10\n",
      "33365/33365 [==============================] - 25s - loss: 0.5605 - acc: 0.7719    \n",
      "Epoch 5/10\n",
      "33365/33365 [==============================] - 33s - loss: 0.5482 - acc: 0.7777    \n",
      "Epoch 6/10\n",
      "33365/33365 [==============================] - 34s - loss: 0.5407 - acc: 0.7817    \n",
      "Epoch 7/10\n",
      "33365/33365 [==============================] - 34s - loss: 0.5313 - acc: 0.7832    \n",
      "Epoch 8/10\n",
      "33365/33365 [==============================] - 33s - loss: 0.5243 - acc: 0.7867    \n",
      "Epoch 9/10\n",
      "33365/33365 [==============================] - 33s - loss: 0.5199 - acc: 0.7870    \n",
      "Epoch 10/10\n",
      "33365/33365 [==============================] - 33s - loss: 0.5158 - acc: 0.7905    \n",
      "3475/3707 [===========================>..] - ETA: 0sEpoch 1/10\n",
      "33365/33365 [==============================] - 34s - loss: 0.7130 - acc: 0.6992    \n",
      "Epoch 2/10\n",
      "33365/33365 [==============================] - 33s - loss: 0.5993 - acc: 0.7563    \n",
      "Epoch 3/10\n",
      "33365/33365 [==============================] - 34s - loss: 0.5729 - acc: 0.7670    \n",
      "Epoch 4/10\n",
      "33365/33365 [==============================] - 33s - loss: 0.5557 - acc: 0.7734    \n",
      "Epoch 5/10\n",
      "33365/33365 [==============================] - 34s - loss: 0.5451 - acc: 0.7793    \n",
      "Epoch 6/10\n",
      "33365/33365 [==============================] - 38s - loss: 0.5361 - acc: 0.7831    \n",
      "Epoch 7/10\n",
      "33365/33365 [==============================] - 37s - loss: 0.5272 - acc: 0.7859    \n",
      "Epoch 8/10\n",
      "33365/33365 [==============================] - 37s - loss: 0.5196 - acc: 0.7904    \n",
      "Epoch 9/10\n",
      "33365/33365 [==============================] - 37s - loss: 0.5158 - acc: 0.7906    \n",
      "Epoch 10/10\n",
      "33365/33365 [==============================] - 37s - loss: 0.5104 - acc: 0.7922    \n",
      "3690/3707 [============================>.] - ETA: 0sEpoch 1/10\n",
      "33365/33365 [==============================] - 37s - loss: 0.7231 - acc: 0.7000    \n",
      "Epoch 2/10\n"
     ]
    },
    {
     "name": "stdout",
     "output_type": "stream",
     "text": [
      "33365/33365 [==============================] - 29s - loss: 0.6133 - acc: 0.7524    \n",
      "Epoch 3/10\n",
      "33365/33365 [==============================] - 29s - loss: 0.5796 - acc: 0.7663    \n",
      "Epoch 4/10\n",
      "33365/33365 [==============================] - 29s - loss: 0.5621 - acc: 0.7710    \n",
      "Epoch 5/10\n",
      "33365/33365 [==============================] - 29s - loss: 0.5500 - acc: 0.7760    \n",
      "Epoch 6/10\n",
      "33365/33365 [==============================] - 29s - loss: 0.5386 - acc: 0.7809    \n",
      "Epoch 7/10\n",
      "33365/33365 [==============================] - 29s - loss: 0.5328 - acc: 0.7841    \n",
      "Epoch 8/10\n",
      "33365/33365 [==============================] - 29s - loss: 0.5264 - acc: 0.7871    \n",
      "Epoch 9/10\n",
      "33365/33365 [==============================] - 29s - loss: 0.5206 - acc: 0.7893    \n",
      "Epoch 10/10\n",
      "33365/33365 [==============================] - 29s - loss: 0.5161 - acc: 0.7895    \n",
      "3425/3707 [==========================>...] - ETA: 0sEpoch 1/10\n",
      "33365/33365 [==============================] - 30s - loss: 0.7278 - acc: 0.6936    \n",
      "Epoch 2/10\n",
      "33365/33365 [==============================] - 29s - loss: 0.6103 - acc: 0.7547    \n",
      "Epoch 3/10\n",
      "33365/33365 [==============================] - 29s - loss: 0.5804 - acc: 0.7648    \n",
      "Epoch 4/10\n",
      "33365/33365 [==============================] - 29s - loss: 0.5618 - acc: 0.7724    \n",
      "Epoch 5/10\n",
      "33365/33365 [==============================] - 29s - loss: 0.5490 - acc: 0.7785    \n",
      "Epoch 6/10\n",
      "33365/33365 [==============================] - 30s - loss: 0.5378 - acc: 0.7800    \n",
      "Epoch 7/10\n",
      "33365/33365 [==============================] - 37s - loss: 0.5312 - acc: 0.7828    \n",
      "Epoch 8/10\n",
      "33365/33365 [==============================] - 40s - loss: 0.5268 - acc: 0.7857    \n",
      "Epoch 9/10\n",
      "33365/33365 [==============================] - 39s - loss: 0.5210 - acc: 0.7890    \n",
      "Epoch 10/10\n",
      "33365/33365 [==============================] - 38s - loss: 0.5148 - acc: 0.7922    \n",
      "3520/3707 [===========================>..] - ETA: 0s"
     ]
    }
   ],
   "source": [
    "probabilities = cross_val_predict(estimator, X, Y, cv=kfold, method='predict_proba')"
   ]
  },
  {
   "cell_type": "code",
   "execution_count": 13,
   "metadata": {
    "ExecuteTime": {
     "end_time": "2017-05-16T16:10:15.756829Z",
     "start_time": "2017-05-16T11:10:15.646153-05:00"
    },
    "collapsed": true
   },
   "outputs": [],
   "source": [
    "predicted = np.array([list(a).index(max(list(a))) for a in list(probabilities)])"
   ]
  },
  {
   "cell_type": "code",
   "execution_count": 14,
   "metadata": {
    "ExecuteTime": {
     "end_time": "2017-05-16T16:10:15.770727Z",
     "start_time": "2017-05-16T11:10:15.759108-05:00"
    },
    "collapsed": true
   },
   "outputs": [],
   "source": [
    "label_binarizer = preprocessing.LabelBinarizer()\n",
    "\n",
    "label_binarizer.fit(range(max(predicted)+1))\n",
    "predicted_transformed = label_binarizer.transform(predicted)"
   ]
  },
  {
   "cell_type": "code",
   "execution_count": 15,
   "metadata": {
    "ExecuteTime": {
     "end_time": "2017-05-16T16:10:15.790437Z",
     "start_time": "2017-05-16T11:10:15.772757-05:00"
    }
   },
   "outputs": [
    {
     "data": {
      "text/plain": [
       "0.7869551143720328"
      ]
     },
     "execution_count": 15,
     "metadata": {},
     "output_type": "execute_result"
    }
   ],
   "source": [
    "metrics.accuracy_score(Y, predicted_transformed)"
   ]
  },
  {
   "cell_type": "markdown",
   "metadata": {},
   "source": [
    "#### Classification report\n",
    "* 0 = ambiguous\n",
    "* 1 = fail\n",
    "* 2 = germline\n",
    "* 3 = somatic"
   ]
  },
  {
   "cell_type": "code",
   "execution_count": 16,
   "metadata": {
    "ExecuteTime": {
     "end_time": "2017-05-16T16:10:15.813408Z",
     "start_time": "2017-05-16T11:10:15.792473-05:00"
    }
   },
   "outputs": [
    {
     "name": "stdout",
     "output_type": "stream",
     "text": [
      "             precision    recall  f1-score   support\n",
      "\n",
      "          0       0.79      0.74      0.77     13745\n",
      "          1       0.56      0.48      0.51      1600\n",
      "          2       0.59      0.80      0.68      3946\n",
      "          3       0.86      0.84      0.85     17781\n",
      "\n",
      "avg / total       0.79      0.79      0.79     37072\n",
      "\n"
     ]
    }
   ],
   "source": [
    "print(metrics.classification_report(Y, predicted_transformed))"
   ]
  },
  {
   "cell_type": "code",
   "execution_count": 17,
   "metadata": {
    "ExecuteTime": {
     "end_time": "2017-05-16T16:10:16.107747Z",
     "start_time": "2017-05-16T11:10:15.815400-05:00"
    }
   },
   "outputs": [
    {
     "data": {
      "image/png": "[encoded data removed]",
      "text/plain": [
       "<matplotlib.figure.Figure at 0x136677828>"
      ]
     },
     "metadata": {},
     "output_type": "display_data"
    }
   ],
   "source": [
    "n_classes = Y.shape[1]\n",
    "class_lookup = {0: 'Ambiguous', 1: 'Fail', 2: 'Germline', 3: 'Somatic'}\n",
    "fpr = dict()\n",
    "tpr = dict()\n",
    "roc_auc = dict()\n",
    "plt.title('Receiver Operating Characteristic')\n",
    "colors = cycle(['aqua', 'darkorange', 'cornflowerblue', 'deeppink'])\n",
    "for i, color in zip(range(n_classes), colors):\n",
    "    fpr[i], tpr[i], _ = metrics.roc_curve(Y[:, i], probabilities[:, i])\n",
    "    roc_auc[i] = metrics.auc(fpr[i], tpr[i])\n",
    "    plt.plot(fpr[i], tpr[i], color=color, label='ROC curve of class {0}'\n",
    "             ' (area = {1:0.2f})'.format(class_lookup[i], roc_auc[i]))\n",
    "plt.plot([0, 1], [0, 1], 'k--')\n",
    "plt.xlim([-0.01, 1.0])\n",
    "plt.ylim([0.0, 1.05])\n",
    "plt.xlabel('False Positive Rate')\n",
    "plt.ylabel('True Positive Rate')\n",
    "plt.legend(loc=\"lower right\")\n",
    "plt.show()"
   ]
  },
  {
   "cell_type": "code",
   "execution_count": 18,
   "metadata": {
    "ExecuteTime": {
     "end_time": "2017-05-16T16:10:16.119078Z",
     "start_time": "2017-05-16T11:10:16.109952-05:00"
    },
    "collapsed": true
   },
   "outputs": [],
   "source": [
    "%matplotlib inline"
   ]
  },
  {
   "cell_type": "code",
   "execution_count": 24,
   "metadata": {
    "ExecuteTime": {
     "end_time": "2017-05-16T21:14:20.323669Z",
     "start_time": "2017-05-16T16:14:20.156585-05:00"
    },
    "collapsed": true
   },
   "outputs": [],
   "source": [
    "prob_df = pd.DataFrame(probabilities, columns=['Ambiguous','Fail',\n",
    "                                               'Germline', 'Somatic'])\n",
    "\n",
    "# Normalize the values by dividing each value by the sum of its columns\n",
    "prob_df_norm = prob_df.div(prob_df.sum(axis=1), axis=0)\n",
    "\n",
    "label_index = pd.DataFrame(Y, columns=['Ambiguous','Fail',\n",
    "                                          'Germline','Somatic'], dtype=bool)\n",
    "\n",
    "positive_probabilities = prob_df_norm[label_index].unstack().dropna().values\n",
    "\n",
    "positive_counts, bins = np.histogram(positive_probabilities, bins=[0,.1,.2,.3,.4,.5,.6,.7,.8,.9,1])\n",
    "\n",
    "negative_probabilities = prob_df_norm[~label_index].unstack().dropna()\n",
    "\n",
    "negative_counts, _ = np.histogram(negative_probabilities, bins=[0,.1,.2,.3,.4,.5,.6,.7,.8,.9,1])\n",
    "\n",
    "pct_positive = positive_counts / (positive_counts + negative_counts)"
   ]
  },
  {
   "cell_type": "code",
   "execution_count": 26,
   "metadata": {
    "ExecuteTime": {
     "end_time": "2017-05-16T21:15:00.370453Z",
     "start_time": "2017-05-16T16:15:00.068636-05:00"
    }
   },
   "outputs": [
    {
     "data": {
      "image/png": "[encoded data removed]",
      "text/plain": [
       "<matplotlib.figure.Figure at 0x13feef828>"
      ]
     },
     "metadata": {},
     "output_type": "display_data"
    }
   ],
   "source": [
    "width = 0.03       # the width of the bars\n",
    "\n",
    "fig, ax1 = plt.subplots()\n",
    "rects1 = ax1.bar(bins[1:], negative_counts, width, color='grey')\n",
    "\n",
    "rects2 = ax1.bar(bins[1:] + width, positive_counts, width, color='green')\n",
    "\n",
    "# add some text for labels, title and axes ticks\n",
    "\n",
    "ax1.set_title('Reliability diagram')\n",
    "ax1.set_xticks(bins[1:] + width / 2)\n",
    "ax1.set_xticklabels(bins[1:])\n",
    "# ax.plot(ax.get_xlim(), ax.get_ylim(), ls=\"--\", c=\".3\")\n",
    "\n",
    "# ax1.legend((rects1[0], rects2[0]), ('Neg', 'Pos'), loc=5)\n",
    "\n",
    "ax2 = ax1.twinx()\n",
    "ax2.plot([0, 1], [0, 1], 'k--')\n",
    "r2 = metrics.r2_score(bins[1:], pct_positive)\n",
    "ax2.plot(bins[1:], pct_positive, \"-o\", color='blue')\n",
    "ax2.text(.85,.75,'$R^2$: {0:0.2f}'.format(r2), color='blue', fontsize=15)\n",
    "\n",
    "\n",
    "plt.show()"
   ]
  },
  {
   "cell_type": "markdown",
   "metadata": {},
   "source": [
    "## Refactor to single class classifier \n",
    "Manual reviewer's calling variants germline is problematic as the callers that produced the calls are designed to call somatic variants. These germline calls are likely very poor quality and in most analysis streams get thrown out anyway. While 'ambigous' variant exist in a grey area where the reviewer is unsure whether to call the variant somatic or fail. All of these classes (germile, ambiguous, and fail) are treated the same in downstream analysis (thrown out)."
   ]
  },
  {
   "cell_type": "code",
   "execution_count": 4,
   "metadata": {
    "ExecuteTime": {
     "end_time": "2017-05-16T21:19:30.777888Z",
     "start_time": "2017-05-16T16:19:30.760797-05:00"
    }
   },
   "outputs": [
    {
     "data": {
      "text/plain": [
       "call\n",
       "a    13745\n",
       "f     1600\n",
       "g     3946\n",
       "s    17781\n",
       "dtype: int64"
      ]
     },
     "execution_count": 4,
     "metadata": {},
     "output_type": "execute_result"
    }
   ],
   "source": [
    "training_data.groupby('call').size()"
   ]
  },
  {
   "cell_type": "code",
   "execution_count": 5,
   "metadata": {
    "ExecuteTime": {
     "end_time": "2017-05-16T21:19:31.468797Z",
     "start_time": "2017-05-16T16:19:31.455654-05:00"
    },
    "collapsed": true
   },
   "outputs": [],
   "source": [
    "training_data['binary_call'] = training_data.call.replace(['a', 'f', 'g'], False)\n",
    "training_data['binary_call'] = training_data['binary_call'].replace('s', True)"
   ]
  },
  {
   "cell_type": "code",
   "execution_count": 6,
   "metadata": {
    "ExecuteTime": {
     "end_time": "2017-05-16T21:19:31.863031Z",
     "start_time": "2017-05-16T16:19:31.855344-05:00"
    }
   },
   "outputs": [
    {
     "data": {
      "text/plain": [
       "binary_call\n",
       "False    19291\n",
       "True     17781\n",
       "dtype: int64"
      ]
     },
     "execution_count": 6,
     "metadata": {},
     "output_type": "execute_result"
    }
   ],
   "source": [
    "training_data.groupby('binary_call').size()"
   ]
  },
  {
   "cell_type": "code",
   "execution_count": 7,
   "metadata": {
    "ExecuteTime": {
     "end_time": "2017-05-16T21:19:32.367009Z",
     "start_time": "2017-05-16T16:19:32.319172-05:00"
    },
    "collapsed": true
   },
   "outputs": [],
   "source": [
    "# Get Labels\n",
    "binary_Y = training_data.binary_call.astype(int).values\n",
    "# Get training data as numpy array\n",
    "X = training_data.drop(['call', 'binary_call'], axis=1).astype(float).values"
   ]
  },
  {
   "cell_type": "code",
   "execution_count": 8,
   "metadata": {
    "ExecuteTime": {
     "end_time": "2017-05-16T21:19:32.884254Z",
     "start_time": "2017-05-16T16:19:32.879972-05:00"
    }
   },
   "outputs": [
    {
     "data": {
      "text/plain": [
       "(37072, 67)"
      ]
     },
     "execution_count": 8,
     "metadata": {},
     "output_type": "execute_result"
    }
   ],
   "source": [
    "X.shape"
   ]
  },
  {
   "cell_type": "code",
   "execution_count": 9,
   "metadata": {
    "ExecuteTime": {
     "end_time": "2017-05-16T21:19:33.379389Z",
     "start_time": "2017-05-16T16:19:33.375359-05:00"
    }
   },
   "outputs": [
    {
     "data": {
      "text/plain": [
       "(37072,)"
      ]
     },
     "execution_count": 9,
     "metadata": {},
     "output_type": "execute_result"
    }
   ],
   "source": [
    "binary_Y.shape"
   ]
  },
  {
   "cell_type": "code",
   "execution_count": 14,
   "metadata": {
    "ExecuteTime": {
     "end_time": "2017-05-16T21:22:10.690878Z",
     "start_time": "2017-05-16T16:22:10.684631-05:00"
    },
    "collapsed": true
   },
   "outputs": [],
   "source": [
    "# define baseline model\n",
    "def baseline_binary_model():\n",
    "    # create model\n",
    "    model = Sequential()\n",
    "    model.add(Dense(67, input_dim=67, kernel_initializer='normal', activation='relu'))\n",
    "    model.add(Dense(23, activation='relu'))\n",
    "    model.add(Dense(23, activation='relu'))\n",
    "    model.add(Dense(1, kernel_initializer='normal', activation='sigmoid'))\n",
    "    # Compile model\n",
    "    model.compile(loss='binary_crossentropy', optimizer='adam', metrics=['accuracy'])\n",
    "    return model"
   ]
  },
  {
   "cell_type": "code",
   "execution_count": 15,
   "metadata": {
    "ExecuteTime": {
     "end_time": "2017-05-16T21:22:11.630021Z",
     "start_time": "2017-05-16T16:22:11.626978-05:00"
    },
    "collapsed": true
   },
   "outputs": [],
   "source": [
    "binary_estimator = KerasClassifier(build_fn=baseline_binary_model, epochs=10, batch_size=5, verbose=1)"
   ]
  },
  {
   "cell_type": "code",
   "execution_count": 16,
   "metadata": {
    "ExecuteTime": {
     "end_time": "2017-05-16T21:22:12.566561Z",
     "start_time": "2017-05-16T16:22:12.563215-05:00"
    },
    "collapsed": true
   },
   "outputs": [],
   "source": [
    "binary_kfold = KFold(n_splits=10, shuffle=True, random_state=seed)"
   ]
  },
  {
   "cell_type": "code",
   "execution_count": 17,
   "metadata": {
    "ExecuteTime": {
     "end_time": "2017-05-16T22:20:26.466738Z",
     "start_time": "2017-05-16T16:22:15.488397-05:00"
    }
   },
   "outputs": [
    {
     "name": "stdout",
     "output_type": "stream",
     "text": [
      "Epoch 1/10\n",
      "33364/33364 [==============================] - 32s - loss: 0.4274 - acc: 0.8141    \n",
      "Epoch 2/10\n",
      "33364/33364 [==============================] - 32s - loss: 0.3720 - acc: 0.8439    \n",
      "Epoch 3/10\n",
      "33364/33364 [==============================] - 30s - loss: 0.3545 - acc: 0.8514    \n",
      "Epoch 4/10\n",
      "33364/33364 [==============================] - 29s - loss: 0.3450 - acc: 0.8563    \n",
      "Epoch 5/10\n",
      "33364/33364 [==============================] - 29s - loss: 0.3397 - acc: 0.8576    \n",
      "Epoch 6/10\n",
      "33364/33364 [==============================] - 29s - loss: 0.3330 - acc: 0.8615    \n",
      "Epoch 7/10\n",
      "33364/33364 [==============================] - 30s - loss: 0.3291 - acc: 0.8631    \n",
      "Epoch 8/10\n",
      "33364/33364 [==============================] - 34s - loss: 0.3252 - acc: 0.8633    \n",
      "Epoch 9/10\n",
      "33364/33364 [==============================] - 35s - loss: 0.3219 - acc: 0.8652    \n",
      "Epoch 10/10\n",
      "33364/33364 [==============================] - 35s - loss: 0.3187 - acc: 0.8676    \n",
      "3570/3708 [===========================>..] - ETA: 0sEpoch 1/10\n",
      "33364/33364 [==============================] - 35s - loss: 0.4352 - acc: 0.8105    \n",
      "Epoch 2/10\n",
      "33364/33364 [==============================] - 32s - loss: 0.3750 - acc: 0.8435    \n",
      "Epoch 3/10\n",
      "33364/33364 [==============================] - 36s - loss: 0.3583 - acc: 0.8499    \n",
      "Epoch 4/10\n",
      "33364/33364 [==============================] - 36s - loss: 0.3481 - acc: 0.8550    \n",
      "Epoch 5/10\n",
      "33364/33364 [==============================] - 36s - loss: 0.3407 - acc: 0.8583    \n",
      "Epoch 6/10\n",
      "33364/33364 [==============================] - 37s - loss: 0.3351 - acc: 0.8603    \n",
      "Epoch 7/10\n",
      "33364/33364 [==============================] - 36s - loss: 0.3304 - acc: 0.8618    \n",
      "Epoch 8/10\n",
      "33364/33364 [==============================] - 38s - loss: 0.3276 - acc: 0.8652    \n",
      "Epoch 9/10\n",
      "33364/33364 [==============================] - 37s - loss: 0.3228 - acc: 0.8663    \n",
      "Epoch 10/10\n",
      "33364/33364 [==============================] - 38s - loss: 0.3214 - acc: 0.8668    \n",
      "3550/3708 [===========================>..] - ETA: 0sEpoch 1/10\n",
      "33365/33365 [==============================] - 37s - loss: 0.4312 - acc: 0.8114    \n",
      "Epoch 2/10\n",
      "33365/33365 [==============================] - 36s - loss: 0.3731 - acc: 0.8426    \n",
      "Epoch 3/10\n",
      "33365/33365 [==============================] - 37s - loss: 0.3571 - acc: 0.8518    \n",
      "Epoch 4/10\n",
      "33365/33365 [==============================] - 35s - loss: 0.3495 - acc: 0.8552    \n",
      "Epoch 5/10\n",
      "33365/33365 [==============================] - 38s - loss: 0.3401 - acc: 0.8592    \n",
      "Epoch 6/10\n",
      "33365/33365 [==============================] - 39s - loss: 0.3347 - acc: 0.8609    \n",
      "Epoch 7/10\n",
      "33365/33365 [==============================] - 36s - loss: 0.3302 - acc: 0.8620    \n",
      "Epoch 8/10\n",
      "33365/33365 [==============================] - 37s - loss: 0.3270 - acc: 0.8646    \n",
      "Epoch 9/10\n",
      "33365/33365 [==============================] - 38s - loss: 0.3239 - acc: 0.8638    \n",
      "Epoch 10/10\n",
      "33365/33365 [==============================] - 37s - loss: 0.3206 - acc: 0.8665    \n",
      "3570/3707 [===========================>..] - ETA: 0sEpoch 1/10\n",
      "33365/33365 [==============================] - 37s - loss: 0.4329 - acc: 0.8103    \n",
      "Epoch 2/10\n",
      "33365/33365 [==============================] - 34s - loss: 0.3749 - acc: 0.8436    \n",
      "Epoch 3/10\n",
      "33365/33365 [==============================] - 35s - loss: 0.3586 - acc: 0.8489    \n",
      "Epoch 4/10\n",
      "33365/33365 [==============================] - 35s - loss: 0.3492 - acc: 0.8539    \n",
      "Epoch 5/10\n",
      "33365/33365 [==============================] - 35s - loss: 0.3428 - acc: 0.8555    \n",
      "Epoch 6/10\n",
      "33365/33365 [==============================] - 37s - loss: 0.3384 - acc: 0.8583    \n",
      "Epoch 7/10\n",
      "33365/33365 [==============================] - 38s - loss: 0.3327 - acc: 0.8607    \n",
      "Epoch 8/10\n",
      "33365/33365 [==============================] - 35s - loss: 0.3303 - acc: 0.8624    \n",
      "Epoch 9/10\n",
      "33365/33365 [==============================] - 37s - loss: 0.3260 - acc: 0.8653    \n",
      "Epoch 10/10\n",
      "33365/33365 [==============================] - 37s - loss: 0.3242 - acc: 0.8652    \n",
      "3575/3707 [===========================>..] - ETA: 0sEpoch 1/10\n",
      "33365/33365 [==============================] - 38s - loss: 0.4401 - acc: 0.8062    \n",
      "Epoch 2/10\n",
      "33365/33365 [==============================] - 37s - loss: 0.3776 - acc: 0.8410    \n",
      "Epoch 3/10\n",
      "33365/33365 [==============================] - 38s - loss: 0.3622 - acc: 0.8491    \n",
      "Epoch 4/10\n",
      "33365/33365 [==============================] - 41s - loss: 0.3533 - acc: 0.8529    \n",
      "Epoch 5/10\n",
      "33365/33365 [==============================] - 40s - loss: 0.3439 - acc: 0.8563    \n",
      "Epoch 6/10\n",
      "33365/33365 [==============================] - 39s - loss: 0.3423 - acc: 0.8571    \n",
      "Epoch 7/10\n",
      "33365/33365 [==============================] - 37s - loss: 0.3357 - acc: 0.8608    \n",
      "Epoch 8/10\n",
      "33365/33365 [==============================] - 31s - loss: 0.3317 - acc: 0.8607    \n",
      "Epoch 9/10\n",
      "33365/33365 [==============================] - 29s - loss: 0.3274 - acc: 0.8636    \n",
      "Epoch 10/10\n",
      "33365/33365 [==============================] - 29s - loss: 0.3244 - acc: 0.8635    \n",
      "3350/3707 [==========================>...] - ETA: 0sEpoch 1/10\n",
      "33365/33365 [==============================] - 29s - loss: 0.4373 - acc: 0.8070    \n",
      "Epoch 2/10\n",
      "33365/33365 [==============================] - 29s - loss: 0.3773 - acc: 0.8425    \n",
      "Epoch 3/10\n",
      "33365/33365 [==============================] - 29s - loss: 0.3607 - acc: 0.8494    \n",
      "Epoch 4/10\n",
      "33365/33365 [==============================] - 29s - loss: 0.3512 - acc: 0.8539    \n",
      "Epoch 5/10\n",
      "33365/33365 [==============================] - 29s - loss: 0.3459 - acc: 0.8562    \n",
      "Epoch 6/10\n",
      "33365/33365 [==============================] - 29s - loss: 0.3390 - acc: 0.8585    \n",
      "Epoch 7/10\n",
      "33365/33365 [==============================] - 28s - loss: 0.3349 - acc: 0.8589    \n",
      "Epoch 8/10\n",
      "33365/33365 [==============================] - 30s - loss: 0.3316 - acc: 0.8613    \n",
      "Epoch 9/10\n",
      "33365/33365 [==============================] - 28s - loss: 0.3283 - acc: 0.8634    \n",
      "Epoch 10/10\n",
      "33365/33365 [==============================] - 29s - loss: 0.3230 - acc: 0.8647    \n",
      "3610/3707 [============================>.] - ETA: 0sEpoch 1/10\n",
      "33365/33365 [==============================] - 29s - loss: 0.4328 - acc: 0.8090    \n",
      "Epoch 2/10\n",
      "33365/33365 [==============================] - 29s - loss: 0.3746 - acc: 0.8415    \n",
      "Epoch 3/10\n",
      "33365/33365 [==============================] - 28s - loss: 0.3581 - acc: 0.8497    \n",
      "Epoch 4/10\n",
      "33365/33365 [==============================] - 29s - loss: 0.3467 - acc: 0.8546    \n",
      "Epoch 5/10\n",
      "33365/33365 [==============================] - 28s - loss: 0.3413 - acc: 0.8582    \n",
      "Epoch 6/10\n",
      "33365/33365 [==============================] - 29s - loss: 0.3363 - acc: 0.8610    \n",
      "Epoch 7/10\n",
      "33365/33365 [==============================] - 29s - loss: 0.3304 - acc: 0.8623    \n",
      "Epoch 8/10\n",
      "33365/33365 [==============================] - 31s - loss: 0.3277 - acc: 0.8650    \n",
      "Epoch 9/10\n",
      "33365/33365 [==============================] - 31s - loss: 0.3231 - acc: 0.8655    \n",
      "Epoch 10/10\n",
      "33365/33365 [==============================] - 35s - loss: 0.3210 - acc: 0.8654    \n",
      "3655/3707 [============================>.] - ETA: 0sEpoch 1/10\n",
      "33365/33365 [==============================] - 37s - loss: 0.4363 - acc: 0.8082    \n",
      "Epoch 2/10\n",
      "33365/33365 [==============================] - 36s - loss: 0.3791 - acc: 0.8382    \n",
      "Epoch 3/10\n",
      "33365/33365 [==============================] - 41s - loss: 0.3592 - acc: 0.8509    \n",
      "Epoch 4/10\n",
      "33365/33365 [==============================] - 36s - loss: 0.3489 - acc: 0.8537    \n",
      "Epoch 5/10\n",
      "33365/33365 [==============================] - 35s - loss: 0.3432 - acc: 0.8566    \n",
      "Epoch 6/10\n",
      "33365/33365 [==============================] - 37s - loss: 0.3363 - acc: 0.8604    \n",
      "Epoch 7/10\n",
      "33365/33365 [==============================] - 36s - loss: 0.3326 - acc: 0.8598    \n",
      "Epoch 8/10\n",
      "33365/33365 [==============================] - 36s - loss: 0.3282 - acc: 0.8621    \n",
      "Epoch 9/10\n",
      "33365/33365 [==============================] - 37s - loss: 0.3253 - acc: 0.8647    \n",
      "Epoch 10/10\n",
      "33365/33365 [==============================] - 40s - loss: 0.3209 - acc: 0.8672    \n",
      "3635/3707 [============================>.] - ETA: 0sEpoch 1/10\n",
      "33365/33365 [==============================] - 39s - loss: 0.4390 - acc: 0.8077    \n",
      "Epoch 2/10\n"
     ]
    },
    {
     "name": "stdout",
     "output_type": "stream",
     "text": [
      "33365/33365 [==============================] - 38s - loss: 0.3795 - acc: 0.8404    \n",
      "Epoch 3/10\n",
      "33365/33365 [==============================] - 40s - loss: 0.3606 - acc: 0.8495    \n",
      "Epoch 4/10\n",
      "33365/33365 [==============================] - 39s - loss: 0.3494 - acc: 0.8559    \n",
      "Epoch 5/10\n",
      "33365/33365 [==============================] - 38s - loss: 0.3427 - acc: 0.8589    \n",
      "Epoch 6/10\n",
      "33365/33365 [==============================] - 37s - loss: 0.3373 - acc: 0.8599    \n",
      "Epoch 7/10\n",
      "33365/33365 [==============================] - 38s - loss: 0.3323 - acc: 0.8612    \n",
      "Epoch 8/10\n",
      "33365/33365 [==============================] - 38s - loss: 0.3293 - acc: 0.8635    \n",
      "Epoch 9/10\n",
      "33365/33365 [==============================] - 36s - loss: 0.3241 - acc: 0.8653    \n",
      "Epoch 10/10\n",
      "33365/33365 [==============================] - 31s - loss: 0.3221 - acc: 0.8656    \n",
      "3360/3707 [==========================>...] - ETA: 0sEpoch 1/10\n",
      "33365/33365 [==============================] - 35s - loss: 0.4343 - acc: 0.8081    \n",
      "Epoch 2/10\n",
      "33365/33365 [==============================] - 35s - loss: 0.3776 - acc: 0.8406    \n",
      "Epoch 3/10\n",
      "33365/33365 [==============================] - 34s - loss: 0.3603 - acc: 0.8484    \n",
      "Epoch 4/10\n",
      "33365/33365 [==============================] - 31s - loss: 0.3507 - acc: 0.8519    \n",
      "Epoch 5/10\n",
      "33365/33365 [==============================] - 31s - loss: 0.3440 - acc: 0.8555    \n",
      "Epoch 6/10\n",
      "33365/33365 [==============================] - 30s - loss: 0.3373 - acc: 0.8593    \n",
      "Epoch 7/10\n",
      "33365/33365 [==============================] - 31s - loss: 0.3318 - acc: 0.8623    \n",
      "Epoch 8/10\n",
      "33365/33365 [==============================] - 33s - loss: 0.3282 - acc: 0.8625    \n",
      "Epoch 9/10\n",
      "33365/33365 [==============================] - 34s - loss: 0.3250 - acc: 0.8633    \n",
      "Epoch 10/10\n",
      "33365/33365 [==============================] - 34s - loss: 0.3211 - acc: 0.8652    \n",
      "3555/3707 [===========================>..] - ETA: 0s"
     ]
    }
   ],
   "source": [
    "binary_probabilities = cross_val_predict(binary_estimator, X, binary_Y, cv=binary_kfold, method='predict_proba')"
   ]
  },
  {
   "cell_type": "code",
   "execution_count": 18,
   "metadata": {
    "ExecuteTime": {
     "end_time": "2017-05-16T22:20:26.577250Z",
     "start_time": "2017-05-16T17:20:26.468825-05:00"
    },
    "collapsed": true
   },
   "outputs": [],
   "source": [
    "predicted = np.array([list(a).index(max(list(a))) for a in list(binary_probabilities)])"
   ]
  },
  {
   "cell_type": "code",
   "execution_count": 19,
   "metadata": {
    "ExecuteTime": {
     "end_time": "2017-05-16T22:20:26.586452Z",
     "start_time": "2017-05-16T17:20:26.580024-05:00"
    }
   },
   "outputs": [
    {
     "data": {
      "text/plain": [
       "0.86205222270176951"
      ]
     },
     "execution_count": 19,
     "metadata": {},
     "output_type": "execute_result"
    }
   ],
   "source": [
    "metrics.accuracy_score(binary_Y, predicted)"
   ]
  },
  {
   "cell_type": "code",
   "execution_count": 20,
   "metadata": {
    "ExecuteTime": {
     "end_time": "2017-05-16T22:20:26.600712Z",
     "start_time": "2017-05-16T17:20:26.588734-05:00"
    }
   },
   "outputs": [
    {
     "name": "stdout",
     "output_type": "stream",
     "text": [
      "             precision    recall  f1-score   support\n",
      "\n",
      "          0       0.85      0.90      0.87     19291\n",
      "          1       0.88      0.82      0.85     17781\n",
      "\n",
      "avg / total       0.86      0.86      0.86     37072\n",
      "\n"
     ]
    }
   ],
   "source": [
    "print(metrics.classification_report(binary_Y, predicted))"
   ]
  },
  {
   "cell_type": "code",
   "execution_count": 21,
   "metadata": {
    "ExecuteTime": {
     "end_time": "2017-05-16T22:20:26.606548Z",
     "start_time": "2017-05-16T17:20:26.602815-05:00"
    },
    "collapsed": true
   },
   "outputs": [],
   "source": [
    "somatic_prob = binary_probabilities[:,1]"
   ]
  },
  {
   "cell_type": "code",
   "execution_count": 27,
   "metadata": {
    "ExecuteTime": {
     "end_time": "2017-05-16T22:21:33.700296Z",
     "start_time": "2017-05-16T17:21:33.475719-05:00"
    }
   },
   "outputs": [
    {
     "data": {
      "image/png": "[encoded data removed]",
      "text/plain": [
       "<matplotlib.figure.Figure at 0x147f2b4e0>"
      ]
     },
     "metadata": {},
     "output_type": "display_data"
    }
   ],
   "source": [
    "plt.title('Receiver Operating Characteristic')\n",
    "fpr, tpr, _ = metrics.roc_curve(binary_Y, somatic_prob)\n",
    "roc_auc = metrics.auc(fpr, tpr)\n",
    "plt.plot(fpr, tpr, color='cornflowerblue',label='ROC curve of somatic call'\n",
    "         ' (area = {0:0.2f})'.format(roc_auc))\n",
    "plt.plot([0, 1], [0, 1], 'k--')\n",
    "plt.xlim([-0.01, 1.0])\n",
    "plt.ylim([0.0, 1.01])\n",
    "plt.xlabel('False Positive Rate')\n",
    "plt.ylabel('True Positive Rate')\n",
    "plt.legend(loc=\"lower right\")\n",
    "plt.show()"
   ]
  },
  {
   "cell_type": "code",
   "execution_count": 23,
   "metadata": {
    "ExecuteTime": {
     "end_time": "2017-05-16T22:20:26.870991Z",
     "start_time": "2017-05-16T17:20:26.846745-05:00"
    },
    "collapsed": true
   },
   "outputs": [],
   "source": [
    "prob_df = pd.DataFrame(binary_probabilities, columns=['Fail', 'Somatic'])\n",
    "\n",
    "label_index = pd.DataFrame(pd.DataFrame(np.array([np.logical_not(binary_Y),binary_Y]), dtype=bool).transpose())\n",
    "label_index.columns=['Fail', 'Somatic']\n",
    "positive_probabilities = prob_df[label_index].unstack().dropna().values\n",
    "\n",
    "positive_counts, bins = np.histogram(positive_probabilities, bins=[0,.1,.2,.3,.4,.5,.6,.7,.8,.9,1])\n",
    "\n",
    "negative_probabilities = prob_df[~label_index].unstack().dropna()\n",
    "\n",
    "negative_counts, _ = np.histogram(negative_probabilities, bins=[0,.1,.2,.3,.4,.5,.6,.7,.8,.9,1])\n",
    "\n",
    "pct_positive = positive_counts / (positive_counts + negative_counts)"
   ]
  },
  {
   "cell_type": "code",
   "execution_count": 24,
   "metadata": {
    "ExecuteTime": {
     "end_time": "2017-05-16T22:20:27.351107Z",
     "start_time": "2017-05-16T17:20:26.873064-05:00"
    }
   },
   "outputs": [
    {
     "data": {
      "image/png": "[encoded data removed]",
      "text/plain": [
       "<matplotlib.figure.Figure at 0x13f6d1128>"
      ]
     },
     "metadata": {},
     "output_type": "display_data"
    }
   ],
   "source": [
    "width = 0.03       # the width of the bars\n",
    "\n",
    "fig, ax1 = plt.subplots()\n",
    "rects1 = ax1.bar(bins[1:], negative_counts, width, color='grey')\n",
    "\n",
    "rects2 = ax1.bar(bins[1:] + width, positive_counts, width, color='green')\n",
    "\n",
    "# add some text for labels, title and axes ticks\n",
    "\n",
    "ax1.set_title('Reliability diagram')\n",
    "ax1.set_xticks(bins[1:] + width / 2)\n",
    "ax1.set_xticklabels(bins[1:])\n",
    "# ax.plot(ax.get_xlim(), ax.get_ylim(), ls=\"--\", c=\".3\")\n",
    "\n",
    "# ax1.legend((rects1[0], rects2[0]), ('Neg', 'Pos'), loc=5)\n",
    "\n",
    "ax2 = ax1.twinx()\n",
    "ax2.plot([0, 1], [0, 1], 'k--')\n",
    "r2 = metrics.r2_score(bins[1:], pct_positive)\n",
    "ax2.plot(bins[1:], pct_positive, \"-o\", color='blue')\n",
    "ax2.text(.85,.75,'$R^2$: {0:0.2f}'.format(r2), color='blue', fontsize=15)\n",
    "\n",
    "\n",
    "plt.show()"
   ]
  },
  {
   "cell_type": "code",
   "execution_count": 28,
   "metadata": {
    "ExecuteTime": {
     "end_time": "2017-05-16T22:22:16.198283Z",
     "start_time": "2017-05-16T17:22:16.193072-05:00"
    }
   },
   "outputs": [
    {
     "data": {
      "text/plain": [
       "array([ 0.03785379,  0.15867615,  0.23945755,  0.34419738,  0.46961895,\n",
       "        0.53038105,  0.65580262,  0.76054245,  0.84132385,  0.96214621])"
      ]
     },
     "execution_count": 28,
     "metadata": {},
     "output_type": "execute_result"
    }
   ],
   "source": [
    "pct_positive"
   ]
  },
  {
   "cell_type": "code",
   "execution_count": null,
   "metadata": {
    "collapsed": true
   },
   "outputs": [],
   "source": []
  }
 ],
 "metadata": {
  "kernelspec": {
   "display_name": "Python 3",
   "language": "python",
   "name": "python3"
  },
  "language_info": {
   "codemirror_mode": {
    "name": "ipython",
    "version": 3
   },
   "file_extension": ".py",
   "mimetype": "text/x-python",
   "name": "python",
   "nbconvert_exporter": "python",
   "pygments_lexer": "ipython3",
   "version": "3.6.1"
  }
 },
 "nbformat": 4,
 "nbformat_minor": 2
}
