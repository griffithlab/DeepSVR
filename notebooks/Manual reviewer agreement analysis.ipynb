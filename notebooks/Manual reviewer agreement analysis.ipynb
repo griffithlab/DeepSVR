{
 "cells": [
  {
   "cell_type": "code",
   "execution_count": 1,
   "metadata": {
    "ExecuteTime": {
     "end_time": "2017-08-31T16:09:50.373142Z",
     "start_time": "2017-08-31T16:09:49.638033Z"
    },
    "collapsed": true
   },
   "outputs": [],
   "source": [
    "import pandas as pd\n",
    "import numpy as np\n",
    "import statsmodels"
   ]
  },
  {
   "cell_type": "code",
   "execution_count": 2,
   "metadata": {
    "ExecuteTime": {
     "end_time": "2017-08-31T16:09:50.379819Z",
     "start_time": "2017-08-31T16:09:50.374795Z"
    },
    "collapsed": true,
    "scrolled": true
   },
   "outputs": [],
   "source": [
    "reviews = [[('../data/reviewer_comparison/H_KA-115225/H_KA-115225_reviewed.bed.formated', False), ('../data/reviewer_comparison/H_KA-115225/H_KA-115225_reviewed.lmt.bed', True), ('../data/reviewer_comparison/H_KA-115225/H_KA-115225_reviewed_Erica.txt', True)],\n",
    "           [('../data/reviewer_comparison/H_ML-08-0075-202-1121768/H_ML-08-0075-202-1121768_reviewed.bed.formated', False), ('../data/reviewer_comparison/H_ML-08-0075-202-1121768/H_ML-08-0075-202-1121768_reviewed.lmt.bed', True), ('../data/reviewer_comparison/H_ML-08-0075-202-1121768/H_ML-08-0075-202-1121768_Erica.txt', True) ],\n",
    "           [('../data/reviewer_comparison/H_ND-006G-C117D/H_ND-006G-C117D_reviewed.bed.formated', False), ('../data/reviewer_comparison/H_ND-006G-C117D/H_ND-006G-C117D_reviewed.lmt.bed', True), ('../data/reviewer_comparison/H_ND-006G-C117D/H_ND-006G-C117D_reviewed_Erica.txt', True)],\n",
    "           [('../data/reviewer_comparison/H_SU-B12-17/H_SU-B12-17_reviewed.bed.formated', False), ('../data/reviewer_comparison/H_SU-B12-17/H_SU-B12-17_reviewed.lmt.bed', True), ('../data/reviewer_comparison/H_SU-B12-17/H_SU-B12-17_reviewed_Erica.txt', True)]]\n"
   ]
  },
  {
   "cell_type": "code",
   "execution_count": 3,
   "metadata": {
    "ExecuteTime": {
     "end_time": "2017-08-31T16:09:50.395991Z",
     "start_time": "2017-08-31T16:09:50.381599Z"
    },
    "collapsed": true
   },
   "outputs": [],
   "source": [
    "def get_review_df(filepath, header):\n",
    "    if header:\n",
    "        review = pd.read_csv(filepath, sep='\\t')\n",
    "    else:\n",
    "        col_names = ['Chromosome', 'Start', 'Stop', 'Reference', 'Variant', \n",
    "                     'Call', 'Tags', 'Notes']\n",
    "        review = pd.read_csv(filepath, sep='\\t', names=col_names)\n",
    "    review.drop(['Tags', 'Notes'], inplace=True, axis=1)\n",
    "    #verify below mapping with preprocessing\n",
    "    review.replace({'Call': {'O':'F', 'V':'G', 'LOH': 'S', 'LQ': 'F'}}, \n",
    "                    inplace=True)\n",
    "    review.sort_values(['Chromosome', 'Start', 'Stop',\n",
    "                        'Reference', 'Variant'])\n",
    "    return review.drop_duplicates(subset=['Chromosome', 'Start', 'Stop', \n",
    "                                          'Reference', 'Variant'])"
   ]
  },
  {
   "cell_type": "code",
   "execution_count": 4,
   "metadata": {
    "ExecuteTime": {
     "end_time": "2017-08-31T16:09:50.592182Z",
     "start_time": "2017-08-31T16:09:50.570552Z"
    },
    "collapsed": true
   },
   "outputs": [],
   "source": [
    "calls = pd.DataFrame()\n",
    "def get_kappa_counts(list_of_dataframes):\n",
    "    calls = pd.concat(list_of_dataframes, ignore_index=True)\n",
    "    kappa_list = []\n",
    "    for name, group in calls.groupby(['Chromosome', 'Start', 'Stop', \n",
    "                                      'Reference', 'Variant']):\n",
    "        A=F=G=S=0 \n",
    "        for call in group.Call.iteritems():\n",
    "            if call[1] == 'A':\n",
    "                A+=1\n",
    "            elif call[1] == 'F':\n",
    "                F+=1\n",
    "            elif call[1] == 'G':\n",
    "                G+=1\n",
    "            elif call[1] == 'S':\n",
    "                S+=1\n",
    "        if A+F+G+S > 3:\n",
    "            raise ValueError('{0}'.format(name))\n",
    "        kappa_list.append([A, F, G, S])\n",
    "    return np.array(kappa_list)"
   ]
  },
  {
   "cell_type": "code",
   "execution_count": 5,
   "metadata": {
    "ExecuteTime": {
     "end_time": "2017-08-31T16:09:51.000247Z",
     "start_time": "2017-08-31T16:09:50.866332Z"
    },
    "code_folding": [],
    "collapsed": true,
    "scrolled": false
   },
   "outputs": [],
   "source": [
    "kappa_table = np.array([]).reshape(0,4)\n",
    "for sample in reviews:\n",
    "    kappa_table = np.concatenate([kappa_table, \n",
    "                                  get_kappa_counts([get_review_df(r[0], r[1])\n",
    "                                                    for r in sample])])"
   ]
  },
  {
   "cell_type": "code",
   "execution_count": 6,
   "metadata": {
    "ExecuteTime": {
     "end_time": "2017-08-31T16:09:54.296168Z",
     "start_time": "2017-08-31T16:09:54.282490Z"
    },
    "collapsed": true
   },
   "outputs": [],
   "source": [
    "def calculate_kappa(table):\n",
    "    \"\"\"https://en.wikipedia.org/wiki/Fleiss%27_kappa\"\"\"\n",
    "    N, k = table.shape\n",
    "\n",
    "    n = table.sum(axis=1)[0]\n",
    "\n",
    "    p = table.sum(axis=0)/ (N * n)\n",
    "\n",
    "    P = (1/(n*(n-1)))*((table**2).sum(axis=1) - n)\n",
    "\n",
    "    p_bar = P.sum()/N\n",
    "\n",
    "    P_e = (p**2).sum()\n",
    "\n",
    "    kappa = (p_bar - P_e)/ (1 - P_e)\n",
    "    \n",
    "    return kappa"
   ]
  },
  {
   "cell_type": "markdown",
   "metadata": {},
   "source": [
    "## Interpreting Fleiss's kappa\n",
    "\n",
    "| 𝛋        | Interpretation           |\n",
    "| :-------------: |-------------:|\n",
    "| < 0      | Poor agreement |\n",
    "| 0.01 – 0.20      | Slight agreement      |\n",
    "| 0.21 – 0.40 | Fair agreement      |\n",
    "| 0.41 – 0.60 | Moderate agreement      |\n",
    "| 0.61 – 0.80 | Substantial agreement      |\n",
    "| 0.81 – 1.00 | Almost perfect agreement      |"
   ]
  },
  {
   "cell_type": "code",
   "execution_count": 7,
   "metadata": {
    "ExecuteTime": {
     "end_time": "2017-08-31T16:10:23.525741Z",
     "start_time": "2017-08-31T16:10:23.521307Z"
    }
   },
   "outputs": [
    {
     "name": "stdout",
     "output_type": "stream",
     "text": [
      "Fleiss's kappa statistic for all calls is 0.3016095617529881\n"
     ]
    }
   ],
   "source": [
    "print('Fleiss\\'s kappa statistic for all calls is {0}'.format(calculate_kappa(kappa_table)))"
   ]
  },
  {
   "cell_type": "code",
   "execution_count": 28,
   "metadata": {
    "ExecuteTime": {
     "end_time": "2017-08-31T16:30:13.711391Z",
     "start_time": "2017-08-31T16:30:13.707906Z"
    },
    "collapsed": true
   },
   "outputs": [],
   "source": [
    "somatic_fail_kappa_table = np.concatenate((kappa_table[:,:3].sum(axis=1).reshape((176,1)), \n",
    "                                           kappa_table[:,3:]), axis=1)"
   ]
  },
  {
   "cell_type": "code",
   "execution_count": 29,
   "metadata": {
    "ExecuteTime": {
     "end_time": "2017-08-31T16:30:45.911238Z",
     "start_time": "2017-08-31T16:30:45.906807Z"
    }
   },
   "outputs": [
    {
     "name": "stdout",
     "output_type": "stream",
     "text": [
      "Fleiss's kappa statistic for somatic vs fail is 0.4053260361743308\n"
     ]
    }
   ],
   "source": [
    "print('Fleiss\\'s kappa statistic for somatic vs fail is {0}'.format(calculate_kappa(somatic_fail_kappa_table)))"
   ]
  },
  {
   "cell_type": "code",
   "execution_count": null,
   "metadata": {
    "collapsed": true
   },
   "outputs": [],
   "source": []
  }
 ],
 "metadata": {
  "kernelspec": {
   "display_name": "Python 3",
   "language": "python",
   "name": "python3"
  },
  "language_info": {
   "codemirror_mode": {
    "name": "ipython",
    "version": 3
   },
   "file_extension": ".py",
   "mimetype": "text/x-python",
   "name": "python",
   "nbconvert_exporter": "python",
   "pygments_lexer": "ipython3",
   "version": "3.6.1"
  }
 },
 "nbformat": 4,
 "nbformat_minor": 2
}
