{
 "cells": [
  {
   "cell_type": "code",
   "execution_count": 1,
   "metadata": {
    "ExecuteTime": {
     "end_time": "2017-06-05T18:02:32.471354Z",
     "start_time": "2017-06-05T18:02:31.884867Z"
    },
    "collapsed": true
   },
   "outputs": [],
   "source": [
    "import pandas as pd, os, re, numpy as np\n",
    "%matplotlib inline\n",
    "from zero_one_based_conversion import convert"
   ]
  },
  {
   "cell_type": "code",
   "execution_count": 2,
   "metadata": {
    "ExecuteTime": {
     "end_time": "2017-06-05T18:02:33.629061Z",
     "start_time": "2017-06-05T18:02:33.617558Z"
    },
    "collapsed": true
   },
   "outputs": [],
   "source": [
    "samples = pd.read_pickle('../data/full_sample_df.pkl')"
   ]
  },
  {
   "cell_type": "code",
   "execution_count": 3,
   "metadata": {
    "ExecuteTime": {
     "end_time": "2017-06-05T18:02:35.690941Z",
     "start_time": "2017-06-05T18:02:35.688263Z"
    },
    "collapsed": true
   },
   "outputs": [],
   "source": [
    "#keep tumor normal pairs\n",
    "# samples = samples[samples.tumor_normal_pair]"
   ]
  },
  {
   "cell_type": "code",
   "execution_count": 4,
   "metadata": {
    "ExecuteTime": {
     "end_time": "2017-05-31T20:30:10.089995Z",
     "start_time": "2017-05-31T20:30:10.086105Z"
    },
    "collapsed": true
   },
   "outputs": [],
   "source": [
    "project_samples = samples.groupby('project')"
   ]
  },
  {
   "cell_type": "code",
   "execution_count": 5,
   "metadata": {
    "ExecuteTime": {
     "end_time": "2017-05-31T20:30:10.134346Z",
     "start_time": "2017-05-31T20:30:10.091835Z"
    }
   },
   "outputs": [
    {
     "name": "stdout",
     "output_type": "stream",
     "text": [
      "GST1 \n",
      "\n",
      "tissue_type\n",
      "normal    2\n",
      "tumor     3\n",
      "dtype: int64 \n",
      "\n",
      "GTB11 \n",
      "\n",
      "tissue_type\n",
      "normal    98\n",
      "tumor     98\n",
      "dtype: int64 \n",
      "\n",
      "GTB19 \n",
      "\n",
      "tissue_type\n",
      "normal    1\n",
      "tumor     2\n",
      "dtype: int64 \n",
      "\n",
      "GTB2 \n",
      "\n",
      "tissue_type\n",
      "normal    1\n",
      "tumor     2\n",
      "dtype: int64 \n",
      "\n",
      "allegra/AML_Decitabine \n",
      "\n",
      "tissue_type\n",
      "normal     39\n",
      "tumor     140\n",
      "dtype: int64 \n",
      "\n",
      "allegra/AML_Post-Transplant_Relapse \n",
      "\n",
      "tissue_type\n",
      "met         3\n",
      "normal     17\n",
      "relapse    16\n",
      "tumor      16\n",
      "dtype: int64 \n",
      "\n",
      "allegra/AML_Quads \n",
      "\n",
      "tissue_type\n",
      "normal    21\n",
      "tumor     63\n",
      "dtype: int64 \n",
      "\n",
      "gue_su/06_MDS-DECITABINE_06-28-manual_review1_4 \n",
      "\n",
      "tissue_type\n",
      "normal    20\n",
      "tumor     20\n",
      "dtype: int64 \n",
      "\n",
      "gue_su/SMR_06-09-rAML-review1 \n",
      "\n",
      "tissue_type\n",
      "normal    55\n",
      "tumor     55\n",
      "dtype: int64 \n",
      "\n",
      "lee/ALL1 \n",
      "\n",
      "tissue_type\n",
      "normal     1\n",
      "relapse    2\n",
      "tumor      2\n",
      "dtype: int64 \n",
      "\n",
      "lee/AML31 \n",
      "\n",
      "tissue_type\n",
      "normal     4\n",
      "relapse    2\n",
      "tumor      2\n",
      "dtype: int64 \n",
      "\n",
      "lee/BKM120 \n",
      "\n",
      "tissue_type\n",
      "normal    17\n",
      "tumor     17\n",
      "dtype: int64 \n",
      "\n",
      "lee/CRC1 \n",
      "\n",
      "tissue_type\n",
      "met       4\n",
      "normal    1\n",
      "tumor     1\n",
      "dtype: int64 \n",
      "\n",
      "lee/DLBCL \n",
      "\n",
      "tissue_type\n",
      "normal    1\n",
      "tumor     2\n",
      "dtype: int64 \n",
      "\n",
      "lee/LGG1 \n",
      "\n",
      "tissue_type\n",
      "normal    2\n",
      "tumor     2\n",
      "dtype: int64 \n",
      "\n",
      "lee/MPNST \n",
      "\n",
      "tissue_type\n",
      "normal    2\n",
      "tumor     3\n",
      "dtype: int64 \n",
      "\n",
      "lymphoma \n",
      "\n",
      "tissue_type\n",
      "normal     25\n",
      "relapse    11\n",
      "tumor      14\n",
      "dtype: int64 \n",
      "\n",
      "tli/gbm \n",
      "\n",
      "tissue_type\n",
      "normal    16\n",
      "tumor     43\n",
      "dtype: int64 \n",
      "\n",
      "tli/rohan \n",
      "\n",
      "tissue_type\n",
      "normal     83\n",
      "tumor     436\n",
      "dtype: int64 \n",
      "\n",
      "tli/taml \n",
      "\n",
      "tissue_type\n",
      "tumor    12\n",
      "dtype: int64 \n",
      "\n",
      "traztuzamab \n",
      "\n",
      "tissue_type\n",
      "normal     96\n",
      "tumor     138\n",
      "dtype: int64 \n",
      "\n",
      "zach/SCLC \n",
      "\n",
      "tissue_type\n",
      "met         1\n",
      "normal     18\n",
      "relapse    25\n",
      "tumor      10\n",
      "dtype: int64 \n",
      "\n"
     ]
    }
   ],
   "source": [
    "for name, group in project_samples:\n",
    "    print(name, '\\n')\n",
    "    print(group.groupby('tissue_type').size(), '\\n')"
   ]
  },
  {
   "cell_type": "code",
   "execution_count": 6,
   "metadata": {
    "ExecuteTime": {
     "end_time": "2017-05-31T20:30:10.140084Z",
     "start_time": "2017-05-31T20:30:10.135862Z"
    },
    "collapsed": true
   },
   "outputs": [],
   "source": [
    "s = samples[['bed_file_path', 'model_id', 'model_type', 'build_id',\n",
    "         'subject_name', 'individual_name', 'tissue_type', \n",
    "         'project', 'tumor_normal_pair', 'has_met', 'has_pre_malignant', \n",
    "         'has_relapse', 'sequencing_context', 'species_name', \n",
    "         'ref-seq-build']]"
   ]
  },
  {
   "cell_type": "code",
   "execution_count": 7,
   "metadata": {
    "ExecuteTime": {
     "end_time": "2017-05-31T20:30:10.185230Z",
     "start_time": "2017-05-31T20:30:10.141840Z"
    },
    "collapsed": true
   },
   "outputs": [],
   "source": [
    "review_df = pd.read_pickle('../data/review_df.pkl')\n",
    "review_df.project = review_df.project.str.strip()"
   ]
  },
  {
   "cell_type": "code",
   "execution_count": 8,
   "metadata": {
    "ExecuteTime": {
     "end_time": "2017-05-31T20:30:10.224273Z",
     "start_time": "2017-05-31T20:30:10.186720Z"
    },
    "collapsed": true
   },
   "outputs": [],
   "source": [
    "#filter to only tumor normal pairs\n",
    "review_df = review_df[review_df.individual_name.isin(list(samples.individual_name.unique()))]\n",
    "review_df.drop_duplicates(inplace=True)"
   ]
  },
  {
   "cell_type": "code",
   "execution_count": 9,
   "metadata": {
    "ExecuteTime": {
     "end_time": "2017-05-31T20:30:10.229158Z",
     "start_time": "2017-05-31T20:30:10.225973Z"
    },
    "collapsed": true
   },
   "outputs": [],
   "source": [
    "def convert_one_based(row):\n",
    "    return convert.coordinate_system('\\t'.join(map(str,row.values)), 'to_one_based').split('\\t')"
   ]
  },
  {
   "cell_type": "code",
   "execution_count": 10,
   "metadata": {
    "ExecuteTime": {
     "end_time": "2017-05-31T20:30:16.250072Z",
     "start_time": "2017-05-31T20:30:10.230962Z"
    }
   },
   "outputs": [
    {
     "name": "stdout",
     "output_type": "stream",
     "text": [
      "Coordinate Error in line 1 or input. Coordinate skipped.\n",
      "\tMessage: For the coordinate 11:51579262-51579264->T, the reference and variant fields indicate an insertion variant, however the coordinates (51579262 and 51579264) are not valid for these mutation types.\n",
      "Coordinate Error in line 1 or input. Coordinate skipped.\n",
      "\tMessage: For the coordinate 1:36728386-36728388->T, the reference and variant fields indicate an insertion variant, however the coordinates (36728386 and 36728388) are not valid for these mutation types.\n",
      "Coordinate Error in line 1 or input. Coordinate skipped.\n",
      "\tMessage: For the coordinate 1:34510640-34510642->AT, the reference and variant fields indicate an insertion variant, however the coordinates (34510640 and 34510642) are not valid for these mutation types.\n",
      "Coordinate Error in line 1 or input. Coordinate skipped.\n",
      "\tMessage: For the coordinate 11:51579262-51579264->T, the reference and variant fields indicate an insertion variant, however the coordinates (51579262 and 51579264) are not valid for these mutation types.\n",
      "Coordinate Error in line 1 or input. Coordinate skipped.\n",
      "\tMessage: For the coordinate 11:115846647-115846649->G, the reference and variant fields indicate an insertion variant, however the coordinates (115846647 and 115846649) are not valid for these mutation types.\n",
      "Coordinate Error in line 1 or input. Coordinate skipped.\n",
      "\tMessage: For the coordinate X:152851629-152851631->TTGTC, the reference and variant fields indicate an insertion variant, however the coordinates (152851629 and 152851631) are not valid for these mutation types.\n",
      "Coordinate Error in line 1 or input. Coordinate skipped.\n",
      "\tMessage: For the coordinate 7:151975679-151975681->TGTATATATA, the reference and variant fields indicate an insertion variant, however the coordinates (151975679 and 151975681) are not valid for these mutation types.\n",
      "Coordinate Error in line 1 or input. Coordinate skipped.\n",
      "\tMessage: For the coordinate 11:115846647-115846649->G, the reference and variant fields indicate an insertion variant, however the coordinates (115846647 and 115846649) are not valid for these mutation types.\n",
      "Coordinate Error in line 1 or input. Coordinate skipped.\n",
      "\tMessage: For the coordinate 11:51579262-51579264->T, the reference and variant fields indicate an insertion variant, however the coordinates (51579262 and 51579264) are not valid for these mutation types.\n",
      "Coordinate Error in line 1 or input. Coordinate skipped.\n",
      "\tMessage: For the coordinate 11:51579262-51579264->T, the reference and variant fields indicate an insertion variant, however the coordinates (51579262 and 51579264) are not valid for these mutation types.\n",
      "Coordinate Error in line 1 or input. Coordinate skipped.\n",
      "\tMessage: For the coordinate 1:34510640-34510642->AT, the reference and variant fields indicate an insertion variant, however the coordinates (34510640 and 34510642) are not valid for these mutation types.\n",
      "Coordinate Error in line 1 or input. Coordinate skipped.\n",
      "\tMessage: For the coordinate 10:15863734-15863734AAC>-, the reference and variant fields indicate an deletion or substitution variant, however the coordinates (15863734 and 15863734) are not valid for these mutation types.\n",
      "Coordinate Error in line 1 or input. Coordinate skipped.\n",
      "\tMessage: For the coordinate X:51239294-51239309TCCTCGAGGCAGCC>0, the reference and variant fields indicate an deletion or substitution variant, however the coordinates (51239294 and 51239309) are not valid for these mutation types.\n",
      "Coordinate Error in line 1 or input. Coordinate skipped.\n",
      "\tMessage: For the coordinate 17:66422230-66422234TCA>0, the reference and variant fields indicate an deletion or substitution variant, however the coordinates (66422230 and 66422234) are not valid for these mutation types.\n",
      "Coordinate Error in line 1 or input. Coordinate skipped.\n",
      "\tMessage: For the coordinate 19:876901-876938CCTGCCACGGGGCCCCCACCTGCCACAGGGCCCCCA>0, the reference and variant fields indicate an deletion or substitution variant, however the coordinates (876901 and 876938) are not valid for these mutation types.\n",
      "Coordinate Error in line 1 or input. Coordinate skipped.\n",
      "\tMessage: For the coordinate 19:876927-876929A>0, the reference and variant fields indicate an deletion or substitution variant, however the coordinates (876927 and 876929) are not valid for these mutation types.\n",
      "Coordinate Error in line 1 or input. Coordinate skipped.\n",
      "\tMessage: For the coordinate 8:145623879-1456238780>G, the reference and variant fields indicate an insertion variant, however the coordinates (145623879 and 145623878) are not valid for these mutation types.\n",
      "Coordinate Error in line 1 or input. Coordinate skipped.\n",
      "\tMessage: For the coordinate 10:99126520-99126524CTC>0, the reference and variant fields indicate an deletion or substitution variant, however the coordinates (99126520 and 99126524) are not valid for these mutation types.\n",
      "Coordinate Error in line 1 or input. Coordinate skipped.\n",
      "\tMessage: For the coordinate 12:124824739-1248247380>GCCG, the reference and variant fields indicate an insertion variant, however the coordinates (124824739 and 124824738) are not valid for these mutation types.\n",
      "Coordinate Error in line 1 or input. Coordinate skipped.\n",
      "\tMessage: For the coordinate 17:39211139-392111380>GCAGGGGGGCCGGCA, the reference and variant fields indicate an insertion variant, however the coordinates (39211139 and 39211138) are not valid for these mutation types.\n",
      "Coordinate Error in line 1 or input. Coordinate skipped.\n",
      "\tMessage: For the coordinate 17:7579642-7579659CCCCAGCCCTCCAGGT>0, the reference and variant fields indicate an deletion or substitution variant, however the coordinates (7579642 and 7579659) are not valid for these mutation types.\n",
      "Coordinate Error in line 1 or input. Coordinate skipped.\n",
      "\tMessage: For the coordinate 4:1019053-1019056CA>0, the reference and variant fields indicate an deletion or substitution variant, however the coordinates (1019053 and 1019056) are not valid for these mutation types.\n",
      "Coordinate Error in line 1 or input. Coordinate skipped.\n",
      "\tMessage: For the coordinate X:40456467-40456471ATA>-, the reference and variant fields indicate an deletion or substitution variant, however the coordinates (40456467 and 40456471) are not valid for these mutation types.\n",
      "Coordinate Error in line 1 or input. Coordinate skipped.\n",
      "\tMessage: For the coordinate 1:153233488-1532334870>GGCGGT, the reference and variant fields indicate an insertion variant, however the coordinates (153233488 and 153233487) are not valid for these mutation types.\n",
      "Coordinate Error in line 1 or input. Coordinate skipped.\n",
      "\tMessage: For the coordinate 10:46999591-469995900>ATGAGGGAG, the reference and variant fields indicate an insertion variant, however the coordinates (46999591 and 46999590) are not valid for these mutation types.\n",
      "Coordinate Error in line 1 or input. Coordinate skipped.\n",
      "\tMessage: For the coordinate 19:55832019-558320180>CTTCTGTTA, the reference and variant fields indicate an insertion variant, however the coordinates (55832019 and 55832018) are not valid for these mutation types.\n",
      "Coordinate Error in line 1 or input. Coordinate skipped.\n",
      "\tMessage: For the coordinate 22:38161835-381618340>G, the reference and variant fields indicate an insertion variant, however the coordinates (38161835 and 38161834) are not valid for these mutation types.\n",
      "Coordinate Error in line 1 or input. Coordinate skipped.\n",
      "\tMessage: For the coordinate 22:43618631-43618633G>0, the reference and variant fields indicate an deletion or substitution variant, however the coordinates (43618631 and 43618633) are not valid for these mutation types.\n",
      "Coordinate Error in line 1 or input. Coordinate skipped.\n",
      "\tMessage: For the coordinate 2:136872539-136872542AG>0, the reference and variant fields indicate an deletion or substitution variant, however the coordinates (136872539 and 136872542) are not valid for these mutation types.\n",
      "Coordinate Error in line 1 or input. Coordinate skipped.\n",
      "\tMessage: For the coordinate 9:139277993-139277997GCT>0, the reference and variant fields indicate an deletion or substitution variant, however the coordinates (139277993 and 139277997) are not valid for these mutation types.\n",
      "Coordinate Error in line 1 or input. Coordinate skipped.\n",
      "\tMessage: For the coordinate 10:46254740-462547390>CA, the reference and variant fields indicate an insertion variant, however the coordinates (46254740 and 46254739) are not valid for these mutation types.\n",
      "Coordinate Error in line 1 or input. Coordinate skipped.\n",
      "\tMessage: For the coordinate 12:49432293-49432298TGGA>0, the reference and variant fields indicate an deletion or substitution variant, however the coordinates (49432293 and 49432298) are not valid for these mutation types.\n",
      "Coordinate Error in line 1 or input. Coordinate skipped.\n",
      "\tMessage: For the coordinate 15:67073830-67073832T>0, the reference and variant fields indicate an deletion or substitution variant, however the coordinates (67073830 and 67073832) are not valid for these mutation types.\n",
      "Coordinate Error in line 1 or input. Coordinate skipped.\n",
      "\tMessage: For the coordinate 19:56001802-560018010>CCAAGCAA, the reference and variant fields indicate an insertion variant, however the coordinates (56001802 and 56001801) are not valid for these mutation types.\n",
      "Coordinate Error in line 1 or input. Coordinate skipped.\n",
      "\tMessage: For the coordinate 9:139277993-139277997GCT>-, the reference and variant fields indicate an deletion or substitution variant, however the coordinates (139277993 and 139277997) are not valid for these mutation types.\n",
      "Coordinate Error in line 1 or input. Coordinate skipped.\n",
      "\tMessage: For the coordinate X:135960146-1359601450>AA, the reference and variant fields indicate an insertion variant, however the coordinates (135960146 and 135960145) are not valid for these mutation types.\n",
      "Coordinate Error in line 1 or input. Coordinate skipped.\n",
      "\tMessage: For the coordinate X:48926089-48926091A>0, the reference and variant fields indicate an deletion or substitution variant, however the coordinates (48926089 and 48926091) are not valid for these mutation types.\n",
      "Coordinate Error in line 1 or input. Coordinate skipped.\n",
      "\tMessage: For the coordinate 1:24969837-24969839G>0, the reference and variant fields indicate an deletion or substitution variant, however the coordinates (24969837 and 24969839) are not valid for these mutation types.\n",
      "Coordinate Error in line 1 or input. Coordinate skipped.\n",
      "\tMessage: For the coordinate 1:26742191-267421900>C, the reference and variant fields indicate an insertion variant, however the coordinates (26742191 and 26742190) are not valid for these mutation types.\n",
      "Coordinate Error in line 1 or input. Coordinate skipped.\n",
      "\tMessage: For the coordinate 1:52895228-52895231AT>0, the reference and variant fields indicate an deletion or substitution variant, however the coordinates (52895228 and 52895231) are not valid for these mutation types.\n",
      "Coordinate Error in line 1 or input. Coordinate skipped.\n",
      "\tMessage: For the coordinate 11:64606910-646069090>CTGCTCCCA, the reference and variant fields indicate an insertion variant, however the coordinates (64606910 and 64606909) are not valid for these mutation types.\n",
      "Coordinate Error in line 1 or input. Coordinate skipped.\n",
      "\tMessage: For the coordinate 12:7045891-70458900>CAG, the reference and variant fields indicate an insertion variant, however the coordinates (7045891 and 7045890) are not valid for these mutation types.\n",
      "Coordinate Error in line 1 or input. Coordinate skipped.\n",
      "\tMessage: For the coordinate 16:88593209-88593211T>0, the reference and variant fields indicate an deletion or substitution variant, however the coordinates (88593209 and 88593211) are not valid for these mutation types.\n",
      "Coordinate Error in line 1 or input. Coordinate skipped.\n",
      "\tMessage: For the coordinate 17:40270028-40270068CTGAAGCTGAGGAGAGAGAGAGACGTCAGGGATGGGGGG>0, the reference and variant fields indicate an deletion or substitution variant, however the coordinates (40270028 and 40270068) are not valid for these mutation types.\n",
      "Coordinate Error in line 1 or input. Coordinate skipped.\n",
      "\tMessage: For the coordinate 17:79219499-79219503ATG>0, the reference and variant fields indicate an deletion or substitution variant, however the coordinates (79219499 and 79219503) are not valid for these mutation types.\n",
      "Coordinate Error in line 1 or input. Coordinate skipped.\n",
      "\tMessage: For the coordinate 19:38377390-38377409CCTCCTCCTCCTCCCTTA>0, the reference and variant fields indicate an deletion or substitution variant, however the coordinates (38377390 and 38377409) are not valid for these mutation types.\n",
      "Coordinate Error in line 1 or input. Coordinate skipped.\n",
      "\tMessage: For the coordinate 19:48908630-48908632G>0, the reference and variant fields indicate an deletion or substitution variant, however the coordinates (48908630 and 48908632) are not valid for these mutation types.\n",
      "Coordinate Error in line 1 or input. Coordinate skipped.\n",
      "\tMessage: For the coordinate 19:6042152-6042161GCGTTACC>0, the reference and variant fields indicate an deletion or substitution variant, however the coordinates (6042152 and 6042161) are not valid for these mutation types.\n",
      "Coordinate Error in line 1 or input. Coordinate skipped.\n",
      "\tMessage: For the coordinate 5:158524095-158524099GGC>0, the reference and variant fields indicate an deletion or substitution variant, however the coordinates (158524095 and 158524099) are not valid for these mutation types.\n",
      "Coordinate Error in line 1 or input. Coordinate skipped.\n",
      "\tMessage: For the coordinate 6:157528578-157528581CT>0, the reference and variant fields indicate an deletion or substitution variant, however the coordinates (157528578 and 157528581) are not valid for these mutation types.\n",
      "Coordinate Error in line 1 or input. Coordinate skipped.\n",
      "\tMessage: For the coordinate 7:105733551-1057335500>A, the reference and variant fields indicate an insertion variant, however the coordinates (105733551 and 105733550) are not valid for these mutation types.\n",
      "Coordinate Error in line 1 or input. Coordinate skipped.\n",
      "\tMessage: For the coordinate 8:38884345-388843440>T, the reference and variant fields indicate an insertion variant, however the coordinates (38884345 and 38884344) are not valid for these mutation types.\n",
      "Coordinate Error in line 1 or input. Coordinate skipped.\n",
      "\tMessage: For the coordinate 12:498266-498269GG>0, the reference and variant fields indicate an deletion or substitution variant, however the coordinates (498266 and 498269) are not valid for these mutation types.\n",
      "Coordinate Error in line 1 or input. Coordinate skipped.\n",
      "\tMessage: For the coordinate 16:88780635-887806340>GTGT, the reference and variant fields indicate an insertion variant, however the coordinates (88780635 and 88780634) are not valid for these mutation types.\n",
      "Coordinate Error in line 1 or input. Coordinate skipped.\n",
      "\tMessage: For the coordinate 17:62006657-62006660GT>0, the reference and variant fields indicate an deletion or substitution variant, however the coordinates (62006657 and 62006660) are not valid for these mutation types.\n",
      "Coordinate Error in line 1 or input. Coordinate skipped.\n",
      "\tMessage: For the coordinate 17:76798547-76798554TTTTTC>0, the reference and variant fields indicate an deletion or substitution variant, however the coordinates (76798547 and 76798554) are not valid for these mutation types.\n",
      "Coordinate Error in line 1 or input. Coordinate skipped.\n",
      "\tMessage: For the coordinate 2:153476066-1534760650>CCA, the reference and variant fields indicate an insertion variant, however the coordinates (153476066 and 153476065) are not valid for these mutation types.\n",
      "Coordinate Error in line 1 or input. Coordinate skipped.\n",
      "\tMessage: For the coordinate 21:46927369-46927412GGGAGGGCCAGGTGCTGGGGCGGGAGAGTCGGGTGCTGGGCA>0, the reference and variant fields indicate an deletion or substitution variant, however the coordinates (46927369 and 46927412) are not valid for these mutation types.\n",
      "Coordinate Error in line 1 or input. Coordinate skipped.\n",
      "\tMessage: For the coordinate 22:24175835-241758340>CT, the reference and variant fields indicate an insertion variant, however the coordinates (24175835 and 24175834) are not valid for these mutation types.\n",
      "Coordinate Error in line 1 or input. Coordinate skipped.\n",
      "\tMessage: For the coordinate 5:1481134-1481148AGGGCCTGCACCA>0, the reference and variant fields indicate an deletion or substitution variant, however the coordinates (1481134 and 1481148) are not valid for these mutation types.\n",
      "Coordinate Error in line 1 or input. Coordinate skipped.\n",
      "\tMessage: For the coordinate 12:3659130-3659135ACTT>0, the reference and variant fields indicate an deletion or substitution variant, however the coordinates (3659130 and 3659135) are not valid for these mutation types.\n",
      "Coordinate Error in line 1 or input. Coordinate skipped.\n",
      "\tMessage: For the coordinate 14:71209169-71209173GAT>0, the reference and variant fields indicate an deletion or substitution variant, however the coordinates (71209169 and 71209173) are not valid for these mutation types.\n",
      "Coordinate Error in line 1 or input. Coordinate skipped.\n",
      "\tMessage: For the coordinate 17:43482006-43482009AG>0, the reference and variant fields indicate an deletion or substitution variant, however the coordinates (43482006 and 43482009) are not valid for these mutation types.\n",
      "Coordinate Error in line 1 or input. Coordinate skipped.\n"
     ]
    },
    {
     "name": "stdout",
     "output_type": "stream",
     "text": [
      "\tMessage: For the coordinate 17:7579642-7579659CCCCAGCCCTCCAGGT>0, the reference and variant fields indicate an deletion or substitution variant, however the coordinates (7579642 and 7579659) are not valid for these mutation types.\n",
      "Coordinate Error in line 1 or input. Coordinate skipped.\n",
      "\tMessage: For the coordinate 19:35837536-35837538T>0, the reference and variant fields indicate an deletion or substitution variant, however the coordinates (35837536 and 35837538) are not valid for these mutation types.\n",
      "Coordinate Error in line 1 or input. Coordinate skipped.\n",
      "\tMessage: For the coordinate 2:102785155-102785157G>0, the reference and variant fields indicate an deletion or substitution variant, however the coordinates (102785155 and 102785157) are not valid for these mutation types.\n",
      "Coordinate Error in line 1 or input. Coordinate skipped.\n",
      "\tMessage: For the coordinate 2:189904250-189904252C>0, the reference and variant fields indicate an deletion or substitution variant, however the coordinates (189904250 and 189904252) are not valid for these mutation types.\n",
      "Coordinate Error in line 1 or input. Coordinate skipped.\n",
      "\tMessage: For the coordinate 20:2633397-2633404GCCTGC>0, the reference and variant fields indicate an deletion or substitution variant, however the coordinates (2633397 and 2633404) are not valid for these mutation types.\n",
      "Coordinate Error in line 1 or input. Coordinate skipped.\n",
      "\tMessage: For the coordinate 21:47721985-477219840>TGG, the reference and variant fields indicate an insertion variant, however the coordinates (47721985 and 47721984) are not valid for these mutation types.\n",
      "Coordinate Error in line 1 or input. Coordinate skipped.\n",
      "\tMessage: For the coordinate 6:27783020-27783024CAA>0, the reference and variant fields indicate an deletion or substitution variant, however the coordinates (27783020 and 27783024) are not valid for these mutation types.\n",
      "Coordinate Error in line 1 or input. Coordinate skipped.\n",
      "\tMessage: For the coordinate 8:8234868-82348670>GCCGCT, the reference and variant fields indicate an insertion variant, however the coordinates (8234868 and 8234867) are not valid for these mutation types.\n",
      "Coordinate Error in line 1 or input. Coordinate skipped.\n",
      "\tMessage: For the coordinate 9:126118516-126118524GCAGAGC>0, the reference and variant fields indicate an deletion or substitution variant, however the coordinates (126118516 and 126118524) are not valid for these mutation types.\n",
      "Coordinate Error in line 1 or input. Coordinate skipped.\n",
      "\tMessage: For the coordinate 9:33463450-33463454AGA>-, the reference and variant fields indicate an deletion or substitution variant, however the coordinates (33463450 and 33463454) are not valid for these mutation types.\n",
      "Coordinate Error in line 1 or input. Coordinate skipped.\n",
      "\tMessage: For the coordinate 12:49432268-49432270G>0, the reference and variant fields indicate an deletion or substitution variant, however the coordinates (49432268 and 49432270) are not valid for these mutation types.\n",
      "Coordinate Error in line 1 or input. Coordinate skipped.\n",
      "\tMessage: For the coordinate 17:2597722-2597734CAGCGGGGACA>0, the reference and variant fields indicate an deletion or substitution variant, however the coordinates (2597722 and 2597734) are not valid for these mutation types.\n",
      "Coordinate Error in line 1 or input. Coordinate skipped.\n",
      "\tMessage: For the coordinate 19:19035155-19035157A>0, the reference and variant fields indicate an deletion or substitution variant, however the coordinates (19035155 and 19035157) are not valid for these mutation types.\n",
      "Coordinate Error in line 1 or input. Coordinate skipped.\n",
      "\tMessage: For the coordinate 21:37414194-374141930>AAA, the reference and variant fields indicate an insertion variant, however the coordinates (37414194 and 37414193) are not valid for these mutation types.\n",
      "Coordinate Error in line 1 or input. Coordinate skipped.\n",
      "\tMessage: For the coordinate 6:32552184-325521830>A, the reference and variant fields indicate an insertion variant, however the coordinates (32552184 and 32552183) are not valid for these mutation types.\n",
      "Coordinate Error in line 1 or input. Coordinate skipped.\n",
      "\tMessage: For the coordinate 9:131456191-131456198GAAGAA>0, the reference and variant fields indicate an deletion or substitution variant, however the coordinates (131456191 and 131456198) are not valid for these mutation types.\n",
      "Coordinate Error in line 1 or input. Coordinate skipped.\n",
      "\tMessage: For the coordinate 6:31380156-31380161GCTG>0, the reference and variant fields indicate an deletion or substitution variant, however the coordinates (31380156 and 31380161) are not valid for these mutation types.\n",
      "Coordinate Error in line 1 or input. Coordinate skipped.\n",
      "\tMessage: For the coordinate 6:31669148-31669151AC>0, the reference and variant fields indicate an deletion or substitution variant, however the coordinates (31669148 and 31669151) are not valid for these mutation types.\n",
      "Coordinate Error in line 1 or input. Coordinate skipped.\n",
      "\tMessage: For the coordinate 6:151674116-1516741150>GAG, the reference and variant fields indicate an insertion variant, however the coordinates (151674116 and 151674115) are not valid for these mutation types.\n",
      "Coordinate Error in line 1 or input. Coordinate skipped.\n",
      "\tMessage: For the coordinate 8:130772882-1307728810>GCCTGAGTCTTTCCCATA, the reference and variant fields indicate an insertion variant, however the coordinates (130772882 and 130772881) are not valid for these mutation types.\n",
      "Coordinate Error in line 1 or input. Coordinate skipped.\n",
      "\tMessage: For the coordinate 17:76798547-76798554TTTTTC>0, the reference and variant fields indicate an deletion or substitution variant, however the coordinates (76798547 and 76798554) are not valid for these mutation types.\n",
      "Coordinate Error in line 1 or input. Coordinate skipped.\n",
      "\tMessage: For the coordinate 6:31380156-31380161GCTG>-, the reference and variant fields indicate an deletion or substitution variant, however the coordinates (31380156 and 31380161) are not valid for these mutation types.\n",
      "Coordinate Error in line 1 or input. Coordinate skipped.\n",
      "\tMessage: For the coordinate 6:151674116-151674115->GAG, the reference and variant fields indicate an insertion variant, however the coordinates (151674116 and 151674115) are not valid for these mutation types.\n",
      "Coordinate Error in line 1 or input. Coordinate skipped.\n",
      "\tMessage: For the coordinate 1:90493242-90493244A>0, the reference and variant fields indicate an deletion or substitution variant, however the coordinates (90493242 and 90493244) are not valid for these mutation types.\n",
      "Coordinate Error in line 1 or input. Coordinate skipped.\n",
      "\tMessage: For the coordinate 10:133795200-133795202T>0, the reference and variant fields indicate an deletion or substitution variant, however the coordinates (133795200 and 133795202) are not valid for these mutation types.\n",
      "Coordinate Error in line 1 or input. Coordinate skipped.\n",
      "\tMessage: For the coordinate 10:7737588-7737590T>0, the reference and variant fields indicate an deletion or substitution variant, however the coordinates (7737588 and 7737590) are not valid for these mutation types.\n",
      "Coordinate Error in line 1 or input. Coordinate skipped.\n",
      "\tMessage: For the coordinate 11:68671280-686712790>CCGCCGCCATCTTC, the reference and variant fields indicate an insertion variant, however the coordinates (68671280 and 68671279) are not valid for these mutation types.\n",
      "Coordinate Error in line 1 or input. Coordinate skipped.\n",
      "\tMessage: For the coordinate 12:49422876-49422878A>0, the reference and variant fields indicate an deletion or substitution variant, however the coordinates (49422876 and 49422878) are not valid for these mutation types.\n",
      "Coordinate Error in line 1 or input. Coordinate skipped.\n",
      "\tMessage: For the coordinate 12:81239720-81239722A>0, the reference and variant fields indicate an deletion or substitution variant, however the coordinates (81239720 and 81239722) are not valid for these mutation types.\n",
      "Coordinate Error in line 1 or input. Coordinate skipped.\n",
      "\tMessage: For the coordinate 14:103964853-103964855T>0, the reference and variant fields indicate an deletion or substitution variant, however the coordinates (103964853 and 103964855) are not valid for these mutation types.\n",
      "Coordinate Error in line 1 or input. Coordinate skipped.\n",
      "\tMessage: For the coordinate 19:991195-991198GT>0, the reference and variant fields indicate an deletion or substitution variant, however the coordinates (991195 and 991198) are not valid for these mutation types.\n",
      "Coordinate Error in line 1 or input. Coordinate skipped.\n",
      "\tMessage: For the coordinate 2:173901362-173901364T>0, the reference and variant fields indicate an deletion or substitution variant, however the coordinates (173901362 and 173901364) are not valid for these mutation types.\n",
      "Coordinate Error in line 1 or input. Coordinate skipped.\n",
      "\tMessage: For the coordinate 2:44566503-44566506AG>0, the reference and variant fields indicate an deletion or substitution variant, however the coordinates (44566503 and 44566506) are not valid for these mutation types.\n",
      "Coordinate Error in line 1 or input. Coordinate skipped.\n",
      "\tMessage: For the coordinate 20:47752488-47752490A>0, the reference and variant fields indicate an deletion or substitution variant, however the coordinates (47752488 and 47752490) are not valid for these mutation types.\n",
      "Coordinate Error in line 1 or input. Coordinate skipped.\n",
      "\tMessage: For the coordinate 22:38483155-384831540>TCATGGGTG, the reference and variant fields indicate an insertion variant, however the coordinates (38483155 and 38483154) are not valid for these mutation types.\n",
      "Coordinate Error in line 1 or input. Coordinate skipped.\n",
      "\tMessage: For the coordinate 8:145151664-145151667GG>0, the reference and variant fields indicate an deletion or substitution variant, however the coordinates (145151664 and 145151667) are not valid for these mutation types.\n",
      "Coordinate Error in line 1 or input. Coordinate skipped.\n",
      "\tMessage: For the coordinate 1:150849070-150849073CC>0, the reference and variant fields indicate an deletion or substitution variant, however the coordinates (150849070 and 150849073) are not valid for these mutation types.\n",
      "Coordinate Error in line 1 or input. Coordinate skipped.\n",
      "\tMessage: For the coordinate X:77109401-77109404AG>0, the reference and variant fields indicate an deletion or substitution variant, however the coordinates (77109401 and 77109404) are not valid for these mutation types.\n",
      "Coordinate Error in line 1 or input. Coordinate skipped.\n",
      "\tMessage: For the coordinate X:80001159-800011580>A, the reference and variant fields indicate an insertion variant, however the coordinates (80001159 and 80001158) are not valid for these mutation types.\n",
      "Coordinate Error in line 1 or input. Coordinate skipped.\n",
      "\tMessage: For the coordinate 19:36642559-36642562GA>0, the reference and variant fields indicate an deletion or substitution variant, however the coordinates (36642559 and 36642562) are not valid for these mutation types.\n",
      "Coordinate Error in line 1 or input. Coordinate skipped.\n",
      "\tMessage: For the coordinate 7:100385560-100385596GCTTCAGCTACCGCTTGCAAGGCCGCATGACCTAT>0, the reference and variant fields indicate an deletion or substitution variant, however the coordinates (100385560 and 100385596) are not valid for these mutation types.\n",
      "Coordinate Error in line 1 or input. Coordinate skipped.\n",
      "\tMessage: For the coordinate 7:149518531-149518533C>0, the reference and variant fields indicate an deletion or substitution variant, however the coordinates (149518531 and 149518533) are not valid for these mutation types.\n",
      "Coordinate Error in line 1 or input. Coordinate skipped.\n",
      "\tMessage: For the coordinate 1:2489786-2489808GTGTGAAGGAGGCCTGCGGGG>-, the reference and variant fields indicate an deletion or substitution variant, however the coordinates (2489786 and 2489808) are not valid for these mutation types.\n",
      "Coordinate Error in line 1 or input. Coordinate skipped.\n",
      "\tMessage: For the coordinate 12:49431214-494312130>C, the reference and variant fields indicate an insertion variant, however the coordinates (49431214 and 49431213) are not valid for these mutation types.\n",
      "Coordinate Error in line 1 or input. Coordinate skipped.\n",
      "\tMessage: For the coordinate 14:24114335-24114339CTT>0, the reference and variant fields indicate an deletion or substitution variant, however the coordinates (24114335 and 24114339) are not valid for these mutation types.\n",
      "Coordinate Error in line 1 or input. Coordinate skipped.\n",
      "\tMessage: For the coordinate 19:15997135-159971340>C, the reference and variant fields indicate an insertion variant, however the coordinates (15997135 and 15997134) are not valid for these mutation types.\n",
      "Coordinate Error in line 1 or input. Coordinate skipped.\n",
      "\tMessage: For the coordinate 19:57742492-57742507GGACGAGCAGGATT>0, the reference and variant fields indicate an deletion or substitution variant, however the coordinates (57742492 and 57742507) are not valid for these mutation types.\n",
      "Coordinate Error in line 1 or input. Coordinate skipped.\n",
      "\tMessage: For the coordinate 6:90577710-90577728CTTTGCCCAGACATGGA>0, the reference and variant fields indicate an deletion or substitution variant, however the coordinates (90577710 and 90577728) are not valid for these mutation types.\n",
      "Coordinate Error in line 1 or input. Coordinate skipped.\n",
      "\tMessage: For the coordinate X:71425464-71425467AG>0, the reference and variant fields indicate an deletion or substitution variant, however the coordinates (71425464 and 71425467) are not valid for these mutation types.\n",
      "Coordinate Error in line 1 or input. Coordinate skipped.\n",
      "\tMessage: For the coordinate 1:153907277-153907287CTGCTGCTG>0, the reference and variant fields indicate an deletion or substitution variant, however the coordinates (153907277 and 153907287) are not valid for these mutation types.\n",
      "Coordinate Error in line 1 or input. Coordinate skipped.\n",
      "\tMessage: For the coordinate 1:203188378-203188408CCACTGGTTGTCCCGGAAGATGTAGGGCA>0, the reference and variant fields indicate an deletion or substitution variant, however the coordinates (203188378 and 203188408) are not valid for these mutation types.\n",
      "Coordinate Error in line 1 or input. Coordinate skipped.\n",
      "\tMessage: For the coordinate 10:21805466-218054650>CCTCCT, the reference and variant fields indicate an insertion variant, however the coordinates (21805466 and 21805465) are not valid for these mutation types.\n",
      "Coordinate Error in line 1 or input. Coordinate skipped.\n",
      "\tMessage: For the coordinate 10:90773103-90773106AG>0, the reference and variant fields indicate an deletion or substitution variant, however the coordinates (90773103 and 90773106) are not valid for these mutation types.\n",
      "Coordinate Error in line 1 or input. Coordinate skipped.\n",
      "\tMessage: For the coordinate 10:91497902-914979010>TAAAAG, the reference and variant fields indicate an insertion variant, however the coordinates (91497902 and 91497901) are not valid for these mutation types.\n",
      "Coordinate Error in line 1 or input. Coordinate skipped.\n",
      "\tMessage: For the coordinate 12:49415854-49415858GAT>0, the reference and variant fields indicate an deletion or substitution variant, however the coordinates (49415854 and 49415858) are not valid for these mutation types.\n",
      "Coordinate Error in line 1 or input. Coordinate skipped.\n",
      "\tMessage: For the coordinate 12:50829263-508292620>TATTC, the reference and variant fields indicate an insertion variant, however the coordinates (50829263 and 50829262) are not valid for these mutation types.\n",
      "Coordinate Error in line 1 or input. Coordinate skipped.\n",
      "\tMessage: For the coordinate 13:25262563-252625620>G, the reference and variant fields indicate an insertion variant, however the coordinates (25262563 and 25262562) are not valid for these mutation types.\n",
      "Coordinate Error in line 1 or input. Coordinate skipped.\n",
      "\tMessage: For the coordinate 14:104000901-104000905CTT>0, the reference and variant fields indicate an deletion or substitution variant, however the coordinates (104000901 and 104000905) are not valid for these mutation types.\n",
      "Coordinate Error in line 1 or input. Coordinate skipped.\n",
      "\tMessage: For the coordinate 14:106330103-1063301020>T, the reference and variant fields indicate an insertion variant, however the coordinates (106330103 and 106330102) are not valid for these mutation types.\n",
      "Coordinate Error in line 1 or input. Coordinate skipped.\n",
      "\tMessage: For the coordinate 22:38161835-381618340>G, the reference and variant fields indicate an insertion variant, however the coordinates (38161835 and 38161834) are not valid for these mutation types.\n",
      "Coordinate Error in line 1 or input. Coordinate skipped.\n",
      "\tMessage: For the coordinate 1:200080462-2000804610>T, the reference and variant fields indicate an insertion variant, however the coordinates (200080462 and 200080461) are not valid for these mutation types.\n",
      "Coordinate Error in line 1 or input. Coordinate skipped.\n",
      "\tMessage: For the coordinate 10:118396275-118396277G>0, the reference and variant fields indicate an deletion or substitution variant, however the coordinates (118396275 and 118396277) are not valid for these mutation types.\n",
      "Coordinate Error in line 1 or input. Coordinate skipped.\n",
      "\tMessage: For the coordinate 14:106092210-1060922090>G, the reference and variant fields indicate an insertion variant, however the coordinates (106092210 and 106092209) are not valid for these mutation types.\n",
      "Coordinate Error in line 1 or input. Coordinate skipped.\n",
      "\tMessage: For the coordinate 19:16870052-16870054G>0, the reference and variant fields indicate an deletion or substitution variant, however the coordinates (16870052 and 16870054) are not valid for these mutation types.\n",
      "Coordinate Error in line 1 or input. Coordinate skipped.\n",
      "\tMessage: For the coordinate 20:2633397-2633404GCCTGC>0, the reference and variant fields indicate an deletion or substitution variant, however the coordinates (2633397 and 2633404) are not valid for these mutation types.\n",
      "Coordinate Error in line 1 or input. Coordinate skipped.\n",
      "\tMessage: For the coordinate 8:142228076-142228095GAGCGGCCCCGCTCCGGT>0, the reference and variant fields indicate an deletion or substitution variant, however the coordinates (142228076 and 142228095) are not valid for these mutation types.\n",
      "Coordinate Error in line 1 or input. Coordinate skipped.\n",
      "\tMessage: For the coordinate 10:76781904-76781908GAA>0, the reference and variant fields indicate an deletion or substitution variant, however the coordinates (76781904 and 76781908) are not valid for these mutation types.\n",
      "Coordinate Error in line 1 or input. Coordinate skipped.\n",
      "\tMessage: For the coordinate 17:46673959-46673963CTT>-, the reference and variant fields indicate an deletion or substitution variant, however the coordinates (46673959 and 46673963) are not valid for these mutation types.\n",
      "Coordinate Error in line 1 or input. Coordinate skipped.\n",
      "\tMessage: For the coordinate 19:36642561-366425600>C, the reference and variant fields indicate an insertion variant, however the coordinates (36642561 and 36642560) are not valid for these mutation types.\n",
      "Coordinate Error in line 1 or input. Coordinate skipped.\n",
      "\tMessage: For the coordinate 6:145124290-1451242890>TT, the reference and variant fields indicate an insertion variant, however the coordinates (145124290 and 145124289) are not valid for these mutation types.\n",
      "Coordinate Error in line 1 or input. Coordinate skipped.\n",
      "\tMessage: For the coordinate 6:145124293-1451242920>T, the reference and variant fields indicate an insertion variant, however the coordinates (145124293 and 145124292) are not valid for these mutation types.\n",
      "Coordinate Error in line 1 or input. Coordinate skipped.\n",
      "\tMessage: For the coordinate 6:33262442-33262445AC>0, the reference and variant fields indicate an deletion or substitution variant, however the coordinates (33262442 and 33262445) are not valid for these mutation types.\n",
      "Coordinate Error in line 1 or input. Coordinate skipped.\n",
      "\tMessage: For the coordinate 8:38884345-388843440>T, the reference and variant fields indicate an insertion variant, however the coordinates (38884345 and 38884344) are not valid for these mutation types.\n",
      "Coordinate Error in line 1 or input. Coordinate skipped.\n",
      "\tMessage: For the coordinate 9:139903352-1399033510>C, the reference and variant fields indicate an insertion variant, however the coordinates (139903352 and 139903351) are not valid for these mutation types.\n",
      "Coordinate Error in line 1 or input. Coordinate skipped.\n",
      "\tMessage: For the coordinate 10:131639306-1316393050>CCC, the reference and variant fields indicate an insertion variant, however the coordinates (131639306 and 131639305) are not valid for these mutation types.\n",
      "Coordinate Error in line 1 or input. Coordinate skipped.\n",
      "\tMessage: For the coordinate 1:95357980-95357982T>0, the reference and variant fields indicate an deletion or substitution variant, however the coordinates (95357980 and 95357982) are not valid for these mutation types.\n",
      "Coordinate Error in line 1 or input. Coordinate skipped.\n",
      "\tMessage: For the coordinate 10:134012501-134012508CGAGGG>0, the reference and variant fields indicate an deletion or substitution variant, however the coordinates (134012501 and 134012508) are not valid for these mutation types.\n",
      "Coordinate Error in line 1 or input. Coordinate skipped.\n",
      "\tMessage: For the coordinate 10:37486188-374861870>A, the reference and variant fields indicate an insertion variant, however the coordinates (37486188 and 37486187) are not valid for these mutation types.\n",
      "Coordinate Error in line 1 or input. Coordinate skipped.\n",
      "\tMessage: For the coordinate 12:124887058-1248870570>GCTGCT, the reference and variant fields indicate an insertion variant, however the coordinates (124887058 and 124887057) are not valid for these mutation types.\n",
      "Coordinate Error in line 1 or input. Coordinate skipped.\n",
      "\tMessage: For the coordinate 12:51740392-51740404CATATCCACTT>0, the reference and variant fields indicate an deletion or substitution variant, however the coordinates (51740392 and 51740404) are not valid for these mutation types.\n",
      "Coordinate Error in line 1 or input. Coordinate skipped.\n",
      "\tMessage: For the coordinate 14:106329477-106329479C>0, the reference and variant fields indicate an deletion or substitution variant, however the coordinates (106329477 and 106329479) are not valid for these mutation types.\n",
      "Coordinate Error in line 1 or input. Coordinate skipped.\n",
      "\tMessage: For the coordinate 14:106329483-1063294820>AT, the reference and variant fields indicate an insertion variant, however the coordinates (106329483 and 106329482) are not valid for these mutation types.\n",
      "Coordinate Error in line 1 or input. Coordinate skipped.\n",
      "\tMessage: For the coordinate 19:44005875-44005880CAAA>0, the reference and variant fields indicate an deletion or substitution variant, however the coordinates (44005875 and 44005880) are not valid for these mutation types.\n",
      "Coordinate Error in line 1 or input. Coordinate skipped.\n",
      "\tMessage: For the coordinate 19:50881822-508818210>CAG, the reference and variant fields indicate an insertion variant, however the coordinates (50881822 and 50881821) are not valid for these mutation types.\n",
      "Coordinate Error in line 1 or input. Coordinate skipped.\n",
      "\tMessage: For the coordinate 19:8398948-8398961TCGCTGTCGCCA>0, the reference and variant fields indicate an deletion or substitution variant, however the coordinates (8398948 and 8398961) are not valid for these mutation types.\n",
      "Coordinate Error in line 1 or input. Coordinate skipped.\n",
      "\tMessage: For the coordinate 2:179322940-179322942A>0, the reference and variant fields indicate an deletion or substitution variant, however the coordinates (179322940 and 179322942) are not valid for these mutation types.\n",
      "Coordinate Error in line 1 or input. Coordinate skipped.\n",
      "\tMessage: For the coordinate 4:1388622-13886210>CA, the reference and variant fields indicate an insertion variant, however the coordinates (1388622 and 1388621) are not valid for these mutation types.\n",
      "Coordinate Error in line 1 or input. Coordinate skipped.\n",
      "\tMessage: For the coordinate 5:1093630-10936290>T, the reference and variant fields indicate an insertion variant, however the coordinates (1093630 and 1093629) are not valid for these mutation types.\n",
      "Coordinate Error in line 1 or input. Coordinate skipped.\n",
      "\tMessage: For the coordinate 5:111500822-1115008210>AAA, the reference and variant fields indicate an insertion variant, however the coordinates (111500822 and 111500821) are not valid for these mutation types.\n",
      "Coordinate Error in line 1 or input. Coordinate skipped.\n",
      "\tMessage: For the coordinate 5:1481134-1481148AGGGCCTGCACCA>0, the reference and variant fields indicate an deletion or substitution variant, however the coordinates (1481134 and 1481148) are not valid for these mutation types.\n",
      "Coordinate Error in line 1 or input. Coordinate skipped.\n",
      "\tMessage: For the coordinate 6:109906328-109906332CTT>0, the reference and variant fields indicate an deletion or substitution variant, however the coordinates (109906328 and 109906332) are not valid for these mutation types.\n",
      "Coordinate Error in line 1 or input. Coordinate skipped.\n",
      "\tMessage: For the coordinate 6:138201327-138201330GT>0, the reference and variant fields indicate an deletion or substitution variant, however the coordinates (138201327 and 138201330) are not valid for these mutation types.\n",
      "Coordinate Error in line 1 or input. Coordinate skipped.\n",
      "\tMessage: For the coordinate 7:128587350-128587381ACTCTGCAGCCGCCCACTCTGCGGCCGCCT>0, the reference and variant fields indicate an deletion or substitution variant, however the coordinates (128587350 and 128587381) are not valid for these mutation types.\n",
      "Coordinate Error in line 1 or input. Coordinate skipped.\n",
      "\tMessage: For the coordinate 8:103573009-103573037TGCAACCCCTGCAGCCCCTGCAACCCG>0, the reference and variant fields indicate an deletion or substitution variant, however the coordinates (103573009 and 103573037) are not valid for these mutation types.\n",
      "Coordinate Error in line 1 or input. Coordinate skipped.\n",
      "\tMessage: For the coordinate 9:140918169-140918185GGAGAAGGAGACCAC>0, the reference and variant fields indicate an deletion or substitution variant, however the coordinates (140918169 and 140918185) are not valid for these mutation types.\n",
      "Coordinate Error in line 1 or input. Coordinate skipped.\n",
      "\tMessage: For the coordinate 2:160885498-1608854970>A, the reference and variant fields indicate an insertion variant, however the coordinates (160885498 and 160885497) are not valid for these mutation types.\n",
      "Coordinate Error in line 1 or input. Coordinate skipped.\n",
      "\tMessage: For the coordinate 4:2965873-2965875C>0, the reference and variant fields indicate an deletion or substitution variant, however the coordinates (2965873 and 2965875) are not valid for these mutation types.\n",
      "Coordinate Error in line 1 or input. Coordinate skipped.\n",
      "\tMessage: For the coordinate 9:137688779-137688800CCTGTCCCCTCCAAAACCCA>0, the reference and variant fields indicate an deletion or substitution variant, however the coordinates (137688779 and 137688800) are not valid for these mutation types.\n",
      "Coordinate Error in line 1 or input. Coordinate skipped.\n",
      "\tMessage: For the coordinate 11:64606910-646069090>CTGCTCCCA, the reference and variant fields indicate an insertion variant, however the coordinates (64606910 and 64606909) are not valid for these mutation types.\n",
      "Coordinate Error in line 1 or input. Coordinate skipped.\n",
      "\tMessage: For the coordinate 12:49415854-49415858GAT>0, the reference and variant fields indicate an deletion or substitution variant, however the coordinates (49415854 and 49415858) are not valid for these mutation types.\n",
      "Coordinate Error in line 1 or input. Coordinate skipped.\n",
      "\tMessage: For the coordinate 16:29937081-299370800>A, the reference and variant fields indicate an insertion variant, however the coordinates (29937081 and 29937080) are not valid for these mutation types.\n",
      "Coordinate Error in line 1 or input. Coordinate skipped.\n",
      "\tMessage: For the coordinate 19:10229725-10229747GGCAGTCCTCACTCACCTCCC>0, the reference and variant fields indicate an deletion or substitution variant, however the coordinates (10229725 and 10229747) are not valid for these mutation types.\n",
      "Coordinate Error in line 1 or input. Coordinate skipped.\n",
      "\tMessage: For the coordinate 20:44520236-44520240CTG>0, the reference and variant fields indicate an deletion or substitution variant, however the coordinates (44520236 and 44520240) are not valid for these mutation types.\n",
      "Coordinate Error in line 1 or input. Coordinate skipped.\n",
      "\tMessage: For the coordinate 2:97833395-97833398GA>0, the reference and variant fields indicate an deletion or substitution variant, however the coordinates (97833395 and 97833398) are not valid for these mutation types.\n",
      "Coordinate Error in line 1 or input. Coordinate skipped.\n",
      "\tMessage: For the coordinate 2:97833399-97833401T>0, the reference and variant fields indicate an deletion or substitution variant, however the coordinates (97833399 and 97833401) are not valid for these mutation types.\n",
      "Coordinate Error in line 1 or input. Coordinate skipped.\n",
      "\tMessage: For the coordinate 7:117188882-1171888810>C, the reference and variant fields indicate an insertion variant, however the coordinates (117188882 and 117188881) are not valid for these mutation types.\n",
      "Coordinate Error in line 1 or input. Coordinate skipped.\n",
      "\tMessage: For the coordinate 10:29578180-295781790>TGAAGCCAACTGTCTC, the reference and variant fields indicate an insertion variant, however the coordinates (29578180 and 29578179) are not valid for these mutation types.\n",
      "Coordinate Error in line 1 or input. Coordinate skipped.\n",
      "\tMessage: For the coordinate 12:104359897-104359900GC>0, the reference and variant fields indicate an deletion or substitution variant, however the coordinates (104359897 and 104359900) are not valid for these mutation types.\n",
      "Coordinate Error in line 1 or input. Coordinate skipped.\n",
      "\tMessage: For the coordinate 16:67229792-67229796CAG>0, the reference and variant fields indicate an deletion or substitution variant, however the coordinates (67229792 and 67229796) are not valid for these mutation types.\n",
      "Coordinate Error in line 1 or input. Coordinate skipped.\n",
      "\tMessage: For the coordinate 19:40405901-40405903A>0, the reference and variant fields indicate an deletion or substitution variant, however the coordinates (40405901 and 40405903) are not valid for these mutation types.\n",
      "Coordinate Error in line 1 or input. Coordinate skipped.\n",
      "\tMessage: For the coordinate X:47107349-47107351A>0, the reference and variant fields indicate an deletion or substitution variant, however the coordinates (47107349 and 47107351) are not valid for these mutation types.\n",
      "Coordinate Error in line 1 or input. Coordinate skipped.\n",
      "\tMessage: For the coordinate 2:89475804-89475807TG>0, the reference and variant fields indicate an deletion or substitution variant, however the coordinates (89475804 and 89475807) are not valid for these mutation types.\n",
      "Coordinate Error in line 1 or input. Coordinate skipped.\n",
      "\tMessage: For the coordinate 4:113479314-113479322CTCTGTC>0, the reference and variant fields indicate an deletion or substitution variant, however the coordinates (113479314 and 113479322) are not valid for these mutation types.\n",
      "Coordinate Error in line 1 or input. Coordinate skipped.\n",
      "\tMessage: For the coordinate 5:176813231-176813253GTCCCCAAGCTGCGCCAGGCT>0, the reference and variant fields indicate an deletion or substitution variant, however the coordinates (176813231 and 176813253) are not valid for these mutation types.\n",
      "Coordinate Error in line 1 or input. Coordinate skipped.\n",
      "\tMessage: For the coordinate 7:940258-9402570>GGCAAAGGCA, the reference and variant fields indicate an insertion variant, however the coordinates (940258 and 940257) are not valid for these mutation types.\n",
      "Coordinate Error in line 1 or input. Coordinate skipped.\n",
      "\tMessage: For the coordinate 7:37960284-37960286A>0, the reference and variant fields indicate an deletion or substitution variant, however the coordinates (37960284 and 37960286) are not valid for these mutation types.\n",
      "Coordinate Error in line 1 or input. Coordinate skipped.\n",
      "\tMessage: For the coordinate 8:38884345-388843440>T, the reference and variant fields indicate an insertion variant, however the coordinates (38884345 and 38884344) are not valid for these mutation types.\n",
      "Coordinate Error in line 1 or input. Coordinate skipped.\n",
      "\tMessage: For the coordinate 8:145738592-145738594T>0, the reference and variant fields indicate an deletion or substitution variant, however the coordinates (145738592 and 145738594) are not valid for these mutation types.\n",
      "Coordinate Error in line 1 or input. Coordinate skipped.\n",
      "\tMessage: For the coordinate 9:111775546-111775550AGG>0, the reference and variant fields indicate an deletion or substitution variant, however the coordinates (111775546 and 111775550) are not valid for these mutation types.\n",
      "Coordinate Error in line 1 or input. Coordinate skipped.\n",
      "\tMessage: For the coordinate 10:112338376-112338378G>0, the reference and variant fields indicate an deletion or substitution variant, however the coordinates (112338376 and 112338378) are not valid for these mutation types.\n",
      "Coordinate Error in line 1 or input. Coordinate skipped.\n",
      "\tMessage: For the coordinate 12:49445267-49445269G>0, the reference and variant fields indicate an deletion or substitution variant, however the coordinates (49445267 and 49445269) are not valid for these mutation types.\n",
      "Coordinate Error in line 1 or input. Coordinate skipped.\n",
      "\tMessage: For the coordinate 14:20528447-20528467CATAGATTTGCTCACTGAC>0, the reference and variant fields indicate an deletion or substitution variant, however the coordinates (20528447 and 20528467) are not valid for these mutation types.\n",
      "Coordinate Error in line 1 or input. Coordinate skipped.\n",
      "\tMessage: For the coordinate 14:24646983-24646987TCC>0, the reference and variant fields indicate an deletion or substitution variant, however the coordinates (24646983 and 24646987) are not valid for these mutation types.\n",
      "Coordinate Error in line 1 or input. Coordinate skipped.\n",
      "\tMessage: For the coordinate 15:93198677-93198684TGGAGC>0, the reference and variant fields indicate an deletion or substitution variant, however the coordinates (93198677 and 93198684) are not valid for these mutation types.\n",
      "Coordinate Error in line 1 or input. Coordinate skipped.\n",
      "\tMessage: For the coordinate 19:7684449-7684457GGGGGAT>0, the reference and variant fields indicate an deletion or substitution variant, however the coordinates (7684449 and 7684457) are not valid for these mutation types.\n",
      "Coordinate Error in line 1 or input. Coordinate skipped.\n",
      "\tMessage: For the coordinate X:13727015-13727020TGGA>0, the reference and variant fields indicate an deletion or substitution variant, however the coordinates (13727015 and 13727020) are not valid for these mutation types.\n",
      "Coordinate Error in line 1 or input. Coordinate skipped.\n",
      "\tMessage: For the coordinate 2:89475804-89475807TG>-, the reference and variant fields indicate an deletion or substitution variant, however the coordinates (89475804 and 89475807) are not valid for these mutation types.\n",
      "Coordinate Error in line 1 or input. Coordinate skipped.\n",
      "\tMessage: For the coordinate X:13727015-13727020TGGA>-, the reference and variant fields indicate an deletion or substitution variant, however the coordinates (13727015 and 13727020) are not valid for these mutation types.\n",
      "Coordinate Error in line 1 or input. Coordinate skipped.\n",
      "\tMessage: For the coordinate 2:89475804-89475807TG>0, the reference and variant fields indicate an deletion or substitution variant, however the coordinates (89475804 and 89475807) are not valid for these mutation types.\n",
      "Coordinate Error in line 1 or input. Coordinate skipped.\n",
      "\tMessage: For the coordinate 8:41800269-418002680>T, the reference and variant fields indicate an insertion variant, however the coordinates (41800269 and 41800268) are not valid for these mutation types.\n",
      "Coordinate Error in line 1 or input. Coordinate skipped.\n",
      "\tMessage: For the coordinate 8:145617533-145617549GGGGGTGCAAGGTGA>0, the reference and variant fields indicate an deletion or substitution variant, however the coordinates (145617533 and 145617549) are not valid for these mutation types.\n",
      "Coordinate Error in line 1 or input. Coordinate skipped.\n",
      "\tMessage: For the coordinate 12:133201446-133201452CAAGG>0, the reference and variant fields indicate an deletion or substitution variant, however the coordinates (133201446 and 133201452) are not valid for these mutation types.\n",
      "Coordinate Error in line 1 or input. Coordinate skipped.\n",
      "\tMessage: For the coordinate 17:4890939-48909380>C, the reference and variant fields indicate an insertion variant, however the coordinates (4890939 and 4890938) are not valid for these mutation types.\n",
      "Coordinate Error in line 1 or input. Coordinate skipped.\n",
      "\tMessage: For the coordinate 20:42694558-426945570>CCG, the reference and variant fields indicate an insertion variant, however the coordinates (42694558 and 42694557) are not valid for these mutation types.\n",
      "Coordinate Error in line 1 or input. Coordinate skipped.\n",
      "\tMessage: For the coordinate 2:176988290-1769882890>GCA, the reference and variant fields indicate an insertion variant, however the coordinates (176988290 and 176988289) are not valid for these mutation types.\n",
      "Coordinate Error in line 1 or input. Coordinate skipped.\n",
      "\tMessage: For the coordinate 2:192548531-1925485300>TA, the reference and variant fields indicate an insertion variant, however the coordinates (192548531 and 192548530) are not valid for these mutation types.\n",
      "Coordinate Error in line 1 or input. Coordinate skipped.\n",
      "\tMessage: For the coordinate 2:218712885-218712889GCT>0, the reference and variant fields indicate an deletion or substitution variant, however the coordinates (218712885 and 218712889) are not valid for these mutation types.\n",
      "Coordinate Error in line 1 or input. Coordinate skipped.\n",
      "\tMessage: For the coordinate 3:14555758-145557570>AGTT, the reference and variant fields indicate an insertion variant, however the coordinates (14555758 and 14555757) are not valid for these mutation types.\n",
      "Coordinate Error in line 1 or input. Coordinate skipped.\n",
      "\tMessage: For the coordinate 3:164739161-164739163A>0, the reference and variant fields indicate an deletion or substitution variant, however the coordinates (164739161 and 164739163) are not valid for these mutation types.\n",
      "Coordinate Error in line 1 or input. Coordinate skipped.\n",
      "\tMessage: For the coordinate 4:87690896-87690898T>0, the reference and variant fields indicate an deletion or substitution variant, however the coordinates (87690896 and 87690898) are not valid for these mutation types.\n",
      "Coordinate Error in line 1 or input. Coordinate skipped.\n",
      "\tMessage: For the coordinate 4:151765908-151765910T>0, the reference and variant fields indicate an deletion or substitution variant, however the coordinates (151765908 and 151765910) are not valid for these mutation types.\n",
      "Coordinate Error in line 1 or input. Coordinate skipped.\n",
      "\tMessage: For the coordinate 4:175897895-175897899AGG>0, the reference and variant fields indicate an deletion or substitution variant, however the coordinates (175897895 and 175897899) are not valid for these mutation types.\n",
      "Coordinate Error in line 1 or input. Coordinate skipped.\n",
      "\tMessage: For the coordinate 5:111500822-1115008210>AAA, the reference and variant fields indicate an insertion variant, however the coordinates (111500822 and 111500821) are not valid for these mutation types.\n",
      "Coordinate Error in line 1 or input. Coordinate skipped.\n",
      "\tMessage: For the coordinate 12:14959058-149590570>T, the reference and variant fields indicate an insertion variant, however the coordinates (14959058 and 14959057) are not valid for these mutation types.\n",
      "Coordinate Error in line 1 or input. Coordinate skipped.\n",
      "\tMessage: For the coordinate 12:39713782-39713784T>0, the reference and variant fields indicate an deletion or substitution variant, however the coordinates (39713782 and 39713784) are not valid for these mutation types.\n",
      "Coordinate Error in line 1 or input. Coordinate skipped.\n",
      "\tMessage: For the coordinate 12:91558361-91558363A>0, the reference and variant fields indicate an deletion or substitution variant, however the coordinates (91558361 and 91558363) are not valid for these mutation types.\n",
      "Coordinate Error in line 1 or input. Coordinate skipped.\n",
      "\tMessage: For the coordinate 14:103390289-103390293AAG>0, the reference and variant fields indicate an deletion or substitution variant, however the coordinates (103390289 and 103390293) are not valid for these mutation types.\n",
      "Coordinate Error in line 1 or input. Coordinate skipped.\n",
      "\tMessage: For the coordinate 14:106478307-1064783060>ACC, the reference and variant fields indicate an insertion variant, however the coordinates (106478307 and 106478306) are not valid for these mutation types.\n",
      "Coordinate Error in line 1 or input. Coordinate skipped.\n",
      "\tMessage: For the coordinate 17:18380162-18380165GA>0, the reference and variant fields indicate an deletion or substitution variant, however the coordinates (18380162 and 18380165) are not valid for these mutation types.\n",
      "Coordinate Error in line 1 or input. Coordinate skipped.\n",
      "\tMessage: For the coordinate 17:74065855-74065857A>0, the reference and variant fields indicate an deletion or substitution variant, however the coordinates (74065855 and 74065857) are not valid for these mutation types.\n",
      "Coordinate Error in line 1 or input. Coordinate skipped.\n",
      "\tMessage: For the coordinate 19:40405903-404059020>GCCC, the reference and variant fields indicate an insertion variant, however the coordinates (40405903 and 40405902) are not valid for these mutation types.\n",
      "Coordinate Error in line 1 or input. Coordinate skipped.\n",
      "\tMessage: For the coordinate 3:75787265-75787268CT>0, the reference and variant fields indicate an deletion or substitution variant, however the coordinates (75787265 and 75787268) are not valid for these mutation types.\n",
      "Coordinate Error in line 1 or input. Coordinate skipped.\n",
      "\tMessage: For the coordinate 5:37349359-37349362AA>0, the reference and variant fields indicate an deletion or substitution variant, however the coordinates (37349359 and 37349362) are not valid for these mutation types.\n",
      "Coordinate Error in line 1 or input. Coordinate skipped.\n",
      "\tMessage: For the coordinate 7:100424576-100424578C>0, the reference and variant fields indicate an deletion or substitution variant, however the coordinates (100424576 and 100424578) are not valid for these mutation types.\n",
      "Coordinate Error in line 1 or input. Coordinate skipped.\n",
      "\tMessage: For the coordinate 7:100467975-1004679740>CT, the reference and variant fields indicate an insertion variant, however the coordinates (100467975 and 100467974) are not valid for these mutation types.\n",
      "Coordinate Error in line 1 or input. Coordinate skipped.\n",
      "\tMessage: For the coordinate 7:102114989-1021149880>C, the reference and variant fields indicate an insertion variant, however the coordinates (102114989 and 102114988) are not valid for these mutation types.\n",
      "Coordinate Error in line 1 or input. Coordinate skipped.\n",
      "\tMessage: For the coordinate 8:8234868-82348670>GCCGCT, the reference and variant fields indicate an insertion variant, however the coordinates (8234868 and 8234867) are not valid for these mutation types.\n",
      "Coordinate Error in line 1 or input. Coordinate skipped.\n",
      "\tMessage: For the coordinate 8:67968869-67968871G>0, the reference and variant fields indicate an deletion or substitution variant, however the coordinates (67968869 and 67968871) are not valid for these mutation types.\n",
      "Coordinate Error in line 1 or input. Coordinate skipped.\n",
      "\tMessage: For the coordinate 12:122359377-122359381AAC>0, the reference and variant fields indicate an deletion or substitution variant, however the coordinates (122359377 and 122359381) are not valid for these mutation types.\n",
      "Coordinate Error in line 1 or input. Coordinate skipped.\n",
      "\tMessage: For the coordinate 2:211320041-2113200400>AAA, the reference and variant fields indicate an insertion variant, however the coordinates (211320041 and 211320040) are not valid for these mutation types.\n",
      "Coordinate Error in line 1 or input. Coordinate skipped.\n",
      "\tMessage: For the coordinate 6:109850197-109850201AAC>0, the reference and variant fields indicate an deletion or substitution variant, however the coordinates (109850197 and 109850201) are not valid for these mutation types.\n",
      "Coordinate Error in line 1 or input. Coordinate skipped.\n",
      "\tMessage: For the coordinate 8:37597919-37597926TCCATC>0, the reference and variant fields indicate an deletion or substitution variant, however the coordinates (37597919 and 37597926) are not valid for these mutation types.\n",
      "Coordinate Error in line 1 or input. Coordinate skipped.\n",
      "\tMessage: For the coordinate 8:59535859-595358580>CG, the reference and variant fields indicate an insertion variant, however the coordinates (59535859 and 59535858) are not valid for these mutation types.\n",
      "Coordinate Error in line 1 or input. Coordinate skipped.\n",
      "\tMessage: For the coordinate 9:107510177-107510183GGGGC>0, the reference and variant fields indicate an deletion or substitution variant, however the coordinates (107510177 and 107510183) are not valid for these mutation types.\n",
      "Coordinate Error in line 1 or input. Coordinate skipped.\n",
      "\tMessage: For the coordinate 10:46342666-46342688GCTCCTGCCATCCTGTCCCCA>0, the reference and variant fields indicate an deletion or substitution variant, however the coordinates (46342666 and 46342688) are not valid for these mutation types.\n",
      "Coordinate Error in line 1 or input. Coordinate skipped.\n",
      "\tMessage: For the coordinate 19:9406452-9406457ATAA>0, the reference and variant fields indicate an deletion or substitution variant, however the coordinates (9406452 and 9406457) are not valid for these mutation types.\n",
      "Coordinate Error in line 1 or input. Coordinate skipped.\n",
      "\tMessage: For the coordinate 19:57742514-577425130>C, the reference and variant fields indicate an insertion variant, however the coordinates (57742514 and 57742513) are not valid for these mutation types.\n",
      "Coordinate Error in line 1 or input. Coordinate skipped.\n",
      "\tMessage: For the coordinate 21:45742945-45742960CGGACGAAAAAGCC>0, the reference and variant fields indicate an deletion or substitution variant, however the coordinates (45742945 and 45742960) are not valid for these mutation types.\n",
      "Coordinate Error in line 1 or input. Coordinate skipped.\n",
      "\tMessage: For the coordinate 22:22569535-22569537G>0, the reference and variant fields indicate an deletion or substitution variant, however the coordinates (22569535 and 22569537) are not valid for these mutation types.\n",
      "Coordinate Error in line 1 or input. Coordinate skipped.\n",
      "\tMessage: For the coordinate 7:83823900-838238990>A, the reference and variant fields indicate an insertion variant, however the coordinates (83823900 and 83823899) are not valid for these mutation types.\n",
      "Coordinate Error in line 1 or input. Coordinate skipped.\n",
      "\tMessage: For the coordinate 16:3781322-3781326AGG>0, the reference and variant fields indicate an deletion or substitution variant, however the coordinates (3781322 and 3781326) are not valid for these mutation types.\n",
      "Coordinate Error in line 1 or input. Coordinate skipped.\n",
      "\tMessage: For the coordinate 16:3781898-3781900G>0, the reference and variant fields indicate an deletion or substitution variant, however the coordinates (3781898 and 3781900) are not valid for these mutation types.\n",
      "Coordinate Error in line 1 or input. Coordinate skipped.\n",
      "\tMessage: For the coordinate 16:67876822-67876826CAG>0, the reference and variant fields indicate an deletion or substitution variant, however the coordinates (67876822 and 67876826) are not valid for these mutation types.\n",
      "Coordinate Error in line 1 or input. Coordinate skipped.\n",
      "\tMessage: For the coordinate 16:85954847-85954849G>0, the reference and variant fields indicate an deletion or substitution variant, however the coordinates (85954847 and 85954849) are not valid for these mutation types.\n",
      "Coordinate Error in line 1 or input. Coordinate skipped.\n",
      "\tMessage: For the coordinate 19:7744074-7744077CC>0, the reference and variant fields indicate an deletion or substitution variant, however the coordinates (7744074 and 7744077) are not valid for these mutation types.\n",
      "Coordinate Error in line 1 or input. Coordinate skipped.\n",
      "\tMessage: For the coordinate 19:8398948-8398961TCGCTGTCGCCA>0, the reference and variant fields indicate an deletion or substitution variant, however the coordinates (8398948 and 8398961) are not valid for these mutation types.\n",
      "Coordinate Error in line 1 or input. Coordinate skipped.\n",
      "\tMessage: For the coordinate 19:39221714-39221725CCATGCCCCA>0, the reference and variant fields indicate an deletion or substitution variant, however the coordinates (39221714 and 39221725) are not valid for these mutation types.\n",
      "Coordinate Error in line 1 or input. Coordinate skipped.\n",
      "\tMessage: For the coordinate 19:58385869-583858680>ATA, the reference and variant fields indicate an insertion variant, however the coordinates (58385869 and 58385868) are not valid for these mutation types.\n",
      "Coordinate Error in line 1 or input. Coordinate skipped.\n",
      "\tMessage: For the coordinate 20:61461795-614617940>G, the reference and variant fields indicate an insertion variant, however the coordinates (61461795 and 61461794) are not valid for these mutation types.\n",
      "Coordinate Error in line 1 or input. Coordinate skipped.\n",
      "\tMessage: For the coordinate 21:47671410-47671412C>0, the reference and variant fields indicate an deletion or substitution variant, however the coordinates (47671410 and 47671412) are not valid for these mutation types.\n",
      "Coordinate Error in line 1 or input. Coordinate skipped.\n",
      "\tMessage: For the coordinate 16:3781898-3781900G>-, the reference and variant fields indicate an deletion or substitution variant, however the coordinates (3781898 and 3781900) are not valid for these mutation types.\n",
      "Coordinate Error in line 1 or input. Coordinate skipped.\n",
      "\tMessage: For the coordinate 20:61461795-61461794->G, the reference and variant fields indicate an insertion variant, however the coordinates (61461795 and 61461794) are not valid for these mutation types.\n",
      "Coordinate Error in line 1 or input. Coordinate skipped.\n",
      "\tMessage: For the coordinate 21:47671410-47671412C>-, the reference and variant fields indicate an deletion or substitution variant, however the coordinates (47671410 and 47671412) are not valid for these mutation types.\n",
      "Coordinate Error in line 1 or input. Coordinate skipped.\n",
      "\tMessage: For the coordinate 6:87797940-87797942C>0, the reference and variant fields indicate an deletion or substitution variant, however the coordinates (87797940 and 87797942) are not valid for these mutation types.\n",
      "Coordinate Error in line 1 or input. Coordinate skipped.\n",
      "\tMessage: For the coordinate 11:613738-613741CG>0, the reference and variant fields indicate an deletion or substitution variant, however the coordinates (613738 and 613741) are not valid for these mutation types.\n",
      "Coordinate Error in line 1 or input. Coordinate skipped.\n",
      "\tMessage: For the coordinate 16:3781898-3781900G>0, the reference and variant fields indicate an deletion or substitution variant, however the coordinates (3781898 and 3781900) are not valid for these mutation types.\n",
      "Coordinate Error in line 1 or input. Coordinate skipped.\n",
      "\tMessage: For the coordinate 20:60981707-60981711ACT>0, the reference and variant fields indicate an deletion or substitution variant, however the coordinates (60981707 and 60981711) are not valid for these mutation types.\n",
      "Coordinate Error in line 1 or input. Coordinate skipped.\n",
      "\tMessage: For the coordinate 20:60981714-609817130>A, the reference and variant fields indicate an insertion variant, however the coordinates (60981714 and 60981713) are not valid for these mutation types.\n",
      "Coordinate Error in line 1 or input. Coordinate skipped.\n",
      "\tMessage: For the coordinate 21:47671410-47671412C>0, the reference and variant fields indicate an deletion or substitution variant, however the coordinates (47671410 and 47671412) are not valid for these mutation types.\n"
     ]
    }
   ],
   "source": [
    "review_df_one_based = review_df.apply(convert_one_based, axis=1)"
   ]
  },
  {
   "cell_type": "code",
   "execution_count": 11,
   "metadata": {
    "ExecuteTime": {
     "end_time": "2017-05-31T20:30:16.257167Z",
     "start_time": "2017-05-31T20:30:16.251529Z"
    }
   },
   "outputs": [
    {
     "data": {
      "text/plain": [
       "45870"
      ]
     },
     "execution_count": 11,
     "metadata": {},
     "output_type": "execute_result"
    }
   ],
   "source": [
    "len(review_df)"
   ]
  },
  {
   "cell_type": "code",
   "execution_count": 12,
   "metadata": {
    "ExecuteTime": {
     "end_time": "2017-05-31T20:30:16.319411Z",
     "start_time": "2017-05-31T20:30:16.258701Z"
    }
   },
   "outputs": [
    {
     "data": {
      "text/plain": [
       "45618"
      ]
     },
     "execution_count": 12,
     "metadata": {},
     "output_type": "execute_result"
    }
   ],
   "source": [
    "review_df_one_based = review_df_one_based.replace('',np.nan).dropna(how='all')\n",
    "len(review_df_one_based)"
   ]
  },
  {
   "cell_type": "code",
   "execution_count": 13,
   "metadata": {
    "ExecuteTime": {
     "end_time": "2017-05-31T20:30:16.361268Z",
     "start_time": "2017-05-31T20:30:16.320934Z"
    },
    "collapsed": true
   },
   "outputs": [],
   "source": [
    "review_df_one_based.project = review_df_one_based.project.str.strip()"
   ]
  },
  {
   "cell_type": "code",
   "execution_count": 14,
   "metadata": {
    "ExecuteTime": {
     "end_time": "2017-05-31T20:30:16.433790Z",
     "start_time": "2017-05-31T20:30:16.362702Z"
    },
    "collapsed": true
   },
   "outputs": [],
   "source": [
    "data = pd.merge(s, review_df_one_based, on=['individual_name','project'])"
   ]
  },
  {
   "cell_type": "code",
   "execution_count": 15,
   "metadata": {
    "ExecuteTime": {
     "end_time": "2017-05-31T20:30:16.445021Z",
     "start_time": "2017-05-31T20:30:16.435458Z"
    }
   },
   "outputs": [
    {
     "data": {
      "text/plain": [
       "array(['gue_su/SMR_06-09-rAML-review1',\n",
       "       'gue_su/06_MDS-DECITABINE_06-28-manual_review1_4', 'zach/SCLC',\n",
       "       'tli/gbm', 'tli/rohan', 'tli/taml', 'lee/ALL1', 'lee/AML31',\n",
       "       'lee/CRC1', 'lee/DLBCL', 'lee/LGG1', 'lee/MPNST',\n",
       "       'allegra/AML_Decitabine', 'allegra/AML_Post-Transplant_Relapse',\n",
       "       'allegra/AML_Quads', 'GTB2', 'GTB19', 'traztuzamab', 'GTB11',\n",
       "       'lymphoma', 'GST1', 'lee/BKM120'], dtype=object)"
      ]
     },
     "execution_count": 15,
     "metadata": {},
     "output_type": "execute_result"
    }
   ],
   "source": [
    "data.project.unique()"
   ]
  },
  {
   "cell_type": "code",
   "execution_count": 16,
   "metadata": {
    "ExecuteTime": {
     "end_time": "2017-05-31T20:30:16.451748Z",
     "start_time": "2017-05-31T20:30:16.447108Z"
    },
    "collapsed": true
   },
   "outputs": [],
   "source": [
    "disease_lookup = {'gue_su/SMR_06-09-rAML-review1' : 'AML',\n",
    "       'gue_su/06_MDS-DECITABINE_06-28-manual_review1_4': 'AML', 'zach/SCLC': 'SCLC',\n",
    "       'tli/gbm': 'glioblastoma', 'tli/rohan': 'breast', 'lee/ALL1': 'AML', 'lee/AML31': 'AML', 'lee/CRC1': 'colorectal',\n",
    "       'lee/DLBCL': 'lymphoma', 'lee/LGG1': 'glioblastoma', 'lee/MPNST': 'MPNST', 'allegra/AML_Decitabine': 'AML',\n",
    "       'allegra/AML_Post-Transplant_Relapse': 'AML', 'allegra/AML_Quads': 'AML', 'GTB2': 'melanoma',\n",
    "       'GTB19': 'AML', 'traztuzamab': 'breast', 'GTB11': 'AML', 'lymphoma': 'lymphoma', 'GST1':'GST', 'lee/BKM120':'breast'}"
   ]
  },
  {
   "cell_type": "code",
   "execution_count": 17,
   "metadata": {
    "ExecuteTime": {
     "end_time": "2017-05-31T20:30:16.467724Z",
     "start_time": "2017-05-31T20:30:16.453240Z"
    },
    "collapsed": true
   },
   "outputs": [],
   "source": [
    "data['disease']=data.project.map(disease_lookup)"
   ]
  },
  {
   "cell_type": "code",
   "execution_count": 18,
   "metadata": {
    "ExecuteTime": {
     "end_time": "2017-05-31T20:30:16.474360Z",
     "start_time": "2017-05-31T20:30:16.469782Z"
    },
    "collapsed": true
   },
   "outputs": [],
   "source": [
    "reviewer_lookup = {'gue_su/SMR_06-09-rAML-review1' : 'Heather',\n",
    "       'gue_su/06_MDS-DECITABINE_06-28-manual_review1_4': 'Heather', 'zach/SCLC': 'Lee',\n",
    "       'tli/gbm': 'Heather', 'tli/rohan': 'Heather', 'lee/ALL1': 'Lee', 'lee/AML31': 'Lee', 'lee/CRC1': 'Lee',\n",
    "       'lee/DLBCL': 'Lee', 'lee/LGG1': 'Lee', 'lee/MPNST': 'Lee', 'allegra/AML_Decitabine': 'Heather',\n",
    "       'allegra/AML_Post-Transplant_Relapse': 'Heather', 'allegra/AML_Quads': 'Heather', 'GTB2': 'Avi',\n",
    "       'GTB19': 'Avi', 'traztuzamab': 'Lee', 'GTB11': 'Lee', 'lymphoma': 'Heather', 'GST1':'Nick', 'lee/BKM120':'Lee'}"
   ]
  },
  {
   "cell_type": "code",
   "execution_count": 19,
   "metadata": {
    "ExecuteTime": {
     "end_time": "2017-05-31T20:30:16.491928Z",
     "start_time": "2017-05-31T20:30:16.476180Z"
    },
    "collapsed": true
   },
   "outputs": [],
   "source": [
    "data['reviewer'] = data.project.map(reviewer_lookup)"
   ]
  },
  {
   "cell_type": "code",
   "execution_count": 20,
   "metadata": {
    "ExecuteTime": {
     "end_time": "2017-05-31T20:30:16.566229Z",
     "start_time": "2017-05-31T20:30:16.493351Z"
    }
   },
   "outputs": [
    {
     "data": {
      "text/plain": [
       "reviewer\n",
       "Avi          1119\n",
       "Heather     41981\n",
       "Lee        127169\n",
       "Nick          505\n",
       "dtype: int64"
      ]
     },
     "execution_count": 20,
     "metadata": {},
     "output_type": "execute_result"
    }
   ],
   "source": [
    "data.groupby('reviewer').size()"
   ]
  },
  {
   "cell_type": "code",
   "execution_count": 21,
   "metadata": {
    "ExecuteTime": {
     "end_time": "2017-05-31T20:30:16.777310Z",
     "start_time": "2017-05-31T20:30:16.568049Z"
    },
    "collapsed": true
   },
   "outputs": [],
   "source": [
    "data.to_pickle('../data/full_df.pkl')"
   ]
  },
  {
   "cell_type": "code",
   "execution_count": null,
   "metadata": {
    "collapsed": true
   },
   "outputs": [],
   "source": []
  }
 ],
 "metadata": {
  "kernelspec": {
   "display_name": "Python 3",
   "language": "python",
   "name": "python3"
  },
  "language_info": {
   "codemirror_mode": {
    "name": "ipython",
    "version": 3
   },
   "file_extension": ".py",
   "mimetype": "text/x-python",
   "name": "python",
   "nbconvert_exporter": "python",
   "pygments_lexer": "ipython3",
   "version": "3.6.1"
  }
 },
 "nbformat": 4,
 "nbformat_minor": 2
}
